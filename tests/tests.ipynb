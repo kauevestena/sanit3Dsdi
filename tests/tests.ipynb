{
 "metadata": {
  "language_info": {
   "codemirror_mode": {
    "name": "ipython",
    "version": 3
   },
   "file_extension": ".py",
   "mimetype": "text/x-python",
   "name": "python",
   "nbconvert_exporter": "python",
   "pygments_lexer": "ipython3",
   "version": "3.6.9-final"
  },
  "orig_nbformat": 2,
  "kernelspec": {
   "name": "python369jvsc74a57bd031f2aee4e71d21fbe5cf8b01ff0e069b9275f58929596ceb00d14d90e3e16cd6",
   "display_name": "Python 3.6.9 64-bit"
  },
  "metadata": {
   "interpreter": {
    "hash": "31f2aee4e71d21fbe5cf8b01ff0e069b9275f58929596ceb00d14d90e3e16cd6"
   }
  }
 },
 "nbformat": 4,
 "nbformat_minor": 2,
 "cells": [
  {
   "cell_type": "code",
   "execution_count": 2,
   "metadata": {
    "tags": [
     "outputPrepend"
    ]
   },
   "outputs": [
    {
     "output_type": "stream",
     "name": "stdout",
     "text": [
      "t at 0x7effd1213a20>, 'geonode:loc_aglomerado_rural_isolado_p_31984': <owslib.feature.wfs100.ContentMetadata object at 0x7effd1213b38>, 'geonode:tra_arruamento_l_31984': <owslib.feature.wfs100.ContentMetadata object at 0x7effd1213c50>, 'geonode:hid_banco_areia_a_31984': <owslib.feature.wfs100.ContentMetadata object at 0x7effd1213d68>, 'geonode:hid_barragem_l_31984': <owslib.feature.wfs100.ContentMetadata object at 0x7effd1213e80>, 'geonode:loc_capital_p_31984': <owslib.feature.wfs100.ContentMetadata object at 0x7effd1213f98>, 'geonode:asb_cemiterio_p_31984': <owslib.feature.wfs100.ContentMetadata object at 0x7effd120d0f0>, 'geonode:loc_cidade_p_31984': <owslib.feature.wfs100.ContentMetadata object at 0x7effd120d208>, 'geonode:hid_corredeira_p_31984_1': <owslib.feature.wfs100.ContentMetadata object at 0x7effd120d320>, 'geonode:hid_corredeira_a_31984': <owslib.feature.wfs100.ContentMetadata object at 0x7effd120d438>, 'geonode:hid_corredeira_l_31984': <owslib.feature.wfs100.ContentMetadata object at 0x7effd120d550>, 'geonode:eco_edif_agropec_ext_vegetal_pesca_p_31984': <owslib.feature.wfs100.ContentMetadata object at 0x7effd120d668>, 'geonode:tra_edif_const_portuaria_p_31984': <owslib.feature.wfs100.ContentMetadata object at 0x7effd120d780>, 'geonode:rel_elemento_fisiografico_natural_l_31984': <owslib.feature.wfs100.ContentMetadata object at 0x7effd120d898>, 'geonode:enc_est_gerad_energia_eletrica_p_31984': <owslib.feature.wfs100.ContentMetadata object at 0x7effd120d9b0>, 'geonode:enc_hidreletrica_p_31984': <owslib.feature.wfs100.ContentMetadata object at 0x7effd120dac8>, 'geonode:hid_ilha_a_31984': <owslib.feature.wfs100.ContentMetadata object at 0x7effd120dbe0>, 'geonode:tra_passag_elevada_viaduto_p_31984': <owslib.feature.wfs100.ContentMetadata object at 0x7effd120dcf8>, 'geonode:tra_passagem_nivel_p_31984': <owslib.feature.wfs100.ContentMetadata object at 0x7effd120de10>, 'geonode:tra_pista_ponto_pouso_l_31984': <owslib.feature.wfs100.ContentMetadata object at 0x7effd120df28>, 'geonode:tra_pista_ponto_pouso_p_31984': <owslib.feature.wfs100.ContentMetadata object at 0x7effd11f9080>, 'geonode:tra_ponte_l_31984': <owslib.feature.wfs100.ContentMetadata object at 0x7effd11f9198>, 'geonode:tra_ponte_p_31984': <owslib.feature.wfs100.ContentMetadata object at 0x7effd11f92b0>, 'geonode:hid_quebramar_molhe_l_31984': <owslib.feature.wfs100.ContentMetadata object at 0x7effd11f93c8>, 'geonode:hid_queda_dagua_l_31984': <owslib.feature.wfs100.ContentMetadata object at 0x7effd11f94e0>, 'geonode:hid_queda_dagua_p_31984': <owslib.feature.wfs100.ContentMetadata object at 0x7effd11f95f8>, 'geonode:tra_sinalizacao_p_31984': <owslib.feature.wfs100.ContentMetadata object at 0x7effd11f9710>, 'geonode:enc_termeletrica_p_31984': <owslib.feature.wfs100.ContentMetadata object at 0x7effd11f9828>, 'geonode:hid_trecho_drenagem_l_31984': <owslib.feature.wfs100.ContentMetadata object at 0x7effd11f9940>, 'geonode:enc_trecho_energia_l_31984_1': <owslib.feature.wfs100.ContentMetadata object at 0x7effd11f9a58>, 'geonode:hid_trecho_massa_dagua_a_31984': <owslib.feature.wfs100.ContentMetadata object at 0x7effd11f9b70>, 'geonode:tra_trecho_ferroviario_l_31984': <owslib.feature.wfs100.ContentMetadata object at 0x7effd11f9c88>, 'geonode:tra_trecho_rodoviario_l_31984': <owslib.feature.wfs100.ContentMetadata object at 0x7effd11f9da0>, 'geonode:tra_tunel_l_31984': <owslib.feature.wfs100.ContentMetadata object at 0x7effd11f9eb8>, 'geonode:loc_vila_p_31984': <owslib.feature.wfs100.ContentMetadata object at 0x7effd11f9fd0>, 'geonode:loc_area_edificada_a_31984': <owslib.feature.wfs100.ContentMetadata object at 0x7effd11fc128>, 'geonode:loc_area_urbana_isolada_p_31984': <owslib.feature.wfs100.ContentMetadata object at 0x7effd11fc240>, 'geonode:a__32_ES_faces_de_logradouros_2019_319840': <owslib.feature.wfs100.ContentMetadata object at 0x7effd11fc358>, 'geonode:ibge_hidrogeologia_es': <owslib.feature.wfs100.ContentMetadata object at 0x7effd11fc470>, 'geonode:ibge_limite_zee_maritimos_es': <owslib.feature.wfs100.ContentMetadata object at 0x7effd11fc588>, 'geonode:ibge_mapa_indice_es_cartas_topo_100000': <owslib.feature.wfs100.ContentMetadata object at 0x7effd11fc6a0>, 'geonode:ibge_mapa_indice_es_cartas_topo_50000': <owslib.feature.wfs100.ContentMetadata object at 0x7effd11fc7b8>, 'geonode:ibge_rede_geodesica': <owslib.feature.wfs100.ContentMetadata object at 0x7effd11fc978>, 'geonode:ibge_sedes_municipais_2015_31984_p': <owslib.feature.wfs100.ContentMetadata object at 0x7effd11fc9e8>, 'geonode:trecho_drenagem': <owslib.feature.wfs100.ContentMetadata object at 0x7effd11fcb00>, 'geonode:_2020_01_icmbio_cecav_cavernas_es': <owslib.feature.wfs100.ContentMetadata object at 0x7effd11fcc18>, 'geonode:idaf_atp_smr_gedsiv': <owslib.feature.wfs100.ContentMetadata object at 0x7effd11fcd30>, 'geonode:idaf_gedsiv_unid_consolidacao': <owslib.feature.wfs100.ContentMetadata object at 0x7effd11fce48>, 'geonode:idaf_gedsiv_unid_producao': <owslib.feature.wfs100.ContentMetadata object at 0x7effd11fcf60>, 'geonode:limite_distrital_2018_alt_novembro': <owslib.feature.wfs100.ContentMetadata object at 0x7effd11830b8>, 'geonode:idaf_limite_municipal_2018_11': <owslib.feature.wfs100.ContentMetadata object at 0x7effd11831d0>, 'geonode:assentamentos_incra_seag_es': <owslib.feature.wfs100.ContentMetadata object at 0x7effd11832e8>, 'geonode:corredores_ecologicos': <owslib.feature.wfs100.ContentMetadata object at 0x7effd1183400>, 'geonode:es_articulacao10x10km': <owslib.feature.wfs100.ContentMetadata object at 0x7effd1183518>, 'geonode:_2019_10_25_iema_rppns': <owslib.feature.wfs100.ContentMetadata object at 0x7effd1183630>, 'geonode:_2019_10_25_iema_ucs_estaduais': <owslib.feature.wfs100.ContentMetadata object at 0x7effd1183748>, 'geonode:areas_prioritarias': <owslib.feature.wfs100.ContentMetadata object at 0x7effd1183860>, 'geonode:linha_de_costa_1970_sul': <owslib.feature.wfs100.ContentMetadata object at 0x7effd1183978>, 'geonode:linha_de_costa_2005': <owslib.feature.wfs100.ContentMetadata object at 0x7effd1183a90>, 'geonode:linha_de_costa_2008': <owslib.feature.wfs100.ContentMetadata object at 0x7effd1183ba8>, 'geonode:ijsn_bairros': <owslib.feature.wfs100.ContentMetadata object at 0x7effd1183cc0>, 'geonode:asb_ijsn_cemiterio': <owslib.feature.wfs100.ContentMetadata object at 0x7effd1183dd8>, 'geonode:ciclorrotas': <owslib.feature.wfs100.ContentMetadata object at 0x7effd1183ef0>, 'geonode:tra_ijsn_ciclovias': <owslib.feature.wfs100.ContentMetadata object at 0x7effd1183fd0>, 'geonode:tra_ijsn_estradas_vicinais': <owslib.feature.wfs100.ContentMetadata object at 0x7effd1177160>, 'geonode:ijsn_ibge_localidades': <owslib.feature.wfs100.ContentMetadata object at 0x7effd1177278>, 'geonode:lim_microrregiao_es_lei_11174_2020_09_25': <owslib.feature.wfs100.ContentMetadata object at 0x7effd1177390>, 'geonode:area_urbanizada': <owslib.feature.wfs100.ContentMetadata object at 0x7effd11774a8>, 'geonode:edifi_ensino_2019': <owslib.feature.wfs100.ContentMetadata object at 0x7effd11775c0>, 'geonode:incra_assentamentos_es_31984': <owslib.feature.wfs100.ContentMetadata object at 0x7effd11776d8>, 'geonode:incra_quilombolas_es_31984': <owslib.feature.wfs100.ContentMetadata object at 0x7effd11777f0>, 'geonode:incra_sigef_privado_es_31984': <owslib.feature.wfs100.ContentMetadata object at 0x7effd1177908>, 'geonode:incra_sigef_publico_es_31984': <owslib.feature.wfs100.ContentMetadata object at 0x7effd1177a20>, 'geonode:incra_snci_privado_es_31984': <owslib.feature.wfs100.ContentMetadata object at 0x7effd1177b38>, 'geonode:incra_snci_publico_es_31984': <owslib.feature.wfs100.ContentMetadata object at 0x7effd1177c50>, 'geonode:meses_secos': <owslib.feature.wfs100.ContentMetadata object at 0x7effd1177d68>, 'geonode:_2019_10_24_uc_federais_es_31984': <owslib.feature.wfs100.ContentMetadata object at 0x7effd1177e80>, 'geonode:_2019_04_es_epsg_31984': <owslib.feature.wfs100.ContentMetadata object at 0x7effd1177f98>, 'geonode:_2020_04_ms_es_epsg_31984': <owslib.feature.wfs100.ContentMetadata object at 0x7effd11760f0>, 'geonode:_2019_08_es_epsg_31984': <owslib.feature.wfs100.ContentMetadata object at 0x7effd1176208>, 'geonode:_2019_12_es_epsg_31984': <owslib.feature.wfs100.ContentMetadata object at 0x7effd1176320>, 'geonode:_2020_12_ms_es_epsg_31984': <owslib.feature.wfs100.ContentMetadata object at 0x7effd1176438>, 'geonode:_2019_02_es_epsg_31984': <owslib.feature.wfs100.ContentMetadata object at 0x7effd1176550>, 'geonode:_2020_02_ms_es_epsg_31984': <owslib.feature.wfs100.ContentMetadata object at 0x7effd1176668>, 'geonode:_2020_01_es_epsg_31984': <owslib.feature.wfs100.ContentMetadata object at 0x7effd1176780>, 'geonode:_2019_07_es_epsg_31984': <owslib.feature.wfs100.ContentMetadata object at 0x7effd1176898>, 'geonode:_2020_07_ms_es_epsg_31984': <owslib.feature.wfs100.ContentMetadata object at 0x7effd11769b0>, 'geonode:_2019_06_es_epsg_31984': <owslib.feature.wfs100.ContentMetadata object at 0x7effd1176ac8>, 'geonode:_2020_06_ms_es_epsg_31984': <owslib.feature.wfs100.ContentMetadata object at 0x7effd1176be0>, 'geonode:_2019_05_es_epsg_31984': <owslib.feature.wfs100.ContentMetadata object at 0x7effd1176cf8>, 'geonode:_2020_05_ms_es_epsg_31984': <owslib.feature.wfs100.ContentMetadata object at 0x7effd1176e10>, 'geonode:_2019_03_es_epsg_31984': <owslib.feature.wfs100.ContentMetadata object at 0x7effd1176f28>, 'geonode:_2020_03_ms_es_epsg_31984': <owslib.feature.wfs100.ContentMetadata object at 0x7effd1167080>, 'geonode:_2020_03_ms_es_epsg_31984_1': <owslib.feature.wfs100.ContentMetadata object at 0x7effd1167198>, 'geonode:_2019_11_es_epsg_31984': <owslib.feature.wfs100.ContentMetadata object at 0x7effd11672b0>, 'geonode:_2020_11_ms_es_epsg_31984': <owslib.feature.wfs100.ContentMetadata object at 0x7effd11673c8>, 'geonode:_2019_10_es_epsg_31984': <owslib.feature.wfs100.ContentMetadata object at 0x7effd11674e0>, 'geonode:_2020_10_ms_es_epsg_31984': <owslib.feature.wfs100.ContentMetadata object at 0x7effd11675f8>, 'geonode:_2019_09_es_epsg_31984': <owslib.feature.wfs100.ContentMetadata object at 0x7effd1167710>, 'geonode:_2020_09_ms_es_epsg_31984': <owslib.feature.wfs100.ContentMetadata object at 0x7effd1167828>, 'geonode:_2020_08_ms_es_epsg_31984': <owslib.feature.wfs100.ContentMetadata object at 0x7effd1167940>, 'geonode:ottobacias_n_4': <owslib.feature.wfs100.ContentMetadata object at 0x7effd1167a58>, 'geonode:ottobacias_n_5': <owslib.feature.wfs100.ContentMetadata object at 0x7effd1167b70>, 'geonode:ottobacias_n_6': <owslib.feature.wfs100.ContentMetadata object at 0x7effd1167c88>, 'geonode:ottobacias_n_7': <owslib.feature.wfs100.ContentMetadata object at 0x7effd1167da0>, 'geonode:pdui_aeroportos': <owslib.feature.wfs100.ContentMetadata object at 0x7effd1167eb8>, 'geonode:pdui_balneabilidade': <owslib.feature.wfs100.ContentMetadata object at 0x7effd1167fd0>, 'geonode:pdui_centralidades': <owslib.feature.wfs100.ContentMetadata object at 0x7effd1164128>, 'geonode:pdui_comites_bacia_rmgv': <owslib.feature.wfs100.ContentMetadata object at 0x7effd1164240>, 'geonode:pdui_conj_habitacionais': <owslib.feature.wfs100.ContentMetadata object at 0x7effd1164358>, 'geonode:pdui_corredores_eco': <owslib.feature.wfs100.ContentMetadata object at 0x7effd1164470>, 'geonode:pdui_correspondencia_zoneamento': <owslib.feature.wfs100.ContentMetadata object at 0x7effd1164588>, 'geonode:pdui_equip_industriais': <owslib.feature.wfs100.ContentMetadata object at 0x7effd11646a0>, 'geonode:pdui_serra_hierarquia_viaria': <owslib.feature.wfs100.ContentMetadata object at 0x7effd11647b8>, 'geonode:pdui_linhas_transcol': <owslib.feature.wfs100.ContentMetadata object at 0x7effd11648d0>, 'geonode:pdui_cariacica_macrozon': <owslib.feature.wfs100.ContentMetadata object at 0x7effd11649e8>, 'geonode:pdui_fundao_macrozon': <owslib.feature.wfs100.ContentMetadata object at 0x7effd1164b00>, 'geonode:pdui_guarapari_macrozon': <owslib.feature.wfs100.ContentMetadata object at 0x7effd1164c18>, 'geonode:pdui_serra_macrozon': <owslib.feature.wfs100.ContentMetadata object at 0x7effd1164d30>, 'geonode:pdui_viana_macrozon': <owslib.feature.wfs100.ContentMetadata object at 0x7effd1164e48>, 'geonode:pdui_vila_velha_macrozon': <owslib.feature.wfs100.ContentMetadata object at 0x7effd1164f60>, 'geonode:pdui_vitoria_macrozon': <owslib.feature.wfs100.ContentMetadata object at 0x7effd11950b8>, 'geonode:pdui_monit_qlde_agua': <owslib.feature.wfs100.ContentMetadata object at 0x7effd11951d0>, 'geonode:pdui_cariacica_mov_pendular_entrada': <owslib.feature.wfs100.ContentMetadata object at 0x7effd11952e8>, 'geonode:pdui_cariacica_mov_pendular_saida': <owslib.feature.wfs100.ContentMetadata object at 0x7effd1195400>, 'geonode:pdui_fundao_mov_pendular_entrada': <owslib.feature.wfs100.ContentMetadata object at 0x7effd1195518>, 'geonode:pdui_fundao_mov_pendular_saida': <owslib.feature.wfs100.ContentMetadata object at 0x7effd1195630>, 'geonode:pdui_guarapari_mov_pendular_entrada': <owslib.feature.wfs100.ContentMetadata object at 0x7effd1195748>, 'geonode:pdui_guarapari_mov_pendular_saida': <owslib.feature.wfs100.ContentMetadata object at 0x7effd1195860>, 'geonode:pdui_serra_mov_pendular_entrada': <owslib.feature.wfs100.ContentMetadata object at 0x7effd1195978>, 'geonode:pdui_serra_mov_pendular_saida': <owslib.feature.wfs100.ContentMetadata object at 0x7effd1195a90>, 'geonode:pdui_viana_mov_pendular_entrada': <owslib.feature.wfs100.ContentMetadata object at 0x7effd1195ba8>, 'geonode:pdui_viana_mov_pendular_saida': <owslib.feature.wfs100.ContentMetadata object at 0x7effd1195cc0>, 'geonode:pdui_vila_velha_mov_pendular_entrada': <owslib.feature.wfs100.ContentMetadata object at 0x7effd1195dd8>, 'geonode:pdui_vila_velha_mov_pendular_saida': <owslib.feature.wfs100.ContentMetadata object at 0x7effd1195ef0>, 'geonode:pdui_vitoria_mov_pendular_entrada': <owslib.feature.wfs100.ContentMetadata object at 0x7effd1195fd0>, 'geonode:pdui_vitoria_mov_pendular_saida': <owslib.feature.wfs100.ContentMetadata object at 0x7effd119d160>, 'geonode:pdui_mov_pendular_entrada_ponto': <owslib.feature.wfs100.ContentMetadata object at 0x7effd119d278>, 'geonode:pdui_mov_pendular_saida_ponto': <owslib.feature.wfs100.ContentMetadata object at 0x7effd119d390>, 'geonode:pdui_parques_urbanos': <owslib.feature.wfs100.ContentMetadata object at 0x7effd119d4a8>, 'geonode:pdui_dom_abastecimento_agua': <owslib.feature.wfs100.ContentMetadata object at 0x7effd119d5c0>, 'geonode:pdui_dom_coleta_lixo': <owslib.feature.wfs100.ContentMetadata object at 0x7effd119d6d8>, 'geonode:pdui_dom_energia_eletrica': <owslib.feature.wfs100.ContentMetadata object at 0x7effd119d7f0>, 'geonode:pdui_dom_iluminacao_publica': <owslib.feature.wfs100.ContentMetadata object at 0x7effd119d908>, 'geonode:pdui_dom_rede_esgoto': <owslib.feature.wfs100.ContentMetadata object at 0x7effd119da20>, 'geonode:pdui_serra_plano_viario': <owslib.feature.wfs100.ContentMetadata object at 0x7effd119db38>, 'geonode:pdui_portos': <owslib.feature.wfs100.ContentMetadata object at 0x7effd119dc50>, 'geonode:pdui_rodovias_rmgv': <owslib.feature.wfs100.ContentMetadata object at 0x7effd119dd68>, 'geonode:pdui_media_renda_mensal': <owslib.feature.wfs100.ContentMetadata object at 0x7effd119de80>, 'geonode:pdui_serra_setores_escorregamento': <owslib.feature.wfs100.ContentMetadata object at 0x7effd119df98>, 'geonode:pdui_serra_setores_inundacao': <owslib.feature.wfs100.ContentMetadata object at 0x7effd11d90f0>, 'geonode:pdui_shopping_center': <owslib.feature.wfs100.ContentMetadata object at 0x7effd11d9208>, 'geonode:pdui_terminais_rodoviarios': <owslib.feature.wfs100.ContentMetadata object at 0x7effd11d9320>, 'geonode:pdui_uc_uso_integral': <owslib.feature.wfs100.ContentMetadata object at 0x7effd11d9438>, 'geonode:pdui_uc_uso_sustentavel': <owslib.feature.wfs100.ContentMetadata object at 0x7effd11d9550>, 'geonode:pdui_uc_serra': <owslib.feature.wfs100.ContentMetadata object at 0x7effd11d9668>, 'geonode:pdui_unidades_geomorfologicas': <owslib.feature.wfs100.ContentMetadata object at 0x7effd11d9780>, 'geonode:pdui_vulnerab_inundacao': <owslib.feature.wfs100.ContentMetadata object at 0x7effd11d9898>, 'geonode:pdui_zims_dinam_urbana': <owslib.feature.wfs100.ContentMetadata object at 0x7effd11d99b0>, 'geonode:pdui_zims_mob_urbana': <owslib.feature.wfs100.ContentMetadata object at 0x7effd11d9ac8>, 'geonode:pdui_zims_quali_ambiental_urbana': <owslib.feature.wfs100.ContentMetadata object at 0x7effd11d9be0>, 'geonode:pdui_zona_costeira': <owslib.feature.wfs100.ContentMetadata object at 0x7effd11d9cf8>, 'geonode:pdui_viana_zonas_inundacao': <owslib.feature.wfs100.ContentMetadata object at 0x7effd11d9e10>, 'geonode:pdui_pdm_cariacica': <owslib.feature.wfs100.ContentMetadata object at 0x7effd11d9f28>, 'geonode:pdui_pdm_fundao': <owslib.feature.wfs100.ContentMetadata object at 0x7effd11c9080>, 'geonode:pdui_pdm_guarapari': <owslib.feature.wfs100.ContentMetadata object at 0x7effd11c9198>, 'geonode:pdui_pdm_serra': <owslib.feature.wfs100.ContentMetadata object at 0x7effd11c92b0>, 'geonode:pdui_pdm_viana': <owslib.feature.wfs100.ContentMetadata object at 0x7effd11c93c8>, 'geonode:pdui_pdm_vila_velha': <owslib.feature.wfs100.ContentMetadata object at 0x7effd11c94e0>, 'geonode:pdui_pdm_vitoria': <owslib.feature.wfs100.ContentMetadata object at 0x7effd11c95f8>, 'geonode:pdui_zee_vitoria': <owslib.feature.wfs100.ContentMetadata object at 0x7effd11c9710>, 'geonode:pdui_viana_risco_geo': <owslib.feature.wfs100.ContentMetadata object at 0x7effd11c9828>, 'geonode:pdui_areas_priorit_conservacao': <owslib.feature.wfs100.ContentMetadata object at 0x7effd11c9940>, 'geonode:pdui_areas_publicas_cariacica': <owslib.feature.wfs100.ContentMetadata object at 0x7effd11c9a58>, 'geonode:pdui_idh_2010': <owslib.feature.wfs100.ContentMetadata object at 0x7effd11c9b70>, 'geonode:rede_obs_hidrometeorologicas': <owslib.feature.wfs100.ContentMetadata object at 0x7effd11c9c88>, 'geonode:tbestabelecimento_es_32_publicos': <owslib.feature.wfs100.ContentMetadata object at 0x7effd11c9da0>, 'geonode:_2019_11_cnes_estabelecimentos_saude_publicos_es': <owslib.feature.wfs100.ContentMetadata object at 0x7effd11c9eb8>, 'geonode:sesp_ijsn_un_seguranca': <owslib.feature.wfs100.ContentMetadata object at 0x7effd11c9fd0>, 'geonode:snirh_inundacoes_2003_2015_es_epsg_31984': <owslib.feature.wfs100.ContentMetadata object at 0x7effd11bb128>, 'geonode:snirh_secas_2003_2015_es_epsg_31984': <owslib.feature.wfs100.ContentMetadata object at 0x7effd11bb240>, 'geonode:solos_es_2016': <owslib.feature.wfs100.ContentMetadata object at 0x7effd11bb358>, 'geonode:transpetro_dutos': <owslib.feature.wfs100.ContentMetadata object at 0x7effd11bb470>, 'geonode:transpetro_estacao': <owslib.feature.wfs100.ContentMetadata object at 0x7effd11bb588>, 'geonode:transpetro_marco_km': <owslib.feature.wfs100.ContentMetadata object at 0x7effd11bb6a0>, 'geonode:transpetro_terminal_1': <owslib.feature.wfs100.ContentMetadata object at 0x7effd11bb7b8>, 'geonode:transpetro_un_tratamento_gas_1': <owslib.feature.wfs100.ContentMetadata object at 0x7effd11bb8d0>, 'geonode:zonas_naturais_1': <owslib.feature.wfs100.ContentMetadata object at 0x7effd11bb9e8>, 'geonode:zn_amortecimento_ucs_estaduais': <owslib.feature.wfs100.ContentMetadata object at 0x7effd11bbb00>, 'geonode:areas_aracruz': <owslib.feature.wfs100.ContentMetadata object at 0x7effd11bbc18>, 'geonode:bacias_hidrograficas_75': <owslib.feature.wfs100.ContentMetadata object at 0x7effd11bbdd8>, 'geonode:data_das_imagens_voo_aerofotogrametrico_es_2012_2015': <owslib.feature.wfs100.ContentMetadata object at 0x7effd11bbe48>, 'geonode:idaf_legitimacao_es': <owslib.feature.wfs100.ContentMetadata object at 0x7effd11bbf60>, 'geonode:trecho_drenagem_1': <owslib.feature.wfs100.ContentMetadata object at 0x7effd11b20b8>, 'geonode:areas_tombadas_cec': <owslib.feature.wfs100.ContentMetadata object at 0x7effd11b21d0>, 'geonode:areas_tombadas_cec_p': <owslib.feature.wfs100.ContentMetadata object at 0x7effd11b22e8>}\n--- 227.77017378807068 seconds ---\n"
     ]
    }
   ],
   "source": [
    "\n",
    "\n",
    "# warning supŕession \n",
    "from warnings import simplefilter\n",
    "simplefilter(action='ignore', category=FutureWarning)\n",
    "\n",
    "# the process are time consuming \n",
    "import time\n",
    "start_time = time.time()\n",
    "\n",
    "# from bib import constants\n",
    "from owslib.wfs import WebFeatureService\n",
    "\n",
    "#geobases wfs url\n",
    "gb_wfs = \"https://ide.geobases.es.gov.br/geoserver/geonode/wfs\"\n",
    "\n",
    "geobases = WebFeatureService(gb_wfs)\n",
    "\n",
    "# name\n",
    "print(geobases.identification.title)\n",
    "# operations\n",
    "print([operation.name for operation in geobases.operations])\n",
    "#contents\n",
    "print(geobases.contents)\n",
    "\n",
    "print(\"--- %s seconds ---\" % (time.time() - start_time))"
   ]
  },
  {
   "cell_type": "code",
   "execution_count": 8,
   "metadata": {},
   "outputs": [
    {
     "output_type": "stream",
     "name": "stdout",
     "text": [
      "My GeoServer WFS\n['GetCapabilities', 'DescribeFeatureType', 'GetFeature', 'Transaction', 'LockFeature', 'GetFeatureWithLock']\n"
     ]
    }
   ],
   "source": [
    "# name\n",
    "print(geobases.identification.title)\n",
    "# operations\n",
    "print([operation.name for operation in geobases.operations])"
   ]
  },
  {
   "cell_type": "code",
   "execution_count": 9,
   "metadata": {},
   "outputs": [
    {
     "output_type": "stream",
     "name": "stdout",
     "text": [
      "['geonode:ana_snirh_diagnostico_abast_urb', 'geonode:_2016_07_26_comunidades_urbanas_e_rurais_es', 'geonode:ana_snirh_adutora_es_epsg_31984', 'geonode:ana_captacao_atend_mun_es_epsg_31984', 'geonode:ana_trechos_inundaveis_es_epsg_31984', 'geonode:anac_aerodromos_civis_publicos_es', 'geonode:anm_proc_minerarios_es_31984', 'geonode:APPS_1', 'geonode:HIDROGRAFIA_1', 'geonode:PONTOS_1', 'geonode:RESERVA_LEGAL_1', 'geonode:USO_RESTRITO_1', 'geonode:VEGETACAO_NATIVA_1', 'geonode:AREA_CONSOLIDADA_1', 'geonode:AREA_IMOVEL_1', 'geonode:cemaden_est_fluvi_16_04_06', 'geonode:cemaden_est_pluvi_16_04_08', 'geonode:asb_solicitacao_de_biossolido', 'geonode:asb_cesan_est_trat_esgoto_1712', 'geonode:asb_cesan_est_elev_agua_1712', 'geonode:asb_cesan_est_elev_esgoto_1712', 'geonode:asb_cesan_est_trat_agua_1712_1', 'geonode:asb_cesan_rotas_biossolido', 'geonode:asb_cesan_rede_coleto_esg_1712', 'geonode:asb_cesan_rede_agua_bruta_1712', 'geonode:asb_cesan_rede_agua_tratada_1712', 'geonode:asb_cesan_rede_emiss_agua_1712', 'geonode:asb_cesan_red_recalq_esgo_1712_1', 'geonode:comun_urbanas_rurais', 'geonode:cprm_afloramento_rochoso_es_srg2000_24s', 'geonode:cprm_batimetria_srtm_30_es_l_epsg_4674', 'geonode:cprm_batimetria_srtm_30_a_es_epsg_4674', 'geonode:cprm_estrutura_es_srg2000_24s', 'geonode:cprm_litologia_es_srg2000_24s', 'geonode:cprm_ocorrencias_minerais_es_srg2000_24s', 'geonode:cprm_siagas_pocos_es', 'geonode:dc_sedurb_risco_inund_atu', 'geonode:dc_sdrb_risco_geologic_151019', 'geonode:dc_abrigos_temp_160226', 'geonode:dc_entrega_donativos_160226', 'geonode:dc_heliponto_160226', 'geonode:dc_movimento_massa_160226', 'geonode:dc_rhm_equipamento_dc_16_04_08', 'geonode:dc_posto_comando_160226', 'geonode:dc_area_espera_160226', 'geonode:dc_areas_risco_160218', 'geonode:dc_compdec_16_03_18', 'geonode:rede_rodoviaria_2019', 'geonode:rede_rodoviaria_der_es_2020', 'geonode:tra_dnit_ferrovias_2017', 'geonode:dnit_rodovias_es_31984', 'geonode:edificacoes_assistencia_social', 'geonode:edificacoes_religiosas', 'geonode:_2020_11_esgas_es_ramais', 'geonode:_2020_11_esgas_es_rede_distribuicao', 'geonode:est_telemetricas_outras_ent_2010_utm24_sirgas2000', 'geonode:precip_stations_sudeste', 'geonode:edu_edif_ensino_p_31984', 'geonode:rel_elemento_fisiografico_natural_p_31984', 'geonode:eco_ext_mineral_a_31984', 'geonode:enc_grupo_transformadores_p_31984', 'geonode:hid_massa_dagua_a_31984', 'geonode:loc_aglomerado_rural_isolado_p_31984', 'geonode:tra_arruamento_l_31984', 'geonode:hid_banco_areia_a_31984', 'geonode:hid_barragem_l_31984', 'geonode:loc_capital_p_31984', 'geonode:asb_cemiterio_p_31984', 'geonode:loc_cidade_p_31984', 'geonode:hid_corredeira_p_31984_1', 'geonode:hid_corredeira_a_31984', 'geonode:hid_corredeira_l_31984', 'geonode:eco_edif_agropec_ext_vegetal_pesca_p_31984', 'geonode:tra_edif_const_portuaria_p_31984', 'geonode:rel_elemento_fisiografico_natural_l_31984', 'geonode:enc_est_gerad_energia_eletrica_p_31984', 'geonode:enc_hidreletrica_p_31984', 'geonode:hid_ilha_a_31984', 'geonode:tra_passag_elevada_viaduto_p_31984', 'geonode:tra_passagem_nivel_p_31984', 'geonode:tra_pista_ponto_pouso_l_31984', 'geonode:tra_pista_ponto_pouso_p_31984', 'geonode:tra_ponte_l_31984', 'geonode:tra_ponte_p_31984', 'geonode:hid_quebramar_molhe_l_31984', 'geonode:hid_queda_dagua_l_31984', 'geonode:hid_queda_dagua_p_31984', 'geonode:tra_sinalizacao_p_31984', 'geonode:enc_termeletrica_p_31984', 'geonode:hid_trecho_drenagem_l_31984', 'geonode:enc_trecho_energia_l_31984_1', 'geonode:hid_trecho_massa_dagua_a_31984', 'geonode:tra_trecho_ferroviario_l_31984', 'geonode:tra_trecho_rodoviario_l_31984', 'geonode:tra_tunel_l_31984', 'geonode:loc_vila_p_31984', 'geonode:loc_area_edificada_a_31984', 'geonode:loc_area_urbana_isolada_p_31984', 'geonode:a__32_ES_faces_de_logradouros_2019_319840', 'geonode:ibge_hidrogeologia_es', 'geonode:ibge_limite_zee_maritimos_es', 'geonode:ibge_mapa_indice_es_cartas_topo_100000', 'geonode:ibge_mapa_indice_es_cartas_topo_50000', 'geonode:ibge_rede_geodesica', 'geonode:ibge_sedes_municipais_2015_31984_p', 'geonode:trecho_drenagem', 'geonode:_2020_01_icmbio_cecav_cavernas_es', 'geonode:idaf_atp_smr_gedsiv', 'geonode:idaf_gedsiv_unid_consolidacao', 'geonode:idaf_gedsiv_unid_producao', 'geonode:limite_distrital_2018_alt_novembro', 'geonode:idaf_limite_municipal_2018_11', 'geonode:assentamentos_incra_seag_es', 'geonode:corredores_ecologicos', 'geonode:es_articulacao10x10km', 'geonode:_2019_10_25_iema_rppns', 'geonode:_2019_10_25_iema_ucs_estaduais', 'geonode:areas_prioritarias', 'geonode:linha_de_costa_1970_sul', 'geonode:linha_de_costa_2005', 'geonode:linha_de_costa_2008', 'geonode:ijsn_bairros', 'geonode:asb_ijsn_cemiterio', 'geonode:ciclorrotas', 'geonode:tra_ijsn_ciclovias', 'geonode:tra_ijsn_estradas_vicinais', 'geonode:ijsn_ibge_localidades', 'geonode:lim_microrregiao_es_lei_11174_2020_09_25', 'geonode:area_urbanizada', 'geonode:edifi_ensino_2019', 'geonode:incra_assentamentos_es_31984', 'geonode:incra_quilombolas_es_31984', 'geonode:incra_sigef_privado_es_31984', 'geonode:incra_sigef_publico_es_31984', 'geonode:incra_snci_privado_es_31984', 'geonode:incra_snci_publico_es_31984', 'geonode:meses_secos', 'geonode:_2019_10_24_uc_federais_es_31984', 'geonode:_2019_04_es_epsg_31984', 'geonode:_2020_04_ms_es_epsg_31984', 'geonode:_2019_08_es_epsg_31984', 'geonode:_2019_12_es_epsg_31984', 'geonode:_2020_12_ms_es_epsg_31984', 'geonode:_2019_02_es_epsg_31984', 'geonode:_2020_02_ms_es_epsg_31984', 'geonode:_2020_01_es_epsg_31984', 'geonode:_2019_07_es_epsg_31984', 'geonode:_2020_07_ms_es_epsg_31984', 'geonode:_2019_06_es_epsg_31984', 'geonode:_2020_06_ms_es_epsg_31984', 'geonode:_2019_05_es_epsg_31984', 'geonode:_2020_05_ms_es_epsg_31984', 'geonode:_2019_03_es_epsg_31984', 'geonode:_2020_03_ms_es_epsg_31984', 'geonode:_2020_03_ms_es_epsg_31984_1', 'geonode:_2019_11_es_epsg_31984', 'geonode:_2020_11_ms_es_epsg_31984', 'geonode:_2019_10_es_epsg_31984', 'geonode:_2020_10_ms_es_epsg_31984', 'geonode:_2019_09_es_epsg_31984', 'geonode:_2020_09_ms_es_epsg_31984', 'geonode:_2020_08_ms_es_epsg_31984', 'geonode:ottobacias_n_4', 'geonode:ottobacias_n_5', 'geonode:ottobacias_n_6', 'geonode:ottobacias_n_7', 'geonode:pdui_aeroportos', 'geonode:pdui_balneabilidade', 'geonode:pdui_centralidades', 'geonode:pdui_comites_bacia_rmgv', 'geonode:pdui_conj_habitacionais', 'geonode:pdui_corredores_eco', 'geonode:pdui_correspondencia_zoneamento', 'geonode:pdui_equip_industriais', 'geonode:pdui_serra_hierarquia_viaria', 'geonode:pdui_linhas_transcol', 'geonode:pdui_cariacica_macrozon', 'geonode:pdui_fundao_macrozon', 'geonode:pdui_guarapari_macrozon', 'geonode:pdui_serra_macrozon', 'geonode:pdui_viana_macrozon', 'geonode:pdui_vila_velha_macrozon', 'geonode:pdui_vitoria_macrozon', 'geonode:pdui_monit_qlde_agua', 'geonode:pdui_cariacica_mov_pendular_entrada', 'geonode:pdui_cariacica_mov_pendular_saida', 'geonode:pdui_fundao_mov_pendular_entrada', 'geonode:pdui_fundao_mov_pendular_saida', 'geonode:pdui_guarapari_mov_pendular_entrada', 'geonode:pdui_guarapari_mov_pendular_saida', 'geonode:pdui_serra_mov_pendular_entrada', 'geonode:pdui_serra_mov_pendular_saida', 'geonode:pdui_viana_mov_pendular_entrada', 'geonode:pdui_viana_mov_pendular_saida', 'geonode:pdui_vila_velha_mov_pendular_entrada', 'geonode:pdui_vila_velha_mov_pendular_saida', 'geonode:pdui_vitoria_mov_pendular_entrada', 'geonode:pdui_vitoria_mov_pendular_saida', 'geonode:pdui_mov_pendular_entrada_ponto', 'geonode:pdui_mov_pendular_saida_ponto', 'geonode:pdui_parques_urbanos', 'geonode:pdui_dom_abastecimento_agua', 'geonode:pdui_dom_coleta_lixo', 'geonode:pdui_dom_energia_eletrica', 'geonode:pdui_dom_iluminacao_publica', 'geonode:pdui_dom_rede_esgoto', 'geonode:pdui_serra_plano_viario', 'geonode:pdui_portos', 'geonode:pdui_rodovias_rmgv', 'geonode:pdui_media_renda_mensal', 'geonode:pdui_serra_setores_escorregamento', 'geonode:pdui_serra_setores_inundacao', 'geonode:pdui_shopping_center', 'geonode:pdui_terminais_rodoviarios', 'geonode:pdui_uc_uso_integral', 'geonode:pdui_uc_uso_sustentavel', 'geonode:pdui_uc_serra', 'geonode:pdui_unidades_geomorfologicas', 'geonode:pdui_vulnerab_inundacao', 'geonode:pdui_zims_dinam_urbana', 'geonode:pdui_zims_mob_urbana', 'geonode:pdui_zims_quali_ambiental_urbana', 'geonode:pdui_zona_costeira', 'geonode:pdui_viana_zonas_inundacao', 'geonode:pdui_pdm_cariacica', 'geonode:pdui_pdm_fundao', 'geonode:pdui_pdm_guarapari', 'geonode:pdui_pdm_serra', 'geonode:pdui_pdm_viana', 'geonode:pdui_pdm_vila_velha', 'geonode:pdui_pdm_vitoria', 'geonode:pdui_zee_vitoria', 'geonode:pdui_viana_risco_geo', 'geonode:pdui_areas_priorit_conservacao', 'geonode:pdui_areas_publicas_cariacica', 'geonode:pdui_idh_2010', 'geonode:rede_obs_hidrometeorologicas', 'geonode:tbestabelecimento_es_32_publicos', 'geonode:_2019_11_cnes_estabelecimentos_saude_publicos_es', 'geonode:sesp_ijsn_un_seguranca', 'geonode:snirh_inundacoes_2003_2015_es_epsg_31984', 'geonode:snirh_secas_2003_2015_es_epsg_31984', 'geonode:solos_es_2016', 'geonode:transpetro_dutos', 'geonode:transpetro_estacao', 'geonode:transpetro_marco_km', 'geonode:transpetro_terminal_1', 'geonode:transpetro_un_tratamento_gas_1', 'geonode:zonas_naturais_1', 'geonode:zn_amortecimento_ucs_estaduais', 'geonode:areas_aracruz', 'geonode:bacias_hidrograficas_75', 'geonode:data_das_imagens_voo_aerofotogrametrico_es_2012_2015', 'geonode:idaf_legitimacao_es', 'geonode:trecho_drenagem_1', 'geonode:areas_tombadas_cec', 'geonode:areas_tombadas_cec_p']\n"
     ]
    }
   ],
   "source": [
    "print(list(geobases.contents))"
   ]
  },
  {
   "cell_type": "code",
   "execution_count": 14,
   "metadata": {},
   "outputs": [
    {
     "output_type": "stream",
     "name": "stdout",
     "text": [
      "{'service': 'WFS', 'version': '1.0.0', 'request': 'GetFeature', 'typeName': 'geonode:idaf_limite_municipal_2018_11', 'outputFormat': 'json'}\n"
     ]
    }
   ],
   "source": [
    "\n",
    "import geopandas as gpd\n",
    "from requests import Request\n",
    "\n",
    "layer = 'geonode:idaf_limite_municipal_2018_11' \n",
    "\n",
    "params = dict(service='WFS', version=\"1.0.0\", request='GetFeature',\n",
    "      typeName=layer, outputFormat='json')\n",
    "\n",
    "print(params)"
   ]
  },
  {
   "cell_type": "code",
   "execution_count": 16,
   "metadata": {
    "tags": [
     "outputPrepend"
    ]
   },
   "outputs": [
    {
     "output_type": "stream",
     "name": "stdout",
     "text": [
      "o Novo   \n72  idaf_limite_municipal_2018_11.74    175               Ecoporanga   \n73  idaf_limite_municipal_2018_11.75    176       Água Doce do Norte   \n74  idaf_limite_municipal_2018_11.76    177            Boa Esperança   \n75  idaf_limite_municipal_2018_11.77    159                   Pancas   \n76  idaf_limite_municipal_2018_11.78    160             Baixo Guandú   \n77  idaf_limite_municipal_2018_11.18    110        Jerônimo Monteiro   \n\n    cod_ibge        microestad     macroestad       fonte              data  \\\n0    3201506      Centro-Oeste        Central  IDAF/DTCAR   Outubro de 2017   \n1    3203353      Centro-Oeste        Central  IDAF/DTCAR   Outubro de 2017   \n2    3205176      Centro-Oeste        Central  IDAF/DTCAR  Dezembro de 2016   \n3    3204401       Litoral Sul            Sul  IDAF/DTCAR  Dezembro de 2016   \n4    3204203       Litoral Sul            Sul  IDAF/DTCAR  Dezembro de 2016   \n5    3202603       Litoral Sul            Sul  IDAF/DTCAR  Dezembro de 2016   \n6    3205200     Metropolitana  Metropolitana  IDAF/DTCAR  Dezembro de 2016   \n7    3205069  Sudoeste Serrana  Metropolitana  IDAF/DTCAR  Dezembro de 2016   \n8    3201407       Central Sul            Sul  IDAF/DTCAR  Dezembro de 2016   \n9    3202207     Metropolitana  Metropolitana  IDAF/DTCAR  Dezembro de 2016   \n10   3202801       Litoral Sul            Sul  IDAF/DTCAR     Abril de 2017   \n11   3200706       Central Sul            Sul  IDAF/DTCAR     Abril de 2017   \n12   3201209       Central Sul            Sul  IDAF/DTCAR     Abril de 2017   \n13   3205010          Rio Doce        Central  IDAF/DTCAR  Dezembro de 2016   \n14   3200607          Rio Doce        Central  IDAF/DTCAR  Dezembro de 2016   \n15   3204559   Central Serrana  Metropolitana  IDAF/DTCAR  Dezembro de 2016   \n16   3204302       Litoral Sul            Sul  IDAF/DTCAR     Abril de 2017   \n17   3203700           Caparaó            Sul  IDAF/DTCAR  Dezembro de 2016   \n18   3201704  Sudoeste Serrana  Metropolitana  IDAF/DTCAR  Dezembro de 2016   \n19   3201308     Metropolitana  Metropolitana  IDAF/DTCAR  Dezembro de 2016   \n20   3203601          Nordeste          Norte  IDAF/DTCAR  Dezembro de 2016   \n21   3205150          Noroeste          Norte  IDAF/DTCAR  Dezembro de 2016   \n22   3203908          Noroeste          Norte  IDAF/DTCAR  Dezembro de 2016   \n23   3204252          Nordeste          Norte  IDAF/DTCAR  Dezembro de 2016   \n24   3204104          Nordeste          Norte  IDAF/DTCAR  Dezembro de 2016   \n25   3203502          Nordeste          Norte  IDAF/DTCAR  Dezembro de 2016   \n26   3204054          Nordeste          Norte  IDAF/DTCAR  Dezembro de 2016   \n27   3201605          Nordeste          Norte  IDAF/DTCAR  Dezembro de 2016   \n28   3202256      Centro-Oeste        Central  IDAF/DTCAR  Dezembro de 2016   \n29   3202504          Rio Doce        Central  IDAF/DTCAR  Dezembro de 2016   \n..       ...               ...            ...         ...               ...   \n48   3202405     Metropolitana  Metropolitana  IDAF/DTCAR  Dezembro de 2016   \n49   3200409       Litoral Sul            Sul  IDAF/DTCAR  Dezembro de 2016   \n50   3203809       Central Sul            Sul  IDAF/DTCAR  Dezembro de 2016   \n51   3201803           Caparaó            Sul  IDAF/DTCAR  Dezembro de 2016   \n52   3205002     Metropolitana  Metropolitana  IDAF/DTCAR  Dezembro de 2016   \n53   3202900   Central Serrana  Metropolitana  IDAF/DTCAR  Dezembro de 2016   \n54   3204609   Central Serrana  Metropolitana  IDAF/DTCAR  Dezembro de 2016   \n55   3204500   Central Serrana  Metropolitana  IDAF/DTCAR  Dezembro de 2016   \n56   3205036       Central Sul            Sul  IDAF/DTCAR  Dezembro de 2016   \n57   3200904          Noroeste          Norte  IDAF/DTCAR  Dezembro de 2016   \n58   3203304          Noroeste          Norte  IDAF/DTCAR  Dezembro de 2016   \n59   3203163  Sudoeste Serrana  Metropolitana  IDAF/DTCAR  Dezembro de 2016   \n60   3200102  Sudoeste Serrana  Metropolitana  IDAF/DTCAR  Dezembro de 2016   \n61   3201159  Sudoeste Serrana  Metropolitana  IDAF/DTCAR  Dezembro de 2016   \n62   3202454           Caparaó            Sul  IDAF/DTCAR  Dezembro de 2016   \n63   3203007           Caparaó            Sul  IDAF/DTCAR  Dezembro de 2016   \n64   3202553           Caparaó            Sul  IDAF/DTCAR  Dezembro de 2016   \n65   3202009           Caparaó            Sul  IDAF/DTCAR  Dezembro de 2016   \n66   3202306           Caparaó            Sul  IDAF/DTCAR  Dezembro de 2016   \n67   3204807           Caparaó            Sul  IDAF/DTCAR  Dezembro de 2016   \n68   3201100           Caparaó            Sul  IDAF/DTCAR  Dezembro de 2016   \n69   3200508       Central Sul            Sul  IDAF/DTCAR  Dezembro de 2016   \n70   3203403       Central Sul            Sul  IDAF/DTCAR  Dezembro de 2016   \n71   3200359      Centro-Oeste        Central  IDAF/DTCAR  Dezembro de 2016   \n72   3202108          Noroeste          Norte  IDAF/DTCAR  Dezembro de 2016   \n73   3200169          Noroeste          Norte  IDAF/DTCAR  Dezembro de 2016   \n74   3201001          Nordeste          Norte  IDAF/DTCAR  Dezembro de 2016   \n75   3204005      Centro-Oeste        Central  IDAF/DTCAR  Dezembro de 2016   \n76   3200805      Centro-Oeste        Central  IDAF/DTCAR  Dezembro de 2016   \n77   3203106           Caparaó            Sul  IDAF/DTCAR  Dezembro de 2016   \n\n       area_km2        perim_m  percen_are                             origem  \\\n0   1416.813167  277032.278409    3.074037  Lei Estadual 10.752 de 19/10/2017   \n1    308.964824  110991.626318    0.670356  Lei Estadual 10.752 de 19/10/2017   \n2    470.206977  123198.366069    1.020201  Lei Estadual 10.600 de 15/12/2016   \n3    204.502044  100914.799972    0.443705  Lei Estadual 10.600 de 15/12/2016   \n4     73.940721   42274.231412    0.160428  Lei Estadual 10.600 de 15/12/2016   \n5    203.557384   80875.619530    0.441655  Lei Estadual 10.600 de 15/12/2016   \n6    209.871261   90707.321699    0.455354  Lei Estadual 10.600 de 15/12/2016   \n7    185.989533   90266.015792    0.403539  Lei Estadual 10.600 de 15/12/2016   \n8    663.852027  180504.080382    1.440349  Lei Estadual 10.600 de 15/12/2016   \n9    286.767668  143602.987535    0.622195  Lei Estadual 10.600 de 15/12/2016   \n10   550.662528  138578.832977    1.194764  Lei Estadual 10.640 de 12/04/2017   \n11   232.978686   89169.179205    0.505490  Lei Estadual 10.640 de 12/04/2017   \n12   865.006856  206474.028444    1.876792  Lei Estadual 10.640 de 12/04/2017   \n13   586.803709  140914.151537    1.273179  Lei Estadual 10.600 de 15/12/2016   \n14  1419.670414  188169.356285    3.080236  Lei Estadual 10.600 de 15/12/2016   \n15   735.299183  198951.005258    1.595367  Lei Estadual 10.600 de 15/12/2016   \n16   594.049051  129631.534375    1.288899  Lei Estadual 10.640 de 12/04/2017   \n17   679.344784  188814.936749    1.473964  Lei Estadual 10.600 de 15/12/2016   \n18   369.993561  141383.186569    0.802769  Lei Estadual 10.600 de 15/12/2016   \n19   279.651249  111079.264819    0.606755  Lei Estadual 10.600 de 15/12/2016   \n20   541.735267  120052.314369    1.175394  Lei Estadual 10.600 de 15/12/2016   \n21   433.226995  139007.685671    0.939966  Lei Estadual 10.600 de 15/12/2016   \n22  1439.355987  293015.080692    3.122948  Lei Estadual 10.600 de 15/12/2016   \n23   359.901772  122315.560765    0.780873  Lei Estadual 10.600 de 15/12/2016   \n24   972.747017  212200.083035    2.110554  Lei Estadual 10.600 de 15/12/2016   \n25  1099.355025  170405.527464    2.385253  Lei Estadual 10.600 de 15/12/2016   \n26   433.471520  152714.469987    0.940496  Lei Estadual 10.600 de 15/12/2016   \n27  1186.392145  192456.855152    2.574096  Lei Estadual 10.600 de 15/12/2016   \n28   359.910467  120601.109256    0.780892  Lei Estadual 10.600 de 15/12/2016   \n29   201.197579   86981.258655    0.436535  Lei Estadual 10.600 de 15/12/2016   \n..          ...            ...         ...                                ...   \n48   589.144131  157389.038385    1.278257  Lei Estadual 10.600 de 15/12/2016   \n49   409.631750  142067.640341    0.888771  Lei Estadual 10.600 de 15/12/2016   \n50   327.485857  109546.102673    0.710541  Lei Estadual 10.600 de 15/12/2016   \n51   174.246926   72258.835803    0.378061  Lei Estadual 10.600 de 15/12/2016   \n52   547.438556  125980.003124    1.187769  Lei Estadual 10.600 de 15/12/2016   \n53   295.237692   96657.803978    0.640573  Lei Estadual 10.600 de 15/12/2016   \n54   683.170151  163528.388082    1.482263  Lei Estadual 10.600 de 15/12/2016   \n55   717.985527  180021.116081    1.557802  Lei Estadual 10.600 de 15/12/2016   \n56   417.875943  184196.534431    0.906659  Lei Estadual 10.600 de 15/12/2016   \n57   941.663648  263153.293838    2.043113  Lei Estadual 10.600 de 15/12/2016   \n58   320.086383  105896.833420    0.694486  Lei Estadual 10.600 de 15/12/2016   \n59   458.735132  131570.904009    0.995310  Lei Estadual 10.600 de 15/12/2016   \n60   941.118581  202343.134262    2.041930  Lei Estadual 10.600 de 15/12/2016   \n61   353.931077  157493.469463    0.767919  Lei Estadual 10.600 de 15/12/2016   \n62   238.128309  108820.685042    0.516663  Lei Estadual 10.600 de 15/12/2016   \n63   459.208451  253402.906962    0.996337  Lei Estadual 10.600 de 15/12/2016   \n64   330.762749  134260.697807    0.717651  Lei Estadual 10.600 de 15/12/2016   \n65   158.452274  124730.767239    0.343791  Lei Estadual 10.600 de 15/12/2016   \n66   468.685382  165814.365781    1.016899  Lei Estadual 10.600 de 15/12/2016   \n67   273.765955  105821.581495    0.593986  Lei Estadual 10.600 de 15/12/2016   \n68    89.293526   69188.762100    0.193739  Lei Estadual 10.600 de 15/12/2016   \n69   194.156753   94315.623718    0.421259  Lei Estadual 10.600 de 15/12/2016   \n70   871.241295  229299.073202    1.890318  Lei Estadual 10.600 de 15/12/2016   \n71   228.746347  101541.085581    0.496307  Lei Estadual 10.600 de 15/12/2016   \n72  2317.248517  381760.634461    5.027697  Lei Estadual 10.600 de 15/12/2016   \n73   474.572744  166172.694618    1.029673  Lei Estadual 10.600 de 15/12/2016   \n74   428.368571  145484.923425    0.929424  Lei Estadual 10.600 de 15/12/2016   \n75   829.925143  206929.485087    1.800675  Lei Estadual 10.600 de 15/12/2016   \n76   915.737135  276921.911568    1.986860  Lei Estadual 10.600 de 15/12/2016   \n77   162.321350   79017.901093    0.352186  Lei Estadual 10.600 de 15/12/2016   \n\n               regional                  estrutura                esc_local  \\\n0              Colatina  Escritorio Regional/Local                 Colatina   \n1              Colatina       Posto de Atendimento                 Colatina   \n2          Nova Venécia       Posto de Atendimento     Sao Gabriel da Palha   \n3   Cach. de Itapemirim           Escritorio Local          Rio Novo do Sul   \n4   Cach. de Itapemirim       Posto de Atendimento          Rio Novo do Sul   \n5   Cach. de Itapemirim       Posto de Atendimento          Rio Novo do Sul   \n6             Cariacica       Posto de Atendimento               Vila Velha   \n7   Cach. de Itapemirim       Posto de Atendimento                  Castelo   \n8   Cach. de Itapemirim           Escritorio Local                  Castelo   \n9              Colatina       Posto de Atendimento                  Ibiraçu   \n10  Cach. de Itapemirim           Escritorio Local               Itapemirim   \n11  Cach. de Itapemirim       Posto de Atendimento  Cachoeiro de Itapemirim   \n12  Cach. de Itapemirim           Escritorio Local  Cachoeiro de Itapemirim   \n13             Colatina       Posto de Atendimento                 Linhares   \n14             Colatina           Escritorio Local                  Aracruz   \n15            Cariacica           Escritorio Local    Santa Maria de Jetibá   \n16  Cach. de Itapemirim       Posto de Atendimento               Itapemirim   \n17  Cach. de Itapemirim       Posto de Atendimento                   Alegre   \n18  Cach. de Itapemirim       Posto de Atendimento                  Castelo   \n19            Cariacica        Escritorio Regional               Vila Velha   \n20         Nova Venécia       Posto de Atendimento                 Montanha   \n21         Nova Venécia       Posto de Atendimento             Nova Venécia   \n22         Nova Venécia  Escritorio Regional/Local             Nova Venécia   \n23         Nova Venécia       Posto de Atendimento                 Montanha   \n24         Nova Venécia           Escritorio Local                Pinheiros   \n25         Nova Venécia           Escritorio Local                 Montanha   \n26         Nova Venécia           Escritorio Local            Pedro Canário   \n27         Nova Venécia       Posto de Atendimento            Pedro Canário   \n28             Colatina       Posto de Atendimento                 Colatina   \n29             Colatina           Escritorio Local                  Ibiraçu   \n..                  ...                        ...                      ...   \n48            Cariacica           Escritorio Local                Guarapari   \n49            Cariacica       Posto de Atendimento                Guarapari   \n50  Cach. de Itapemirim       Posto de Atendimento            Mimoso do Sul   \n51  Cach. de Itapemirim       Posto de Atendimento                   Guaçuí   \n52            Cariacica           Escritorio Local                    Serra   \n53             Colatina           Escritorio Local                  Itarana   \n54            Cariacica           Escritorio Local             Santa Teresa   \n55            Cariacica       Posto de Atendimento    Santa Maria de Jetibá   \n56  Cach. de Itapemirim       Posto de Atendimento  Cachoeiro de Itapemirim   \n57         Nova Venécia           Escritorio Local   Barra de Sao Francisco   \n58             Colatina       Posto de Atendimento                   Pancas   \n59            Cariacica       Posto de Atendimento           Afonso Cláudio   \n60            Cariacica           Escritorio Local           Afonso Cláudio   \n61            Cariacica       Posto de Atendimento           Afonso Cláudio   \n62  Cach. de Itapemirim       Posto de Atendimento                     Iúna   \n63  Cach. de Itapemirim           Escritorio Local                     Iúna   \n64  Cach. de Itapemirim       Posto de Atendimento                   Guaçuí   \n65  Cach. de Itapemirim       Posto de Atendimento                   Guaçuí   \n66  Cach. de Itapemirim           Escritorio Local                   Guaçuí   \n67  Cach. de Itapemirim       Posto de Atendimento       Bom Jesus do Norte   \n68  Cach. de Itapemirim           Escritorio Local       Bom Jesus do Norte   \n69  Cach. de Itapemirim       Posto de Atendimento       Bom Jesus do Norte   \n70  Cach. de Itapemirim           Escritorio Local            Mimoso do Sul   \n71             Colatina       Posto de Atendimento                   Pancas   \n72         Nova Venécia           Escritorio Local               Ecoporanga   \n73         Nova Venécia       Posto de Atendimento   Barra de Sao Francisco   \n74         Nova Venécia       Posto de Atendimento                Pinheiros   \n75             Colatina           Escritorio Local                   Pancas   \n76             Colatina           Escritorio Local             Baixo Guandu   \n77  Cach. de Itapemirim       Posto de Atendimento                   Alegre   \n\n            lei_criaca                                           geometry  \n0   Lei 10.600 de 2016  MULTIPOLYGON (((337764.102 7864080.746, 337788...  \n1   Lei 10.600 de 2016  MULTIPOLYGON (((331315.181 7859409.038, 331436...  \n2   Lei 10.600 de 2016  MULTIPOLYGON (((366393.847 7916757.239, 366402...  \n3   Lei 10.600 de 2016  MULTIPOLYGON (((299753.996 7712351.774, 299728...  \n4   Lei 10.600 de 2016  MULTIPOLYGON (((317499.957 7700541.335, 317510...  \n5   Lei 10.600 de 2016  MULTIPOLYGON (((304354.753 7712887.125, 304400...  \n6   Lei 10.600 de 2016  MULTIPOLYGON (((366971.603 7752573.989, 366974...  \n7   Lei 10.600 de 2016  MULTIPOLYGON (((275124.216 7755872.846, 275233...  \n8   Lei 10.600 de 2016  MULTIPOLYGON (((281125.763 7741337.571, 281130...  \n9   Lei 10.600 de 2016  MULTIPOLYGON (((343769.084 7804296.972, 343769...  \n10  Lei 10.600 de 2016  MULTIPOLYGON (((317021.014 7691555.200, 317035...  \n11  Lei 10.600 de 2016  MULTIPOLYGON (((273710.106 7687850.295, 273735...  \n12  Lei 10.600 de 2016  MULTIPOLYGON (((281369.765 7719717.213, 281423...  \n13  Lei 10.600 de 2016  MULTIPOLYGON (((381321.024 7902708.650, 381331...  \n14  Lei 10.600 de 2016  MULTIPOLYGON (((382615.606 7837640.962, 382626...  \n15  Lei 10.600 de 2016  MULTIPOLYGON (((315027.955 7793543.364, 315053...  \n16  Lei 10.600 de 2016  MULTIPOLYGON (((290271.561 7676455.550, 290271...  \n17  Lei 10.600 de 2016  MULTIPOLYGON (((253980.461 7764750.189, 253984...  \n18  Lei 10.600 de 2016  MULTIPOLYGON (((266179.318 7756223.674, 266191...  \n19  Lei 10.600 de 2016  MULTIPOLYGON (((356465.160 7764147.465, 356499...  \n20  Lei 10.600 de 2016  MULTIPOLYGON (((338922.648 8021013.348, 339056...  \n21  Lei 10.600 de 2016  MULTIPOLYGON (((336246.806 7954476.201, 336245...  \n22  Lei 10.600 de 2016  MULTIPOLYGON (((336570.500 7969348.000, 336622...  \n23  Lei 10.600 de 2016  MULTIPOLYGON (((346746.122 7964203.135, 346200...  \n24  Lei 10.600 de 2016  MULTIPOLYGON (((345331.967 7981843.309, 345388...  \n25  Lei 10.600 de 2016  MULTIPOLYGON (((358252.010 8017460.113, 358382...  \n26  Lei 10.600 de 2016  MULTIPOLYGON (((373526.867 8009717.672, 375909...  \n27  Lei 10.600 de 2016  MULTIPOLYGON (((403595.402 7989774.362, 403608...  \n28  Lei 10.600 de 2016  MULTIPOLYGON (((355479.191 7889642.517, 355548...  \n29  Lei 10.600 de 2016  MULTIPOLYGON (((347787.146 7816011.631, 347780...  \n..                 ...                                                ...  \n48  Lei 10.600 de 2016  MULTIPOLYGON (((328236.577 7736261.379, 328314...  \n49  Lei 10.600 de 2016  MULTIPOLYGON (((328672.193 7727227.060, 328684...  \n50  Lei 10.600 de 2016  MULTIPOLYGON (((262051.416 7692155.641, 262103...  \n51  Lei 10.600 de 2016  MULTIPOLYGON (((216930.805 7728316.963, 216908...  \n52  Lei 10.600 de 2016  MULTIPOLYGON (((354488.159 7786263.595, 354486...  \n53  Lei 10.600 de 2016  MULTIPOLYGON (((310075.920 7799872.012, 310142...  \n54  Lei 10.600 de 2016  MULTIPOLYGON (((332445.311 7789056.560, 332493...  \n55  Lei 10.600 de 2016  MULTIPOLYGON (((346788.456 7793929.593, 346802...  \n56  Lei 10.600 de 2016  MULTIPOLYGON (((292087.306 7739657.415, 292170...  \n57  Lei 10.600 de 2016  MULTIPOLYGON (((299130.517 7961387.805, 299145...  \n58  Lei 10.600 de 2016  MULTIPOLYGON (((274599.280 7920397.471, 274669...  \n59  Lei 10.600 de 2016  MULTIPOLYGON (((274274.409 7813708.837, 274324...  \n60  Lei 10.600 de 2016  MULTIPOLYGON (((274832.246 7799235.202, 274921...  \n61  Lei 10.600 de 2016  MULTIPOLYGON (((259450.905 7793780.017, 259530...  \n62  Lei 10.600 de 2016  MULTIPOLYGON (((248192.157 7761204.564, 248164...  \n63  Lei 10.600 de 2016  MULTIPOLYGON (((221180.046 7762941.753, 221171...  \n64  Lei 10.600 de 2016  MULTIPOLYGON (((210549.147 7744790.446, 210643...  \n65  Lei 10.600 de 2016  MULTIPOLYGON (((208034.424 7733216.799, 208063...  \n66  Lei 10.600 de 2016  MULTIPOLYGON (((224402.191 7715490.608, 224514...  \n67  Lei 10.600 de 2016  MULTIPOLYGON (((225587.921 7692835.535, 225661...  \n68  Lei 10.600 de 2016  MULTIPOLYGON (((225246.258 7659683.679, 225237...  \n69  Lei 10.600 de 2016  MULTIPOLYGON (((232503.601 7680270.442, 232541...  \n70  Lei 10.600 de 2016  MULTIPOLYGON (((242637.328 7688616.013, 242667...  \n71  Lei 10.600 de 2016  MULTIPOLYGON (((298196.870 7904445.209, 298045...  \n72  Lei 10.600 de 2016  MULTIPOLYGON (((308686.228 8014142.345, 308743...  \n73  Lei 10.600 de 2016  MULTIPOLYGON (((283457.132 7969718.262, 283475...  \n74  Lei 10.600 de 2016  MULTIPOLYGON (((346200.000 7963616.500, 346746...  \n75  Lei 10.600 de 2016  MULTIPOLYGON (((304364.785 7904740.945, 304364...  \n76  Lei 10.600 de 2016  MULTIPOLYGON (((297527.909 7872902.758, 297529...  \n77  Lei 10.600 de 2016  MULTIPOLYGON (((251962.847 7710542.135, 252016...  \n\n[78 rows x 17 columns]\n"
     ]
    }
   ],
   "source": [
    "# Parse the URL with parameters\n",
    "q = Request('GET', gb_wfs, params=params).prepare().url\n",
    "\n",
    "# Read data from URL\n",
    "data = gpd.read_file(q)\n",
    "\n",
    "print(data)"
   ]
  },
  {
   "cell_type": "code",
   "execution_count": 22,
   "metadata": {},
   "outputs": [
    {
     "output_type": "stream",
     "name": "stdout",
     "text": [
      "This is a description of your Web Feature Server.\n\nThe GeoServer is a full transactional Web Feature Server, you may wish to limit\nGeoServer to a Basic service level to prevent modificaiton of your geographic\ndata.\nNONE\nNONE\n['WFS, WMS, GEOSERVER']\nMy GeoServer WFS\nMy GeoServer WFS\n1.0.0\n"
     ]
    }
   ],
   "source": [
    "print(geobases.identification.abstract)\n",
    "print(geobases.identification.accessconstraints)\n",
    "# print(geobases.identification.end)\n",
    "print(geobases.identification.fees)\n",
    "# print(geobases.identification.file)\n",
    "# print(geobases.identification.flush)\n",
    "print(geobases.identification.keywords)\n",
    "# print(geobases.identification.sep)\n",
    "print(geobases.identification.title)\n",
    "print(geobases.identification.type)\n",
    "print(geobases.identification.version)"
   ]
  },
  {
   "cell_type": "code",
   "execution_count": 26,
   "metadata": {
    "tags": []
   },
   "outputs": [
    {
     "output_type": "stream",
     "name": "stdout",
     "text": [
      "<owslib.util.ResponseWrapper object at 0x7effb7370438>\n[('__class__', <class 'type'>), ('__delattr__', <slot wrapper '__delattr__' of 'object' objects>), ('__dict__', mappingproxy({'__module__': 'owslib.feature.wfs100', '__doc__': 'Abstraction for WFS metadata.\\n\\n    Implements IMetadata.\\n    ', '__init__': <function ContentMetadata.__init__ at 0x7effd80b10d0>, 'parse_remote_metadata': <function ContentMetadata.parse_remote_metadata at 0x7effd80b1158>})), ('__dir__', <method '__dir__' of 'object' objects>), ('__doc__', 'Abstraction for WFS metadata.\\n\\n    Implements IMetadata.\\n    '), ('__eq__', <slot wrapper '__eq__' of 'object' objects>), ('__format__', <method '__format__' of 'object' objects>), ('__ge__', <slot wrapper '__ge__' of 'object' objects>), ('__getattribute__', <slot wrapper '__getattribute__' of 'object' objects>), ('__gt__', <slot wrapper '__gt__' of 'object' objects>), ('__hash__', <slot wrapper '__hash__' of 'object' objects>), ('__init__', <function ContentMetadata.__init__ at 0x7effd80b10d0>), ('__init_subclass__', <built-in method __init_subclass__ of type object at 0x1725748>), ('__le__', <slot wrapper '__le__' of 'object' objects>), ('__lt__', <slot wrapper '__lt__' of 'object' objects>), ('__module__', 'owslib.feature.wfs100'), ('__ne__', <slot wrapper '__ne__' of 'object' objects>), ('__new__', <built-in method __new__ of type object at 0x9d17a0>), ('__reduce__', <method '__reduce__' of 'object' objects>), ('__reduce_ex__', <method '__reduce_ex__' of 'object' objects>), ('__repr__', <slot wrapper '__repr__' of 'object' objects>), ('__setattr__', <slot wrapper '__setattr__' of 'object' objects>), ('__sizeof__', <method '__sizeof__' of 'object' objects>), ('__str__', <slot wrapper '__str__' of 'object' objects>), ('__subclasshook__', <built-in method __subclasshook__ of type object at 0x1725748>), ('__weakref__', <attribute '__weakref__' of 'AbstractContentMetadata' objects>), ('get_metadata', <function AbstractContentMetadata.get_metadata at 0x7effdbd45d90>), ('parse_remote_metadata', <function ContentMetadata.parse_remote_metadata at 0x7effd80b1158>)]\n"
     ]
    }
   ],
   "source": [
    "import inspect, owslib\n",
    "print(geobases.getcapabilities())\n",
    "\n",
    "print(inspect.getmembers(owslib.feature.wfs100.ContentMetadata.predicate))\n"
   ]
  },
  {
   "cell_type": "code",
   "execution_count": 44,
   "metadata": {
    "tags": [
     "outputPrepend"
    ]
   },
   "outputs": [
    {
     "output_type": "stream",
     "name": "stdout",
     "text": [
      "\n",
      "('verbOptions', ['{http://www.opengis.net/wfs}Query', '{http://www.opengis.net/wfs}Insert', '{http://www.opengis.net/wfs}Update', '{http://www.opengis.net/wfs}Delete', '{http://www.opengis.net/wfs}Lock'])\n",
      "('__class__', <class 'owslib.feature.wfs100.ContentMetadata'>)\n",
      "('__delattr__', <method-wrapper '__delattr__' of ContentMetadata object at 0x7effd11bbe48>)\n",
      "('__dict__', {'auth': <Authentication shared=False username=None password=None cert=None verify=True>, 'id': 'geonode:data_das_imagens_voo_aerofotogrametrico_es_2012_2015', 'title': 'data_das_imagens_voo_aerofotogrametrico_es_2012_2015', 'abstract': 'No abstract provided.', 'keywords': ['data_das_imagens_voo_aerofotogrametrico_es_2012_2015, features'], 'boundingBox': (-41.9008910678802, -21.32632804592718, -39.652049394134075, -17.867952656844498, urn:ogc:def:crs:EPSG::31984), 'boundingBoxWGS84': (-129.23538332925594, -85.52574069883015, -129.23498853072974, -85.52576090768292), 'crsOptions': [urn:ogc:def:crs:EPSG::31984], 'verbOptions': ['{http://www.opengis.net/wfs}Query', '{http://www.opengis.net/wfs}Insert', '{http://www.opengis.net/wfs}Update', '{http://www.opengis.net/wfs}Delete', '{http://www.opengis.net/wfs}Lock'], 'styles': None, 'timepositions': None, 'defaulttimeposition': None, 'metadataUrls': []})\n",
      "('__dir__', <built-in method __dir__ of ContentMetadata object at 0x7effd11bbe48>)\n",
      "('__doc__', 'Abstraction for WFS metadata.\\n\\n    Implements IMetadata.\\n    ')\n",
      "('__eq__', <method-wrapper '__eq__' of ContentMetadata object at 0x7effd11bbe48>)\n",
      "('__format__', <built-in method __format__ of ContentMetadata object at 0x7effd11bbe48>)\n",
      "('__ge__', <method-wrapper '__ge__' of ContentMetadata object at 0x7effd11bbe48>)\n",
      "('__getattribute__', <method-wrapper '__getattribute__' of ContentMetadata object at 0x7effd11bbe48>)\n",
      "('__gt__', <method-wrapper '__gt__' of ContentMetadata object at 0x7effd11bbe48>)\n",
      "('__hash__', <method-wrapper '__hash__' of ContentMetadata object at 0x7effd11bbe48>)\n",
      "('__init__', <bound method ContentMetadata.__init__ of <owslib.feature.wfs100.ContentMetadata object at 0x7effd11bbe48>>)\n",
      "('__init_subclass__', <built-in method __init_subclass__ of type object at 0x1725748>)\n",
      "('__le__', <method-wrapper '__le__' of ContentMetadata object at 0x7effd11bbe48>)\n",
      "('__lt__', <method-wrapper '__lt__' of ContentMetadata object at 0x7effd11bbe48>)\n",
      "('__module__', 'owslib.feature.wfs100')\n",
      "('__ne__', <method-wrapper '__ne__' of ContentMetadata object at 0x7effd11bbe48>)\n",
      "('__new__', <built-in method __new__ of type object at 0x9d17a0>)\n",
      "('__reduce__', <built-in method __reduce__ of ContentMetadata object at 0x7effd11bbe48>)\n",
      "('__reduce_ex__', <built-in method __reduce_ex__ of ContentMetadata object at 0x7effd11bbe48>)\n",
      "('__repr__', <method-wrapper '__repr__' of ContentMetadata object at 0x7effd11bbe48>)\n",
      "('__setattr__', <method-wrapper '__setattr__' of ContentMetadata object at 0x7effd11bbe48>)\n",
      "('__sizeof__', <built-in method __sizeof__ of ContentMetadata object at 0x7effd11bbe48>)\n",
      "('__str__', <method-wrapper '__str__' of ContentMetadata object at 0x7effd11bbe48>)\n",
      "('__subclasshook__', <built-in method __subclasshook__ of type object at 0x1725748>)\n",
      "('__weakref__', None)\n",
      "('abstract', 'No abstract provided.')\n",
      "('auth', <Authentication shared=False username=None password=None cert=None verify=True>)\n",
      "('boundingBox', (-41.9008910678802, -21.32632804592718, -39.652049394134075, -17.867952656844498, urn:ogc:def:crs:EPSG::31984))\n",
      "('boundingBoxWGS84', (-129.23538332925594, -85.52574069883015, -129.23498853072974, -85.52576090768292))\n",
      "('crsOptions', [urn:ogc:def:crs:EPSG::31984])\n",
      "('defaulttimeposition', None)\n",
      "('get_metadata', <bound method AbstractContentMetadata.get_metadata of <owslib.feature.wfs100.ContentMetadata object at 0x7effd11bbe48>>)\n",
      "('id', 'geonode:data_das_imagens_voo_aerofotogrametrico_es_2012_2015')\n",
      "('keywords', ['data_das_imagens_voo_aerofotogrametrico_es_2012_2015, features'])\n",
      "('metadataUrls', [])\n",
      "('parse_remote_metadata', <bound method ContentMetadata.parse_remote_metadata of <owslib.feature.wfs100.ContentMetadata object at 0x7effd11bbe48>>)\n",
      "('styles', None)\n",
      "('timepositions', None)\n",
      "('title', 'data_das_imagens_voo_aerofotogrametrico_es_2012_2015')\n",
      "('verbOptions', ['{http://www.opengis.net/wfs}Query', '{http://www.opengis.net/wfs}Insert', '{http://www.opengis.net/wfs}Update', '{http://www.opengis.net/wfs}Delete', '{http://www.opengis.net/wfs}Lock'])\n",
      "('__class__', <class 'owslib.feature.wfs100.ContentMetadata'>)\n",
      "('__delattr__', <method-wrapper '__delattr__' of ContentMetadata object at 0x7effd11bbf60>)\n",
      "('__dict__', {'auth': <Authentication shared=False username=None password=None cert=None verify=True>, 'id': 'geonode:idaf_legitimacao_es', 'title': 'idaf_legitimacao_es', 'abstract': 'No abstract provided.', 'keywords': ['idaf_legitimacao_es, features'], 'boundingBox': (-1.0, -1.0, 0.0, 0.0, urn:ogc:def:crs:EPSG::404000), 'boundingBoxWGS84': None, 'crsOptions': [urn:ogc:def:crs:EPSG::404000], 'verbOptions': ['{http://www.opengis.net/wfs}Query', '{http://www.opengis.net/wfs}Insert', '{http://www.opengis.net/wfs}Update', '{http://www.opengis.net/wfs}Delete', '{http://www.opengis.net/wfs}Lock'], 'styles': None, 'timepositions': None, 'defaulttimeposition': None, 'metadataUrls': []})\n",
      "('__dir__', <built-in method __dir__ of ContentMetadata object at 0x7effd11bbf60>)\n",
      "('__doc__', 'Abstraction for WFS metadata.\\n\\n    Implements IMetadata.\\n    ')\n",
      "('__eq__', <method-wrapper '__eq__' of ContentMetadata object at 0x7effd11bbf60>)\n",
      "('__format__', <built-in method __format__ of ContentMetadata object at 0x7effd11bbf60>)\n",
      "('__ge__', <method-wrapper '__ge__' of ContentMetadata object at 0x7effd11bbf60>)\n",
      "('__getattribute__', <method-wrapper '__getattribute__' of ContentMetadata object at 0x7effd11bbf60>)\n",
      "('__gt__', <method-wrapper '__gt__' of ContentMetadata object at 0x7effd11bbf60>)\n",
      "('__hash__', <method-wrapper '__hash__' of ContentMetadata object at 0x7effd11bbf60>)\n",
      "('__init__', <bound method ContentMetadata.__init__ of <owslib.feature.wfs100.ContentMetadata object at 0x7effd11bbf60>>)\n",
      "('__init_subclass__', <built-in method __init_subclass__ of type object at 0x1725748>)\n",
      "('__le__', <method-wrapper '__le__' of ContentMetadata object at 0x7effd11bbf60>)\n",
      "('__lt__', <method-wrapper '__lt__' of ContentMetadata object at 0x7effd11bbf60>)\n",
      "('__module__', 'owslib.feature.wfs100')\n",
      "('__ne__', <method-wrapper '__ne__' of ContentMetadata object at 0x7effd11bbf60>)\n",
      "('__new__', <built-in method __new__ of type object at 0x9d17a0>)\n",
      "('__reduce__', <built-in method __reduce__ of ContentMetadata object at 0x7effd11bbf60>)\n",
      "('__reduce_ex__', <built-in method __reduce_ex__ of ContentMetadata object at 0x7effd11bbf60>)\n",
      "('__repr__', <method-wrapper '__repr__' of ContentMetadata object at 0x7effd11bbf60>)\n",
      "('__setattr__', <method-wrapper '__setattr__' of ContentMetadata object at 0x7effd11bbf60>)\n",
      "('__sizeof__', <built-in method __sizeof__ of ContentMetadata object at 0x7effd11bbf60>)\n",
      "('__str__', <method-wrapper '__str__' of ContentMetadata object at 0x7effd11bbf60>)\n",
      "('__subclasshook__', <built-in method __subclasshook__ of type object at 0x1725748>)\n",
      "('__weakref__', None)\n",
      "('abstract', 'No abstract provided.')\n",
      "('auth', <Authentication shared=False username=None password=None cert=None verify=True>)\n",
      "('boundingBox', (-1.0, -1.0, 0.0, 0.0, urn:ogc:def:crs:EPSG::404000))\n",
      "('boundingBoxWGS84', None)\n",
      "('crsOptions', [urn:ogc:def:crs:EPSG::404000])\n",
      "('defaulttimeposition', None)\n",
      "('get_metadata', <bound method AbstractContentMetadata.get_metadata of <owslib.feature.wfs100.ContentMetadata object at 0x7effd11bbf60>>)\n",
      "('id', 'geonode:idaf_legitimacao_es')\n",
      "('keywords', ['idaf_legitimacao_es, features'])\n",
      "('metadataUrls', [])\n",
      "('parse_remote_metadata', <bound method ContentMetadata.parse_remote_metadata of <owslib.feature.wfs100.ContentMetadata object at 0x7effd11bbf60>>)\n",
      "('styles', None)\n",
      "('timepositions', None)\n",
      "('title', 'idaf_legitimacao_es')\n",
      "('verbOptions', ['{http://www.opengis.net/wfs}Query', '{http://www.opengis.net/wfs}Insert', '{http://www.opengis.net/wfs}Update', '{http://www.opengis.net/wfs}Delete', '{http://www.opengis.net/wfs}Lock'])\n",
      "('__class__', <class 'owslib.feature.wfs100.ContentMetadata'>)\n",
      "('__delattr__', <method-wrapper '__delattr__' of ContentMetadata object at 0x7effd11b20b8>)\n",
      "('__dict__', {'auth': <Authentication shared=False username=None password=None cert=None verify=True>, 'id': 'geonode:trecho_drenagem_1', 'title': 'trecho_drenagem_1', 'abstract': None, 'keywords': ['features, trecho_drenagem_1'], 'boundingBox': (-41.89030002731453, -21.311771426049937, -39.66302367110307, -17.883055477135166, urn:ogc:def:crs:EPSG::31984), 'boundingBoxWGS84': (-129.23538166805088, -85.52574079394164, -129.2349902542901, -85.52576080913005), 'crsOptions': [urn:ogc:def:crs:EPSG::31984], 'verbOptions': ['{http://www.opengis.net/wfs}Query', '{http://www.opengis.net/wfs}Insert', '{http://www.opengis.net/wfs}Update', '{http://www.opengis.net/wfs}Delete', '{http://www.opengis.net/wfs}Lock'], 'styles': None, 'timepositions': None, 'defaulttimeposition': None, 'metadataUrls': []})\n",
      "('__dir__', <built-in method __dir__ of ContentMetadata object at 0x7effd11b20b8>)\n",
      "('__doc__', 'Abstraction for WFS metadata.\\n\\n    Implements IMetadata.\\n    ')\n",
      "('__eq__', <method-wrapper '__eq__' of ContentMetadata object at 0x7effd11b20b8>)\n",
      "('__format__', <built-in method __format__ of ContentMetadata object at 0x7effd11b20b8>)\n",
      "('__ge__', <method-wrapper '__ge__' of ContentMetadata object at 0x7effd11b20b8>)\n",
      "('__getattribute__', <method-wrapper '__getattribute__' of ContentMetadata object at 0x7effd11b20b8>)\n",
      "('__gt__', <method-wrapper '__gt__' of ContentMetadata object at 0x7effd11b20b8>)\n",
      "('__hash__', <method-wrapper '__hash__' of ContentMetadata object at 0x7effd11b20b8>)\n",
      "('__init__', <bound method ContentMetadata.__init__ of <owslib.feature.wfs100.ContentMetadata object at 0x7effd11b20b8>>)\n",
      "('__init_subclass__', <built-in method __init_subclass__ of type object at 0x1725748>)\n",
      "('__le__', <method-wrapper '__le__' of ContentMetadata object at 0x7effd11b20b8>)\n",
      "('__lt__', <method-wrapper '__lt__' of ContentMetadata object at 0x7effd11b20b8>)\n",
      "('__module__', 'owslib.feature.wfs100')\n",
      "('__ne__', <method-wrapper '__ne__' of ContentMetadata object at 0x7effd11b20b8>)\n",
      "('__new__', <built-in method __new__ of type object at 0x9d17a0>)\n",
      "('__reduce__', <built-in method __reduce__ of ContentMetadata object at 0x7effd11b20b8>)\n",
      "('__reduce_ex__', <built-in method __reduce_ex__ of ContentMetadata object at 0x7effd11b20b8>)\n",
      "('__repr__', <method-wrapper '__repr__' of ContentMetadata object at 0x7effd11b20b8>)\n",
      "('__setattr__', <method-wrapper '__setattr__' of ContentMetadata object at 0x7effd11b20b8>)\n",
      "('__sizeof__', <built-in method __sizeof__ of ContentMetadata object at 0x7effd11b20b8>)\n",
      "('__str__', <method-wrapper '__str__' of ContentMetadata object at 0x7effd11b20b8>)\n",
      "('__subclasshook__', <built-in method __subclasshook__ of type object at 0x1725748>)\n",
      "('__weakref__', None)\n",
      "('abstract', None)\n",
      "('auth', <Authentication shared=False username=None password=None cert=None verify=True>)\n",
      "('boundingBox', (-41.89030002731453, -21.311771426049937, -39.66302367110307, -17.883055477135166, urn:ogc:def:crs:EPSG::31984))\n",
      "('boundingBoxWGS84', (-129.23538166805088, -85.52574079394164, -129.2349902542901, -85.52576080913005))\n",
      "('crsOptions', [urn:ogc:def:crs:EPSG::31984])\n",
      "('defaulttimeposition', None)\n",
      "('get_metadata', <bound method AbstractContentMetadata.get_metadata of <owslib.feature.wfs100.ContentMetadata object at 0x7effd11b20b8>>)\n",
      "('id', 'geonode:trecho_drenagem_1')\n",
      "('keywords', ['features, trecho_drenagem_1'])\n",
      "('metadataUrls', [])\n",
      "('parse_remote_metadata', <bound method ContentMetadata.parse_remote_metadata of <owslib.feature.wfs100.ContentMetadata object at 0x7effd11b20b8>>)\n",
      "('styles', None)\n",
      "('timepositions', None)\n",
      "('title', 'trecho_drenagem_1')\n",
      "('verbOptions', ['{http://www.opengis.net/wfs}Query', '{http://www.opengis.net/wfs}Insert', '{http://www.opengis.net/wfs}Update', '{http://www.opengis.net/wfs}Delete', '{http://www.opengis.net/wfs}Lock'])\n",
      "('__class__', <class 'owslib.feature.wfs100.ContentMetadata'>)\n",
      "('__delattr__', <method-wrapper '__delattr__' of ContentMetadata object at 0x7effd11b21d0>)\n",
      "('__dict__', {'auth': <Authentication shared=False username=None password=None cert=None verify=True>, 'id': 'geonode:areas_tombadas_cec', 'title': 'ÁREAS TOMBADAS CEC', 'abstract': 'No abstract provided.', 'keywords': ['areas_tombadas_cec, features'], 'boundingBox': (-41.35659975102273, -20.978011371432757, -39.69289824507308, -18.383593754580286, urn:ogc:def:crs:EPSG::31984), 'boundingBoxWGS84': (-129.23534371642674, -85.52574557205702, -129.23504753380138, -85.52576052396597), 'crsOptions': [urn:ogc:def:crs:EPSG::31984], 'verbOptions': ['{http://www.opengis.net/wfs}Query', '{http://www.opengis.net/wfs}Insert', '{http://www.opengis.net/wfs}Update', '{http://www.opengis.net/wfs}Delete', '{http://www.opengis.net/wfs}Lock'], 'styles': None, 'timepositions': None, 'defaulttimeposition': None, 'metadataUrls': []})\n",
      "('__dir__', <built-in method __dir__ of ContentMetadata object at 0x7effd11b21d0>)\n",
      "('__doc__', 'Abstraction for WFS metadata.\\n\\n    Implements IMetadata.\\n    ')\n",
      "('__eq__', <method-wrapper '__eq__' of ContentMetadata object at 0x7effd11b21d0>)\n",
      "('__format__', <built-in method __format__ of ContentMetadata object at 0x7effd11b21d0>)\n",
      "('__ge__', <method-wrapper '__ge__' of ContentMetadata object at 0x7effd11b21d0>)\n",
      "('__getattribute__', <method-wrapper '__getattribute__' of ContentMetadata object at 0x7effd11b21d0>)\n",
      "('__gt__', <method-wrapper '__gt__' of ContentMetadata object at 0x7effd11b21d0>)\n",
      "('__hash__', <method-wrapper '__hash__' of ContentMetadata object at 0x7effd11b21d0>)\n",
      "('__init__', <bound method ContentMetadata.__init__ of <owslib.feature.wfs100.ContentMetadata object at 0x7effd11b21d0>>)\n",
      "('__init_subclass__', <built-in method __init_subclass__ of type object at 0x1725748>)\n",
      "('__le__', <method-wrapper '__le__' of ContentMetadata object at 0x7effd11b21d0>)\n",
      "('__lt__', <method-wrapper '__lt__' of ContentMetadata object at 0x7effd11b21d0>)\n",
      "('__module__', 'owslib.feature.wfs100')\n",
      "('__ne__', <method-wrapper '__ne__' of ContentMetadata object at 0x7effd11b21d0>)\n",
      "('__new__', <built-in method __new__ of type object at 0x9d17a0>)\n",
      "('__reduce__', <built-in method __reduce__ of ContentMetadata object at 0x7effd11b21d0>)\n",
      "('__reduce_ex__', <built-in method __reduce_ex__ of ContentMetadata object at 0x7effd11b21d0>)\n",
      "('__repr__', <method-wrapper '__repr__' of ContentMetadata object at 0x7effd11b21d0>)\n",
      "('__setattr__', <method-wrapper '__setattr__' of ContentMetadata object at 0x7effd11b21d0>)\n",
      "('__sizeof__', <built-in method __sizeof__ of ContentMetadata object at 0x7effd11b21d0>)\n",
      "('__str__', <method-wrapper '__str__' of ContentMetadata object at 0x7effd11b21d0>)\n",
      "('__subclasshook__', <built-in method __subclasshook__ of type object at 0x1725748>)\n",
      "('__weakref__', None)\n",
      "('abstract', 'No abstract provided.')\n",
      "('auth', <Authentication shared=False username=None password=None cert=None verify=True>)\n",
      "('boundingBox', (-41.35659975102273, -20.978011371432757, -39.69289824507308, -18.383593754580286, urn:ogc:def:crs:EPSG::31984))\n",
      "('boundingBoxWGS84', (-129.23534371642674, -85.52574557205702, -129.23504753380138, -85.52576052396597))\n",
      "('crsOptions', [urn:ogc:def:crs:EPSG::31984])\n",
      "('defaulttimeposition', None)\n",
      "('get_metadata', <bound method AbstractContentMetadata.get_metadata of <owslib.feature.wfs100.ContentMetadata object at 0x7effd11b21d0>>)\n",
      "('id', 'geonode:areas_tombadas_cec')\n",
      "('keywords', ['areas_tombadas_cec, features'])\n",
      "('metadataUrls', [])\n",
      "('parse_remote_metadata', <bound method ContentMetadata.parse_remote_metadata of <owslib.feature.wfs100.ContentMetadata object at 0x7effd11b21d0>>)\n",
      "('styles', None)\n",
      "('timepositions', None)\n",
      "('title', 'ÁREAS TOMBADAS CEC')\n",
      "('verbOptions', ['{http://www.opengis.net/wfs}Query', '{http://www.opengis.net/wfs}Insert', '{http://www.opengis.net/wfs}Update', '{http://www.opengis.net/wfs}Delete', '{http://www.opengis.net/wfs}Lock'])\n",
      "('__class__', <class 'owslib.feature.wfs100.ContentMetadata'>)\n",
      "('__delattr__', <method-wrapper '__delattr__' of ContentMetadata object at 0x7effd11b22e8>)\n",
      "('__dict__', {'auth': <Authentication shared=False username=None password=None cert=None verify=True>, 'id': 'geonode:areas_tombadas_cec_p', 'title': 'ÁREAS TOMBADAS CEC - LOCALIZAÇÃO', 'abstract': 'No abstract provided.', 'keywords': ['features, areas_tombadas_cec_p'], 'boundingBox': (-41.34225769871253, -20.96796416933387, -39.70411258490845, -18.397773327199275, urn:ogc:def:crs:EPSG::31984), 'boundingBoxWGS84': (-129.23534257315185, -85.52574570049828, -129.23504915156906, -85.52576042330314), 'crsOptions': [urn:ogc:def:crs:EPSG::31984], 'verbOptions': ['{http://www.opengis.net/wfs}Query', '{http://www.opengis.net/wfs}Insert', '{http://www.opengis.net/wfs}Update', '{http://www.opengis.net/wfs}Delete', '{http://www.opengis.net/wfs}Lock'], 'styles': None, 'timepositions': None, 'defaulttimeposition': None, 'metadataUrls': []})\n",
      "('__dir__', <built-in method __dir__ of ContentMetadata object at 0x7effd11b22e8>)\n",
      "('__doc__', 'Abstraction for WFS metadata.\\n\\n    Implements IMetadata.\\n    ')\n",
      "('__eq__', <method-wrapper '__eq__' of ContentMetadata object at 0x7effd11b22e8>)\n",
      "('__format__', <built-in method __format__ of ContentMetadata object at 0x7effd11b22e8>)\n",
      "('__ge__', <method-wrapper '__ge__' of ContentMetadata object at 0x7effd11b22e8>)\n",
      "('__getattribute__', <method-wrapper '__getattribute__' of ContentMetadata object at 0x7effd11b22e8>)\n",
      "('__gt__', <method-wrapper '__gt__' of ContentMetadata object at 0x7effd11b22e8>)\n",
      "('__hash__', <method-wrapper '__hash__' of ContentMetadata object at 0x7effd11b22e8>)\n",
      "('__init__', <bound method ContentMetadata.__init__ of <owslib.feature.wfs100.ContentMetadata object at 0x7effd11b22e8>>)\n",
      "('__init_subclass__', <built-in method __init_subclass__ of type object at 0x1725748>)\n",
      "('__le__', <method-wrapper '__le__' of ContentMetadata object at 0x7effd11b22e8>)\n",
      "('__lt__', <method-wrapper '__lt__' of ContentMetadata object at 0x7effd11b22e8>)\n",
      "('__module__', 'owslib.feature.wfs100')\n",
      "('__ne__', <method-wrapper '__ne__' of ContentMetadata object at 0x7effd11b22e8>)\n",
      "('__new__', <built-in method __new__ of type object at 0x9d17a0>)\n",
      "('__reduce__', <built-in method __reduce__ of ContentMetadata object at 0x7effd11b22e8>)\n",
      "('__reduce_ex__', <built-in method __reduce_ex__ of ContentMetadata object at 0x7effd11b22e8>)\n",
      "('__repr__', <method-wrapper '__repr__' of ContentMetadata object at 0x7effd11b22e8>)\n",
      "('__setattr__', <method-wrapper '__setattr__' of ContentMetadata object at 0x7effd11b22e8>)\n",
      "('__sizeof__', <built-in method __sizeof__ of ContentMetadata object at 0x7effd11b22e8>)\n",
      "('__str__', <method-wrapper '__str__' of ContentMetadata object at 0x7effd11b22e8>)\n",
      "('__subclasshook__', <built-in method __subclasshook__ of type object at 0x1725748>)\n",
      "('__weakref__', None)\n",
      "('abstract', 'No abstract provided.')\n",
      "('auth', <Authentication shared=False username=None password=None cert=None verify=True>)\n",
      "('boundingBox', (-41.34225769871253, -20.96796416933387, -39.70411258490845, -18.397773327199275, urn:ogc:def:crs:EPSG::31984))\n",
      "('boundingBoxWGS84', (-129.23534257315185, -85.52574570049828, -129.23504915156906, -85.52576042330314))\n",
      "('crsOptions', [urn:ogc:def:crs:EPSG::31984])\n",
      "('defaulttimeposition', None)\n",
      "('get_metadata', <bound method AbstractContentMetadata.get_metadata of <owslib.feature.wfs100.ContentMetadata object at 0x7effd11b22e8>>)\n",
      "('id', 'geonode:areas_tombadas_cec_p')\n",
      "('keywords', ['features, areas_tombadas_cec_p'])\n",
      "('metadataUrls', [])\n",
      "('parse_remote_metadata', <bound method ContentMetadata.parse_remote_metadata of <owslib.feature.wfs100.ContentMetadata object at 0x7effd11b22e8>>)\n",
      "('styles', None)\n",
      "('timepositions', None)\n",
      "('title', 'ÁREAS TOMBADAS CEC - LOCALIZAÇÃO')\n",
      "('verbOptions', ['{http://www.opengis.net/wfs}Query', '{http://www.opengis.net/wfs}Insert', '{http://www.opengis.net/wfs}Update', '{http://www.opengis.net/wfs}Delete', '{http://www.opengis.net/wfs}Lock'])\n"
     ]
    }
   ],
   "source": [
    "cont = geobases.contents\n",
    "\n",
    "for content in cont:\n",
    "    for member in inspect.getmembers(cont[content]):\n",
    "        print(member)"
   ]
  },
  {
   "cell_type": "code",
   "execution_count": null,
   "metadata": {},
   "outputs": [],
   "source": []
  }
 ]
}