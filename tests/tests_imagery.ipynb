{
 "metadata": {
  "language_info": {
   "codemirror_mode": {
    "name": "ipython",
    "version": 3
   },
   "file_extension": ".py",
   "mimetype": "text/x-python",
   "name": "python",
   "nbconvert_exporter": "python",
   "pygments_lexer": "ipython3",
   "version": "3.6.9"
  },
  "orig_nbformat": 2,
  "kernelspec": {
   "name": "python369jvsc74a57bd031f2aee4e71d21fbe5cf8b01ff0e069b9275f58929596ceb00d14d90e3e16cd6",
   "display_name": "Python 3.6.9 64-bit"
  },
  "metadata": {
   "interpreter": {
    "hash": "31f2aee4e71d21fbe5cf8b01ff0e069b9275f58929596ceb00d14d90e3e16cd6"
   }
  }
 },
 "nbformat": 4,
 "nbformat_minor": 2,
 "cells": [
  {
   "cell_type": "code",
   "execution_count": 40,
   "metadata": {
    "tags": [
     "outputPrepend"
    ]
   },
   "outputs": [
    {
     "output_type": "stream",
     "name": "stdout",
     "text": [
      "8_787.igw', 'https://geobases.static.es.gov.br/public/MAP_ES_2012_2015/MDT/38_787.img', 'https://geobases.static.es.gov.br/public/MAP_ES_2012_2015/MDT/38_787.rrd', 'https://geobases.static.es.gov.br/public/MAP_ES_2012_2015/MDT/38_788.igw', 'https://geobases.static.es.gov.br/public/MAP_ES_2012_2015/MDT/38_788.img', 'https://geobases.static.es.gov.br/public/MAP_ES_2012_2015/MDT/38_788.rrd', 'https://geobases.static.es.gov.br/public/MAP_ES_2012_2015/MDT/38_789.igw', 'https://geobases.static.es.gov.br/public/MAP_ES_2012_2015/MDT/38_789.img', 'https://geobases.static.es.gov.br/public/MAP_ES_2012_2015/MDT/38_789.rrd', 'https://geobases.static.es.gov.br/public/MAP_ES_2012_2015/MDT/38_790.igw', 'https://geobases.static.es.gov.br/public/MAP_ES_2012_2015/MDT/38_790.img', 'https://geobases.static.es.gov.br/public/MAP_ES_2012_2015/MDT/38_790.rrd', 'https://geobases.static.es.gov.br/public/MAP_ES_2012_2015/MDT/38_791.igw', 'https://geobases.static.es.gov.br/public/MAP_ES_2012_2015/MDT/38_791.img', 'https://geobases.static.es.gov.br/public/MAP_ES_2012_2015/MDT/38_791.rrd', 'https://geobases.static.es.gov.br/public/MAP_ES_2012_2015/MDT/38_792.igw', 'https://geobases.static.es.gov.br/public/MAP_ES_2012_2015/MDT/38_792.img', 'https://geobases.static.es.gov.br/public/MAP_ES_2012_2015/MDT/38_792.rrd', 'https://geobases.static.es.gov.br/public/MAP_ES_2012_2015/MDT/38_793.igw', 'https://geobases.static.es.gov.br/public/MAP_ES_2012_2015/MDT/38_793.img', 'https://geobases.static.es.gov.br/public/MAP_ES_2012_2015/MDT/38_793.rrd', 'https://geobases.static.es.gov.br/public/MAP_ES_2012_2015/MDT/38_794.igw', 'https://geobases.static.es.gov.br/public/MAP_ES_2012_2015/MDT/38_794.img', 'https://geobases.static.es.gov.br/public/MAP_ES_2012_2015/MDT/38_794.rrd', 'https://geobases.static.es.gov.br/public/MAP_ES_2012_2015/MDT/38_795.igw', 'https://geobases.static.es.gov.br/public/MAP_ES_2012_2015/MDT/38_795.img', 'https://geobases.static.es.gov.br/public/MAP_ES_2012_2015/MDT/38_795.rrd', 'https://geobases.static.es.gov.br/public/MAP_ES_2012_2015/MDT/38_796.igw', 'https://geobases.static.es.gov.br/public/MAP_ES_2012_2015/MDT/38_796.img', 'https://geobases.static.es.gov.br/public/MAP_ES_2012_2015/MDT/38_796.rrd', 'https://geobases.static.es.gov.br/public/MAP_ES_2012_2015/MDT/38_797.igw', 'https://geobases.static.es.gov.br/public/MAP_ES_2012_2015/MDT/38_797.img', 'https://geobases.static.es.gov.br/public/MAP_ES_2012_2015/MDT/38_797.rrd', 'https://geobases.static.es.gov.br/public/MAP_ES_2012_2015/MDT/38_798.igw', 'https://geobases.static.es.gov.br/public/MAP_ES_2012_2015/MDT/38_798.img', 'https://geobases.static.es.gov.br/public/MAP_ES_2012_2015/MDT/38_798.rrd', 'https://geobases.static.es.gov.br/public/MAP_ES_2012_2015/MDT/38_799.igw', 'https://geobases.static.es.gov.br/public/MAP_ES_2012_2015/MDT/38_799.img', 'https://geobases.static.es.gov.br/public/MAP_ES_2012_2015/MDT/38_799.rrd', 'https://geobases.static.es.gov.br/public/MAP_ES_2012_2015/MDT/38_800.igw', 'https://geobases.static.es.gov.br/public/MAP_ES_2012_2015/MDT/38_800.img', 'https://geobases.static.es.gov.br/public/MAP_ES_2012_2015/MDT/38_800.rrd', 'https://geobases.static.es.gov.br/public/MAP_ES_2012_2015/MDT/38_801.igw', 'https://geobases.static.es.gov.br/public/MAP_ES_2012_2015/MDT/38_801.img', 'https://geobases.static.es.gov.br/public/MAP_ES_2012_2015/MDT/38_801.rrd', 'https://geobases.static.es.gov.br/public/MAP_ES_2012_2015/MDT/39_781.igw', 'https://geobases.static.es.gov.br/public/MAP_ES_2012_2015/MDT/39_781.img', 'https://geobases.static.es.gov.br/public/MAP_ES_2012_2015/MDT/39_781.rrd', 'https://geobases.static.es.gov.br/public/MAP_ES_2012_2015/MDT/39_782.igw', 'https://geobases.static.es.gov.br/public/MAP_ES_2012_2015/MDT/39_782.img', 'https://geobases.static.es.gov.br/public/MAP_ES_2012_2015/MDT/39_782.rrd', 'https://geobases.static.es.gov.br/public/MAP_ES_2012_2015/MDT/39_783.igw', 'https://geobases.static.es.gov.br/public/MAP_ES_2012_2015/MDT/39_783.img', 'https://geobases.static.es.gov.br/public/MAP_ES_2012_2015/MDT/39_783.rrd', 'https://geobases.static.es.gov.br/public/MAP_ES_2012_2015/MDT/39_784.igw', 'https://geobases.static.es.gov.br/public/MAP_ES_2012_2015/MDT/39_784.img', 'https://geobases.static.es.gov.br/public/MAP_ES_2012_2015/MDT/39_784.rrd', 'https://geobases.static.es.gov.br/public/MAP_ES_2012_2015/MDT/39_785.igw', 'https://geobases.static.es.gov.br/public/MAP_ES_2012_2015/MDT/39_785.img', 'https://geobases.static.es.gov.br/public/MAP_ES_2012_2015/MDT/39_785.rrd', 'https://geobases.static.es.gov.br/public/MAP_ES_2012_2015/MDT/39_786.igw', 'https://geobases.static.es.gov.br/public/MAP_ES_2012_2015/MDT/39_786.img', 'https://geobases.static.es.gov.br/public/MAP_ES_2012_2015/MDT/39_786.rrd', 'https://geobases.static.es.gov.br/public/MAP_ES_2012_2015/MDT/39_787.igw', 'https://geobases.static.es.gov.br/public/MAP_ES_2012_2015/MDT/39_787.img', 'https://geobases.static.es.gov.br/public/MAP_ES_2012_2015/MDT/39_787.rrd', 'https://geobases.static.es.gov.br/public/MAP_ES_2012_2015/MDT/39_788.igw', 'https://geobases.static.es.gov.br/public/MAP_ES_2012_2015/MDT/39_788.img', 'https://geobases.static.es.gov.br/public/MAP_ES_2012_2015/MDT/39_788.rrd', 'https://geobases.static.es.gov.br/public/MAP_ES_2012_2015/MDT/39_789.igw', 'https://geobases.static.es.gov.br/public/MAP_ES_2012_2015/MDT/39_789.img', 'https://geobases.static.es.gov.br/public/MAP_ES_2012_2015/MDT/39_789.rrd', 'https://geobases.static.es.gov.br/public/MAP_ES_2012_2015/MDT/39_790.igw', 'https://geobases.static.es.gov.br/public/MAP_ES_2012_2015/MDT/39_790.img', 'https://geobases.static.es.gov.br/public/MAP_ES_2012_2015/MDT/39_790.rrd', 'https://geobases.static.es.gov.br/public/MAP_ES_2012_2015/MDT/39_791.igw', 'https://geobases.static.es.gov.br/public/MAP_ES_2012_2015/MDT/39_791.img', 'https://geobases.static.es.gov.br/public/MAP_ES_2012_2015/MDT/39_791.rrd', 'https://geobases.static.es.gov.br/public/MAP_ES_2012_2015/MDT/39_792.igw', 'https://geobases.static.es.gov.br/public/MAP_ES_2012_2015/MDT/39_792.img', 'https://geobases.static.es.gov.br/public/MAP_ES_2012_2015/MDT/39_792.rrd', 'https://geobases.static.es.gov.br/public/MAP_ES_2012_2015/MDT/39_793.igw', 'https://geobases.static.es.gov.br/public/MAP_ES_2012_2015/MDT/39_793.img', 'https://geobases.static.es.gov.br/public/MAP_ES_2012_2015/MDT/39_793.rrd', 'https://geobases.static.es.gov.br/public/MAP_ES_2012_2015/MDT/39_794.igw', 'https://geobases.static.es.gov.br/public/MAP_ES_2012_2015/MDT/39_794.img', 'https://geobases.static.es.gov.br/public/MAP_ES_2012_2015/MDT/39_794.rrd', 'https://geobases.static.es.gov.br/public/MAP_ES_2012_2015/MDT/39_795.igw', 'https://geobases.static.es.gov.br/public/MAP_ES_2012_2015/MDT/39_795.img', 'https://geobases.static.es.gov.br/public/MAP_ES_2012_2015/MDT/39_795.rrd', 'https://geobases.static.es.gov.br/public/MAP_ES_2012_2015/MDT/39_796.igw', 'https://geobases.static.es.gov.br/public/MAP_ES_2012_2015/MDT/39_796.img', 'https://geobases.static.es.gov.br/public/MAP_ES_2012_2015/MDT/39_796.rrd', 'https://geobases.static.es.gov.br/public/MAP_ES_2012_2015/MDT/39_797.igw', 'https://geobases.static.es.gov.br/public/MAP_ES_2012_2015/MDT/39_797.img', 'https://geobases.static.es.gov.br/public/MAP_ES_2012_2015/MDT/39_797.rrd', 'https://geobases.static.es.gov.br/public/MAP_ES_2012_2015/MDT/39_798.igw', 'https://geobases.static.es.gov.br/public/MAP_ES_2012_2015/MDT/39_798.img', 'https://geobases.static.es.gov.br/public/MAP_ES_2012_2015/MDT/39_798.rrd', 'https://geobases.static.es.gov.br/public/MAP_ES_2012_2015/MDT/39_799.igw', 'https://geobases.static.es.gov.br/public/MAP_ES_2012_2015/MDT/39_799.img', 'https://geobases.static.es.gov.br/public/MAP_ES_2012_2015/MDT/39_799.rrd', 'https://geobases.static.es.gov.br/public/MAP_ES_2012_2015/MDT/39_800.igw', 'https://geobases.static.es.gov.br/public/MAP_ES_2012_2015/MDT/39_800.img', 'https://geobases.static.es.gov.br/public/MAP_ES_2012_2015/MDT/39_800.rrd', 'https://geobases.static.es.gov.br/public/MAP_ES_2012_2015/MDT/40_782.igw', 'https://geobases.static.es.gov.br/public/MAP_ES_2012_2015/MDT/40_782.img', 'https://geobases.static.es.gov.br/public/MAP_ES_2012_2015/MDT/40_782.rrd', 'https://geobases.static.es.gov.br/public/MAP_ES_2012_2015/MDT/40_783.igw', 'https://geobases.static.es.gov.br/public/MAP_ES_2012_2015/MDT/40_783.img', 'https://geobases.static.es.gov.br/public/MAP_ES_2012_2015/MDT/40_783.rrd', 'https://geobases.static.es.gov.br/public/MAP_ES_2012_2015/MDT/40_784.igw', 'https://geobases.static.es.gov.br/public/MAP_ES_2012_2015/MDT/40_784.img', 'https://geobases.static.es.gov.br/public/MAP_ES_2012_2015/MDT/40_784.rrd', 'https://geobases.static.es.gov.br/public/MAP_ES_2012_2015/MDT/40_785.igw', 'https://geobases.static.es.gov.br/public/MAP_ES_2012_2015/MDT/40_785.img', 'https://geobases.static.es.gov.br/public/MAP_ES_2012_2015/MDT/40_785.rrd', 'https://geobases.static.es.gov.br/public/MAP_ES_2012_2015/MDT/40_786.igw', 'https://geobases.static.es.gov.br/public/MAP_ES_2012_2015/MDT/40_786.img', 'https://geobases.static.es.gov.br/public/MAP_ES_2012_2015/MDT/40_786.rrd', 'https://geobases.static.es.gov.br/public/MAP_ES_2012_2015/MDT/40_787.igw', 'https://geobases.static.es.gov.br/public/MAP_ES_2012_2015/MDT/40_787.img', 'https://geobases.static.es.gov.br/public/MAP_ES_2012_2015/MDT/40_787.rrd', 'https://geobases.static.es.gov.br/public/MAP_ES_2012_2015/MDT/40_788.igw', 'https://geobases.static.es.gov.br/public/MAP_ES_2012_2015/MDT/40_788.img', 'https://geobases.static.es.gov.br/public/MAP_ES_2012_2015/MDT/40_788.rrd', 'https://geobases.static.es.gov.br/public/MAP_ES_2012_2015/MDT/40_789.igw', 'https://geobases.static.es.gov.br/public/MAP_ES_2012_2015/MDT/40_789.img', 'https://geobases.static.es.gov.br/public/MAP_ES_2012_2015/MDT/40_789.rrd', 'https://geobases.static.es.gov.br/public/MAP_ES_2012_2015/MDT/40_790.igw', 'https://geobases.static.es.gov.br/public/MAP_ES_2012_2015/MDT/40_790.img', 'https://geobases.static.es.gov.br/public/MAP_ES_2012_2015/MDT/40_790.rrd', 'https://geobases.static.es.gov.br/public/MAP_ES_2012_2015/MDT/40_791.igw', 'https://geobases.static.es.gov.br/public/MAP_ES_2012_2015/MDT/40_791.img', 'https://geobases.static.es.gov.br/public/MAP_ES_2012_2015/MDT/40_791.rrd', 'https://geobases.static.es.gov.br/public/MAP_ES_2012_2015/MDT/40_792.igw', 'https://geobases.static.es.gov.br/public/MAP_ES_2012_2015/MDT/40_792.img', 'https://geobases.static.es.gov.br/public/MAP_ES_2012_2015/MDT/40_792.rrd', 'https://geobases.static.es.gov.br/public/MAP_ES_2012_2015/MDT/40_793.igw', 'https://geobases.static.es.gov.br/public/MAP_ES_2012_2015/MDT/40_793.img', 'https://geobases.static.es.gov.br/public/MAP_ES_2012_2015/MDT/40_793.rrd', 'https://geobases.static.es.gov.br/public/MAP_ES_2012_2015/MDT/40_794.igw', 'https://geobases.static.es.gov.br/public/MAP_ES_2012_2015/MDT/40_794.img', 'https://geobases.static.es.gov.br/public/MAP_ES_2012_2015/MDT/40_794.rrd', 'https://geobases.static.es.gov.br/public/MAP_ES_2012_2015/MDT/40_795.igw', 'https://geobases.static.es.gov.br/public/MAP_ES_2012_2015/MDT/40_795.img', 'https://geobases.static.es.gov.br/public/MAP_ES_2012_2015/MDT/40_795.rrd', 'https://geobases.static.es.gov.br/public/MAP_ES_2012_2015/MDT/40_796.igw', 'https://geobases.static.es.gov.br/public/MAP_ES_2012_2015/MDT/40_796.img', 'https://geobases.static.es.gov.br/public/MAP_ES_2012_2015/MDT/40_796.rrd', 'https://geobases.static.es.gov.br/public/MAP_ES_2012_2015/MDT/40_797.igw', 'https://geobases.static.es.gov.br/public/MAP_ES_2012_2015/MDT/40_797.img', 'https://geobases.static.es.gov.br/public/MAP_ES_2012_2015/MDT/40_797.rrd', 'https://geobases.static.es.gov.br/public/MAP_ES_2012_2015/MDT/40_798.igw', 'https://geobases.static.es.gov.br/public/MAP_ES_2012_2015/MDT/40_798.img', 'https://geobases.static.es.gov.br/public/MAP_ES_2012_2015/MDT/40_798.rrd', 'https://geobases.static.es.gov.br/public/MAP_ES_2012_2015/MDT/40_799.igw', 'https://geobases.static.es.gov.br/public/MAP_ES_2012_2015/MDT/40_799.img', 'https://geobases.static.es.gov.br/public/MAP_ES_2012_2015/MDT/40_799.rrd', 'https://geobases.static.es.gov.br/public/MAP_ES_2012_2015/MDT/40_800.igw', 'https://geobases.static.es.gov.br/public/MAP_ES_2012_2015/MDT/40_800.img', 'https://geobases.static.es.gov.br/public/MAP_ES_2012_2015/MDT/40_800.rrd', 'https://geobases.static.es.gov.br/public/MAP_ES_2012_2015/MDT/41_783.igw', 'https://geobases.static.es.gov.br/public/MAP_ES_2012_2015/MDT/41_783.img', 'https://geobases.static.es.gov.br/public/MAP_ES_2012_2015/MDT/41_783.rrd', 'https://geobases.static.es.gov.br/public/MAP_ES_2012_2015/MDT/41_784.igw', 'https://geobases.static.es.gov.br/public/MAP_ES_2012_2015/MDT/41_784.img', 'https://geobases.static.es.gov.br/public/MAP_ES_2012_2015/MDT/41_784.rrd', 'https://geobases.static.es.gov.br/public/MAP_ES_2012_2015/MDT/41_785.igw', 'https://geobases.static.es.gov.br/public/MAP_ES_2012_2015/MDT/41_785.img', 'https://geobases.static.es.gov.br/public/MAP_ES_2012_2015/MDT/41_785.rrd', 'https://geobases.static.es.gov.br/public/MAP_ES_2012_2015/MDT/41_786.igw', 'https://geobases.static.es.gov.br/public/MAP_ES_2012_2015/MDT/41_786.img', 'https://geobases.static.es.gov.br/public/MAP_ES_2012_2015/MDT/41_786.rrd', 'https://geobases.static.es.gov.br/public/MAP_ES_2012_2015/MDT/41_787.igw', 'https://geobases.static.es.gov.br/public/MAP_ES_2012_2015/MDT/41_787.img', 'https://geobases.static.es.gov.br/public/MAP_ES_2012_2015/MDT/41_787.rrd', 'https://geobases.static.es.gov.br/public/MAP_ES_2012_2015/MDT/41_788.igw', 'https://geobases.static.es.gov.br/public/MAP_ES_2012_2015/MDT/41_788.img', 'https://geobases.static.es.gov.br/public/MAP_ES_2012_2015/MDT/41_788.rrd', 'https://geobases.static.es.gov.br/public/MAP_ES_2012_2015/MDT/41_789.igw', 'https://geobases.static.es.gov.br/public/MAP_ES_2012_2015/MDT/41_789.img', 'https://geobases.static.es.gov.br/public/MAP_ES_2012_2015/MDT/41_789.rrd', 'https://geobases.static.es.gov.br/public/MAP_ES_2012_2015/MDT/41_790.igw', 'https://geobases.static.es.gov.br/public/MAP_ES_2012_2015/MDT/41_790.img', 'https://geobases.static.es.gov.br/public/MAP_ES_2012_2015/MDT/41_790.rrd', 'https://geobases.static.es.gov.br/public/MAP_ES_2012_2015/MDT/41_791.igw', 'https://geobases.static.es.gov.br/public/MAP_ES_2012_2015/MDT/41_791.img', 'https://geobases.static.es.gov.br/public/MAP_ES_2012_2015/MDT/41_791.rrd', 'https://geobases.static.es.gov.br/public/MAP_ES_2012_2015/MDT/41_792.igw', 'https://geobases.static.es.gov.br/public/MAP_ES_2012_2015/MDT/41_792.img', 'https://geobases.static.es.gov.br/public/MAP_ES_2012_2015/MDT/41_792.rrd', 'https://geobases.static.es.gov.br/public/MAP_ES_2012_2015/MDT/41_793.igw', 'https://geobases.static.es.gov.br/public/MAP_ES_2012_2015/MDT/41_793.img', 'https://geobases.static.es.gov.br/public/MAP_ES_2012_2015/MDT/41_793.rrd', 'https://geobases.static.es.gov.br/public/MAP_ES_2012_2015/MDT/41_794.igw', 'https://geobases.static.es.gov.br/public/MAP_ES_2012_2015/MDT/41_794.img', 'https://geobases.static.es.gov.br/public/MAP_ES_2012_2015/MDT/41_794.rrd', 'https://geobases.static.es.gov.br/public/MAP_ES_2012_2015/MDT/41_795.igw', 'https://geobases.static.es.gov.br/public/MAP_ES_2012_2015/MDT/41_795.img', 'https://geobases.static.es.gov.br/public/MAP_ES_2012_2015/MDT/41_795.rrd', 'https://geobases.static.es.gov.br/public/MAP_ES_2012_2015/MDT/41_796.igw', 'https://geobases.static.es.gov.br/public/MAP_ES_2012_2015/MDT/41_796.img', 'https://geobases.static.es.gov.br/public/MAP_ES_2012_2015/MDT/41_796.rrd', 'https://geobases.static.es.gov.br/public/MAP_ES_2012_2015/MDT/41_797.igw', 'https://geobases.static.es.gov.br/public/MAP_ES_2012_2015/MDT/41_797.img', 'https://geobases.static.es.gov.br/public/MAP_ES_2012_2015/MDT/41_797.rrd', 'https://geobases.static.es.gov.br/public/MAP_ES_2012_2015/MDT/41_798.igw', 'https://geobases.static.es.gov.br/public/MAP_ES_2012_2015/MDT/41_798.img', 'https://geobases.static.es.gov.br/public/MAP_ES_2012_2015/MDT/41_798.rrd', 'https://geobases.static.es.gov.br/public/MAP_ES_2012_2015/MDT/41_799.igw', 'https://geobases.static.es.gov.br/public/MAP_ES_2012_2015/MDT/41_799.img', 'https://geobases.static.es.gov.br/public/MAP_ES_2012_2015/MDT/41_799.rrd', 'https://geobases.static.es.gov.br/public/MAP_ES_2012_2015/MDT/42_784.igw', 'https://geobases.static.es.gov.br/public/MAP_ES_2012_2015/MDT/42_784.img', 'https://geobases.static.es.gov.br/public/MAP_ES_2012_2015/MDT/42_784.rrd', 'https://geobases.static.es.gov.br/public/MAP_ES_2012_2015/MDT/42_785.igw', 'https://geobases.static.es.gov.br/public/MAP_ES_2012_2015/MDT/42_785.img', 'https://geobases.static.es.gov.br/public/MAP_ES_2012_2015/MDT/42_785.rrd', 'https://geobases.static.es.gov.br/public/MAP_ES_2012_2015/MDT/42_786.igw', 'https://geobases.static.es.gov.br/public/MAP_ES_2012_2015/MDT/42_786.img', 'https://geobases.static.es.gov.br/public/MAP_ES_2012_2015/MDT/42_786.rrd', 'https://geobases.static.es.gov.br/public/MAP_ES_2012_2015/MDT/42_787.igw', 'https://geobases.static.es.gov.br/public/MAP_ES_2012_2015/MDT/42_787.img', 'https://geobases.static.es.gov.br/public/MAP_ES_2012_2015/MDT/42_787.rrd', 'https://geobases.static.es.gov.br/public/MAP_ES_2012_2015/MDT/42_788.igw', 'https://geobases.static.es.gov.br/public/MAP_ES_2012_2015/MDT/42_788.img', 'https://geobases.static.es.gov.br/public/MAP_ES_2012_2015/MDT/42_788.rrd', 'https://geobases.static.es.gov.br/public/MAP_ES_2012_2015/MDT/42_789.igw', 'https://geobases.static.es.gov.br/public/MAP_ES_2012_2015/MDT/42_789.img', 'https://geobases.static.es.gov.br/public/MAP_ES_2012_2015/MDT/42_789.rrd', 'https://geobases.static.es.gov.br/public/MAP_ES_2012_2015/MDT/42_790.igw', 'https://geobases.static.es.gov.br/public/MAP_ES_2012_2015/MDT/42_790.img', 'https://geobases.static.es.gov.br/public/MAP_ES_2012_2015/MDT/42_790.rrd', 'https://geobases.static.es.gov.br/public/MAP_ES_2012_2015/MDT/42_791.igw', 'https://geobases.static.es.gov.br/public/MAP_ES_2012_2015/MDT/42_791.img', 'https://geobases.static.es.gov.br/public/MAP_ES_2012_2015/MDT/42_791.rrd', 'https://geobases.static.es.gov.br/public/MAP_ES_2012_2015/MDT/42_792.igw', 'https://geobases.static.es.gov.br/public/MAP_ES_2012_2015/MDT/42_792.img', 'https://geobases.static.es.gov.br/public/MAP_ES_2012_2015/MDT/42_792.rrd', 'https://geobases.static.es.gov.br/public/MAP_ES_2012_2015/MDT/42_793.igw', 'https://geobases.static.es.gov.br/public/MAP_ES_2012_2015/MDT/42_793.img', 'https://geobases.static.es.gov.br/public/MAP_ES_2012_2015/MDT/42_793.rrd', 'https://geobases.static.es.gov.br/public/MAP_ES_2012_2015/MDT/42_794.igw', 'https://geobases.static.es.gov.br/public/MAP_ES_2012_2015/MDT/42_794.img', 'https://geobases.static.es.gov.br/public/MAP_ES_2012_2015/MDT/42_794.rrd', 'https://geobases.static.es.gov.br/public/MAP_ES_2012_2015/MDT/42_795.igw', 'https://geobases.static.es.gov.br/public/MAP_ES_2012_2015/MDT/42_795.img', 'https://geobases.static.es.gov.br/public/MAP_ES_2012_2015/MDT/42_795.rrd', 'https://geobases.static.es.gov.br/public/MAP_ES_2012_2015/MDT/42_796.igw', 'https://geobases.static.es.gov.br/public/MAP_ES_2012_2015/MDT/42_796.img', 'https://geobases.static.es.gov.br/public/MAP_ES_2012_2015/MDT/42_796.rrd', 'https://geobases.static.es.gov.br/public/MAP_ES_2012_2015/MDT/42_797.igw', 'https://geobases.static.es.gov.br/public/MAP_ES_2012_2015/MDT/42_797.img', 'https://geobases.static.es.gov.br/public/MAP_ES_2012_2015/MDT/42_797.rrd', 'https://geobases.static.es.gov.br/public/MAP_ES_2012_2015/MDT/42_798.igw', 'https://geobases.static.es.gov.br/public/MAP_ES_2012_2015/MDT/42_798.img', 'https://geobases.static.es.gov.br/public/MAP_ES_2012_2015/MDT/42_798.rrd', 'https://geobases.static.es.gov.br/public/MAP_ES_2012_2015/MDT/42_799.igw', 'https://geobases.static.es.gov.br/public/MAP_ES_2012_2015/MDT/42_799.img', 'https://geobases.static.es.gov.br/public/MAP_ES_2012_2015/MDT/42_799.rrd', 'https://geobases.static.es.gov.br/public/MAP_ES_2012_2015/MDT/43_798.igw', 'https://geobases.static.es.gov.br/public/MAP_ES_2012_2015/MDT/43_798.img', 'https://geobases.static.es.gov.br/public/MAP_ES_2012_2015/MDT/43_798.rrd']\n"
     ]
    }
   ],
   "source": [
    "import requests\n",
    "\n",
    "dtm_link_list = \"https://geobases.static.es.gov.br/public/MAP_ES_2012_2015/MAP_ES_2012_2015_MDT_URL_LIST.txt\"\n",
    "\n",
    "\n",
    "textstring = requests.get(dtm_link_list).text.splitlines()\n",
    "\n",
    "print(textstring)"
   ]
  },
  {
   "cell_type": "code",
   "execution_count": 3,
   "metadata": {
    "tags": [
     "outputPrepend"
    ]
   },
   "outputs": [
    {
     "output_type": "stream",
     "name": "stdout",
     "text": [
      "ttps://geobases.static.es.gov.br/public/MAP_ES_2012_2015/MDE/38_785.rrd\nhttps://geobases.static.es.gov.br/public/MAP_ES_2012_2015/MDE/38_786.img\nhttps://geobases.static.es.gov.br/public/MAP_ES_2012_2015/MDE/38_786.img.xml\nhttps://geobases.static.es.gov.br/public/MAP_ES_2012_2015/MDE/38_786.rrd\nhttps://geobases.static.es.gov.br/public/MAP_ES_2012_2015/MDE/38_787.img\nhttps://geobases.static.es.gov.br/public/MAP_ES_2012_2015/MDE/38_787.img.xml\nhttps://geobases.static.es.gov.br/public/MAP_ES_2012_2015/MDE/38_787.rrd\nhttps://geobases.static.es.gov.br/public/MAP_ES_2012_2015/MDE/38_788.img\nhttps://geobases.static.es.gov.br/public/MAP_ES_2012_2015/MDE/38_788.img.xml\nhttps://geobases.static.es.gov.br/public/MAP_ES_2012_2015/MDE/38_788.rrd\nhttps://geobases.static.es.gov.br/public/MAP_ES_2012_2015/MDE/38_789.img\nhttps://geobases.static.es.gov.br/public/MAP_ES_2012_2015/MDE/38_789.img.xml\nhttps://geobases.static.es.gov.br/public/MAP_ES_2012_2015/MDE/38_789.rrd\nhttps://geobases.static.es.gov.br/public/MAP_ES_2012_2015/MDE/38_790.img\nhttps://geobases.static.es.gov.br/public/MAP_ES_2012_2015/MDE/38_790.img.xml\nhttps://geobases.static.es.gov.br/public/MAP_ES_2012_2015/MDE/38_790.rrd\nhttps://geobases.static.es.gov.br/public/MAP_ES_2012_2015/MDE/38_791.img\nhttps://geobases.static.es.gov.br/public/MAP_ES_2012_2015/MDE/38_791.img.xml\nhttps://geobases.static.es.gov.br/public/MAP_ES_2012_2015/MDE/38_791.rrd\nhttps://geobases.static.es.gov.br/public/MAP_ES_2012_2015/MDE/38_792.img\nhttps://geobases.static.es.gov.br/public/MAP_ES_2012_2015/MDE/38_792.img.xml\nhttps://geobases.static.es.gov.br/public/MAP_ES_2012_2015/MDE/38_792.rrd\nhttps://geobases.static.es.gov.br/public/MAP_ES_2012_2015/MDE/38_793.img\nhttps://geobases.static.es.gov.br/public/MAP_ES_2012_2015/MDE/38_793.img.xml\nhttps://geobases.static.es.gov.br/public/MAP_ES_2012_2015/MDE/38_793.rrd\nhttps://geobases.static.es.gov.br/public/MAP_ES_2012_2015/MDE/38_794.img\nhttps://geobases.static.es.gov.br/public/MAP_ES_2012_2015/MDE/38_794.img.xml\nhttps://geobases.static.es.gov.br/public/MAP_ES_2012_2015/MDE/38_794.rrd\nhttps://geobases.static.es.gov.br/public/MAP_ES_2012_2015/MDE/38_795.img\nhttps://geobases.static.es.gov.br/public/MAP_ES_2012_2015/MDE/38_795.img.xml\nhttps://geobases.static.es.gov.br/public/MAP_ES_2012_2015/MDE/38_795.rrd\nhttps://geobases.static.es.gov.br/public/MAP_ES_2012_2015/MDE/38_796.img\nhttps://geobases.static.es.gov.br/public/MAP_ES_2012_2015/MDE/38_796.img.xml\nhttps://geobases.static.es.gov.br/public/MAP_ES_2012_2015/MDE/38_796.rrd\nhttps://geobases.static.es.gov.br/public/MAP_ES_2012_2015/MDE/38_797.img\nhttps://geobases.static.es.gov.br/public/MAP_ES_2012_2015/MDE/38_797.img.xml\nhttps://geobases.static.es.gov.br/public/MAP_ES_2012_2015/MDE/38_797.rrd\nhttps://geobases.static.es.gov.br/public/MAP_ES_2012_2015/MDE/38_798.img\nhttps://geobases.static.es.gov.br/public/MAP_ES_2012_2015/MDE/38_798.img.xml\nhttps://geobases.static.es.gov.br/public/MAP_ES_2012_2015/MDE/38_798.rrd\nhttps://geobases.static.es.gov.br/public/MAP_ES_2012_2015/MDE/38_799.img\nhttps://geobases.static.es.gov.br/public/MAP_ES_2012_2015/MDE/38_799.img.xml\nhttps://geobases.static.es.gov.br/public/MAP_ES_2012_2015/MDE/38_799.rrd\nhttps://geobases.static.es.gov.br/public/MAP_ES_2012_2015/MDE/38_800.img\nhttps://geobases.static.es.gov.br/public/MAP_ES_2012_2015/MDE/38_800.img.xml\nhttps://geobases.static.es.gov.br/public/MAP_ES_2012_2015/MDE/38_800.rrd\nhttps://geobases.static.es.gov.br/public/MAP_ES_2012_2015/MDE/38_801.img\nhttps://geobases.static.es.gov.br/public/MAP_ES_2012_2015/MDE/38_801.img.xml\nhttps://geobases.static.es.gov.br/public/MAP_ES_2012_2015/MDE/38_801.rrd\nhttps://geobases.static.es.gov.br/public/MAP_ES_2012_2015/MDE/39_781.img\nhttps://geobases.static.es.gov.br/public/MAP_ES_2012_2015/MDE/39_781.img.xml\nhttps://geobases.static.es.gov.br/public/MAP_ES_2012_2015/MDE/39_781.rrd\nhttps://geobases.static.es.gov.br/public/MAP_ES_2012_2015/MDE/39_782.img\nhttps://geobases.static.es.gov.br/public/MAP_ES_2012_2015/MDE/39_782.img.xml\nhttps://geobases.static.es.gov.br/public/MAP_ES_2012_2015/MDE/39_782.rrd\nhttps://geobases.static.es.gov.br/public/MAP_ES_2012_2015/MDE/39_783.img\nhttps://geobases.static.es.gov.br/public/MAP_ES_2012_2015/MDE/39_783.img.xml\nhttps://geobases.static.es.gov.br/public/MAP_ES_2012_2015/MDE/39_783.rrd\nhttps://geobases.static.es.gov.br/public/MAP_ES_2012_2015/MDE/39_784.img\nhttps://geobases.static.es.gov.br/public/MAP_ES_2012_2015/MDE/39_784.img.xml\nhttps://geobases.static.es.gov.br/public/MAP_ES_2012_2015/MDE/39_784.rrd\nhttps://geobases.static.es.gov.br/public/MAP_ES_2012_2015/MDE/39_785.img\nhttps://geobases.static.es.gov.br/public/MAP_ES_2012_2015/MDE/39_785.img.xml\nhttps://geobases.static.es.gov.br/public/MAP_ES_2012_2015/MDE/39_785.rrd\nhttps://geobases.static.es.gov.br/public/MAP_ES_2012_2015/MDE/39_786.img\nhttps://geobases.static.es.gov.br/public/MAP_ES_2012_2015/MDE/39_786.img.xml\nhttps://geobases.static.es.gov.br/public/MAP_ES_2012_2015/MDE/39_786.rrd\nhttps://geobases.static.es.gov.br/public/MAP_ES_2012_2015/MDE/39_787.img\nhttps://geobases.static.es.gov.br/public/MAP_ES_2012_2015/MDE/39_787.img.xml\nhttps://geobases.static.es.gov.br/public/MAP_ES_2012_2015/MDE/39_787.rrd\nhttps://geobases.static.es.gov.br/public/MAP_ES_2012_2015/MDE/39_788.img\nhttps://geobases.static.es.gov.br/public/MAP_ES_2012_2015/MDE/39_788.img.xml\nhttps://geobases.static.es.gov.br/public/MAP_ES_2012_2015/MDE/39_788.rrd\nhttps://geobases.static.es.gov.br/public/MAP_ES_2012_2015/MDE/39_789.img\nhttps://geobases.static.es.gov.br/public/MAP_ES_2012_2015/MDE/39_789.img.xml\nhttps://geobases.static.es.gov.br/public/MAP_ES_2012_2015/MDE/39_789.rrd\nhttps://geobases.static.es.gov.br/public/MAP_ES_2012_2015/MDE/39_790.img\nhttps://geobases.static.es.gov.br/public/MAP_ES_2012_2015/MDE/39_790.img.xml\nhttps://geobases.static.es.gov.br/public/MAP_ES_2012_2015/MDE/39_790.rrd\nhttps://geobases.static.es.gov.br/public/MAP_ES_2012_2015/MDE/39_791.img\nhttps://geobases.static.es.gov.br/public/MAP_ES_2012_2015/MDE/39_791.img.xml\nhttps://geobases.static.es.gov.br/public/MAP_ES_2012_2015/MDE/39_791.rrd\nhttps://geobases.static.es.gov.br/public/MAP_ES_2012_2015/MDE/39_792.img\nhttps://geobases.static.es.gov.br/public/MAP_ES_2012_2015/MDE/39_792.img.xml\nhttps://geobases.static.es.gov.br/public/MAP_ES_2012_2015/MDE/39_792.rrd\nhttps://geobases.static.es.gov.br/public/MAP_ES_2012_2015/MDE/39_793.img\nhttps://geobases.static.es.gov.br/public/MAP_ES_2012_2015/MDE/39_793.img.xml\nhttps://geobases.static.es.gov.br/public/MAP_ES_2012_2015/MDE/39_793.rrd\nhttps://geobases.static.es.gov.br/public/MAP_ES_2012_2015/MDE/39_794.img\nhttps://geobases.static.es.gov.br/public/MAP_ES_2012_2015/MDE/39_794.img.xml\nhttps://geobases.static.es.gov.br/public/MAP_ES_2012_2015/MDE/39_794.rrd\nhttps://geobases.static.es.gov.br/public/MAP_ES_2012_2015/MDE/39_795.img\nhttps://geobases.static.es.gov.br/public/MAP_ES_2012_2015/MDE/39_795.img.xml\nhttps://geobases.static.es.gov.br/public/MAP_ES_2012_2015/MDE/39_795.rrd\nhttps://geobases.static.es.gov.br/public/MAP_ES_2012_2015/MDE/39_796.img\nhttps://geobases.static.es.gov.br/public/MAP_ES_2012_2015/MDE/39_796.img.xml\nhttps://geobases.static.es.gov.br/public/MAP_ES_2012_2015/MDE/39_796.rrd\nhttps://geobases.static.es.gov.br/public/MAP_ES_2012_2015/MDE/39_797.img\nhttps://geobases.static.es.gov.br/public/MAP_ES_2012_2015/MDE/39_797.img.xml\nhttps://geobases.static.es.gov.br/public/MAP_ES_2012_2015/MDE/39_797.rrd\nhttps://geobases.static.es.gov.br/public/MAP_ES_2012_2015/MDE/39_798.img\nhttps://geobases.static.es.gov.br/public/MAP_ES_2012_2015/MDE/39_798.img.xml\nhttps://geobases.static.es.gov.br/public/MAP_ES_2012_2015/MDE/39_798.rrd\nhttps://geobases.static.es.gov.br/public/MAP_ES_2012_2015/MDE/39_799.img\nhttps://geobases.static.es.gov.br/public/MAP_ES_2012_2015/MDE/39_799.img.xml\nhttps://geobases.static.es.gov.br/public/MAP_ES_2012_2015/MDE/39_799.rrd\nhttps://geobases.static.es.gov.br/public/MAP_ES_2012_2015/MDE/39_800.img\nhttps://geobases.static.es.gov.br/public/MAP_ES_2012_2015/MDE/39_800.img.xml\nhttps://geobases.static.es.gov.br/public/MAP_ES_2012_2015/MDE/39_800.rrd\nhttps://geobases.static.es.gov.br/public/MAP_ES_2012_2015/MDE/40_782.img\nhttps://geobases.static.es.gov.br/public/MAP_ES_2012_2015/MDE/40_782.img.xml\nhttps://geobases.static.es.gov.br/public/MAP_ES_2012_2015/MDE/40_782.rrd\nhttps://geobases.static.es.gov.br/public/MAP_ES_2012_2015/MDE/40_783.img\nhttps://geobases.static.es.gov.br/public/MAP_ES_2012_2015/MDE/40_783.img.xml\nhttps://geobases.static.es.gov.br/public/MAP_ES_2012_2015/MDE/40_783.rrd\nhttps://geobases.static.es.gov.br/public/MAP_ES_2012_2015/MDE/40_784.img\nhttps://geobases.static.es.gov.br/public/MAP_ES_2012_2015/MDE/40_784.img.xml\nhttps://geobases.static.es.gov.br/public/MAP_ES_2012_2015/MDE/40_784.rrd\nhttps://geobases.static.es.gov.br/public/MAP_ES_2012_2015/MDE/40_785.img\nhttps://geobases.static.es.gov.br/public/MAP_ES_2012_2015/MDE/40_785.img.xml\nhttps://geobases.static.es.gov.br/public/MAP_ES_2012_2015/MDE/40_785.rrd\nhttps://geobases.static.es.gov.br/public/MAP_ES_2012_2015/MDE/40_786.img\nhttps://geobases.static.es.gov.br/public/MAP_ES_2012_2015/MDE/40_786.img.xml\nhttps://geobases.static.es.gov.br/public/MAP_ES_2012_2015/MDE/40_786.rrd\nhttps://geobases.static.es.gov.br/public/MAP_ES_2012_2015/MDE/40_787.img\nhttps://geobases.static.es.gov.br/public/MAP_ES_2012_2015/MDE/40_787.img.xml\nhttps://geobases.static.es.gov.br/public/MAP_ES_2012_2015/MDE/40_787.rrd\nhttps://geobases.static.es.gov.br/public/MAP_ES_2012_2015/MDE/40_788.img\nhttps://geobases.static.es.gov.br/public/MAP_ES_2012_2015/MDE/40_788.img.xml\nhttps://geobases.static.es.gov.br/public/MAP_ES_2012_2015/MDE/40_788.rrd\nhttps://geobases.static.es.gov.br/public/MAP_ES_2012_2015/MDE/40_789.img\nhttps://geobases.static.es.gov.br/public/MAP_ES_2012_2015/MDE/40_789.img.xml\nhttps://geobases.static.es.gov.br/public/MAP_ES_2012_2015/MDE/40_789.rrd\nhttps://geobases.static.es.gov.br/public/MAP_ES_2012_2015/MDE/40_790.img\nhttps://geobases.static.es.gov.br/public/MAP_ES_2012_2015/MDE/40_790.img.xml\nhttps://geobases.static.es.gov.br/public/MAP_ES_2012_2015/MDE/40_790.rrd\nhttps://geobases.static.es.gov.br/public/MAP_ES_2012_2015/MDE/40_791.img\nhttps://geobases.static.es.gov.br/public/MAP_ES_2012_2015/MDE/40_791.img.xml\nhttps://geobases.static.es.gov.br/public/MAP_ES_2012_2015/MDE/40_791.rrd\nhttps://geobases.static.es.gov.br/public/MAP_ES_2012_2015/MDE/40_792.img\nhttps://geobases.static.es.gov.br/public/MAP_ES_2012_2015/MDE/40_792.img.xml\nhttps://geobases.static.es.gov.br/public/MAP_ES_2012_2015/MDE/40_792.rrd\nhttps://geobases.static.es.gov.br/public/MAP_ES_2012_2015/MDE/40_793.img\nhttps://geobases.static.es.gov.br/public/MAP_ES_2012_2015/MDE/40_793.img.xml\nhttps://geobases.static.es.gov.br/public/MAP_ES_2012_2015/MDE/40_793.rrd\nhttps://geobases.static.es.gov.br/public/MAP_ES_2012_2015/MDE/40_794.img\nhttps://geobases.static.es.gov.br/public/MAP_ES_2012_2015/MDE/40_794.img.xml\nhttps://geobases.static.es.gov.br/public/MAP_ES_2012_2015/MDE/40_794.rrd\nhttps://geobases.static.es.gov.br/public/MAP_ES_2012_2015/MDE/40_795.img\nhttps://geobases.static.es.gov.br/public/MAP_ES_2012_2015/MDE/40_795.img.xml\nhttps://geobases.static.es.gov.br/public/MAP_ES_2012_2015/MDE/40_795.rrd\nhttps://geobases.static.es.gov.br/public/MAP_ES_2012_2015/MDE/40_796.img\nhttps://geobases.static.es.gov.br/public/MAP_ES_2012_2015/MDE/40_796.img.xml\nhttps://geobases.static.es.gov.br/public/MAP_ES_2012_2015/MDE/40_796.rrd\nhttps://geobases.static.es.gov.br/public/MAP_ES_2012_2015/MDE/40_797.img\nhttps://geobases.static.es.gov.br/public/MAP_ES_2012_2015/MDE/40_797.img.xml\nhttps://geobases.static.es.gov.br/public/MAP_ES_2012_2015/MDE/40_797.rrd\nhttps://geobases.static.es.gov.br/public/MAP_ES_2012_2015/MDE/40_798.img\nhttps://geobases.static.es.gov.br/public/MAP_ES_2012_2015/MDE/40_798.img.xml\nhttps://geobases.static.es.gov.br/public/MAP_ES_2012_2015/MDE/40_798.rrd\nhttps://geobases.static.es.gov.br/public/MAP_ES_2012_2015/MDE/40_799.img\nhttps://geobases.static.es.gov.br/public/MAP_ES_2012_2015/MDE/40_799.img.xml\nhttps://geobases.static.es.gov.br/public/MAP_ES_2012_2015/MDE/40_799.rrd\nhttps://geobases.static.es.gov.br/public/MAP_ES_2012_2015/MDE/40_800.img\nhttps://geobases.static.es.gov.br/public/MAP_ES_2012_2015/MDE/40_800.img.xml\nhttps://geobases.static.es.gov.br/public/MAP_ES_2012_2015/MDE/40_800.rrd\nhttps://geobases.static.es.gov.br/public/MAP_ES_2012_2015/MDE/41_783.img\nhttps://geobases.static.es.gov.br/public/MAP_ES_2012_2015/MDE/41_783.img.xml\nhttps://geobases.static.es.gov.br/public/MAP_ES_2012_2015/MDE/41_783.rrd\nhttps://geobases.static.es.gov.br/public/MAP_ES_2012_2015/MDE/41_784.img\nhttps://geobases.static.es.gov.br/public/MAP_ES_2012_2015/MDE/41_784.img.xml\nhttps://geobases.static.es.gov.br/public/MAP_ES_2012_2015/MDE/41_784.rrd\nhttps://geobases.static.es.gov.br/public/MAP_ES_2012_2015/MDE/41_785.img\nhttps://geobases.static.es.gov.br/public/MAP_ES_2012_2015/MDE/41_785.img.xml\nhttps://geobases.static.es.gov.br/public/MAP_ES_2012_2015/MDE/41_785.rrd\nhttps://geobases.static.es.gov.br/public/MAP_ES_2012_2015/MDE/41_786.img\nhttps://geobases.static.es.gov.br/public/MAP_ES_2012_2015/MDE/41_786.img.xml\nhttps://geobases.static.es.gov.br/public/MAP_ES_2012_2015/MDE/41_786.rrd\nhttps://geobases.static.es.gov.br/public/MAP_ES_2012_2015/MDE/41_787.img\nhttps://geobases.static.es.gov.br/public/MAP_ES_2012_2015/MDE/41_787.img.xml\nhttps://geobases.static.es.gov.br/public/MAP_ES_2012_2015/MDE/41_787.rrd\nhttps://geobases.static.es.gov.br/public/MAP_ES_2012_2015/MDE/41_788.img\nhttps://geobases.static.es.gov.br/public/MAP_ES_2012_2015/MDE/41_788.img.xml\nhttps://geobases.static.es.gov.br/public/MAP_ES_2012_2015/MDE/41_788.rrd\nhttps://geobases.static.es.gov.br/public/MAP_ES_2012_2015/MDE/41_789.img\nhttps://geobases.static.es.gov.br/public/MAP_ES_2012_2015/MDE/41_789.img.xml\nhttps://geobases.static.es.gov.br/public/MAP_ES_2012_2015/MDE/41_789.rrd\nhttps://geobases.static.es.gov.br/public/MAP_ES_2012_2015/MDE/41_790.img\nhttps://geobases.static.es.gov.br/public/MAP_ES_2012_2015/MDE/41_790.img.xml\nhttps://geobases.static.es.gov.br/public/MAP_ES_2012_2015/MDE/41_790.rrd\nhttps://geobases.static.es.gov.br/public/MAP_ES_2012_2015/MDE/41_791.img\nhttps://geobases.static.es.gov.br/public/MAP_ES_2012_2015/MDE/41_791.img.xml\nhttps://geobases.static.es.gov.br/public/MAP_ES_2012_2015/MDE/41_791.rrd\nhttps://geobases.static.es.gov.br/public/MAP_ES_2012_2015/MDE/41_792.img\nhttps://geobases.static.es.gov.br/public/MAP_ES_2012_2015/MDE/41_792.img.xml\nhttps://geobases.static.es.gov.br/public/MAP_ES_2012_2015/MDE/41_792.rrd\nhttps://geobases.static.es.gov.br/public/MAP_ES_2012_2015/MDE/41_793.img\nhttps://geobases.static.es.gov.br/public/MAP_ES_2012_2015/MDE/41_793.img.vat.dbf\nhttps://geobases.static.es.gov.br/public/MAP_ES_2012_2015/MDE/41_793.img.xml\nhttps://geobases.static.es.gov.br/public/MAP_ES_2012_2015/MDE/41_793.rrd\nhttps://geobases.static.es.gov.br/public/MAP_ES_2012_2015/MDE/41_794.img\nhttps://geobases.static.es.gov.br/public/MAP_ES_2012_2015/MDE/41_794.img.xml\nhttps://geobases.static.es.gov.br/public/MAP_ES_2012_2015/MDE/41_794.rrd\nhttps://geobases.static.es.gov.br/public/MAP_ES_2012_2015/MDE/41_795.img\nhttps://geobases.static.es.gov.br/public/MAP_ES_2012_2015/MDE/41_795.img.xml\nhttps://geobases.static.es.gov.br/public/MAP_ES_2012_2015/MDE/41_795.rrd\nhttps://geobases.static.es.gov.br/public/MAP_ES_2012_2015/MDE/41_796.img\nhttps://geobases.static.es.gov.br/public/MAP_ES_2012_2015/MDE/41_796.img.xml\nhttps://geobases.static.es.gov.br/public/MAP_ES_2012_2015/MDE/41_796.rrd\nhttps://geobases.static.es.gov.br/public/MAP_ES_2012_2015/MDE/41_797.img\nhttps://geobases.static.es.gov.br/public/MAP_ES_2012_2015/MDE/41_797.img.xml\nhttps://geobases.static.es.gov.br/public/MAP_ES_2012_2015/MDE/41_797.rrd\nhttps://geobases.static.es.gov.br/public/MAP_ES_2012_2015/MDE/41_798.img\nhttps://geobases.static.es.gov.br/public/MAP_ES_2012_2015/MDE/41_798.img.xml\nhttps://geobases.static.es.gov.br/public/MAP_ES_2012_2015/MDE/41_798.rrd\nhttps://geobases.static.es.gov.br/public/MAP_ES_2012_2015/MDE/41_799.img\nhttps://geobases.static.es.gov.br/public/MAP_ES_2012_2015/MDE/41_799.img.xml\nhttps://geobases.static.es.gov.br/public/MAP_ES_2012_2015/MDE/41_799.rrd\nhttps://geobases.static.es.gov.br/public/MAP_ES_2012_2015/MDE/42_784.img\nhttps://geobases.static.es.gov.br/public/MAP_ES_2012_2015/MDE/42_784.img.xml\nhttps://geobases.static.es.gov.br/public/MAP_ES_2012_2015/MDE/42_784.rrd\nhttps://geobases.static.es.gov.br/public/MAP_ES_2012_2015/MDE/42_785.img\nhttps://geobases.static.es.gov.br/public/MAP_ES_2012_2015/MDE/42_785.img.xml\nhttps://geobases.static.es.gov.br/public/MAP_ES_2012_2015/MDE/42_785.rrd\nhttps://geobases.static.es.gov.br/public/MAP_ES_2012_2015/MDE/42_786.img\nhttps://geobases.static.es.gov.br/public/MAP_ES_2012_2015/MDE/42_786.img.xml\nhttps://geobases.static.es.gov.br/public/MAP_ES_2012_2015/MDE/42_786.rrd\nhttps://geobases.static.es.gov.br/public/MAP_ES_2012_2015/MDE/42_787.img\nhttps://geobases.static.es.gov.br/public/MAP_ES_2012_2015/MDE/42_787.img.xml\nhttps://geobases.static.es.gov.br/public/MAP_ES_2012_2015/MDE/42_787.rrd\nhttps://geobases.static.es.gov.br/public/MAP_ES_2012_2015/MDE/42_788.img\nhttps://geobases.static.es.gov.br/public/MAP_ES_2012_2015/MDE/42_788.img.xml\nhttps://geobases.static.es.gov.br/public/MAP_ES_2012_2015/MDE/42_788.rrd\nhttps://geobases.static.es.gov.br/public/MAP_ES_2012_2015/MDE/42_789.img\nhttps://geobases.static.es.gov.br/public/MAP_ES_2012_2015/MDE/42_789.img.xml\nhttps://geobases.static.es.gov.br/public/MAP_ES_2012_2015/MDE/42_789.rrd\nhttps://geobases.static.es.gov.br/public/MAP_ES_2012_2015/MDE/42_790.img\nhttps://geobases.static.es.gov.br/public/MAP_ES_2012_2015/MDE/42_790.img.xml\nhttps://geobases.static.es.gov.br/public/MAP_ES_2012_2015/MDE/42_790.rrd\nhttps://geobases.static.es.gov.br/public/MAP_ES_2012_2015/MDE/42_791.img\nhttps://geobases.static.es.gov.br/public/MAP_ES_2012_2015/MDE/42_791.img.xml\nhttps://geobases.static.es.gov.br/public/MAP_ES_2012_2015/MDE/42_791.rrd\nhttps://geobases.static.es.gov.br/public/MAP_ES_2012_2015/MDE/42_792.img\nhttps://geobases.static.es.gov.br/public/MAP_ES_2012_2015/MDE/42_792.img.xml\nhttps://geobases.static.es.gov.br/public/MAP_ES_2012_2015/MDE/42_792.rrd\nhttps://geobases.static.es.gov.br/public/MAP_ES_2012_2015/MDE/42_793.img\nhttps://geobases.static.es.gov.br/public/MAP_ES_2012_2015/MDE/42_793.img.xml\nhttps://geobases.static.es.gov.br/public/MAP_ES_2012_2015/MDE/42_793.rrd\nhttps://geobases.static.es.gov.br/public/MAP_ES_2012_2015/MDE/42_794.img\nhttps://geobases.static.es.gov.br/public/MAP_ES_2012_2015/MDE/42_794.img.xml\nhttps://geobases.static.es.gov.br/public/MAP_ES_2012_2015/MDE/42_794.rrd\nhttps://geobases.static.es.gov.br/public/MAP_ES_2012_2015/MDE/42_795.img\nhttps://geobases.static.es.gov.br/public/MAP_ES_2012_2015/MDE/42_795.img.xml\nhttps://geobases.static.es.gov.br/public/MAP_ES_2012_2015/MDE/42_795.rrd\nhttps://geobases.static.es.gov.br/public/MAP_ES_2012_2015/MDE/42_796.img\nhttps://geobases.static.es.gov.br/public/MAP_ES_2012_2015/MDE/42_796.img.xml\nhttps://geobases.static.es.gov.br/public/MAP_ES_2012_2015/MDE/42_796.rrd\nhttps://geobases.static.es.gov.br/public/MAP_ES_2012_2015/MDE/42_797.img\nhttps://geobases.static.es.gov.br/public/MAP_ES_2012_2015/MDE/42_797.img.xml\nhttps://geobases.static.es.gov.br/public/MAP_ES_2012_2015/MDE/42_797.rrd\nhttps://geobases.static.es.gov.br/public/MAP_ES_2012_2015/MDE/42_798.img\nhttps://geobases.static.es.gov.br/public/MAP_ES_2012_2015/MDE/42_798.img.xml\nhttps://geobases.static.es.gov.br/public/MAP_ES_2012_2015/MDE/42_798.rrd\nhttps://geobases.static.es.gov.br/public/MAP_ES_2012_2015/MDE/42_799.img\nhttps://geobases.static.es.gov.br/public/MAP_ES_2012_2015/MDE/42_799.img.xml\nhttps://geobases.static.es.gov.br/public/MAP_ES_2012_2015/MDE/42_799.rrd\nhttps://geobases.static.es.gov.br/public/MAP_ES_2012_2015/MDE/43_798.img\nhttps://geobases.static.es.gov.br/public/MAP_ES_2012_2015/MDE/43_798.img.xml\nhttps://geobases.static.es.gov.br/public/MAP_ES_2012_2015/MDE/43_798.rrd\n"
     ]
    }
   ],
   "source": [
    "dsm_link_list = \"https://geobases.static.es.gov.br/public/MAP_ES_2012_2015/MAP_ES_2012_2015_MDE_URL_LIST.txt\"\n",
    "\n",
    "\n",
    "textstring = requests.get(dsm_link_list).text\n",
    "\n",
    "print(textstring)"
   ]
  },
  {
   "cell_type": "code",
   "execution_count": 12,
   "metadata": {},
   "outputs": [],
   "source": [
    "import subprocess, json\n",
    "\n",
    "sample_url = \"https://geobases.static.es.gov.br/public/MAP_ES_2012_2015/MDE/39_781.img\"\n",
    "\n",
    "\n",
    "def  parseGdalinfoJson(inputpath,print_runstring=False,from_www=True,stats=False,optionals = '',print_outstring=False):\n",
    "\n",
    "    if stats:\n",
    "        optionals = '-approx_stats'\n",
    "\n",
    "    url_preffix = ''\n",
    "\n",
    "    if from_www:\n",
    "        url_preffix = '/vsicurl/'\n",
    "\n",
    "    # if quoted_path:\n",
    "    #     inputpath = '\"'+inputpath+'\"'\n",
    "\n",
    "    runstring = f'gdalinfo \"{url_preffix}{inputpath}\" -json {optionals}'\n",
    "\n",
    "    if print_runstring:\n",
    "        print(runstring)\n",
    "    \n",
    "    out = subprocess.run(runstring,shell=True,stdout=subprocess.PIPE)\n",
    "\n",
    "    as_str = out.stdout.decode('utf-8').replace('\\\\n','')\n",
    "\n",
    "    if print_outstring:\n",
    "        print(as_str)\n",
    "\n",
    "    as_dict = json.loads(as_str)\n",
    "\n",
    "    return as_dict"
   ]
  },
  {
   "cell_type": "code",
   "execution_count": 13,
   "metadata": {},
   "outputs": [
    {
     "output_type": "stream",
     "name": "stdout",
     "text": [
      "gdalinfo \"/vsicurl/https://geobases.static.es.gov.br/public/MAP_ES_2012_2015/MDE/39_781.img\" -json \n",
      "{\n",
      "  \"description\":\"\\/vsicurl\\/https:\\/\\/geobases.static.es.gov.br\\/public\\/MAP_ES_2012_2015\\/MDE\\/39_781.img\",\n",
      "  \"driverShortName\":\"HFA\",\n",
      "  \"driverLongName\":\"Erdas Imagine Images (.img)\",\n",
      "  \"files\":[\n",
      "    \"\\/vsicurl\\/https:\\/\\/geobases.static.es.gov.br\\/public\\/MAP_ES_2012_2015\\/MDE\\/39_781.img\",\n",
      "    \"\\/vsicurl\\/https:\\/\\/geobases.static.es.gov.br\\/public\\/MAP_ES_2012_2015\\/MDE\\/39_781.rrd\"\n",
      "  ],\n",
      "  \"size\":[\n",
      "    5002,\n",
      "    5002\n",
      "  ],\n",
      "  \"coordinateSystem\":{\n",
      "    \"wkt\":\"BOUNDCRS[    SOURCECRS[        PROJCRS[\\\"SIRGAS_2000_UTM_Zone_24S\\\",            BASEGEOGCRS[\\\"SIRGAS_2000\\\",                DATUM[\\\"Sistema de Referencia Geocentrico para las AmericaS 2000\\\",                    ELLIPSOID[\\\"GRS_1980\\\",6378137,298.257222101004,                        LENGTHUNIT[\\\"metre\\\",1]],                    ID[\\\"EPSG\\\",6674]],                PRIMEM[\\\"Greenwich\\\",0,                    ANGLEUNIT[\\\"degree\\\",0.0174532925199433,                        ID[\\\"EPSG\\\",9122]]]],            CONVERSION[\\\"UTM zone 24S\\\",                METHOD[\\\"Transverse Mercator\\\",                    ID[\\\"EPSG\\\",9807]],                PARAMETER[\\\"Latitude of natural origin\\\",0,                    ANGLEUNIT[\\\"degree\\\",0.0174532925199433],                    ID[\\\"EPSG\\\",8801]],                PARAMETER[\\\"Longitude of natural origin\\\",-39,                    ANGLEUNIT[\\\"degree\\\",0.0174532925199433],                    ID[\\\"EPSG\\\",8802]],                PARAMETER[\\\"Scale factor at natural origin\\\",0.9996,                    SCALEUNIT[\\\"unity\\\",1],                    ID[\\\"EPSG\\\",8805]],                PARAMETER[\\\"False easting\\\",500000,                    LENGTHUNIT[\\\"meters\\\",1],                    ID[\\\"EPSG\\\",8806]],                PARAMETER[\\\"False northing\\\",10000000,                    LENGTHUNIT[\\\"meters\\\",1],                    ID[\\\"EPSG\\\",8807]],                ID[\\\"EPSG\\\",17024]],            CS[Cartesian,2],                AXIS[\\\"easting\\\",east,                    ORDER[1],                    LENGTHUNIT[\\\"meters\\\",1]],                AXIS[\\\"northing\\\",north,                    ORDER[2],                    LENGTHUNIT[\\\"meters\\\",1]]]],    TARGETCRS[        GEOGCRS[\\\"WGS 84\\\",            DATUM[\\\"World Geodetic System 1984\\\",                ELLIPSOID[\\\"WGS 84\\\",6378137,298.257223563,                    LENGTHUNIT[\\\"metre\\\",1]]],            PRIMEM[\\\"Greenwich\\\",0,                ANGLEUNIT[\\\"degree\\\",0.0174532925199433]],            CS[ellipsoidal,2],                AXIS[\\\"latitude\\\",north,                    ORDER[1],                    ANGLEUNIT[\\\"degree\\\",0.0174532925199433]],                AXIS[\\\"longitude\\\",east,                    ORDER[2],                    ANGLEUNIT[\\\"degree\\\",0.0174532925199433]],            ID[\\\"EPSG\\\",4326]]],    ABRIDGEDTRANSFORMATION[\\\"Transformation from SIRGAS_2000 to WGS84\\\",        METHOD[\\\"Position Vector transformation (geog2D domain)\\\",            ID[\\\"EPSG\\\",9606]],        PARAMETER[\\\"X-axis translation\\\",0,            ID[\\\"EPSG\\\",8605]],        PARAMETER[\\\"Y-axis translation\\\",0,            ID[\\\"EPSG\\\",8606]],        PARAMETER[\\\"Z-axis translation\\\",0,            ID[\\\"EPSG\\\",8607]],        PARAMETER[\\\"X-axis rotation\\\",0,            ID[\\\"EPSG\\\",8608]],        PARAMETER[\\\"Y-axis rotation\\\",0,            ID[\\\"EPSG\\\",8609]],        PARAMETER[\\\"Z-axis rotation\\\",0,            ID[\\\"EPSG\\\",8610]],        PARAMETER[\\\"Scale difference\\\",1,            ID[\\\"EPSG\\\",8611]]]]\",\n",
      "    \"dataAxisToSRSAxisMapping\":[\n",
      "      1,\n",
      "      2\n",
      "    ]\n",
      "  },\n",
      "  \"geoTransform\":[\n",
      "    389998.0001220703125,\n",
      "    2.0,\n",
      "    0.0,\n",
      "    7810002.0001220712438226,\n",
      "    0.0,\n",
      "    -2.0\n",
      "  ],\n",
      "  \"metadata\":{\n",
      "  },\n",
      "  \"cornerCoordinates\":{\n",
      "    \"upperLeft\":[\n",
      "      389998.0,\n",
      "      7810002.0\n",
      "    ],\n",
      "    \"lowerLeft\":[\n",
      "      389998.0,\n",
      "      7799998.0\n",
      "    ],\n",
      "    \"lowerRight\":[\n",
      "      400002.0,\n",
      "      7799998.0\n",
      "    ],\n",
      "    \"upperRight\":[\n",
      "      400002.0,\n",
      "      7810002.0\n",
      "    ],\n",
      "    \"center\":[\n",
      "      395000.0,\n",
      "      7805000.0\n",
      "    ]\n",
      "  },\n",
      "  \"wgs84Extent\":{\n",
      "    \"type\":\"Polygon\",\n",
      "    \"coordinates\":[\n",
      "      [\n",
      "        [\n",
      "          -40.0502443,\n",
      "          -19.8027731\n",
      "        ],\n",
      "        [\n",
      "          -40.050839,\n",
      "          -19.8931624\n",
      "        ],\n",
      "        [\n",
      "          -39.9552822,\n",
      "          -19.8937009\n",
      "        ],\n",
      "        [\n",
      "          -39.9547415,\n",
      "          -19.803309\n",
      "        ],\n",
      "        [\n",
      "          -40.0502443,\n",
      "          -19.8027731\n",
      "        ]\n",
      "      ]\n",
      "    ]\n",
      "  },\n",
      "  \"rat\":{\n",
      "    \"row0Min\":1.0,\n",
      "    \"binSize\":1.0,\n",
      "    \"tableType\":\"athematic\",\n",
      "    \"fieldDefn\":[\n",
      "      {\n",
      "        \"index\":0,\n",
      "        \"name\":\"Histogram\",\n",
      "        \"type\":1,\n",
      "        \"usage\":1\n",
      "      }\n",
      "    ],\n",
      "    \"row\":[\n",
      "      {\n",
      "        \"index\":0,\n",
      "        \"f\":[\n",
      "          700.0\n",
      "        ]\n",
      "      },\n",
      "      {\n",
      "        \"index\":1,\n",
      "        \"f\":[\n",
      "          800.0\n",
      "        ]\n",
      "      },\n",
      "      {\n",
      "        \"index\":2,\n",
      "        \"f\":[\n",
      "          1250.0\n",
      "        ]\n",
      "      },\n",
      "      {\n",
      "        \"index\":3,\n",
      "        \"f\":[\n",
      "          975.0\n",
      "        ]\n",
      "      },\n",
      "      {\n",
      "        \"index\":4,\n",
      "        \"f\":[\n",
      "          1925.0\n",
      "        ]\n",
      "      },\n",
      "      {\n",
      "        \"index\":5,\n",
      "        \"f\":[\n",
      "          5175.0\n",
      "        ]\n",
      "      },\n",
      "      {\n",
      "        \"index\":6,\n",
      "        \"f\":[\n",
      "          4550.0\n",
      "        ]\n",
      "      },\n",
      "      {\n",
      "        \"index\":7,\n",
      "        \"f\":[\n",
      "          2850.0\n",
      "        ]\n",
      "      },\n",
      "      {\n",
      "        \"index\":8,\n",
      "        \"f\":[\n",
      "          1850.0\n",
      "        ]\n",
      "      },\n",
      "      {\n",
      "        \"index\":9,\n",
      "        \"f\":[\n",
      "          1425.0\n",
      "        ]\n",
      "      },\n",
      "      {\n",
      "        \"index\":10,\n",
      "        \"f\":[\n",
      "          1325.0\n",
      "        ]\n",
      "      },\n",
      "      {\n",
      "        \"index\":11,\n",
      "        \"f\":[\n",
      "          1025.0\n",
      "        ]\n",
      "      },\n",
      "      {\n",
      "        \"index\":12,\n",
      "        \"f\":[\n",
      "          1100.0\n",
      "        ]\n",
      "      },\n",
      "      {\n",
      "        \"index\":13,\n",
      "        \"f\":[\n",
      "          650.0\n",
      "        ]\n",
      "      },\n",
      "      {\n",
      "        \"index\":14,\n",
      "        \"f\":[\n",
      "          150.0\n",
      "        ]\n",
      "      },\n",
      "      {\n",
      "        \"index\":15,\n",
      "        \"f\":[\n",
      "          175.0\n",
      "        ]\n",
      "      },\n",
      "      {\n",
      "        \"index\":16,\n",
      "        \"f\":[\n",
      "          25.0\n",
      "        ]\n",
      "      }\n",
      "    ]\n",
      "  },\n",
      "  \"bands\":[\n",
      "    {\n",
      "      \"band\":1,\n",
      "      \"block\":[\n",
      "        64,\n",
      "        64\n",
      "      ],\n",
      "      \"type\":\"UInt16\",\n",
      "      \"colorInterpretation\":\"Undefined\",\n",
      "      \"description\":\"Layer_1\",\n",
      "      \"min\":1.0,\n",
      "      \"max\":17.0,\n",
      "      \"minimum\":1.0,\n",
      "      \"maximum\":17.0,\n",
      "      \"mean\":7.396,\n",
      "      \"stdDev\":3.108,\n",
      "      \"noDataValue\":0.0,\n",
      "      \"overviews\":[\n",
      "        {\n",
      "          \"size\":[\n",
      "            2501,\n",
      "            2501\n",
      "          ]\n",
      "        },\n",
      "        {\n",
      "          \"size\":[\n",
      "            1251,\n",
      "            1251\n",
      "          ]\n",
      "        },\n",
      "        {\n",
      "          \"size\":[\n",
      "            626,\n",
      "            626\n",
      "          ]\n",
      "        },\n",
      "        {\n",
      "          \"size\":[\n",
      "            313,\n",
      "            313\n",
      "          ]\n",
      "        },\n",
      "        {\n",
      "          \"size\":[\n",
      "            157,\n",
      "            157\n",
      "          ]\n",
      "        },\n",
      "        {\n",
      "          \"size\":[\n",
      "            79,\n",
      "            79\n",
      "          ]\n",
      "        },\n",
      "        {\n",
      "          \"size\":[\n",
      "            40,\n",
      "            40\n",
      "          ]\n",
      "        }\n",
      "      ],\n",
      "      \"metadata\":{\n",
      "        \"\":{\n",
      "          \"LAYER_TYPE\":\"athematic\",\n",
      "          \"STATISTICS_EXCLUDEDVALUES\":\"0\",\n",
      "          \"STATISTICS_HISTOBINVALUES\":\"700|800|1250|975|1925|5175|4550|2850|1850|1425|1325|1025|1100|650|150|175|25|\",\n",
      "          \"STATISTICS_HISTOMAX\":\"17\",\n",
      "          \"STATISTICS_HISTOMIN\":\"1\",\n",
      "          \"STATISTICS_HISTONUMBINS\":\"17\",\n",
      "          \"STATISTICS_MAXIMUM\":\"17\",\n",
      "          \"STATISTICS_MEAN\":\"7.3959537572254\",\n",
      "          \"STATISTICS_MEDIAN\":\"7\",\n",
      "          \"STATISTICS_MINIMUM\":\"1\",\n",
      "          \"STATISTICS_MODE\":\"6\",\n",
      "          \"STATISTICS_SKIPFACTORX\":\"5\",\n",
      "          \"STATISTICS_SKIPFACTORY\":\"5\",\n",
      "          \"STATISTICS_STDDEV\":\"3.1078745610394\"\n",
      "        }\n",
      "      }\n",
      "    }\n",
      "  ]\n",
      "}\n"
     ]
    }
   ],
   "source": [
    "stats_dict_sample = parseGdalinfoJson(sample_url,print_runstring=True,print_outstring=True)"
   ]
  },
  {
   "cell_type": "code",
   "execution_count": 31,
   "metadata": {},
   "outputs": [
    {
     "output_type": "stream",
     "name": "stdout",
     "text": [
      "[[-40.0502443, -19.8027731], [-40.050839, -19.8931624], [-39.9552822, -19.8937009], [-39.9547415, -19.803309], [-40.0502443, -19.8027731]]\n"
     ]
    }
   ],
   "source": [
    "pol_as_list = stats_dict_sample['wgs84Extent']['coordinates'][0]\n",
    "print(pol_as_list)"
   ]
  },
  {
   "cell_type": "code",
   "execution_count": 24,
   "metadata": {},
   "outputs": [],
   "source": [
    "from shapely.geometry import Polygon"
   ]
  },
  {
   "cell_type": "code",
   "execution_count": 34,
   "metadata": {},
   "outputs": [
    {
     "output_type": "stream",
     "name": "stdout",
     "text": [
      "POLYGON ((-40.0502443 -19.8027731, -40.050839 -19.8931624, -39.9552822 -19.8937009, -39.9547415 -19.803309, -40.0502443 -19.8027731))\n"
     ]
    }
   ],
   "source": [
    "sample_pol = Polygon(pol_as_list)\n",
    "print(sample_pol)"
   ]
  },
  {
   "cell_type": "code",
   "execution_count": 33,
   "metadata": {},
   "outputs": [],
   "source": [
    "from matplotlib import pyplot"
   ]
  },
  {
   "cell_type": "code",
   "execution_count": 36,
   "metadata": {},
   "outputs": [
    {
     "output_type": "display_data",
     "data": {
      "text/plain": "<Figure size 432x288 with 1 Axes>",
      "image/svg+xml": "<?xml version=\"1.0\" encoding=\"utf-8\" standalone=\"no\"?>\n<!DOCTYPE svg PUBLIC \"-//W3C//DTD SVG 1.1//EN\"\n  \"http://www.w3.org/Graphics/SVG/1.1/DTD/svg11.dtd\">\n<!-- Created with matplotlib (https://matplotlib.org/) -->\n<svg height=\"248.518125pt\" version=\"1.1\" viewBox=\"0 0 393.207812 248.518125\" width=\"393.207812pt\" xmlns=\"http://www.w3.org/2000/svg\" xmlns:xlink=\"http://www.w3.org/1999/xlink\">\n <metadata>\n  <rdf:RDF xmlns:cc=\"http://creativecommons.org/ns#\" xmlns:dc=\"http://purl.org/dc/elements/1.1/\" xmlns:rdf=\"http://www.w3.org/1999/02/22-rdf-syntax-ns#\">\n   <cc:Work>\n    <dc:type rdf:resource=\"http://purl.org/dc/dcmitype/StillImage\"/>\n    <dc:date>2021-05-17T17:34:36.810968</dc:date>\n    <dc:format>image/svg+xml</dc:format>\n    <dc:creator>\n     <cc:Agent>\n      <dc:title>Matplotlib v3.3.4, https://matplotlib.org/</dc:title>\n     </cc:Agent>\n    </dc:creator>\n   </cc:Work>\n  </rdf:RDF>\n </metadata>\n <defs>\n  <style type=\"text/css\">*{stroke-linecap:butt;stroke-linejoin:round;}</style>\n </defs>\n <g id=\"figure_1\">\n  <g id=\"patch_1\">\n   <path d=\"M 0 248.518125 \nL 393.207812 248.518125 \nL 393.207812 0 \nL 0 0 \nz\n\" style=\"fill:none;\"/>\n  </g>\n  <g id=\"axes_1\">\n   <g id=\"patch_2\">\n    <path d=\"M 51.207813 224.64 \nL 386.007812 224.64 \nL 386.007812 7.2 \nL 51.207813 7.2 \nz\n\" style=\"fill:#ffffff;\"/>\n   </g>\n   <g id=\"matplotlib.axis_1\">\n    <g id=\"xtick_1\">\n     <g id=\"line2d_1\">\n      <defs>\n       <path d=\"M 0 0 \nL 0 3.5 \n\" id=\"maf0a1796b5\" style=\"stroke:#000000;stroke-width:0.8;\"/>\n      </defs>\n      <g>\n       <use style=\"stroke:#000000;stroke-width:0.8;\" x=\"100.755685\" xlink:href=\"#maf0a1796b5\" y=\"224.64\"/>\n      </g>\n     </g>\n     <g id=\"text_1\">\n      <!-- −40.04 -->\n      <g transform=\"translate(82.251779 239.238437)scale(0.1 -0.1)\">\n       <defs>\n        <path d=\"M 10.59375 35.5 \nL 73.1875 35.5 \nL 73.1875 27.203125 \nL 10.59375 27.203125 \nz\n\" id=\"DejaVuSans-8722\"/>\n        <path d=\"M 37.796875 64.3125 \nL 12.890625 25.390625 \nL 37.796875 25.390625 \nz\nM 35.203125 72.90625 \nL 47.609375 72.90625 \nL 47.609375 25.390625 \nL 58.015625 25.390625 \nL 58.015625 17.1875 \nL 47.609375 17.1875 \nL 47.609375 0 \nL 37.796875 0 \nL 37.796875 17.1875 \nL 4.890625 17.1875 \nL 4.890625 26.703125 \nz\n\" id=\"DejaVuSans-52\"/>\n        <path d=\"M 31.78125 66.40625 \nQ 24.171875 66.40625 20.328125 58.90625 \nQ 16.5 51.421875 16.5 36.375 \nQ 16.5 21.390625 20.328125 13.890625 \nQ 24.171875 6.390625 31.78125 6.390625 \nQ 39.453125 6.390625 43.28125 13.890625 \nQ 47.125 21.390625 47.125 36.375 \nQ 47.125 51.421875 43.28125 58.90625 \nQ 39.453125 66.40625 31.78125 66.40625 \nz\nM 31.78125 74.21875 \nQ 44.046875 74.21875 50.515625 64.515625 \nQ 56.984375 54.828125 56.984375 36.375 \nQ 56.984375 17.96875 50.515625 8.265625 \nQ 44.046875 -1.421875 31.78125 -1.421875 \nQ 19.53125 -1.421875 13.0625 8.265625 \nQ 6.59375 17.96875 6.59375 36.375 \nQ 6.59375 54.828125 13.0625 64.515625 \nQ 19.53125 74.21875 31.78125 74.21875 \nz\n\" id=\"DejaVuSans-48\"/>\n        <path d=\"M 10.6875 12.40625 \nL 21 12.40625 \nL 21 0 \nL 10.6875 0 \nz\n\" id=\"DejaVuSans-46\"/>\n       </defs>\n       <use xlink:href=\"#DejaVuSans-8722\"/>\n       <use x=\"83.789062\" xlink:href=\"#DejaVuSans-52\"/>\n       <use x=\"147.412109\" xlink:href=\"#DejaVuSans-48\"/>\n       <use x=\"211.035156\" xlink:href=\"#DejaVuSans-46\"/>\n       <use x=\"242.822266\" xlink:href=\"#DejaVuSans-48\"/>\n       <use x=\"306.445312\" xlink:href=\"#DejaVuSans-52\"/>\n      </g>\n     </g>\n    </g>\n    <g id=\"xtick_2\">\n     <g id=\"line2d_2\">\n      <g>\n       <use style=\"stroke:#000000;stroke-width:0.8;\" x=\"164.100441\" xlink:href=\"#maf0a1796b5\" y=\"224.64\"/>\n      </g>\n     </g>\n     <g id=\"text_2\">\n      <!-- −40.02 -->\n      <g transform=\"translate(145.596535 239.238437)scale(0.1 -0.1)\">\n       <defs>\n        <path d=\"M 19.1875 8.296875 \nL 53.609375 8.296875 \nL 53.609375 0 \nL 7.328125 0 \nL 7.328125 8.296875 \nQ 12.9375 14.109375 22.625 23.890625 \nQ 32.328125 33.6875 34.8125 36.53125 \nQ 39.546875 41.84375 41.421875 45.53125 \nQ 43.3125 49.21875 43.3125 52.78125 \nQ 43.3125 58.59375 39.234375 62.25 \nQ 35.15625 65.921875 28.609375 65.921875 \nQ 23.96875 65.921875 18.8125 64.3125 \nQ 13.671875 62.703125 7.8125 59.421875 \nL 7.8125 69.390625 \nQ 13.765625 71.78125 18.9375 73 \nQ 24.125 74.21875 28.421875 74.21875 \nQ 39.75 74.21875 46.484375 68.546875 \nQ 53.21875 62.890625 53.21875 53.421875 \nQ 53.21875 48.921875 51.53125 44.890625 \nQ 49.859375 40.875 45.40625 35.40625 \nQ 44.1875 33.984375 37.640625 27.21875 \nQ 31.109375 20.453125 19.1875 8.296875 \nz\n\" id=\"DejaVuSans-50\"/>\n       </defs>\n       <use xlink:href=\"#DejaVuSans-8722\"/>\n       <use x=\"83.789062\" xlink:href=\"#DejaVuSans-52\"/>\n       <use x=\"147.412109\" xlink:href=\"#DejaVuSans-48\"/>\n       <use x=\"211.035156\" xlink:href=\"#DejaVuSans-46\"/>\n       <use x=\"242.822266\" xlink:href=\"#DejaVuSans-48\"/>\n       <use x=\"306.445312\" xlink:href=\"#DejaVuSans-50\"/>\n      </g>\n     </g>\n    </g>\n    <g id=\"xtick_3\">\n     <g id=\"line2d_3\">\n      <g>\n       <use style=\"stroke:#000000;stroke-width:0.8;\" x=\"227.445198\" xlink:href=\"#maf0a1796b5\" y=\"224.64\"/>\n      </g>\n     </g>\n     <g id=\"text_3\">\n      <!-- −40.00 -->\n      <g transform=\"translate(208.941292 239.238437)scale(0.1 -0.1)\">\n       <use xlink:href=\"#DejaVuSans-8722\"/>\n       <use x=\"83.789062\" xlink:href=\"#DejaVuSans-52\"/>\n       <use x=\"147.412109\" xlink:href=\"#DejaVuSans-48\"/>\n       <use x=\"211.035156\" xlink:href=\"#DejaVuSans-46\"/>\n       <use x=\"242.822266\" xlink:href=\"#DejaVuSans-48\"/>\n       <use x=\"306.445312\" xlink:href=\"#DejaVuSans-48\"/>\n      </g>\n     </g>\n    </g>\n    <g id=\"xtick_4\">\n     <g id=\"line2d_4\">\n      <g>\n       <use style=\"stroke:#000000;stroke-width:0.8;\" x=\"290.789954\" xlink:href=\"#maf0a1796b5\" y=\"224.64\"/>\n      </g>\n     </g>\n     <g id=\"text_4\">\n      <!-- −39.98 -->\n      <g transform=\"translate(272.286048 239.238437)scale(0.1 -0.1)\">\n       <defs>\n        <path d=\"M 40.578125 39.3125 \nQ 47.65625 37.796875 51.625 33 \nQ 55.609375 28.21875 55.609375 21.1875 \nQ 55.609375 10.40625 48.1875 4.484375 \nQ 40.765625 -1.421875 27.09375 -1.421875 \nQ 22.515625 -1.421875 17.65625 -0.515625 \nQ 12.796875 0.390625 7.625 2.203125 \nL 7.625 11.71875 \nQ 11.71875 9.328125 16.59375 8.109375 \nQ 21.484375 6.890625 26.8125 6.890625 \nQ 36.078125 6.890625 40.9375 10.546875 \nQ 45.796875 14.203125 45.796875 21.1875 \nQ 45.796875 27.640625 41.28125 31.265625 \nQ 36.765625 34.90625 28.71875 34.90625 \nL 20.21875 34.90625 \nL 20.21875 43.015625 \nL 29.109375 43.015625 \nQ 36.375 43.015625 40.234375 45.921875 \nQ 44.09375 48.828125 44.09375 54.296875 \nQ 44.09375 59.90625 40.109375 62.90625 \nQ 36.140625 65.921875 28.71875 65.921875 \nQ 24.65625 65.921875 20.015625 65.03125 \nQ 15.375 64.15625 9.8125 62.3125 \nL 9.8125 71.09375 \nQ 15.4375 72.65625 20.34375 73.4375 \nQ 25.25 74.21875 29.59375 74.21875 \nQ 40.828125 74.21875 47.359375 69.109375 \nQ 53.90625 64.015625 53.90625 55.328125 \nQ 53.90625 49.265625 50.4375 45.09375 \nQ 46.96875 40.921875 40.578125 39.3125 \nz\n\" id=\"DejaVuSans-51\"/>\n        <path d=\"M 10.984375 1.515625 \nL 10.984375 10.5 \nQ 14.703125 8.734375 18.5 7.8125 \nQ 22.3125 6.890625 25.984375 6.890625 \nQ 35.75 6.890625 40.890625 13.453125 \nQ 46.046875 20.015625 46.78125 33.40625 \nQ 43.953125 29.203125 39.59375 26.953125 \nQ 35.25 24.703125 29.984375 24.703125 \nQ 19.046875 24.703125 12.671875 31.3125 \nQ 6.296875 37.9375 6.296875 49.421875 \nQ 6.296875 60.640625 12.9375 67.421875 \nQ 19.578125 74.21875 30.609375 74.21875 \nQ 43.265625 74.21875 49.921875 64.515625 \nQ 56.59375 54.828125 56.59375 36.375 \nQ 56.59375 19.140625 48.40625 8.859375 \nQ 40.234375 -1.421875 26.421875 -1.421875 \nQ 22.703125 -1.421875 18.890625 -0.6875 \nQ 15.09375 0.046875 10.984375 1.515625 \nz\nM 30.609375 32.421875 \nQ 37.25 32.421875 41.125 36.953125 \nQ 45.015625 41.5 45.015625 49.421875 \nQ 45.015625 57.28125 41.125 61.84375 \nQ 37.25 66.40625 30.609375 66.40625 \nQ 23.96875 66.40625 20.09375 61.84375 \nQ 16.21875 57.28125 16.21875 49.421875 \nQ 16.21875 41.5 20.09375 36.953125 \nQ 23.96875 32.421875 30.609375 32.421875 \nz\n\" id=\"DejaVuSans-57\"/>\n        <path d=\"M 31.78125 34.625 \nQ 24.75 34.625 20.71875 30.859375 \nQ 16.703125 27.09375 16.703125 20.515625 \nQ 16.703125 13.921875 20.71875 10.15625 \nQ 24.75 6.390625 31.78125 6.390625 \nQ 38.8125 6.390625 42.859375 10.171875 \nQ 46.921875 13.96875 46.921875 20.515625 \nQ 46.921875 27.09375 42.890625 30.859375 \nQ 38.875 34.625 31.78125 34.625 \nz\nM 21.921875 38.8125 \nQ 15.578125 40.375 12.03125 44.71875 \nQ 8.5 49.078125 8.5 55.328125 \nQ 8.5 64.0625 14.71875 69.140625 \nQ 20.953125 74.21875 31.78125 74.21875 \nQ 42.671875 74.21875 48.875 69.140625 \nQ 55.078125 64.0625 55.078125 55.328125 \nQ 55.078125 49.078125 51.53125 44.71875 \nQ 48 40.375 41.703125 38.8125 \nQ 48.828125 37.15625 52.796875 32.3125 \nQ 56.78125 27.484375 56.78125 20.515625 \nQ 56.78125 9.90625 50.3125 4.234375 \nQ 43.84375 -1.421875 31.78125 -1.421875 \nQ 19.734375 -1.421875 13.25 4.234375 \nQ 6.78125 9.90625 6.78125 20.515625 \nQ 6.78125 27.484375 10.78125 32.3125 \nQ 14.796875 37.15625 21.921875 38.8125 \nz\nM 18.3125 54.390625 \nQ 18.3125 48.734375 21.84375 45.5625 \nQ 25.390625 42.390625 31.78125 42.390625 \nQ 38.140625 42.390625 41.71875 45.5625 \nQ 45.3125 48.734375 45.3125 54.390625 \nQ 45.3125 60.0625 41.71875 63.234375 \nQ 38.140625 66.40625 31.78125 66.40625 \nQ 25.390625 66.40625 21.84375 63.234375 \nQ 18.3125 60.0625 18.3125 54.390625 \nz\n\" id=\"DejaVuSans-56\"/>\n       </defs>\n       <use xlink:href=\"#DejaVuSans-8722\"/>\n       <use x=\"83.789062\" xlink:href=\"#DejaVuSans-51\"/>\n       <use x=\"147.412109\" xlink:href=\"#DejaVuSans-57\"/>\n       <use x=\"211.035156\" xlink:href=\"#DejaVuSans-46\"/>\n       <use x=\"242.822266\" xlink:href=\"#DejaVuSans-57\"/>\n       <use x=\"306.445312\" xlink:href=\"#DejaVuSans-56\"/>\n      </g>\n     </g>\n    </g>\n    <g id=\"xtick_5\">\n     <g id=\"line2d_5\">\n      <g>\n       <use style=\"stroke:#000000;stroke-width:0.8;\" x=\"354.134711\" xlink:href=\"#maf0a1796b5\" y=\"224.64\"/>\n      </g>\n     </g>\n     <g id=\"text_5\">\n      <!-- −39.96 -->\n      <g transform=\"translate(335.630804 239.238437)scale(0.1 -0.1)\">\n       <defs>\n        <path d=\"M 33.015625 40.375 \nQ 26.375 40.375 22.484375 35.828125 \nQ 18.609375 31.296875 18.609375 23.390625 \nQ 18.609375 15.53125 22.484375 10.953125 \nQ 26.375 6.390625 33.015625 6.390625 \nQ 39.65625 6.390625 43.53125 10.953125 \nQ 47.40625 15.53125 47.40625 23.390625 \nQ 47.40625 31.296875 43.53125 35.828125 \nQ 39.65625 40.375 33.015625 40.375 \nz\nM 52.59375 71.296875 \nL 52.59375 62.3125 \nQ 48.875 64.0625 45.09375 64.984375 \nQ 41.3125 65.921875 37.59375 65.921875 \nQ 27.828125 65.921875 22.671875 59.328125 \nQ 17.53125 52.734375 16.796875 39.40625 \nQ 19.671875 43.65625 24.015625 45.921875 \nQ 28.375 48.1875 33.59375 48.1875 \nQ 44.578125 48.1875 50.953125 41.515625 \nQ 57.328125 34.859375 57.328125 23.390625 \nQ 57.328125 12.15625 50.6875 5.359375 \nQ 44.046875 -1.421875 33.015625 -1.421875 \nQ 20.359375 -1.421875 13.671875 8.265625 \nQ 6.984375 17.96875 6.984375 36.375 \nQ 6.984375 53.65625 15.1875 63.9375 \nQ 23.390625 74.21875 37.203125 74.21875 \nQ 40.921875 74.21875 44.703125 73.484375 \nQ 48.484375 72.75 52.59375 71.296875 \nz\n\" id=\"DejaVuSans-54\"/>\n       </defs>\n       <use xlink:href=\"#DejaVuSans-8722\"/>\n       <use x=\"83.789062\" xlink:href=\"#DejaVuSans-51\"/>\n       <use x=\"147.412109\" xlink:href=\"#DejaVuSans-57\"/>\n       <use x=\"211.035156\" xlink:href=\"#DejaVuSans-46\"/>\n       <use x=\"242.822266\" xlink:href=\"#DejaVuSans-57\"/>\n       <use x=\"306.445312\" xlink:href=\"#DejaVuSans-54\"/>\n      </g>\n     </g>\n    </g>\n   </g>\n   <g id=\"matplotlib.axis_2\">\n    <g id=\"ytick_1\">\n     <g id=\"line2d_6\">\n      <defs>\n       <path d=\"M 0 0 \nL -3.5 0 \n\" id=\"m8b6360eec3\" style=\"stroke:#000000;stroke-width:0.8;\"/>\n      </defs>\n      <g>\n       <use style=\"stroke:#000000;stroke-width:0.8;\" x=\"51.207813\" xlink:href=\"#m8b6360eec3\" y=\"184.971256\"/>\n      </g>\n     </g>\n     <g id=\"text_6\">\n      <!-- −19.88 -->\n      <g transform=\"translate(7.2 188.770475)scale(0.1 -0.1)\">\n       <defs>\n        <path d=\"M 12.40625 8.296875 \nL 28.515625 8.296875 \nL 28.515625 63.921875 \nL 10.984375 60.40625 \nL 10.984375 69.390625 \nL 28.421875 72.90625 \nL 38.28125 72.90625 \nL 38.28125 8.296875 \nL 54.390625 8.296875 \nL 54.390625 0 \nL 12.40625 0 \nz\n\" id=\"DejaVuSans-49\"/>\n       </defs>\n       <use xlink:href=\"#DejaVuSans-8722\"/>\n       <use x=\"83.789062\" xlink:href=\"#DejaVuSans-49\"/>\n       <use x=\"147.412109\" xlink:href=\"#DejaVuSans-57\"/>\n       <use x=\"211.035156\" xlink:href=\"#DejaVuSans-46\"/>\n       <use x=\"242.822266\" xlink:href=\"#DejaVuSans-56\"/>\n       <use x=\"306.445312\" xlink:href=\"#DejaVuSans-56\"/>\n      </g>\n     </g>\n    </g>\n    <g id=\"ytick_2\">\n     <g id=\"line2d_7\">\n      <g>\n       <use style=\"stroke:#000000;stroke-width:0.8;\" x=\"51.207813\" xlink:href=\"#m8b6360eec3\" y=\"141.492204\"/>\n      </g>\n     </g>\n     <g id=\"text_7\">\n      <!-- −19.86 -->\n      <g transform=\"translate(7.2 145.291423)scale(0.1 -0.1)\">\n       <use xlink:href=\"#DejaVuSans-8722\"/>\n       <use x=\"83.789062\" xlink:href=\"#DejaVuSans-49\"/>\n       <use x=\"147.412109\" xlink:href=\"#DejaVuSans-57\"/>\n       <use x=\"211.035156\" xlink:href=\"#DejaVuSans-46\"/>\n       <use x=\"242.822266\" xlink:href=\"#DejaVuSans-56\"/>\n       <use x=\"306.445312\" xlink:href=\"#DejaVuSans-54\"/>\n      </g>\n     </g>\n    </g>\n    <g id=\"ytick_3\">\n     <g id=\"line2d_8\">\n      <g>\n       <use style=\"stroke:#000000;stroke-width:0.8;\" x=\"51.207813\" xlink:href=\"#m8b6360eec3\" y=\"98.013152\"/>\n      </g>\n     </g>\n     <g id=\"text_8\">\n      <!-- −19.84 -->\n      <g transform=\"translate(7.2 101.812371)scale(0.1 -0.1)\">\n       <use xlink:href=\"#DejaVuSans-8722\"/>\n       <use x=\"83.789062\" xlink:href=\"#DejaVuSans-49\"/>\n       <use x=\"147.412109\" xlink:href=\"#DejaVuSans-57\"/>\n       <use x=\"211.035156\" xlink:href=\"#DejaVuSans-46\"/>\n       <use x=\"242.822266\" xlink:href=\"#DejaVuSans-56\"/>\n       <use x=\"306.445312\" xlink:href=\"#DejaVuSans-52\"/>\n      </g>\n     </g>\n    </g>\n    <g id=\"ytick_4\">\n     <g id=\"line2d_9\">\n      <g>\n       <use style=\"stroke:#000000;stroke-width:0.8;\" x=\"51.207813\" xlink:href=\"#m8b6360eec3\" y=\"54.5341\"/>\n      </g>\n     </g>\n     <g id=\"text_9\">\n      <!-- −19.82 -->\n      <g transform=\"translate(7.2 58.333319)scale(0.1 -0.1)\">\n       <use xlink:href=\"#DejaVuSans-8722\"/>\n       <use x=\"83.789062\" xlink:href=\"#DejaVuSans-49\"/>\n       <use x=\"147.412109\" xlink:href=\"#DejaVuSans-57\"/>\n       <use x=\"211.035156\" xlink:href=\"#DejaVuSans-46\"/>\n       <use x=\"242.822266\" xlink:href=\"#DejaVuSans-56\"/>\n       <use x=\"306.445312\" xlink:href=\"#DejaVuSans-50\"/>\n      </g>\n     </g>\n    </g>\n    <g id=\"ytick_5\">\n     <g id=\"line2d_10\">\n      <g>\n       <use style=\"stroke:#000000;stroke-width:0.8;\" x=\"51.207813\" xlink:href=\"#m8b6360eec3\" y=\"11.055048\"/>\n      </g>\n     </g>\n     <g id=\"text_10\">\n      <!-- −19.80 -->\n      <g transform=\"translate(7.2 14.854267)scale(0.1 -0.1)\">\n       <use xlink:href=\"#DejaVuSans-8722\"/>\n       <use x=\"83.789062\" xlink:href=\"#DejaVuSans-49\"/>\n       <use x=\"147.412109\" xlink:href=\"#DejaVuSans-57\"/>\n       <use x=\"211.035156\" xlink:href=\"#DejaVuSans-46\"/>\n       <use x=\"242.822266\" xlink:href=\"#DejaVuSans-56\"/>\n       <use x=\"306.445312\" xlink:href=\"#DejaVuSans-48\"/>\n      </g>\n     </g>\n    </g>\n   </g>\n   <g id=\"line2d_11\">\n    <path clip-path=\"url(#p624c588c7b)\" d=\"M 68.309551 17.083636 \nL 66.425994 213.58569 \nL 369.077105 214.756364 \nL 370.789631 18.248658 \nL 68.309551 17.083636 \n\" style=\"fill:none;stroke:#1f77b4;stroke-linecap:square;stroke-width:1.5;\"/>\n   </g>\n   <g id=\"patch_3\">\n    <path d=\"M 51.207813 224.64 \nL 51.207813 7.2 \n\" style=\"fill:none;stroke:#000000;stroke-linecap:square;stroke-linejoin:miter;stroke-width:0.8;\"/>\n   </g>\n   <g id=\"patch_4\">\n    <path d=\"M 386.007812 224.64 \nL 386.007812 7.2 \n\" style=\"fill:none;stroke:#000000;stroke-linecap:square;stroke-linejoin:miter;stroke-width:0.8;\"/>\n   </g>\n   <g id=\"patch_5\">\n    <path d=\"M 51.207812 224.64 \nL 386.007812 224.64 \n\" style=\"fill:none;stroke:#000000;stroke-linecap:square;stroke-linejoin:miter;stroke-width:0.8;\"/>\n   </g>\n   <g id=\"patch_6\">\n    <path d=\"M 51.207812 7.2 \nL 386.007812 7.2 \n\" style=\"fill:none;stroke:#000000;stroke-linecap:square;stroke-linejoin:miter;stroke-width:0.8;\"/>\n   </g>\n  </g>\n </g>\n <defs>\n  <clipPath id=\"p624c588c7b\">\n   <rect height=\"217.44\" width=\"334.8\" x=\"51.207813\" y=\"7.2\"/>\n  </clipPath>\n </defs>\n</svg>\n",
      "image/png": "[encoded data removed]"
     },
     "metadata": {
      "needs_background": "light"
     }
    }
   ],
   "source": [
    "fig = pyplot.figure()\n",
    "pyplot.plot(*sample_pol.exterior.xy)\n",
    "pyplot.show()"
   ]
  },
  {
   "cell_type": "code",
   "execution_count": null,
   "metadata": {},
   "outputs": [],
   "source": []
  }
 ]
}