{
 "metadata": {
  "language_info": {
   "codemirror_mode": {
    "name": "ipython",
    "version": 3
   },
   "file_extension": ".py",
   "mimetype": "text/x-python",
   "name": "python",
   "nbconvert_exporter": "python",
   "pygments_lexer": "ipython3",
   "version": "3.6.9"
  },
  "orig_nbformat": 2,
  "kernelspec": {
   "name": "python369jvsc74a57bd031f2aee4e71d21fbe5cf8b01ff0e069b9275f58929596ceb00d14d90e3e16cd6",
   "display_name": "Python 3.6.9 64-bit"
  },
  "metadata": {
   "interpreter": {
    "hash": "31f2aee4e71d21fbe5cf8b01ff0e069b9275f58929596ceb00d14d90e3e16cd6"
   }
  }
 },
 "nbformat": 4,
 "nbformat_minor": 2,
 "cells": [
  {
   "cell_type": "code",
   "execution_count": 1,
   "metadata": {
    "tags": [
     "outputPrepend"
    ]
   },
   "outputs": [
    {
     "output_type": "stream",
     "name": "stderr",
     "text": [
      "8_787.igw', 'https://geobases.static.es.gov.br/public/MAP_ES_2012_2015/MDT/38_787.img', 'https://geobases.static.es.gov.br/public/MAP_ES_2012_2015/MDT/38_787.rrd', 'https://geobases.static.es.gov.br/public/MAP_ES_2012_2015/MDT/38_788.igw', 'https://geobases.static.es.gov.br/public/MAP_ES_2012_2015/MDT/38_788.img', 'https://geobases.static.es.gov.br/public/MAP_ES_2012_2015/MDT/38_788.rrd', 'https://geobases.static.es.gov.br/public/MAP_ES_2012_2015/MDT/38_789.igw', 'https://geobases.static.es.gov.br/public/MAP_ES_2012_2015/MDT/38_789.img', 'https://geobases.static.es.gov.br/public/MAP_ES_2012_2015/MDT/38_789.rrd', 'https://geobases.static.es.gov.br/public/MAP_ES_2012_2015/MDT/38_790.igw', 'https://geobases.static.es.gov.br/public/MAP_ES_2012_2015/MDT/38_790.img', 'https://geobases.static.es.gov.br/public/MAP_ES_2012_2015/MDT/38_790.rrd', 'https://geobases.static.es.gov.br/public/MAP_ES_2012_2015/MDT/38_791.igw', 'https://geobases.static.es.gov.br/public/MAP_ES_2012_2015/MDT/38_791.img', 'https://geobases.static.es.gov.br/public/MAP_ES_2012_2015/MDT/38_791.rrd', 'https://geobases.static.es.gov.br/public/MAP_ES_2012_2015/MDT/38_792.igw', 'https://geobases.static.es.gov.br/public/MAP_ES_2012_2015/MDT/38_792.img', 'https://geobases.static.es.gov.br/public/MAP_ES_2012_2015/MDT/38_792.rrd', 'https://geobases.static.es.gov.br/public/MAP_ES_2012_2015/MDT/38_793.igw', 'https://geobases.static.es.gov.br/public/MAP_ES_2012_2015/MDT/38_793.img', 'https://geobases.static.es.gov.br/public/MAP_ES_2012_2015/MDT/38_793.rrd', 'https://geobases.static.es.gov.br/public/MAP_ES_2012_2015/MDT/38_794.igw', 'https://geobases.static.es.gov.br/public/MAP_ES_2012_2015/MDT/38_794.img', 'https://geobases.static.es.gov.br/public/MAP_ES_2012_2015/MDT/38_794.rrd', 'https://geobases.static.es.gov.br/public/MAP_ES_2012_2015/MDT/38_795.igw', 'https://geobases.static.es.gov.br/public/MAP_ES_2012_2015/MDT/38_795.img', 'https://geobases.static.es.gov.br/public/MAP_ES_2012_2015/MDT/38_795.rrd', 'https://geobases.static.es.gov.br/public/MAP_ES_2012_2015/MDT/38_796.igw', 'https://geobases.static.es.gov.br/public/MAP_ES_2012_2015/MDT/38_796.img', 'https://geobases.static.es.gov.br/public/MAP_ES_2012_2015/MDT/38_796.rrd', 'https://geobases.static.es.gov.br/public/MAP_ES_2012_2015/MDT/38_797.igw', 'https://geobases.static.es.gov.br/public/MAP_ES_2012_2015/MDT/38_797.img', 'https://geobases.static.es.gov.br/public/MAP_ES_2012_2015/MDT/38_797.rrd', 'https://geobases.static.es.gov.br/public/MAP_ES_2012_2015/MDT/38_798.igw', 'https://geobases.static.es.gov.br/public/MAP_ES_2012_2015/MDT/38_798.img', 'https://geobases.static.es.gov.br/public/MAP_ES_2012_2015/MDT/38_798.rrd', 'https://geobases.static.es.gov.br/public/MAP_ES_2012_2015/MDT/38_799.igw', 'https://geobases.static.es.gov.br/public/MAP_ES_2012_2015/MDT/38_799.img', 'https://geobases.static.es.gov.br/public/MAP_ES_2012_2015/MDT/38_799.rrd', 'https://geobases.static.es.gov.br/public/MAP_ES_2012_2015/MDT/38_800.igw', 'https://geobases.static.es.gov.br/public/MAP_ES_2012_2015/MDT/38_800.img', 'https://geobases.static.es.gov.br/public/MAP_ES_2012_2015/MDT/38_800.rrd', 'https://geobases.static.es.gov.br/public/MAP_ES_2012_2015/MDT/38_801.igw', 'https://geobases.static.es.gov.br/public/MAP_ES_2012_2015/MDT/38_801.img', 'https://geobases.static.es.gov.br/public/MAP_ES_2012_2015/MDT/38_801.rrd', 'https://geobases.static.es.gov.br/public/MAP_ES_2012_2015/MDT/39_781.igw', 'https://geobases.static.es.gov.br/public/MAP_ES_2012_2015/MDT/39_781.img', 'https://geobases.static.es.gov.br/public/MAP_ES_2012_2015/MDT/39_781.rrd', 'https://geobases.static.es.gov.br/public/MAP_ES_2012_2015/MDT/39_782.igw', 'https://geobases.static.es.gov.br/public/MAP_ES_2012_2015/MDT/39_782.img', 'https://geobases.static.es.gov.br/public/MAP_ES_2012_2015/MDT/39_782.rrd', 'https://geobases.static.es.gov.br/public/MAP_ES_2012_2015/MDT/39_783.igw', 'https://geobases.static.es.gov.br/public/MAP_ES_2012_2015/MDT/39_783.img', 'https://geobases.static.es.gov.br/public/MAP_ES_2012_2015/MDT/39_783.rrd', 'https://geobases.static.es.gov.br/public/MAP_ES_2012_2015/MDT/39_784.igw', 'https://geobases.static.es.gov.br/public/MAP_ES_2012_2015/MDT/39_784.img', 'https://geobases.static.es.gov.br/public/MAP_ES_2012_2015/MDT/39_784.rrd', 'https://geobases.static.es.gov.br/public/MAP_ES_2012_2015/MDT/39_785.igw', 'https://geobases.static.es.gov.br/public/MAP_ES_2012_2015/MDT/39_785.img', 'https://geobases.static.es.gov.br/public/MAP_ES_2012_2015/MDT/39_785.rrd', 'https://geobases.static.es.gov.br/public/MAP_ES_2012_2015/MDT/39_786.igw', 'https://geobases.static.es.gov.br/public/MAP_ES_2012_2015/MDT/39_786.img', 'https://geobases.static.es.gov.br/public/MAP_ES_2012_2015/MDT/39_786.rrd', 'https://geobases.static.es.gov.br/public/MAP_ES_2012_2015/MDT/39_787.igw', 'https://geobases.static.es.gov.br/public/MAP_ES_2012_2015/MDT/39_787.img', 'https://geobases.static.es.gov.br/public/MAP_ES_2012_2015/MDT/39_787.rrd', 'https://geobases.static.es.gov.br/public/MAP_ES_2012_2015/MDT/39_788.igw', 'https://geobases.static.es.gov.br/public/MAP_ES_2012_2015/MDT/39_788.img', 'https://geobases.static.es.gov.br/public/MAP_ES_2012_2015/MDT/39_788.rrd', 'https://geobases.static.es.gov.br/public/MAP_ES_2012_2015/MDT/39_789.igw', 'https://geobases.static.es.gov.br/public/MAP_ES_2012_2015/MDT/39_789.img', 'https://geobases.static.es.gov.br/public/MAP_ES_2012_2015/MDT/39_789.rrd', 'https://geobases.static.es.gov.br/public/MAP_ES_2012_2015/MDT/39_790.igw', 'https://geobases.static.es.gov.br/public/MAP_ES_2012_2015/MDT/39_790.img', 'https://geobases.static.es.gov.br/public/MAP_ES_2012_2015/MDT/39_790.rrd', 'https://geobases.static.es.gov.br/public/MAP_ES_2012_2015/MDT/39_791.igw', 'https://geobases.static.es.gov.br/public/MAP_ES_2012_2015/MDT/39_791.img', 'https://geobases.static.es.gov.br/public/MAP_ES_2012_2015/MDT/39_791.rrd', 'https://geobases.static.es.gov.br/public/MAP_ES_2012_2015/MDT/39_792.igw', 'https://geobases.static.es.gov.br/public/MAP_ES_2012_2015/MDT/39_792.img', 'https://geobases.static.es.gov.br/public/MAP_ES_2012_2015/MDT/39_792.rrd', 'https://geobases.static.es.gov.br/public/MAP_ES_2012_2015/MDT/39_793.igw', 'https://geobases.static.es.gov.br/public/MAP_ES_2012_2015/MDT/39_793.img', 'https://geobases.static.es.gov.br/public/MAP_ES_2012_2015/MDT/39_793.rrd', 'https://geobases.static.es.gov.br/public/MAP_ES_2012_2015/MDT/39_794.igw', 'https://geobases.static.es.gov.br/public/MAP_ES_2012_2015/MDT/39_794.img', 'https://geobases.static.es.gov.br/public/MAP_ES_2012_2015/MDT/39_794.rrd', 'https://geobases.static.es.gov.br/public/MAP_ES_2012_2015/MDT/39_795.igw', 'https://geobases.static.es.gov.br/public/MAP_ES_2012_2015/MDT/39_795.img', 'https://geobases.static.es.gov.br/public/MAP_ES_2012_2015/MDT/39_795.rrd', 'https://geobases.static.es.gov.br/public/MAP_ES_2012_2015/MDT/39_796.igw', 'https://geobases.static.es.gov.br/public/MAP_ES_2012_2015/MDT/39_796.img', 'https://geobases.static.es.gov.br/public/MAP_ES_2012_2015/MDT/39_796.rrd', 'https://geobases.static.es.gov.br/public/MAP_ES_2012_2015/MDT/39_797.igw', 'https://geobases.static.es.gov.br/public/MAP_ES_2012_2015/MDT/39_797.img', 'https://geobases.static.es.gov.br/public/MAP_ES_2012_2015/MDT/39_797.rrd', 'https://geobases.static.es.gov.br/public/MAP_ES_2012_2015/MDT/39_798.igw', 'https://geobases.static.es.gov.br/public/MAP_ES_2012_2015/MDT/39_798.img', 'https://geobases.static.es.gov.br/public/MAP_ES_2012_2015/MDT/39_798.rrd', 'https://geobases.static.es.gov.br/public/MAP_ES_2012_2015/MDT/39_799.igw', 'https://geobases.static.es.gov.br/public/MAP_ES_2012_2015/MDT/39_799.img', 'https://geobases.static.es.gov.br/public/MAP_ES_2012_2015/MDT/39_799.rrd', 'https://geobases.static.es.gov.br/public/MAP_ES_2012_2015/MDT/39_800.igw', 'https://geobases.static.es.gov.br/public/MAP_ES_2012_2015/MDT/39_800.img', 'https://geobases.static.es.gov.br/public/MAP_ES_2012_2015/MDT/39_800.rrd', 'https://geobases.static.es.gov.br/public/MAP_ES_2012_2015/MDT/40_782.igw', 'https://geobases.static.es.gov.br/public/MAP_ES_2012_2015/MDT/40_782.img', 'https://geobases.static.es.gov.br/public/MAP_ES_2012_2015/MDT/40_782.rrd', 'https://geobases.static.es.gov.br/public/MAP_ES_2012_2015/MDT/40_783.igw', 'https://geobases.static.es.gov.br/public/MAP_ES_2012_2015/MDT/40_783.img', 'https://geobases.static.es.gov.br/public/MAP_ES_2012_2015/MDT/40_783.rrd', 'https://geobases.static.es.gov.br/public/MAP_ES_2012_2015/MDT/40_784.igw', 'https://geobases.static.es.gov.br/public/MAP_ES_2012_2015/MDT/40_784.img', 'https://geobases.static.es.gov.br/public/MAP_ES_2012_2015/MDT/40_784.rrd', 'https://geobases.static.es.gov.br/public/MAP_ES_2012_2015/MDT/40_785.igw', 'https://geobases.static.es.gov.br/public/MAP_ES_2012_2015/MDT/40_785.img', 'https://geobases.static.es.gov.br/public/MAP_ES_2012_2015/MDT/40_785.rrd', 'https://geobases.static.es.gov.br/public/MAP_ES_2012_2015/MDT/40_786.igw', 'https://geobases.static.es.gov.br/public/MAP_ES_2012_2015/MDT/40_786.img', 'https://geobases.static.es.gov.br/public/MAP_ES_2012_2015/MDT/40_786.rrd', 'https://geobases.static.es.gov.br/public/MAP_ES_2012_2015/MDT/40_787.igw', 'https://geobases.static.es.gov.br/public/MAP_ES_2012_2015/MDT/40_787.img', 'https://geobases.static.es.gov.br/public/MAP_ES_2012_2015/MDT/40_787.rrd', 'https://geobases.static.es.gov.br/public/MAP_ES_2012_2015/MDT/40_788.igw', 'https://geobases.static.es.gov.br/public/MAP_ES_2012_2015/MDT/40_788.img', 'https://geobases.static.es.gov.br/public/MAP_ES_2012_2015/MDT/40_788.rrd', 'https://geobases.static.es.gov.br/public/MAP_ES_2012_2015/MDT/40_789.igw', 'https://geobases.static.es.gov.br/public/MAP_ES_2012_2015/MDT/40_789.img', 'https://geobases.static.es.gov.br/public/MAP_ES_2012_2015/MDT/40_789.rrd', 'https://geobases.static.es.gov.br/public/MAP_ES_2012_2015/MDT/40_790.igw', 'https://geobases.static.es.gov.br/public/MAP_ES_2012_2015/MDT/40_790.img', 'https://geobases.static.es.gov.br/public/MAP_ES_2012_2015/MDT/40_790.rrd', 'https://geobases.static.es.gov.br/public/MAP_ES_2012_2015/MDT/40_791.igw', 'https://geobases.static.es.gov.br/public/MAP_ES_2012_2015/MDT/40_791.img', 'https://geobases.static.es.gov.br/public/MAP_ES_2012_2015/MDT/40_791.rrd', 'https://geobases.static.es.gov.br/public/MAP_ES_2012_2015/MDT/40_792.igw', 'https://geobases.static.es.gov.br/public/MAP_ES_2012_2015/MDT/40_792.img', 'https://geobases.static.es.gov.br/public/MAP_ES_2012_2015/MDT/40_792.rrd', 'https://geobases.static.es.gov.br/public/MAP_ES_2012_2015/MDT/40_793.igw', 'https://geobases.static.es.gov.br/public/MAP_ES_2012_2015/MDT/40_793.img', 'https://geobases.static.es.gov.br/public/MAP_ES_2012_2015/MDT/40_793.rrd', 'https://geobases.static.es.gov.br/public/MAP_ES_2012_2015/MDT/40_794.igw', 'https://geobases.static.es.gov.br/public/MAP_ES_2012_2015/MDT/40_794.img', 'https://geobases.static.es.gov.br/public/MAP_ES_2012_2015/MDT/40_794.rrd', 'https://geobases.static.es.gov.br/public/MAP_ES_2012_2015/MDT/40_795.igw', 'https://geobases.static.es.gov.br/public/MAP_ES_2012_2015/MDT/40_795.img', 'https://geobases.static.es.gov.br/public/MAP_ES_2012_2015/MDT/40_795.rrd', 'https://geobases.static.es.gov.br/public/MAP_ES_2012_2015/MDT/40_796.igw', 'https://geobases.static.es.gov.br/public/MAP_ES_2012_2015/MDT/40_796.img', 'https://geobases.static.es.gov.br/public/MAP_ES_2012_2015/MDT/40_796.rrd', 'https://geobases.static.es.gov.br/public/MAP_ES_2012_2015/MDT/40_797.igw', 'https://geobases.static.es.gov.br/public/MAP_ES_2012_2015/MDT/40_797.img', 'https://geobases.static.es.gov.br/public/MAP_ES_2012_2015/MDT/40_797.rrd', 'https://geobases.static.es.gov.br/public/MAP_ES_2012_2015/MDT/40_798.igw', 'https://geobases.static.es.gov.br/public/MAP_ES_2012_2015/MDT/40_798.img', 'https://geobases.static.es.gov.br/public/MAP_ES_2012_2015/MDT/40_798.rrd', 'https://geobases.static.es.gov.br/public/MAP_ES_2012_2015/MDT/40_799.igw', 'https://geobases.static.es.gov.br/public/MAP_ES_2012_2015/MDT/40_799.img', 'https://geobases.static.es.gov.br/public/MAP_ES_2012_2015/MDT/40_799.rrd', 'https://geobases.static.es.gov.br/public/MAP_ES_2012_2015/MDT/40_800.igw', 'https://geobases.static.es.gov.br/public/MAP_ES_2012_2015/MDT/40_800.img', 'https://geobases.static.es.gov.br/public/MAP_ES_2012_2015/MDT/40_800.rrd', 'https://geobases.static.es.gov.br/public/MAP_ES_2012_2015/MDT/41_783.igw', 'https://geobases.static.es.gov.br/public/MAP_ES_2012_2015/MDT/41_783.img', 'https://geobases.static.es.gov.br/public/MAP_ES_2012_2015/MDT/41_783.rrd', 'https://geobases.static.es.gov.br/public/MAP_ES_2012_2015/MDT/41_784.igw', 'https://geobases.static.es.gov.br/public/MAP_ES_2012_2015/MDT/41_784.img', 'https://geobases.static.es.gov.br/public/MAP_ES_2012_2015/MDT/41_784.rrd', 'https://geobases.static.es.gov.br/public/MAP_ES_2012_2015/MDT/41_785.igw', 'https://geobases.static.es.gov.br/public/MAP_ES_2012_2015/MDT/41_785.img', 'https://geobases.static.es.gov.br/public/MAP_ES_2012_2015/MDT/41_785.rrd', 'https://geobases.static.es.gov.br/public/MAP_ES_2012_2015/MDT/41_786.igw', 'https://geobases.static.es.gov.br/public/MAP_ES_2012_2015/MDT/41_786.img', 'https://geobases.static.es.gov.br/public/MAP_ES_2012_2015/MDT/41_786.rrd', 'https://geobases.static.es.gov.br/public/MAP_ES_2012_2015/MDT/41_787.igw', 'https://geobases.static.es.gov.br/public/MAP_ES_2012_2015/MDT/41_787.img', 'https://geobases.static.es.gov.br/public/MAP_ES_2012_2015/MDT/41_787.rrd', 'https://geobases.static.es.gov.br/public/MAP_ES_2012_2015/MDT/41_788.igw', 'https://geobases.static.es.gov.br/public/MAP_ES_2012_2015/MDT/41_788.img', 'https://geobases.static.es.gov.br/public/MAP_ES_2012_2015/MDT/41_788.rrd', 'https://geobases.static.es.gov.br/public/MAP_ES_2012_2015/MDT/41_789.igw', 'https://geobases.static.es.gov.br/public/MAP_ES_2012_2015/MDT/41_789.img', 'https://geobases.static.es.gov.br/public/MAP_ES_2012_2015/MDT/41_789.rrd', 'https://geobases.static.es.gov.br/public/MAP_ES_2012_2015/MDT/41_790.igw', 'https://geobases.static.es.gov.br/public/MAP_ES_2012_2015/MDT/41_790.img', 'https://geobases.static.es.gov.br/public/MAP_ES_2012_2015/MDT/41_790.rrd', 'https://geobases.static.es.gov.br/public/MAP_ES_2012_2015/MDT/41_791.igw', 'https://geobases.static.es.gov.br/public/MAP_ES_2012_2015/MDT/41_791.img', 'https://geobases.static.es.gov.br/public/MAP_ES_2012_2015/MDT/41_791.rrd', 'https://geobases.static.es.gov.br/public/MAP_ES_2012_2015/MDT/41_792.igw', 'https://geobases.static.es.gov.br/public/MAP_ES_2012_2015/MDT/41_792.img', 'https://geobases.static.es.gov.br/public/MAP_ES_2012_2015/MDT/41_792.rrd', 'https://geobases.static.es.gov.br/public/MAP_ES_2012_2015/MDT/41_793.igw', 'https://geobases.static.es.gov.br/public/MAP_ES_2012_2015/MDT/41_793.img', 'https://geobases.static.es.gov.br/public/MAP_ES_2012_2015/MDT/41_793.rrd', 'https://geobases.static.es.gov.br/public/MAP_ES_2012_2015/MDT/41_794.igw', 'https://geobases.static.es.gov.br/public/MAP_ES_2012_2015/MDT/41_794.img', 'https://geobases.static.es.gov.br/public/MAP_ES_2012_2015/MDT/41_794.rrd', 'https://geobases.static.es.gov.br/public/MAP_ES_2012_2015/MDT/41_795.igw', 'https://geobases.static.es.gov.br/public/MAP_ES_2012_2015/MDT/41_795.img', 'https://geobases.static.es.gov.br/public/MAP_ES_2012_2015/MDT/41_795.rrd', 'https://geobases.static.es.gov.br/public/MAP_ES_2012_2015/MDT/41_796.igw', 'https://geobases.static.es.gov.br/public/MAP_ES_2012_2015/MDT/41_796.img', 'https://geobases.static.es.gov.br/public/MAP_ES_2012_2015/MDT/41_796.rrd', 'https://geobases.static.es.gov.br/public/MAP_ES_2012_2015/MDT/41_797.igw', 'https://geobases.static.es.gov.br/public/MAP_ES_2012_2015/MDT/41_797.img', 'https://geobases.static.es.gov.br/public/MAP_ES_2012_2015/MDT/41_797.rrd', 'https://geobases.static.es.gov.br/public/MAP_ES_2012_2015/MDT/41_798.igw', 'https://geobases.static.es.gov.br/public/MAP_ES_2012_2015/MDT/41_798.img', 'https://geobases.static.es.gov.br/public/MAP_ES_2012_2015/MDT/41_798.rrd', 'https://geobases.static.es.gov.br/public/MAP_ES_2012_2015/MDT/41_799.igw', 'https://geobases.static.es.gov.br/public/MAP_ES_2012_2015/MDT/41_799.img', 'https://geobases.static.es.gov.br/public/MAP_ES_2012_2015/MDT/41_799.rrd', 'https://geobases.static.es.gov.br/public/MAP_ES_2012_2015/MDT/42_784.igw', 'https://geobases.static.es.gov.br/public/MAP_ES_2012_2015/MDT/42_784.img', 'https://geobases.static.es.gov.br/public/MAP_ES_2012_2015/MDT/42_784.rrd', 'https://geobases.static.es.gov.br/public/MAP_ES_2012_2015/MDT/42_785.igw', 'https://geobases.static.es.gov.br/public/MAP_ES_2012_2015/MDT/42_785.img', 'https://geobases.static.es.gov.br/public/MAP_ES_2012_2015/MDT/42_785.rrd', 'https://geobases.static.es.gov.br/public/MAP_ES_2012_2015/MDT/42_786.igw', 'https://geobases.static.es.gov.br/public/MAP_ES_2012_2015/MDT/42_786.img', 'https://geobases.static.es.gov.br/public/MAP_ES_2012_2015/MDT/42_786.rrd', 'https://geobases.static.es.gov.br/public/MAP_ES_2012_2015/MDT/42_787.igw', 'https://geobases.static.es.gov.br/public/MAP_ES_2012_2015/MDT/42_787.img', 'https://geobases.static.es.gov.br/public/MAP_ES_2012_2015/MDT/42_787.rrd', 'https://geobases.static.es.gov.br/public/MAP_ES_2012_2015/MDT/42_788.igw', 'https://geobases.static.es.gov.br/public/MAP_ES_2012_2015/MDT/42_788.img', 'https://geobases.static.es.gov.br/public/MAP_ES_2012_2015/MDT/42_788.rrd', 'https://geobases.static.es.gov.br/public/MAP_ES_2012_2015/MDT/42_789.igw', 'https://geobases.static.es.gov.br/public/MAP_ES_2012_2015/MDT/42_789.img', 'https://geobases.static.es.gov.br/public/MAP_ES_2012_2015/MDT/42_789.rrd', 'https://geobases.static.es.gov.br/public/MAP_ES_2012_2015/MDT/42_790.igw', 'https://geobases.static.es.gov.br/public/MAP_ES_2012_2015/MDT/42_790.img', 'https://geobases.static.es.gov.br/public/MAP_ES_2012_2015/MDT/42_790.rrd', 'https://geobases.static.es.gov.br/public/MAP_ES_2012_2015/MDT/42_791.igw', 'https://geobases.static.es.gov.br/public/MAP_ES_2012_2015/MDT/42_791.img', 'https://geobases.static.es.gov.br/public/MAP_ES_2012_2015/MDT/42_791.rrd', 'https://geobases.static.es.gov.br/public/MAP_ES_2012_2015/MDT/42_792.igw', 'https://geobases.static.es.gov.br/public/MAP_ES_2012_2015/MDT/42_792.img', 'https://geobases.static.es.gov.br/public/MAP_ES_2012_2015/MDT/42_792.rrd', 'https://geobases.static.es.gov.br/public/MAP_ES_2012_2015/MDT/42_793.igw', 'https://geobases.static.es.gov.br/public/MAP_ES_2012_2015/MDT/42_793.img', 'https://geobases.static.es.gov.br/public/MAP_ES_2012_2015/MDT/42_793.rrd', 'https://geobases.static.es.gov.br/public/MAP_ES_2012_2015/MDT/42_794.igw', 'https://geobases.static.es.gov.br/public/MAP_ES_2012_2015/MDT/42_794.img', 'https://geobases.static.es.gov.br/public/MAP_ES_2012_2015/MDT/42_794.rrd', 'https://geobases.static.es.gov.br/public/MAP_ES_2012_2015/MDT/42_795.igw', 'https://geobases.static.es.gov.br/public/MAP_ES_2012_2015/MDT/42_795.img', 'https://geobases.static.es.gov.br/public/MAP_ES_2012_2015/MDT/42_795.rrd', 'https://geobases.static.es.gov.br/public/MAP_ES_2012_2015/MDT/42_796.igw', 'https://geobases.static.es.gov.br/public/MAP_ES_2012_2015/MDT/42_796.img', 'https://geobases.static.es.gov.br/public/MAP_ES_2012_2015/MDT/42_796.rrd', 'https://geobases.static.es.gov.br/public/MAP_ES_2012_2015/MDT/42_797.igw', 'https://geobases.static.es.gov.br/public/MAP_ES_2012_2015/MDT/42_797.img', 'https://geobases.static.es.gov.br/public/MAP_ES_2012_2015/MDT/42_797.rrd', 'https://geobases.static.es.gov.br/public/MAP_ES_2012_2015/MDT/42_798.igw', 'https://geobases.static.es.gov.br/public/MAP_ES_2012_2015/MDT/42_798.img', 'https://geobases.static.es.gov.br/public/MAP_ES_2012_2015/MDT/42_798.rrd', 'https://geobases.static.es.gov.br/public/MAP_ES_2012_2015/MDT/42_799.igw', 'https://geobases.static.es.gov.br/public/MAP_ES_2012_2015/MDT/42_799.img', 'https://geobases.static.es.gov.br/public/MAP_ES_2012_2015/MDT/42_799.rrd', 'https://geobases.static.es.gov.br/public/MAP_ES_2012_2015/MDT/43_798.igw', 'https://geobases.static.es.gov.br/public/MAP_ES_2012_2015/MDT/43_798.img', 'https://geobases.static.es.gov.br/public/MAP_ES_2012_2015/MDT/43_798.rrd']\n"
     ]
    }
   ],
   "source": [
    "import requests\n",
    "\n",
    "dtm_link_list = \"https://geobases.static.es.gov.br/public/MAP_ES_2012_2015/MAP_ES_2012_2015_MDT_URL_LIST.txt\"\n",
    "\n",
    "\n",
    "textstring = requests.get(dtm_link_list).text.splitlines()\n",
    "\n",
    "print(textstring)"
   ]
  },
  {
   "cell_type": "code",
   "execution_count": 16,
   "metadata": {
    "tags": [
     "outputPrepend"
    ]
   },
   "outputs": [
    {
     "output_type": "stream",
     "name": "stdout",
     "text": [
      "ttps://geobases.static.es.gov.br/public/MAP_ES_2012_2015/MDE/38_785.rrd\nhttps://geobases.static.es.gov.br/public/MAP_ES_2012_2015/MDE/38_786.img\nhttps://geobases.static.es.gov.br/public/MAP_ES_2012_2015/MDE/38_786.img.xml\nhttps://geobases.static.es.gov.br/public/MAP_ES_2012_2015/MDE/38_786.rrd\nhttps://geobases.static.es.gov.br/public/MAP_ES_2012_2015/MDE/38_787.img\nhttps://geobases.static.es.gov.br/public/MAP_ES_2012_2015/MDE/38_787.img.xml\nhttps://geobases.static.es.gov.br/public/MAP_ES_2012_2015/MDE/38_787.rrd\nhttps://geobases.static.es.gov.br/public/MAP_ES_2012_2015/MDE/38_788.img\nhttps://geobases.static.es.gov.br/public/MAP_ES_2012_2015/MDE/38_788.img.xml\nhttps://geobases.static.es.gov.br/public/MAP_ES_2012_2015/MDE/38_788.rrd\nhttps://geobases.static.es.gov.br/public/MAP_ES_2012_2015/MDE/38_789.img\nhttps://geobases.static.es.gov.br/public/MAP_ES_2012_2015/MDE/38_789.img.xml\nhttps://geobases.static.es.gov.br/public/MAP_ES_2012_2015/MDE/38_789.rrd\nhttps://geobases.static.es.gov.br/public/MAP_ES_2012_2015/MDE/38_790.img\nhttps://geobases.static.es.gov.br/public/MAP_ES_2012_2015/MDE/38_790.img.xml\nhttps://geobases.static.es.gov.br/public/MAP_ES_2012_2015/MDE/38_790.rrd\nhttps://geobases.static.es.gov.br/public/MAP_ES_2012_2015/MDE/38_791.img\nhttps://geobases.static.es.gov.br/public/MAP_ES_2012_2015/MDE/38_791.img.xml\nhttps://geobases.static.es.gov.br/public/MAP_ES_2012_2015/MDE/38_791.rrd\nhttps://geobases.static.es.gov.br/public/MAP_ES_2012_2015/MDE/38_792.img\nhttps://geobases.static.es.gov.br/public/MAP_ES_2012_2015/MDE/38_792.img.xml\nhttps://geobases.static.es.gov.br/public/MAP_ES_2012_2015/MDE/38_792.rrd\nhttps://geobases.static.es.gov.br/public/MAP_ES_2012_2015/MDE/38_793.img\nhttps://geobases.static.es.gov.br/public/MAP_ES_2012_2015/MDE/38_793.img.xml\nhttps://geobases.static.es.gov.br/public/MAP_ES_2012_2015/MDE/38_793.rrd\nhttps://geobases.static.es.gov.br/public/MAP_ES_2012_2015/MDE/38_794.img\nhttps://geobases.static.es.gov.br/public/MAP_ES_2012_2015/MDE/38_794.img.xml\nhttps://geobases.static.es.gov.br/public/MAP_ES_2012_2015/MDE/38_794.rrd\nhttps://geobases.static.es.gov.br/public/MAP_ES_2012_2015/MDE/38_795.img\nhttps://geobases.static.es.gov.br/public/MAP_ES_2012_2015/MDE/38_795.img.xml\nhttps://geobases.static.es.gov.br/public/MAP_ES_2012_2015/MDE/38_795.rrd\nhttps://geobases.static.es.gov.br/public/MAP_ES_2012_2015/MDE/38_796.img\nhttps://geobases.static.es.gov.br/public/MAP_ES_2012_2015/MDE/38_796.img.xml\nhttps://geobases.static.es.gov.br/public/MAP_ES_2012_2015/MDE/38_796.rrd\nhttps://geobases.static.es.gov.br/public/MAP_ES_2012_2015/MDE/38_797.img\nhttps://geobases.static.es.gov.br/public/MAP_ES_2012_2015/MDE/38_797.img.xml\nhttps://geobases.static.es.gov.br/public/MAP_ES_2012_2015/MDE/38_797.rrd\nhttps://geobases.static.es.gov.br/public/MAP_ES_2012_2015/MDE/38_798.img\nhttps://geobases.static.es.gov.br/public/MAP_ES_2012_2015/MDE/38_798.img.xml\nhttps://geobases.static.es.gov.br/public/MAP_ES_2012_2015/MDE/38_798.rrd\nhttps://geobases.static.es.gov.br/public/MAP_ES_2012_2015/MDE/38_799.img\nhttps://geobases.static.es.gov.br/public/MAP_ES_2012_2015/MDE/38_799.img.xml\nhttps://geobases.static.es.gov.br/public/MAP_ES_2012_2015/MDE/38_799.rrd\nhttps://geobases.static.es.gov.br/public/MAP_ES_2012_2015/MDE/38_800.img\nhttps://geobases.static.es.gov.br/public/MAP_ES_2012_2015/MDE/38_800.img.xml\nhttps://geobases.static.es.gov.br/public/MAP_ES_2012_2015/MDE/38_800.rrd\nhttps://geobases.static.es.gov.br/public/MAP_ES_2012_2015/MDE/38_801.img\nhttps://geobases.static.es.gov.br/public/MAP_ES_2012_2015/MDE/38_801.img.xml\nhttps://geobases.static.es.gov.br/public/MAP_ES_2012_2015/MDE/38_801.rrd\nhttps://geobases.static.es.gov.br/public/MAP_ES_2012_2015/MDE/39_781.img\nhttps://geobases.static.es.gov.br/public/MAP_ES_2012_2015/MDE/39_781.img.xml\nhttps://geobases.static.es.gov.br/public/MAP_ES_2012_2015/MDE/39_781.rrd\nhttps://geobases.static.es.gov.br/public/MAP_ES_2012_2015/MDE/39_782.img\nhttps://geobases.static.es.gov.br/public/MAP_ES_2012_2015/MDE/39_782.img.xml\nhttps://geobases.static.es.gov.br/public/MAP_ES_2012_2015/MDE/39_782.rrd\nhttps://geobases.static.es.gov.br/public/MAP_ES_2012_2015/MDE/39_783.img\nhttps://geobases.static.es.gov.br/public/MAP_ES_2012_2015/MDE/39_783.img.xml\nhttps://geobases.static.es.gov.br/public/MAP_ES_2012_2015/MDE/39_783.rrd\nhttps://geobases.static.es.gov.br/public/MAP_ES_2012_2015/MDE/39_784.img\nhttps://geobases.static.es.gov.br/public/MAP_ES_2012_2015/MDE/39_784.img.xml\nhttps://geobases.static.es.gov.br/public/MAP_ES_2012_2015/MDE/39_784.rrd\nhttps://geobases.static.es.gov.br/public/MAP_ES_2012_2015/MDE/39_785.img\nhttps://geobases.static.es.gov.br/public/MAP_ES_2012_2015/MDE/39_785.img.xml\nhttps://geobases.static.es.gov.br/public/MAP_ES_2012_2015/MDE/39_785.rrd\nhttps://geobases.static.es.gov.br/public/MAP_ES_2012_2015/MDE/39_786.img\nhttps://geobases.static.es.gov.br/public/MAP_ES_2012_2015/MDE/39_786.img.xml\nhttps://geobases.static.es.gov.br/public/MAP_ES_2012_2015/MDE/39_786.rrd\nhttps://geobases.static.es.gov.br/public/MAP_ES_2012_2015/MDE/39_787.img\nhttps://geobases.static.es.gov.br/public/MAP_ES_2012_2015/MDE/39_787.img.xml\nhttps://geobases.static.es.gov.br/public/MAP_ES_2012_2015/MDE/39_787.rrd\nhttps://geobases.static.es.gov.br/public/MAP_ES_2012_2015/MDE/39_788.img\nhttps://geobases.static.es.gov.br/public/MAP_ES_2012_2015/MDE/39_788.img.xml\nhttps://geobases.static.es.gov.br/public/MAP_ES_2012_2015/MDE/39_788.rrd\nhttps://geobases.static.es.gov.br/public/MAP_ES_2012_2015/MDE/39_789.img\nhttps://geobases.static.es.gov.br/public/MAP_ES_2012_2015/MDE/39_789.img.xml\nhttps://geobases.static.es.gov.br/public/MAP_ES_2012_2015/MDE/39_789.rrd\nhttps://geobases.static.es.gov.br/public/MAP_ES_2012_2015/MDE/39_790.img\nhttps://geobases.static.es.gov.br/public/MAP_ES_2012_2015/MDE/39_790.img.xml\nhttps://geobases.static.es.gov.br/public/MAP_ES_2012_2015/MDE/39_790.rrd\nhttps://geobases.static.es.gov.br/public/MAP_ES_2012_2015/MDE/39_791.img\nhttps://geobases.static.es.gov.br/public/MAP_ES_2012_2015/MDE/39_791.img.xml\nhttps://geobases.static.es.gov.br/public/MAP_ES_2012_2015/MDE/39_791.rrd\nhttps://geobases.static.es.gov.br/public/MAP_ES_2012_2015/MDE/39_792.img\nhttps://geobases.static.es.gov.br/public/MAP_ES_2012_2015/MDE/39_792.img.xml\nhttps://geobases.static.es.gov.br/public/MAP_ES_2012_2015/MDE/39_792.rrd\nhttps://geobases.static.es.gov.br/public/MAP_ES_2012_2015/MDE/39_793.img\nhttps://geobases.static.es.gov.br/public/MAP_ES_2012_2015/MDE/39_793.img.xml\nhttps://geobases.static.es.gov.br/public/MAP_ES_2012_2015/MDE/39_793.rrd\nhttps://geobases.static.es.gov.br/public/MAP_ES_2012_2015/MDE/39_794.img\nhttps://geobases.static.es.gov.br/public/MAP_ES_2012_2015/MDE/39_794.img.xml\nhttps://geobases.static.es.gov.br/public/MAP_ES_2012_2015/MDE/39_794.rrd\nhttps://geobases.static.es.gov.br/public/MAP_ES_2012_2015/MDE/39_795.img\nhttps://geobases.static.es.gov.br/public/MAP_ES_2012_2015/MDE/39_795.img.xml\nhttps://geobases.static.es.gov.br/public/MAP_ES_2012_2015/MDE/39_795.rrd\nhttps://geobases.static.es.gov.br/public/MAP_ES_2012_2015/MDE/39_796.img\nhttps://geobases.static.es.gov.br/public/MAP_ES_2012_2015/MDE/39_796.img.xml\nhttps://geobases.static.es.gov.br/public/MAP_ES_2012_2015/MDE/39_796.rrd\nhttps://geobases.static.es.gov.br/public/MAP_ES_2012_2015/MDE/39_797.img\nhttps://geobases.static.es.gov.br/public/MAP_ES_2012_2015/MDE/39_797.img.xml\nhttps://geobases.static.es.gov.br/public/MAP_ES_2012_2015/MDE/39_797.rrd\nhttps://geobases.static.es.gov.br/public/MAP_ES_2012_2015/MDE/39_798.img\nhttps://geobases.static.es.gov.br/public/MAP_ES_2012_2015/MDE/39_798.img.xml\nhttps://geobases.static.es.gov.br/public/MAP_ES_2012_2015/MDE/39_798.rrd\nhttps://geobases.static.es.gov.br/public/MAP_ES_2012_2015/MDE/39_799.img\nhttps://geobases.static.es.gov.br/public/MAP_ES_2012_2015/MDE/39_799.img.xml\nhttps://geobases.static.es.gov.br/public/MAP_ES_2012_2015/MDE/39_799.rrd\nhttps://geobases.static.es.gov.br/public/MAP_ES_2012_2015/MDE/39_800.img\nhttps://geobases.static.es.gov.br/public/MAP_ES_2012_2015/MDE/39_800.img.xml\nhttps://geobases.static.es.gov.br/public/MAP_ES_2012_2015/MDE/39_800.rrd\nhttps://geobases.static.es.gov.br/public/MAP_ES_2012_2015/MDE/40_782.img\nhttps://geobases.static.es.gov.br/public/MAP_ES_2012_2015/MDE/40_782.img.xml\nhttps://geobases.static.es.gov.br/public/MAP_ES_2012_2015/MDE/40_782.rrd\nhttps://geobases.static.es.gov.br/public/MAP_ES_2012_2015/MDE/40_783.img\nhttps://geobases.static.es.gov.br/public/MAP_ES_2012_2015/MDE/40_783.img.xml\nhttps://geobases.static.es.gov.br/public/MAP_ES_2012_2015/MDE/40_783.rrd\nhttps://geobases.static.es.gov.br/public/MAP_ES_2012_2015/MDE/40_784.img\nhttps://geobases.static.es.gov.br/public/MAP_ES_2012_2015/MDE/40_784.img.xml\nhttps://geobases.static.es.gov.br/public/MAP_ES_2012_2015/MDE/40_784.rrd\nhttps://geobases.static.es.gov.br/public/MAP_ES_2012_2015/MDE/40_785.img\nhttps://geobases.static.es.gov.br/public/MAP_ES_2012_2015/MDE/40_785.img.xml\nhttps://geobases.static.es.gov.br/public/MAP_ES_2012_2015/MDE/40_785.rrd\nhttps://geobases.static.es.gov.br/public/MAP_ES_2012_2015/MDE/40_786.img\nhttps://geobases.static.es.gov.br/public/MAP_ES_2012_2015/MDE/40_786.img.xml\nhttps://geobases.static.es.gov.br/public/MAP_ES_2012_2015/MDE/40_786.rrd\nhttps://geobases.static.es.gov.br/public/MAP_ES_2012_2015/MDE/40_787.img\nhttps://geobases.static.es.gov.br/public/MAP_ES_2012_2015/MDE/40_787.img.xml\nhttps://geobases.static.es.gov.br/public/MAP_ES_2012_2015/MDE/40_787.rrd\nhttps://geobases.static.es.gov.br/public/MAP_ES_2012_2015/MDE/40_788.img\nhttps://geobases.static.es.gov.br/public/MAP_ES_2012_2015/MDE/40_788.img.xml\nhttps://geobases.static.es.gov.br/public/MAP_ES_2012_2015/MDE/40_788.rrd\nhttps://geobases.static.es.gov.br/public/MAP_ES_2012_2015/MDE/40_789.img\nhttps://geobases.static.es.gov.br/public/MAP_ES_2012_2015/MDE/40_789.img.xml\nhttps://geobases.static.es.gov.br/public/MAP_ES_2012_2015/MDE/40_789.rrd\nhttps://geobases.static.es.gov.br/public/MAP_ES_2012_2015/MDE/40_790.img\nhttps://geobases.static.es.gov.br/public/MAP_ES_2012_2015/MDE/40_790.img.xml\nhttps://geobases.static.es.gov.br/public/MAP_ES_2012_2015/MDE/40_790.rrd\nhttps://geobases.static.es.gov.br/public/MAP_ES_2012_2015/MDE/40_791.img\nhttps://geobases.static.es.gov.br/public/MAP_ES_2012_2015/MDE/40_791.img.xml\nhttps://geobases.static.es.gov.br/public/MAP_ES_2012_2015/MDE/40_791.rrd\nhttps://geobases.static.es.gov.br/public/MAP_ES_2012_2015/MDE/40_792.img\nhttps://geobases.static.es.gov.br/public/MAP_ES_2012_2015/MDE/40_792.img.xml\nhttps://geobases.static.es.gov.br/public/MAP_ES_2012_2015/MDE/40_792.rrd\nhttps://geobases.static.es.gov.br/public/MAP_ES_2012_2015/MDE/40_793.img\nhttps://geobases.static.es.gov.br/public/MAP_ES_2012_2015/MDE/40_793.img.xml\nhttps://geobases.static.es.gov.br/public/MAP_ES_2012_2015/MDE/40_793.rrd\nhttps://geobases.static.es.gov.br/public/MAP_ES_2012_2015/MDE/40_794.img\nhttps://geobases.static.es.gov.br/public/MAP_ES_2012_2015/MDE/40_794.img.xml\nhttps://geobases.static.es.gov.br/public/MAP_ES_2012_2015/MDE/40_794.rrd\nhttps://geobases.static.es.gov.br/public/MAP_ES_2012_2015/MDE/40_795.img\nhttps://geobases.static.es.gov.br/public/MAP_ES_2012_2015/MDE/40_795.img.xml\nhttps://geobases.static.es.gov.br/public/MAP_ES_2012_2015/MDE/40_795.rrd\nhttps://geobases.static.es.gov.br/public/MAP_ES_2012_2015/MDE/40_796.img\nhttps://geobases.static.es.gov.br/public/MAP_ES_2012_2015/MDE/40_796.img.xml\nhttps://geobases.static.es.gov.br/public/MAP_ES_2012_2015/MDE/40_796.rrd\nhttps://geobases.static.es.gov.br/public/MAP_ES_2012_2015/MDE/40_797.img\nhttps://geobases.static.es.gov.br/public/MAP_ES_2012_2015/MDE/40_797.img.xml\nhttps://geobases.static.es.gov.br/public/MAP_ES_2012_2015/MDE/40_797.rrd\nhttps://geobases.static.es.gov.br/public/MAP_ES_2012_2015/MDE/40_798.img\nhttps://geobases.static.es.gov.br/public/MAP_ES_2012_2015/MDE/40_798.img.xml\nhttps://geobases.static.es.gov.br/public/MAP_ES_2012_2015/MDE/40_798.rrd\nhttps://geobases.static.es.gov.br/public/MAP_ES_2012_2015/MDE/40_799.img\nhttps://geobases.static.es.gov.br/public/MAP_ES_2012_2015/MDE/40_799.img.xml\nhttps://geobases.static.es.gov.br/public/MAP_ES_2012_2015/MDE/40_799.rrd\nhttps://geobases.static.es.gov.br/public/MAP_ES_2012_2015/MDE/40_800.img\nhttps://geobases.static.es.gov.br/public/MAP_ES_2012_2015/MDE/40_800.img.xml\nhttps://geobases.static.es.gov.br/public/MAP_ES_2012_2015/MDE/40_800.rrd\nhttps://geobases.static.es.gov.br/public/MAP_ES_2012_2015/MDE/41_783.img\nhttps://geobases.static.es.gov.br/public/MAP_ES_2012_2015/MDE/41_783.img.xml\nhttps://geobases.static.es.gov.br/public/MAP_ES_2012_2015/MDE/41_783.rrd\nhttps://geobases.static.es.gov.br/public/MAP_ES_2012_2015/MDE/41_784.img\nhttps://geobases.static.es.gov.br/public/MAP_ES_2012_2015/MDE/41_784.img.xml\nhttps://geobases.static.es.gov.br/public/MAP_ES_2012_2015/MDE/41_784.rrd\nhttps://geobases.static.es.gov.br/public/MAP_ES_2012_2015/MDE/41_785.img\nhttps://geobases.static.es.gov.br/public/MAP_ES_2012_2015/MDE/41_785.img.xml\nhttps://geobases.static.es.gov.br/public/MAP_ES_2012_2015/MDE/41_785.rrd\nhttps://geobases.static.es.gov.br/public/MAP_ES_2012_2015/MDE/41_786.img\nhttps://geobases.static.es.gov.br/public/MAP_ES_2012_2015/MDE/41_786.img.xml\nhttps://geobases.static.es.gov.br/public/MAP_ES_2012_2015/MDE/41_786.rrd\nhttps://geobases.static.es.gov.br/public/MAP_ES_2012_2015/MDE/41_787.img\nhttps://geobases.static.es.gov.br/public/MAP_ES_2012_2015/MDE/41_787.img.xml\nhttps://geobases.static.es.gov.br/public/MAP_ES_2012_2015/MDE/41_787.rrd\nhttps://geobases.static.es.gov.br/public/MAP_ES_2012_2015/MDE/41_788.img\nhttps://geobases.static.es.gov.br/public/MAP_ES_2012_2015/MDE/41_788.img.xml\nhttps://geobases.static.es.gov.br/public/MAP_ES_2012_2015/MDE/41_788.rrd\nhttps://geobases.static.es.gov.br/public/MAP_ES_2012_2015/MDE/41_789.img\nhttps://geobases.static.es.gov.br/public/MAP_ES_2012_2015/MDE/41_789.img.xml\nhttps://geobases.static.es.gov.br/public/MAP_ES_2012_2015/MDE/41_789.rrd\nhttps://geobases.static.es.gov.br/public/MAP_ES_2012_2015/MDE/41_790.img\nhttps://geobases.static.es.gov.br/public/MAP_ES_2012_2015/MDE/41_790.img.xml\nhttps://geobases.static.es.gov.br/public/MAP_ES_2012_2015/MDE/41_790.rrd\nhttps://geobases.static.es.gov.br/public/MAP_ES_2012_2015/MDE/41_791.img\nhttps://geobases.static.es.gov.br/public/MAP_ES_2012_2015/MDE/41_791.img.xml\nhttps://geobases.static.es.gov.br/public/MAP_ES_2012_2015/MDE/41_791.rrd\nhttps://geobases.static.es.gov.br/public/MAP_ES_2012_2015/MDE/41_792.img\nhttps://geobases.static.es.gov.br/public/MAP_ES_2012_2015/MDE/41_792.img.xml\nhttps://geobases.static.es.gov.br/public/MAP_ES_2012_2015/MDE/41_792.rrd\nhttps://geobases.static.es.gov.br/public/MAP_ES_2012_2015/MDE/41_793.img\nhttps://geobases.static.es.gov.br/public/MAP_ES_2012_2015/MDE/41_793.img.vat.dbf\nhttps://geobases.static.es.gov.br/public/MAP_ES_2012_2015/MDE/41_793.img.xml\nhttps://geobases.static.es.gov.br/public/MAP_ES_2012_2015/MDE/41_793.rrd\nhttps://geobases.static.es.gov.br/public/MAP_ES_2012_2015/MDE/41_794.img\nhttps://geobases.static.es.gov.br/public/MAP_ES_2012_2015/MDE/41_794.img.xml\nhttps://geobases.static.es.gov.br/public/MAP_ES_2012_2015/MDE/41_794.rrd\nhttps://geobases.static.es.gov.br/public/MAP_ES_2012_2015/MDE/41_795.img\nhttps://geobases.static.es.gov.br/public/MAP_ES_2012_2015/MDE/41_795.img.xml\nhttps://geobases.static.es.gov.br/public/MAP_ES_2012_2015/MDE/41_795.rrd\nhttps://geobases.static.es.gov.br/public/MAP_ES_2012_2015/MDE/41_796.img\nhttps://geobases.static.es.gov.br/public/MAP_ES_2012_2015/MDE/41_796.img.xml\nhttps://geobases.static.es.gov.br/public/MAP_ES_2012_2015/MDE/41_796.rrd\nhttps://geobases.static.es.gov.br/public/MAP_ES_2012_2015/MDE/41_797.img\nhttps://geobases.static.es.gov.br/public/MAP_ES_2012_2015/MDE/41_797.img.xml\nhttps://geobases.static.es.gov.br/public/MAP_ES_2012_2015/MDE/41_797.rrd\nhttps://geobases.static.es.gov.br/public/MAP_ES_2012_2015/MDE/41_798.img\nhttps://geobases.static.es.gov.br/public/MAP_ES_2012_2015/MDE/41_798.img.xml\nhttps://geobases.static.es.gov.br/public/MAP_ES_2012_2015/MDE/41_798.rrd\nhttps://geobases.static.es.gov.br/public/MAP_ES_2012_2015/MDE/41_799.img\nhttps://geobases.static.es.gov.br/public/MAP_ES_2012_2015/MDE/41_799.img.xml\nhttps://geobases.static.es.gov.br/public/MAP_ES_2012_2015/MDE/41_799.rrd\nhttps://geobases.static.es.gov.br/public/MAP_ES_2012_2015/MDE/42_784.img\nhttps://geobases.static.es.gov.br/public/MAP_ES_2012_2015/MDE/42_784.img.xml\nhttps://geobases.static.es.gov.br/public/MAP_ES_2012_2015/MDE/42_784.rrd\nhttps://geobases.static.es.gov.br/public/MAP_ES_2012_2015/MDE/42_785.img\nhttps://geobases.static.es.gov.br/public/MAP_ES_2012_2015/MDE/42_785.img.xml\nhttps://geobases.static.es.gov.br/public/MAP_ES_2012_2015/MDE/42_785.rrd\nhttps://geobases.static.es.gov.br/public/MAP_ES_2012_2015/MDE/42_786.img\nhttps://geobases.static.es.gov.br/public/MAP_ES_2012_2015/MDE/42_786.img.xml\nhttps://geobases.static.es.gov.br/public/MAP_ES_2012_2015/MDE/42_786.rrd\nhttps://geobases.static.es.gov.br/public/MAP_ES_2012_2015/MDE/42_787.img\nhttps://geobases.static.es.gov.br/public/MAP_ES_2012_2015/MDE/42_787.img.xml\nhttps://geobases.static.es.gov.br/public/MAP_ES_2012_2015/MDE/42_787.rrd\nhttps://geobases.static.es.gov.br/public/MAP_ES_2012_2015/MDE/42_788.img\nhttps://geobases.static.es.gov.br/public/MAP_ES_2012_2015/MDE/42_788.img.xml\nhttps://geobases.static.es.gov.br/public/MAP_ES_2012_2015/MDE/42_788.rrd\nhttps://geobases.static.es.gov.br/public/MAP_ES_2012_2015/MDE/42_789.img\nhttps://geobases.static.es.gov.br/public/MAP_ES_2012_2015/MDE/42_789.img.xml\nhttps://geobases.static.es.gov.br/public/MAP_ES_2012_2015/MDE/42_789.rrd\nhttps://geobases.static.es.gov.br/public/MAP_ES_2012_2015/MDE/42_790.img\nhttps://geobases.static.es.gov.br/public/MAP_ES_2012_2015/MDE/42_790.img.xml\nhttps://geobases.static.es.gov.br/public/MAP_ES_2012_2015/MDE/42_790.rrd\nhttps://geobases.static.es.gov.br/public/MAP_ES_2012_2015/MDE/42_791.img\nhttps://geobases.static.es.gov.br/public/MAP_ES_2012_2015/MDE/42_791.img.xml\nhttps://geobases.static.es.gov.br/public/MAP_ES_2012_2015/MDE/42_791.rrd\nhttps://geobases.static.es.gov.br/public/MAP_ES_2012_2015/MDE/42_792.img\nhttps://geobases.static.es.gov.br/public/MAP_ES_2012_2015/MDE/42_792.img.xml\nhttps://geobases.static.es.gov.br/public/MAP_ES_2012_2015/MDE/42_792.rrd\nhttps://geobases.static.es.gov.br/public/MAP_ES_2012_2015/MDE/42_793.img\nhttps://geobases.static.es.gov.br/public/MAP_ES_2012_2015/MDE/42_793.img.xml\nhttps://geobases.static.es.gov.br/public/MAP_ES_2012_2015/MDE/42_793.rrd\nhttps://geobases.static.es.gov.br/public/MAP_ES_2012_2015/MDE/42_794.img\nhttps://geobases.static.es.gov.br/public/MAP_ES_2012_2015/MDE/42_794.img.xml\nhttps://geobases.static.es.gov.br/public/MAP_ES_2012_2015/MDE/42_794.rrd\nhttps://geobases.static.es.gov.br/public/MAP_ES_2012_2015/MDE/42_795.img\nhttps://geobases.static.es.gov.br/public/MAP_ES_2012_2015/MDE/42_795.img.xml\nhttps://geobases.static.es.gov.br/public/MAP_ES_2012_2015/MDE/42_795.rrd\nhttps://geobases.static.es.gov.br/public/MAP_ES_2012_2015/MDE/42_796.img\nhttps://geobases.static.es.gov.br/public/MAP_ES_2012_2015/MDE/42_796.img.xml\nhttps://geobases.static.es.gov.br/public/MAP_ES_2012_2015/MDE/42_796.rrd\nhttps://geobases.static.es.gov.br/public/MAP_ES_2012_2015/MDE/42_797.img\nhttps://geobases.static.es.gov.br/public/MAP_ES_2012_2015/MDE/42_797.img.xml\nhttps://geobases.static.es.gov.br/public/MAP_ES_2012_2015/MDE/42_797.rrd\nhttps://geobases.static.es.gov.br/public/MAP_ES_2012_2015/MDE/42_798.img\nhttps://geobases.static.es.gov.br/public/MAP_ES_2012_2015/MDE/42_798.img.xml\nhttps://geobases.static.es.gov.br/public/MAP_ES_2012_2015/MDE/42_798.rrd\nhttps://geobases.static.es.gov.br/public/MAP_ES_2012_2015/MDE/42_799.img\nhttps://geobases.static.es.gov.br/public/MAP_ES_2012_2015/MDE/42_799.img.xml\nhttps://geobases.static.es.gov.br/public/MAP_ES_2012_2015/MDE/42_799.rrd\nhttps://geobases.static.es.gov.br/public/MAP_ES_2012_2015/MDE/43_798.img\nhttps://geobases.static.es.gov.br/public/MAP_ES_2012_2015/MDE/43_798.img.xml\nhttps://geobases.static.es.gov.br/public/MAP_ES_2012_2015/MDE/43_798.rrd\n"
     ]
    }
   ],
   "source": [
    "dsm_link_list = \"https://geobases.static.es.gov.br/public/MAP_ES_2012_2015/MAP_ES_2012_2015_MDE_URL_LIST.txt\"\n",
    "\n",
    "\n",
    "textstring = requests.get(dsm_link_list).text\n",
    "\n",
    "print(textstring)"
   ]
  },
  {
   "cell_type": "code",
   "execution_count": 19,
   "metadata": {},
   "outputs": [],
   "source": [
    "import subprocess, json\n",
    "\n",
    "sample_url = \"https://geobases.static.es.gov.br/public/MAP_ES_2012_2015/MDE/39_781.img\"\n",
    "\n",
    "\n",
    "def  parseGdalinfoJson(inputpath,print_runstring=False,from_www=True,optionals = '',print_outstring=False):\n",
    "    '''\n",
    "        Parse GDALINFO from a OGR compliant image as json. The image can be web-hosted or no.\n",
    "    '''\n",
    "\n",
    "    url_preffix = ''\n",
    "\n",
    "    if from_www:\n",
    "        url_preffix = '/vsicurl/'\n",
    "\n",
    "    # if quoted_path:\n",
    "    #     inputpath = '\"'+inputpath+'\"'\n",
    "\n",
    "    runstring = f'gdalinfo \"{url_preffix}{inputpath}\" -json -stats -checksum {optionals}'\n",
    "\n",
    "    if print_runstring:\n",
    "        print(runstring)\n",
    "    \n",
    "    out = subprocess.run(runstring,shell=True,stdout=subprocess.PIPE)\n",
    "\n",
    "    as_str = out.stdout.decode('utf-8').replace('\\\\n','')\n",
    "\n",
    "    if print_outstring:\n",
    "        print(as_str)\n",
    "\n",
    "    as_dict = json.loads(as_str)\n",
    "\n",
    "    return as_dict\n"
   ]
  },
  {
   "cell_type": "code",
   "execution_count": 20,
   "metadata": {},
   "outputs": [
    {
     "output_type": "stream",
     "name": "stdout",
     "text": [
      "gdalinfo \"/vsicurl/https://geobases.static.es.gov.br/public/MAP_ES_2012_2015/MDE/39_781.img\" -json -stats -checksum \n",
      "{\n",
      "  \"description\":\"\\/vsicurl\\/https:\\/\\/geobases.static.es.gov.br\\/public\\/MAP_ES_2012_2015\\/MDE\\/39_781.img\",\n",
      "  \"driverShortName\":\"HFA\",\n",
      "  \"driverLongName\":\"Erdas Imagine Images (.img)\",\n",
      "  \"files\":[\n",
      "    \"\\/vsicurl\\/https:\\/\\/geobases.static.es.gov.br\\/public\\/MAP_ES_2012_2015\\/MDE\\/39_781.img\",\n",
      "    \"\\/vsicurl\\/https:\\/\\/geobases.static.es.gov.br\\/public\\/MAP_ES_2012_2015\\/MDE\\/39_781.rrd\"\n",
      "  ],\n",
      "  \"size\":[\n",
      "    5002,\n",
      "    5002\n",
      "  ],\n",
      "  \"coordinateSystem\":{\n",
      "    \"wkt\":\"BOUNDCRS[    SOURCECRS[        PROJCRS[\\\"SIRGAS_2000_UTM_Zone_24S\\\",            BASEGEOGCRS[\\\"SIRGAS_2000\\\",                DATUM[\\\"Sistema de Referencia Geocentrico para las AmericaS 2000\\\",                    ELLIPSOID[\\\"GRS_1980\\\",6378137,298.257222101004,                        LENGTHUNIT[\\\"metre\\\",1]],                    ID[\\\"EPSG\\\",6674]],                PRIMEM[\\\"Greenwich\\\",0,                    ANGLEUNIT[\\\"degree\\\",0.0174532925199433,                        ID[\\\"EPSG\\\",9122]]]],            CONVERSION[\\\"UTM zone 24S\\\",                METHOD[\\\"Transverse Mercator\\\",                    ID[\\\"EPSG\\\",9807]],                PARAMETER[\\\"Latitude of natural origin\\\",0,                    ANGLEUNIT[\\\"degree\\\",0.0174532925199433],                    ID[\\\"EPSG\\\",8801]],                PARAMETER[\\\"Longitude of natural origin\\\",-39,                    ANGLEUNIT[\\\"degree\\\",0.0174532925199433],                    ID[\\\"EPSG\\\",8802]],                PARAMETER[\\\"Scale factor at natural origin\\\",0.9996,                    SCALEUNIT[\\\"unity\\\",1],                    ID[\\\"EPSG\\\",8805]],                PARAMETER[\\\"False easting\\\",500000,                    LENGTHUNIT[\\\"meters\\\",1],                    ID[\\\"EPSG\\\",8806]],                PARAMETER[\\\"False northing\\\",10000000,                    LENGTHUNIT[\\\"meters\\\",1],                    ID[\\\"EPSG\\\",8807]],                ID[\\\"EPSG\\\",17024]],            CS[Cartesian,2],                AXIS[\\\"easting\\\",east,                    ORDER[1],                    LENGTHUNIT[\\\"meters\\\",1]],                AXIS[\\\"northing\\\",north,                    ORDER[2],                    LENGTHUNIT[\\\"meters\\\",1]]]],    TARGETCRS[        GEOGCRS[\\\"WGS 84\\\",            DATUM[\\\"World Geodetic System 1984\\\",                ELLIPSOID[\\\"WGS 84\\\",6378137,298.257223563,                    LENGTHUNIT[\\\"metre\\\",1]]],            PRIMEM[\\\"Greenwich\\\",0,                ANGLEUNIT[\\\"degree\\\",0.0174532925199433]],            CS[ellipsoidal,2],                AXIS[\\\"latitude\\\",north,                    ORDER[1],                    ANGLEUNIT[\\\"degree\\\",0.0174532925199433]],                AXIS[\\\"longitude\\\",east,                    ORDER[2],                    ANGLEUNIT[\\\"degree\\\",0.0174532925199433]],            ID[\\\"EPSG\\\",4326]]],    ABRIDGEDTRANSFORMATION[\\\"Transformation from SIRGAS_2000 to WGS84\\\",        METHOD[\\\"Position Vector transformation (geog2D domain)\\\",            ID[\\\"EPSG\\\",9606]],        PARAMETER[\\\"X-axis translation\\\",0,            ID[\\\"EPSG\\\",8605]],        PARAMETER[\\\"Y-axis translation\\\",0,            ID[\\\"EPSG\\\",8606]],        PARAMETER[\\\"Z-axis translation\\\",0,            ID[\\\"EPSG\\\",8607]],        PARAMETER[\\\"X-axis rotation\\\",0,            ID[\\\"EPSG\\\",8608]],        PARAMETER[\\\"Y-axis rotation\\\",0,            ID[\\\"EPSG\\\",8609]],        PARAMETER[\\\"Z-axis rotation\\\",0,            ID[\\\"EPSG\\\",8610]],        PARAMETER[\\\"Scale difference\\\",1,            ID[\\\"EPSG\\\",8611]]]]\",\n",
      "    \"dataAxisToSRSAxisMapping\":[\n",
      "      1,\n",
      "      2\n",
      "    ]\n",
      "  },\n",
      "  \"geoTransform\":[\n",
      "    389998.0001220703125,\n",
      "    2.0,\n",
      "    0.0,\n",
      "    7810002.0001220712438226,\n",
      "    0.0,\n",
      "    -2.0\n",
      "  ],\n",
      "  \"metadata\":{\n",
      "  },\n",
      "  \"cornerCoordinates\":{\n",
      "    \"upperLeft\":[\n",
      "      389998.0,\n",
      "      7810002.0\n",
      "    ],\n",
      "    \"lowerLeft\":[\n",
      "      389998.0,\n",
      "      7799998.0\n",
      "    ],\n",
      "    \"lowerRight\":[\n",
      "      400002.0,\n",
      "      7799998.0\n",
      "    ],\n",
      "    \"upperRight\":[\n",
      "      400002.0,\n",
      "      7810002.0\n",
      "    ],\n",
      "    \"center\":[\n",
      "      395000.0,\n",
      "      7805000.0\n",
      "    ]\n",
      "  },\n",
      "  \"wgs84Extent\":{\n",
      "    \"type\":\"Polygon\",\n",
      "    \"coordinates\":[\n",
      "      [\n",
      "        [\n",
      "          -40.0502443,\n",
      "          -19.8027731\n",
      "        ],\n",
      "        [\n",
      "          -40.050839,\n",
      "          -19.8931624\n",
      "        ],\n",
      "        [\n",
      "          -39.9552822,\n",
      "          -19.8937009\n",
      "        ],\n",
      "        [\n",
      "          -39.9547415,\n",
      "          -19.803309\n",
      "        ],\n",
      "        [\n",
      "          -40.0502443,\n",
      "          -19.8027731\n",
      "        ]\n",
      "      ]\n",
      "    ]\n",
      "  },\n",
      "  \"rat\":{\n",
      "    \"row0Min\":1.0,\n",
      "    \"binSize\":1.0,\n",
      "    \"tableType\":\"athematic\",\n",
      "    \"fieldDefn\":[\n",
      "      {\n",
      "        \"index\":0,\n",
      "        \"name\":\"Histogram\",\n",
      "        \"type\":1,\n",
      "        \"usage\":1\n",
      "      }\n",
      "    ],\n",
      "    \"row\":[\n",
      "      {\n",
      "        \"index\":0,\n",
      "        \"f\":[\n",
      "          700.0\n",
      "        ]\n",
      "      },\n",
      "      {\n",
      "        \"index\":1,\n",
      "        \"f\":[\n",
      "          800.0\n",
      "        ]\n",
      "      },\n",
      "      {\n",
      "        \"index\":2,\n",
      "        \"f\":[\n",
      "          1250.0\n",
      "        ]\n",
      "      },\n",
      "      {\n",
      "        \"index\":3,\n",
      "        \"f\":[\n",
      "          975.0\n",
      "        ]\n",
      "      },\n",
      "      {\n",
      "        \"index\":4,\n",
      "        \"f\":[\n",
      "          1925.0\n",
      "        ]\n",
      "      },\n",
      "      {\n",
      "        \"index\":5,\n",
      "        \"f\":[\n",
      "          5175.0\n",
      "        ]\n",
      "      },\n",
      "      {\n",
      "        \"index\":6,\n",
      "        \"f\":[\n",
      "          4550.0\n",
      "        ]\n",
      "      },\n",
      "      {\n",
      "        \"index\":7,\n",
      "        \"f\":[\n",
      "          2850.0\n",
      "        ]\n",
      "      },\n",
      "      {\n",
      "        \"index\":8,\n",
      "        \"f\":[\n",
      "          1850.0\n",
      "        ]\n",
      "      },\n",
      "      {\n",
      "        \"index\":9,\n",
      "        \"f\":[\n",
      "          1425.0\n",
      "        ]\n",
      "      },\n",
      "      {\n",
      "        \"index\":10,\n",
      "        \"f\":[\n",
      "          1325.0\n",
      "        ]\n",
      "      },\n",
      "      {\n",
      "        \"index\":11,\n",
      "        \"f\":[\n",
      "          1025.0\n",
      "        ]\n",
      "      },\n",
      "      {\n",
      "        \"index\":12,\n",
      "        \"f\":[\n",
      "          1100.0\n",
      "        ]\n",
      "      },\n",
      "      {\n",
      "        \"index\":13,\n",
      "        \"f\":[\n",
      "          650.0\n",
      "        ]\n",
      "      },\n",
      "      {\n",
      "        \"index\":14,\n",
      "        \"f\":[\n",
      "          150.0\n",
      "        ]\n",
      "      },\n",
      "      {\n",
      "        \"index\":15,\n",
      "        \"f\":[\n",
      "          175.0\n",
      "        ]\n",
      "      },\n",
      "      {\n",
      "        \"index\":16,\n",
      "        \"f\":[\n",
      "          25.0\n",
      "        ]\n",
      "      }\n",
      "    ]\n",
      "  },\n",
      "  \"bands\":[\n",
      "    {\n",
      "      \"band\":1,\n",
      "      \"block\":[\n",
      "        64,\n",
      "        64\n",
      "      ],\n",
      "      \"type\":\"UInt16\",\n",
      "      \"colorInterpretation\":\"Undefined\",\n",
      "      \"description\":\"Layer_1\",\n",
      "      \"min\":1.0,\n",
      "      \"max\":17.0,\n",
      "      \"minimum\":1.0,\n",
      "      \"maximum\":17.0,\n",
      "      \"mean\":7.396,\n",
      "      \"stdDev\":3.108,\n",
      "      \"checksum\":48913,\n",
      "      \"noDataValue\":0.0,\n",
      "      \"overviews\":[\n",
      "        {\n",
      "          \"size\":[\n",
      "            2501,\n",
      "            2501\n",
      "          ],\n",
      "          \"checksum\":45068\n",
      "        },\n",
      "        {\n",
      "          \"size\":[\n",
      "            1251,\n",
      "            1251\n",
      "          ],\n",
      "          \"checksum\":11651\n",
      "        },\n",
      "        {\n",
      "          \"size\":[\n",
      "            626,\n",
      "            626\n",
      "          ],\n",
      "          \"checksum\":3057\n",
      "        },\n",
      "        {\n",
      "          \"size\":[\n",
      "            313,\n",
      "            313\n",
      "          ],\n",
      "          \"checksum\":756\n",
      "        },\n",
      "        {\n",
      "          \"size\":[\n",
      "            157,\n",
      "            157\n",
      "          ],\n",
      "          \"checksum\":211\n",
      "        },\n",
      "        {\n",
      "          \"size\":[\n",
      "            79,\n",
      "            79\n",
      "          ],\n",
      "          \"checksum\":68\n",
      "        },\n",
      "        {\n",
      "          \"size\":[\n",
      "            40,\n",
      "            40\n",
      "          ],\n",
      "          \"checksum\":19\n",
      "        }\n",
      "      ],\n",
      "      \"metadata\":{\n",
      "        \"\":{\n",
      "          \"LAYER_TYPE\":\"athematic\",\n",
      "          \"STATISTICS_EXCLUDEDVALUES\":\"0\",\n",
      "          \"STATISTICS_HISTOBINVALUES\":\"700|800|1250|975|1925|5175|4550|2850|1850|1425|1325|1025|1100|650|150|175|25|\",\n",
      "          \"STATISTICS_HISTOMAX\":\"17\",\n",
      "          \"STATISTICS_HISTOMIN\":\"1\",\n",
      "          \"STATISTICS_HISTONUMBINS\":\"17\",\n",
      "          \"STATISTICS_MAXIMUM\":\"17\",\n",
      "          \"STATISTICS_MEAN\":\"7.3959537572254\",\n",
      "          \"STATISTICS_MEDIAN\":\"7\",\n",
      "          \"STATISTICS_MINIMUM\":\"1\",\n",
      "          \"STATISTICS_MODE\":\"6\",\n",
      "          \"STATISTICS_SKIPFACTORX\":\"5\",\n",
      "          \"STATISTICS_SKIPFACTORY\":\"5\",\n",
      "          \"STATISTICS_STDDEV\":\"3.1078745610394\"\n",
      "        }\n",
      "      }\n",
      "    }\n",
      "  ]\n",
      "}\n"
     ]
    }
   ],
   "source": [
    "stats_dict_sample = parseGdalinfoJson(sample_url,print_runstring=True,print_outstring=True)"
   ]
  },
  {
   "cell_type": "code",
   "execution_count": 86,
   "metadata": {},
   "outputs": [
    {
     "output_type": "stream",
     "name": "stdout",
     "text": [
      "[[-40.0502443, -19.8027731], [-40.050839, -19.8931624], [-39.9552822, -19.8937009], [-39.9547415, -19.803309], [-40.0502443, -19.8027731]]\n"
     ]
    }
   ],
   "source": [
    " with open('test_gdalinfo_out.json','w+') as handle:\n",
    "    json.dump(stats_dict_sample,handle)\n",
    "\n",
    "pol_as_list = stats_dict_sample['wgs84Extent']['coordinates'][0]\n",
    "print(pol_as_list)\n",
    "\n"
   ]
  },
  {
   "cell_type": "code",
   "execution_count": 26,
   "metadata": {},
   "outputs": [
    {
     "output_type": "stream",
     "name": "stdout",
     "text": [
      "48913\n48913\n"
     ]
    }
   ],
   "source": [
    "print(stats_dict_sample['bands'][0]['checksum'])\n",
    "\n",
    "\n",
    "for band in stats_dict_sample['bands']:\n",
    "    print(band['checksum'])"
   ]
  },
  {
   "cell_type": "code",
   "execution_count": 6,
   "metadata": {},
   "outputs": [],
   "source": [
    "from shapely.geometry import Polygon"
   ]
  },
  {
   "cell_type": "code",
   "execution_count": 7,
   "metadata": {},
   "outputs": [
    {
     "output_type": "stream",
     "name": "stdout",
     "text": [
      "POLYGON ((-40.0502443 -19.8027731, -40.050839 -19.8931624, -39.9552822 -19.8937009, -39.9547415 -19.803309, -40.0502443 -19.8027731))\n"
     ]
    }
   ],
   "source": [
    "sample_pol = Polygon(pol_as_list)\n",
    "\n",
    "print(sample_pol)"
   ]
  },
  {
   "cell_type": "code",
   "execution_count": 29,
   "metadata": {},
   "outputs": [
    {
     "output_type": "stream",
     "name": "stdout",
     "text": [
      "[[-40.0502443 -19.8027731]\n [-40.050839  -19.8931624]\n [-39.9552822 -19.8937009]\n [-39.9547415 -19.803309 ]\n [-40.0502443 -19.8027731]]\n[[-39.9002443 -19.6527731]\n [-39.900839  -19.7431624]\n [-39.8052822 -19.7437009]\n [-39.8047415 -19.653309 ]\n [-39.9002443 -19.6527731]]\n"
     ]
    }
   ],
   "source": [
    "import numpy as np\n",
    "\n",
    "pol_as_np = np.array(pol_as_list)\n",
    "\n",
    "pol_as_np2 = np.array(pol_as_list) + 0.15\n",
    "\n",
    "print(pol_as_np)\n",
    "print(pol_as_np2)"
   ]
  },
  {
   "cell_type": "code",
   "execution_count": 9,
   "metadata": {},
   "outputs": [
    {
     "output_type": "stream",
     "name": "stdout",
     "text": [
      "POLYGON ((-39.9502443 -19.7027731, -39.950839 -19.7931624, -39.8552822 -19.7937009, -39.8547415 -19.703309, -39.9502443 -19.7027731))\nPOLYGON ((-39.9002443 -19.6527731, -39.900839 -19.7431624, -39.8052822 -19.7437009, -39.8047415 -19.653309, -39.9002443 -19.6527731))\n"
     ]
    }
   ],
   "source": [
    "sample_pol2 = Polygon(pol_as_np)\n",
    "\n",
    "print(sample_pol2)\n",
    "\n",
    "sample_pol3 = Polygon(pol_as_np2)\n",
    "\n",
    "print(sample_pol3)"
   ]
  },
  {
   "cell_type": "code",
   "execution_count": 10,
   "metadata": {},
   "outputs": [
    {
     "output_type": "stream",
     "name": "stdout",
     "text": [
      "https://geobases.static.es.gov.br/public/MAP_ES_2012_2015/MDE/39_781.img\n"
     ]
    }
   ],
   "source": [
    "print(sample_url)"
   ]
  },
  {
   "cell_type": "code",
   "execution_count": 11,
   "metadata": {},
   "outputs": [
    {
     "output_type": "execute_result",
     "data": {
      "text/plain": [
       "'sample_img (1).img'"
      ]
     },
     "metadata": {},
     "execution_count": 11
    }
   ],
   "source": [
    "import wget\n",
    "\n",
    "wget.download(sample_url,'sample_img.img')"
   ]
  },
  {
   "cell_type": "code",
   "execution_count": 12,
   "metadata": {},
   "outputs": [
    {
     "output_type": "stream",
     "name": "stdout",
     "text": [
      "/public/MAP_ES_2012_2015/MDE/39_781.img\n39_781.img\n"
     ]
    }
   ],
   "source": [
    "import os\n",
    "from urllib.parse import urlparse\n",
    "\n",
    "a = urlparse(sample_url)\n",
    "print(a.path)                    \n",
    "print(os.path.basename(a.path))  \n",
    "\n",
    "b = urlparse(sample_url).path\n"
   ]
  },
  {
   "cell_type": "code",
   "execution_count": 13,
   "metadata": {
    "tags": [
     "outputPrepend"
    ]
   },
   "outputs": [
    {
     "output_type": "stream",
     "name": "stdout",
     "text": [
      "ttps://geobases.static.es.gov.br/public/MAP_ES_2012_2015/MDE/38_785.rrd\nhttps://geobases.static.es.gov.br/public/MAP_ES_2012_2015/MDE/38_786.img\nhttps://geobases.static.es.gov.br/public/MAP_ES_2012_2015/MDE/38_786.img.xml\nhttps://geobases.static.es.gov.br/public/MAP_ES_2012_2015/MDE/38_786.rrd\nhttps://geobases.static.es.gov.br/public/MAP_ES_2012_2015/MDE/38_787.img\nhttps://geobases.static.es.gov.br/public/MAP_ES_2012_2015/MDE/38_787.img.xml\nhttps://geobases.static.es.gov.br/public/MAP_ES_2012_2015/MDE/38_787.rrd\nhttps://geobases.static.es.gov.br/public/MAP_ES_2012_2015/MDE/38_788.img\nhttps://geobases.static.es.gov.br/public/MAP_ES_2012_2015/MDE/38_788.img.xml\nhttps://geobases.static.es.gov.br/public/MAP_ES_2012_2015/MDE/38_788.rrd\nhttps://geobases.static.es.gov.br/public/MAP_ES_2012_2015/MDE/38_789.img\nhttps://geobases.static.es.gov.br/public/MAP_ES_2012_2015/MDE/38_789.img.xml\nhttps://geobases.static.es.gov.br/public/MAP_ES_2012_2015/MDE/38_789.rrd\nhttps://geobases.static.es.gov.br/public/MAP_ES_2012_2015/MDE/38_790.img\nhttps://geobases.static.es.gov.br/public/MAP_ES_2012_2015/MDE/38_790.img.xml\nhttps://geobases.static.es.gov.br/public/MAP_ES_2012_2015/MDE/38_790.rrd\nhttps://geobases.static.es.gov.br/public/MAP_ES_2012_2015/MDE/38_791.img\nhttps://geobases.static.es.gov.br/public/MAP_ES_2012_2015/MDE/38_791.img.xml\nhttps://geobases.static.es.gov.br/public/MAP_ES_2012_2015/MDE/38_791.rrd\nhttps://geobases.static.es.gov.br/public/MAP_ES_2012_2015/MDE/38_792.img\nhttps://geobases.static.es.gov.br/public/MAP_ES_2012_2015/MDE/38_792.img.xml\nhttps://geobases.static.es.gov.br/public/MAP_ES_2012_2015/MDE/38_792.rrd\nhttps://geobases.static.es.gov.br/public/MAP_ES_2012_2015/MDE/38_793.img\nhttps://geobases.static.es.gov.br/public/MAP_ES_2012_2015/MDE/38_793.img.xml\nhttps://geobases.static.es.gov.br/public/MAP_ES_2012_2015/MDE/38_793.rrd\nhttps://geobases.static.es.gov.br/public/MAP_ES_2012_2015/MDE/38_794.img\nhttps://geobases.static.es.gov.br/public/MAP_ES_2012_2015/MDE/38_794.img.xml\nhttps://geobases.static.es.gov.br/public/MAP_ES_2012_2015/MDE/38_794.rrd\nhttps://geobases.static.es.gov.br/public/MAP_ES_2012_2015/MDE/38_795.img\nhttps://geobases.static.es.gov.br/public/MAP_ES_2012_2015/MDE/38_795.img.xml\nhttps://geobases.static.es.gov.br/public/MAP_ES_2012_2015/MDE/38_795.rrd\nhttps://geobases.static.es.gov.br/public/MAP_ES_2012_2015/MDE/38_796.img\nhttps://geobases.static.es.gov.br/public/MAP_ES_2012_2015/MDE/38_796.img.xml\nhttps://geobases.static.es.gov.br/public/MAP_ES_2012_2015/MDE/38_796.rrd\nhttps://geobases.static.es.gov.br/public/MAP_ES_2012_2015/MDE/38_797.img\nhttps://geobases.static.es.gov.br/public/MAP_ES_2012_2015/MDE/38_797.img.xml\nhttps://geobases.static.es.gov.br/public/MAP_ES_2012_2015/MDE/38_797.rrd\nhttps://geobases.static.es.gov.br/public/MAP_ES_2012_2015/MDE/38_798.img\nhttps://geobases.static.es.gov.br/public/MAP_ES_2012_2015/MDE/38_798.img.xml\nhttps://geobases.static.es.gov.br/public/MAP_ES_2012_2015/MDE/38_798.rrd\nhttps://geobases.static.es.gov.br/public/MAP_ES_2012_2015/MDE/38_799.img\nhttps://geobases.static.es.gov.br/public/MAP_ES_2012_2015/MDE/38_799.img.xml\nhttps://geobases.static.es.gov.br/public/MAP_ES_2012_2015/MDE/38_799.rrd\nhttps://geobases.static.es.gov.br/public/MAP_ES_2012_2015/MDE/38_800.img\nhttps://geobases.static.es.gov.br/public/MAP_ES_2012_2015/MDE/38_800.img.xml\nhttps://geobases.static.es.gov.br/public/MAP_ES_2012_2015/MDE/38_800.rrd\nhttps://geobases.static.es.gov.br/public/MAP_ES_2012_2015/MDE/38_801.img\nhttps://geobases.static.es.gov.br/public/MAP_ES_2012_2015/MDE/38_801.img.xml\nhttps://geobases.static.es.gov.br/public/MAP_ES_2012_2015/MDE/38_801.rrd\nhttps://geobases.static.es.gov.br/public/MAP_ES_2012_2015/MDE/39_781.img\nhttps://geobases.static.es.gov.br/public/MAP_ES_2012_2015/MDE/39_781.img.xml\nhttps://geobases.static.es.gov.br/public/MAP_ES_2012_2015/MDE/39_781.rrd\nhttps://geobases.static.es.gov.br/public/MAP_ES_2012_2015/MDE/39_782.img\nhttps://geobases.static.es.gov.br/public/MAP_ES_2012_2015/MDE/39_782.img.xml\nhttps://geobases.static.es.gov.br/public/MAP_ES_2012_2015/MDE/39_782.rrd\nhttps://geobases.static.es.gov.br/public/MAP_ES_2012_2015/MDE/39_783.img\nhttps://geobases.static.es.gov.br/public/MAP_ES_2012_2015/MDE/39_783.img.xml\nhttps://geobases.static.es.gov.br/public/MAP_ES_2012_2015/MDE/39_783.rrd\nhttps://geobases.static.es.gov.br/public/MAP_ES_2012_2015/MDE/39_784.img\nhttps://geobases.static.es.gov.br/public/MAP_ES_2012_2015/MDE/39_784.img.xml\nhttps://geobases.static.es.gov.br/public/MAP_ES_2012_2015/MDE/39_784.rrd\nhttps://geobases.static.es.gov.br/public/MAP_ES_2012_2015/MDE/39_785.img\nhttps://geobases.static.es.gov.br/public/MAP_ES_2012_2015/MDE/39_785.img.xml\nhttps://geobases.static.es.gov.br/public/MAP_ES_2012_2015/MDE/39_785.rrd\nhttps://geobases.static.es.gov.br/public/MAP_ES_2012_2015/MDE/39_786.img\nhttps://geobases.static.es.gov.br/public/MAP_ES_2012_2015/MDE/39_786.img.xml\nhttps://geobases.static.es.gov.br/public/MAP_ES_2012_2015/MDE/39_786.rrd\nhttps://geobases.static.es.gov.br/public/MAP_ES_2012_2015/MDE/39_787.img\nhttps://geobases.static.es.gov.br/public/MAP_ES_2012_2015/MDE/39_787.img.xml\nhttps://geobases.static.es.gov.br/public/MAP_ES_2012_2015/MDE/39_787.rrd\nhttps://geobases.static.es.gov.br/public/MAP_ES_2012_2015/MDE/39_788.img\nhttps://geobases.static.es.gov.br/public/MAP_ES_2012_2015/MDE/39_788.img.xml\nhttps://geobases.static.es.gov.br/public/MAP_ES_2012_2015/MDE/39_788.rrd\nhttps://geobases.static.es.gov.br/public/MAP_ES_2012_2015/MDE/39_789.img\nhttps://geobases.static.es.gov.br/public/MAP_ES_2012_2015/MDE/39_789.img.xml\nhttps://geobases.static.es.gov.br/public/MAP_ES_2012_2015/MDE/39_789.rrd\nhttps://geobases.static.es.gov.br/public/MAP_ES_2012_2015/MDE/39_790.img\nhttps://geobases.static.es.gov.br/public/MAP_ES_2012_2015/MDE/39_790.img.xml\nhttps://geobases.static.es.gov.br/public/MAP_ES_2012_2015/MDE/39_790.rrd\nhttps://geobases.static.es.gov.br/public/MAP_ES_2012_2015/MDE/39_791.img\nhttps://geobases.static.es.gov.br/public/MAP_ES_2012_2015/MDE/39_791.img.xml\nhttps://geobases.static.es.gov.br/public/MAP_ES_2012_2015/MDE/39_791.rrd\nhttps://geobases.static.es.gov.br/public/MAP_ES_2012_2015/MDE/39_792.img\nhttps://geobases.static.es.gov.br/public/MAP_ES_2012_2015/MDE/39_792.img.xml\nhttps://geobases.static.es.gov.br/public/MAP_ES_2012_2015/MDE/39_792.rrd\nhttps://geobases.static.es.gov.br/public/MAP_ES_2012_2015/MDE/39_793.img\nhttps://geobases.static.es.gov.br/public/MAP_ES_2012_2015/MDE/39_793.img.xml\nhttps://geobases.static.es.gov.br/public/MAP_ES_2012_2015/MDE/39_793.rrd\nhttps://geobases.static.es.gov.br/public/MAP_ES_2012_2015/MDE/39_794.img\nhttps://geobases.static.es.gov.br/public/MAP_ES_2012_2015/MDE/39_794.img.xml\nhttps://geobases.static.es.gov.br/public/MAP_ES_2012_2015/MDE/39_794.rrd\nhttps://geobases.static.es.gov.br/public/MAP_ES_2012_2015/MDE/39_795.img\nhttps://geobases.static.es.gov.br/public/MAP_ES_2012_2015/MDE/39_795.img.xml\nhttps://geobases.static.es.gov.br/public/MAP_ES_2012_2015/MDE/39_795.rrd\nhttps://geobases.static.es.gov.br/public/MAP_ES_2012_2015/MDE/39_796.img\nhttps://geobases.static.es.gov.br/public/MAP_ES_2012_2015/MDE/39_796.img.xml\nhttps://geobases.static.es.gov.br/public/MAP_ES_2012_2015/MDE/39_796.rrd\nhttps://geobases.static.es.gov.br/public/MAP_ES_2012_2015/MDE/39_797.img\nhttps://geobases.static.es.gov.br/public/MAP_ES_2012_2015/MDE/39_797.img.xml\nhttps://geobases.static.es.gov.br/public/MAP_ES_2012_2015/MDE/39_797.rrd\nhttps://geobases.static.es.gov.br/public/MAP_ES_2012_2015/MDE/39_798.img\nhttps://geobases.static.es.gov.br/public/MAP_ES_2012_2015/MDE/39_798.img.xml\nhttps://geobases.static.es.gov.br/public/MAP_ES_2012_2015/MDE/39_798.rrd\nhttps://geobases.static.es.gov.br/public/MAP_ES_2012_2015/MDE/39_799.img\nhttps://geobases.static.es.gov.br/public/MAP_ES_2012_2015/MDE/39_799.img.xml\nhttps://geobases.static.es.gov.br/public/MAP_ES_2012_2015/MDE/39_799.rrd\nhttps://geobases.static.es.gov.br/public/MAP_ES_2012_2015/MDE/39_800.img\nhttps://geobases.static.es.gov.br/public/MAP_ES_2012_2015/MDE/39_800.img.xml\nhttps://geobases.static.es.gov.br/public/MAP_ES_2012_2015/MDE/39_800.rrd\nhttps://geobases.static.es.gov.br/public/MAP_ES_2012_2015/MDE/40_782.img\nhttps://geobases.static.es.gov.br/public/MAP_ES_2012_2015/MDE/40_782.img.xml\nhttps://geobases.static.es.gov.br/public/MAP_ES_2012_2015/MDE/40_782.rrd\nhttps://geobases.static.es.gov.br/public/MAP_ES_2012_2015/MDE/40_783.img\nhttps://geobases.static.es.gov.br/public/MAP_ES_2012_2015/MDE/40_783.img.xml\nhttps://geobases.static.es.gov.br/public/MAP_ES_2012_2015/MDE/40_783.rrd\nhttps://geobases.static.es.gov.br/public/MAP_ES_2012_2015/MDE/40_784.img\nhttps://geobases.static.es.gov.br/public/MAP_ES_2012_2015/MDE/40_784.img.xml\nhttps://geobases.static.es.gov.br/public/MAP_ES_2012_2015/MDE/40_784.rrd\nhttps://geobases.static.es.gov.br/public/MAP_ES_2012_2015/MDE/40_785.img\nhttps://geobases.static.es.gov.br/public/MAP_ES_2012_2015/MDE/40_785.img.xml\nhttps://geobases.static.es.gov.br/public/MAP_ES_2012_2015/MDE/40_785.rrd\nhttps://geobases.static.es.gov.br/public/MAP_ES_2012_2015/MDE/40_786.img\nhttps://geobases.static.es.gov.br/public/MAP_ES_2012_2015/MDE/40_786.img.xml\nhttps://geobases.static.es.gov.br/public/MAP_ES_2012_2015/MDE/40_786.rrd\nhttps://geobases.static.es.gov.br/public/MAP_ES_2012_2015/MDE/40_787.img\nhttps://geobases.static.es.gov.br/public/MAP_ES_2012_2015/MDE/40_787.img.xml\nhttps://geobases.static.es.gov.br/public/MAP_ES_2012_2015/MDE/40_787.rrd\nhttps://geobases.static.es.gov.br/public/MAP_ES_2012_2015/MDE/40_788.img\nhttps://geobases.static.es.gov.br/public/MAP_ES_2012_2015/MDE/40_788.img.xml\nhttps://geobases.static.es.gov.br/public/MAP_ES_2012_2015/MDE/40_788.rrd\nhttps://geobases.static.es.gov.br/public/MAP_ES_2012_2015/MDE/40_789.img\nhttps://geobases.static.es.gov.br/public/MAP_ES_2012_2015/MDE/40_789.img.xml\nhttps://geobases.static.es.gov.br/public/MAP_ES_2012_2015/MDE/40_789.rrd\nhttps://geobases.static.es.gov.br/public/MAP_ES_2012_2015/MDE/40_790.img\nhttps://geobases.static.es.gov.br/public/MAP_ES_2012_2015/MDE/40_790.img.xml\nhttps://geobases.static.es.gov.br/public/MAP_ES_2012_2015/MDE/40_790.rrd\nhttps://geobases.static.es.gov.br/public/MAP_ES_2012_2015/MDE/40_791.img\nhttps://geobases.static.es.gov.br/public/MAP_ES_2012_2015/MDE/40_791.img.xml\nhttps://geobases.static.es.gov.br/public/MAP_ES_2012_2015/MDE/40_791.rrd\nhttps://geobases.static.es.gov.br/public/MAP_ES_2012_2015/MDE/40_792.img\nhttps://geobases.static.es.gov.br/public/MAP_ES_2012_2015/MDE/40_792.img.xml\nhttps://geobases.static.es.gov.br/public/MAP_ES_2012_2015/MDE/40_792.rrd\nhttps://geobases.static.es.gov.br/public/MAP_ES_2012_2015/MDE/40_793.img\nhttps://geobases.static.es.gov.br/public/MAP_ES_2012_2015/MDE/40_793.img.xml\nhttps://geobases.static.es.gov.br/public/MAP_ES_2012_2015/MDE/40_793.rrd\nhttps://geobases.static.es.gov.br/public/MAP_ES_2012_2015/MDE/40_794.img\nhttps://geobases.static.es.gov.br/public/MAP_ES_2012_2015/MDE/40_794.img.xml\nhttps://geobases.static.es.gov.br/public/MAP_ES_2012_2015/MDE/40_794.rrd\nhttps://geobases.static.es.gov.br/public/MAP_ES_2012_2015/MDE/40_795.img\nhttps://geobases.static.es.gov.br/public/MAP_ES_2012_2015/MDE/40_795.img.xml\nhttps://geobases.static.es.gov.br/public/MAP_ES_2012_2015/MDE/40_795.rrd\nhttps://geobases.static.es.gov.br/public/MAP_ES_2012_2015/MDE/40_796.img\nhttps://geobases.static.es.gov.br/public/MAP_ES_2012_2015/MDE/40_796.img.xml\nhttps://geobases.static.es.gov.br/public/MAP_ES_2012_2015/MDE/40_796.rrd\nhttps://geobases.static.es.gov.br/public/MAP_ES_2012_2015/MDE/40_797.img\nhttps://geobases.static.es.gov.br/public/MAP_ES_2012_2015/MDE/40_797.img.xml\nhttps://geobases.static.es.gov.br/public/MAP_ES_2012_2015/MDE/40_797.rrd\nhttps://geobases.static.es.gov.br/public/MAP_ES_2012_2015/MDE/40_798.img\nhttps://geobases.static.es.gov.br/public/MAP_ES_2012_2015/MDE/40_798.img.xml\nhttps://geobases.static.es.gov.br/public/MAP_ES_2012_2015/MDE/40_798.rrd\nhttps://geobases.static.es.gov.br/public/MAP_ES_2012_2015/MDE/40_799.img\nhttps://geobases.static.es.gov.br/public/MAP_ES_2012_2015/MDE/40_799.img.xml\nhttps://geobases.static.es.gov.br/public/MAP_ES_2012_2015/MDE/40_799.rrd\nhttps://geobases.static.es.gov.br/public/MAP_ES_2012_2015/MDE/40_800.img\nhttps://geobases.static.es.gov.br/public/MAP_ES_2012_2015/MDE/40_800.img.xml\nhttps://geobases.static.es.gov.br/public/MAP_ES_2012_2015/MDE/40_800.rrd\nhttps://geobases.static.es.gov.br/public/MAP_ES_2012_2015/MDE/41_783.img\nhttps://geobases.static.es.gov.br/public/MAP_ES_2012_2015/MDE/41_783.img.xml\nhttps://geobases.static.es.gov.br/public/MAP_ES_2012_2015/MDE/41_783.rrd\nhttps://geobases.static.es.gov.br/public/MAP_ES_2012_2015/MDE/41_784.img\nhttps://geobases.static.es.gov.br/public/MAP_ES_2012_2015/MDE/41_784.img.xml\nhttps://geobases.static.es.gov.br/public/MAP_ES_2012_2015/MDE/41_784.rrd\nhttps://geobases.static.es.gov.br/public/MAP_ES_2012_2015/MDE/41_785.img\nhttps://geobases.static.es.gov.br/public/MAP_ES_2012_2015/MDE/41_785.img.xml\nhttps://geobases.static.es.gov.br/public/MAP_ES_2012_2015/MDE/41_785.rrd\nhttps://geobases.static.es.gov.br/public/MAP_ES_2012_2015/MDE/41_786.img\nhttps://geobases.static.es.gov.br/public/MAP_ES_2012_2015/MDE/41_786.img.xml\nhttps://geobases.static.es.gov.br/public/MAP_ES_2012_2015/MDE/41_786.rrd\nhttps://geobases.static.es.gov.br/public/MAP_ES_2012_2015/MDE/41_787.img\nhttps://geobases.static.es.gov.br/public/MAP_ES_2012_2015/MDE/41_787.img.xml\nhttps://geobases.static.es.gov.br/public/MAP_ES_2012_2015/MDE/41_787.rrd\nhttps://geobases.static.es.gov.br/public/MAP_ES_2012_2015/MDE/41_788.img\nhttps://geobases.static.es.gov.br/public/MAP_ES_2012_2015/MDE/41_788.img.xml\nhttps://geobases.static.es.gov.br/public/MAP_ES_2012_2015/MDE/41_788.rrd\nhttps://geobases.static.es.gov.br/public/MAP_ES_2012_2015/MDE/41_789.img\nhttps://geobases.static.es.gov.br/public/MAP_ES_2012_2015/MDE/41_789.img.xml\nhttps://geobases.static.es.gov.br/public/MAP_ES_2012_2015/MDE/41_789.rrd\nhttps://geobases.static.es.gov.br/public/MAP_ES_2012_2015/MDE/41_790.img\nhttps://geobases.static.es.gov.br/public/MAP_ES_2012_2015/MDE/41_790.img.xml\nhttps://geobases.static.es.gov.br/public/MAP_ES_2012_2015/MDE/41_790.rrd\nhttps://geobases.static.es.gov.br/public/MAP_ES_2012_2015/MDE/41_791.img\nhttps://geobases.static.es.gov.br/public/MAP_ES_2012_2015/MDE/41_791.img.xml\nhttps://geobases.static.es.gov.br/public/MAP_ES_2012_2015/MDE/41_791.rrd\nhttps://geobases.static.es.gov.br/public/MAP_ES_2012_2015/MDE/41_792.img\nhttps://geobases.static.es.gov.br/public/MAP_ES_2012_2015/MDE/41_792.img.xml\nhttps://geobases.static.es.gov.br/public/MAP_ES_2012_2015/MDE/41_792.rrd\nhttps://geobases.static.es.gov.br/public/MAP_ES_2012_2015/MDE/41_793.img\nhttps://geobases.static.es.gov.br/public/MAP_ES_2012_2015/MDE/41_793.img.vat.dbf\nhttps://geobases.static.es.gov.br/public/MAP_ES_2012_2015/MDE/41_793.img.xml\nhttps://geobases.static.es.gov.br/public/MAP_ES_2012_2015/MDE/41_793.rrd\nhttps://geobases.static.es.gov.br/public/MAP_ES_2012_2015/MDE/41_794.img\nhttps://geobases.static.es.gov.br/public/MAP_ES_2012_2015/MDE/41_794.img.xml\nhttps://geobases.static.es.gov.br/public/MAP_ES_2012_2015/MDE/41_794.rrd\nhttps://geobases.static.es.gov.br/public/MAP_ES_2012_2015/MDE/41_795.img\nhttps://geobases.static.es.gov.br/public/MAP_ES_2012_2015/MDE/41_795.img.xml\nhttps://geobases.static.es.gov.br/public/MAP_ES_2012_2015/MDE/41_795.rrd\nhttps://geobases.static.es.gov.br/public/MAP_ES_2012_2015/MDE/41_796.img\nhttps://geobases.static.es.gov.br/public/MAP_ES_2012_2015/MDE/41_796.img.xml\nhttps://geobases.static.es.gov.br/public/MAP_ES_2012_2015/MDE/41_796.rrd\nhttps://geobases.static.es.gov.br/public/MAP_ES_2012_2015/MDE/41_797.img\nhttps://geobases.static.es.gov.br/public/MAP_ES_2012_2015/MDE/41_797.img.xml\nhttps://geobases.static.es.gov.br/public/MAP_ES_2012_2015/MDE/41_797.rrd\nhttps://geobases.static.es.gov.br/public/MAP_ES_2012_2015/MDE/41_798.img\nhttps://geobases.static.es.gov.br/public/MAP_ES_2012_2015/MDE/41_798.img.xml\nhttps://geobases.static.es.gov.br/public/MAP_ES_2012_2015/MDE/41_798.rrd\nhttps://geobases.static.es.gov.br/public/MAP_ES_2012_2015/MDE/41_799.img\nhttps://geobases.static.es.gov.br/public/MAP_ES_2012_2015/MDE/41_799.img.xml\nhttps://geobases.static.es.gov.br/public/MAP_ES_2012_2015/MDE/41_799.rrd\nhttps://geobases.static.es.gov.br/public/MAP_ES_2012_2015/MDE/42_784.img\nhttps://geobases.static.es.gov.br/public/MAP_ES_2012_2015/MDE/42_784.img.xml\nhttps://geobases.static.es.gov.br/public/MAP_ES_2012_2015/MDE/42_784.rrd\nhttps://geobases.static.es.gov.br/public/MAP_ES_2012_2015/MDE/42_785.img\nhttps://geobases.static.es.gov.br/public/MAP_ES_2012_2015/MDE/42_785.img.xml\nhttps://geobases.static.es.gov.br/public/MAP_ES_2012_2015/MDE/42_785.rrd\nhttps://geobases.static.es.gov.br/public/MAP_ES_2012_2015/MDE/42_786.img\nhttps://geobases.static.es.gov.br/public/MAP_ES_2012_2015/MDE/42_786.img.xml\nhttps://geobases.static.es.gov.br/public/MAP_ES_2012_2015/MDE/42_786.rrd\nhttps://geobases.static.es.gov.br/public/MAP_ES_2012_2015/MDE/42_787.img\nhttps://geobases.static.es.gov.br/public/MAP_ES_2012_2015/MDE/42_787.img.xml\nhttps://geobases.static.es.gov.br/public/MAP_ES_2012_2015/MDE/42_787.rrd\nhttps://geobases.static.es.gov.br/public/MAP_ES_2012_2015/MDE/42_788.img\nhttps://geobases.static.es.gov.br/public/MAP_ES_2012_2015/MDE/42_788.img.xml\nhttps://geobases.static.es.gov.br/public/MAP_ES_2012_2015/MDE/42_788.rrd\nhttps://geobases.static.es.gov.br/public/MAP_ES_2012_2015/MDE/42_789.img\nhttps://geobases.static.es.gov.br/public/MAP_ES_2012_2015/MDE/42_789.img.xml\nhttps://geobases.static.es.gov.br/public/MAP_ES_2012_2015/MDE/42_789.rrd\nhttps://geobases.static.es.gov.br/public/MAP_ES_2012_2015/MDE/42_790.img\nhttps://geobases.static.es.gov.br/public/MAP_ES_2012_2015/MDE/42_790.img.xml\nhttps://geobases.static.es.gov.br/public/MAP_ES_2012_2015/MDE/42_790.rrd\nhttps://geobases.static.es.gov.br/public/MAP_ES_2012_2015/MDE/42_791.img\nhttps://geobases.static.es.gov.br/public/MAP_ES_2012_2015/MDE/42_791.img.xml\nhttps://geobases.static.es.gov.br/public/MAP_ES_2012_2015/MDE/42_791.rrd\nhttps://geobases.static.es.gov.br/public/MAP_ES_2012_2015/MDE/42_792.img\nhttps://geobases.static.es.gov.br/public/MAP_ES_2012_2015/MDE/42_792.img.xml\nhttps://geobases.static.es.gov.br/public/MAP_ES_2012_2015/MDE/42_792.rrd\nhttps://geobases.static.es.gov.br/public/MAP_ES_2012_2015/MDE/42_793.img\nhttps://geobases.static.es.gov.br/public/MAP_ES_2012_2015/MDE/42_793.img.xml\nhttps://geobases.static.es.gov.br/public/MAP_ES_2012_2015/MDE/42_793.rrd\nhttps://geobases.static.es.gov.br/public/MAP_ES_2012_2015/MDE/42_794.img\nhttps://geobases.static.es.gov.br/public/MAP_ES_2012_2015/MDE/42_794.img.xml\nhttps://geobases.static.es.gov.br/public/MAP_ES_2012_2015/MDE/42_794.rrd\nhttps://geobases.static.es.gov.br/public/MAP_ES_2012_2015/MDE/42_795.img\nhttps://geobases.static.es.gov.br/public/MAP_ES_2012_2015/MDE/42_795.img.xml\nhttps://geobases.static.es.gov.br/public/MAP_ES_2012_2015/MDE/42_795.rrd\nhttps://geobases.static.es.gov.br/public/MAP_ES_2012_2015/MDE/42_796.img\nhttps://geobases.static.es.gov.br/public/MAP_ES_2012_2015/MDE/42_796.img.xml\nhttps://geobases.static.es.gov.br/public/MAP_ES_2012_2015/MDE/42_796.rrd\nhttps://geobases.static.es.gov.br/public/MAP_ES_2012_2015/MDE/42_797.img\nhttps://geobases.static.es.gov.br/public/MAP_ES_2012_2015/MDE/42_797.img.xml\nhttps://geobases.static.es.gov.br/public/MAP_ES_2012_2015/MDE/42_797.rrd\nhttps://geobases.static.es.gov.br/public/MAP_ES_2012_2015/MDE/42_798.img\nhttps://geobases.static.es.gov.br/public/MAP_ES_2012_2015/MDE/42_798.img.xml\nhttps://geobases.static.es.gov.br/public/MAP_ES_2012_2015/MDE/42_798.rrd\nhttps://geobases.static.es.gov.br/public/MAP_ES_2012_2015/MDE/42_799.img\nhttps://geobases.static.es.gov.br/public/MAP_ES_2012_2015/MDE/42_799.img.xml\nhttps://geobases.static.es.gov.br/public/MAP_ES_2012_2015/MDE/42_799.rrd\nhttps://geobases.static.es.gov.br/public/MAP_ES_2012_2015/MDE/43_798.img\nhttps://geobases.static.es.gov.br/public/MAP_ES_2012_2015/MDE/43_798.img.xml\nhttps://geobases.static.es.gov.br/public/MAP_ES_2012_2015/MDE/43_798.rrd\n"
     ]
    }
   ],
   "source": [
    "print(textstring)"
   ]
  },
  {
   "cell_type": "code",
   "execution_count": 14,
   "metadata": {},
   "outputs": [
    {
     "output_type": "stream",
     "name": "stdout",
     "text": [
      "https://geobases.static.es.gov.br/public/MAP_ES_2012_2015/MDE/39_781.img\n"
     ]
    }
   ],
   "source": [
    "print(sample_url)"
   ]
  },
  {
   "cell_type": "code",
   "execution_count": 62,
   "metadata": {},
   "outputs": [
    {
     "output_type": "stream",
     "name": "stdout",
     "text": [
      "  url                                           geometry\n0   h  POLYGON ((-39.90024 -19.65277, -39.90084 -19.7...\n1   t  POLYGON ((-39.95024 -19.70277, -39.95084 -19.7...\n2   t  POLYGON ((-39.90024 -19.65277, -39.90084 -19.7...\n"
     ]
    },
    {
     "output_type": "execute_result",
     "data": {
      "text/plain": [
       "<AxesSubplot:>"
      ]
     },
     "metadata": {},
     "execution_count": 62
    },
    {
     "output_type": "display_data",
     "data": {
      "text/plain": "<Figure size 432x288 with 1 Axes>",
      "image/svg+xml": "<?xml version=\"1.0\" encoding=\"utf-8\" standalone=\"no\"?>\n<!DOCTYPE svg PUBLIC \"-//W3C//DTD SVG 1.1//EN\"\n  \"http://www.w3.org/Graphics/SVG/1.1/DTD/svg11.dtd\">\n<!-- Created with matplotlib (https://matplotlib.org/) -->\n<svg height=\"248.518125pt\" version=\"1.1\" viewBox=\"0 0 288.900467 248.518125\" width=\"288.900467pt\" xmlns=\"http://www.w3.org/2000/svg\" xmlns:xlink=\"http://www.w3.org/1999/xlink\">\n <metadata>\n  <rdf:RDF xmlns:cc=\"http://creativecommons.org/ns#\" xmlns:dc=\"http://purl.org/dc/elements/1.1/\" xmlns:rdf=\"http://www.w3.org/1999/02/22-rdf-syntax-ns#\">\n   <cc:Work>\n    <dc:type rdf:resource=\"http://purl.org/dc/dcmitype/StillImage\"/>\n    <dc:date>2021-05-22T16:13:07.904062</dc:date>\n    <dc:format>image/svg+xml</dc:format>\n    <dc:creator>\n     <cc:Agent>\n      <dc:title>Matplotlib v3.3.4, https://matplotlib.org/</dc:title>\n     </cc:Agent>\n    </dc:creator>\n   </cc:Work>\n  </rdf:RDF>\n </metadata>\n <defs>\n  <style type=\"text/css\">*{stroke-linecap:butt;stroke-linejoin:round;}</style>\n </defs>\n <g id=\"figure_1\">\n  <g id=\"patch_1\">\n   <path d=\"M 0 248.518125 \nL 288.900467 248.518125 \nL 288.900467 0 \nL 0 0 \nz\n\" style=\"fill:none;\"/>\n  </g>\n  <g id=\"axes_1\">\n   <g id=\"patch_2\">\n    <path d=\"M 51.207813 224.64 \nL 263.399899 224.64 \nL 263.399899 7.2 \nL 51.207813 7.2 \nz\n\" style=\"fill:#ffffff;\"/>\n   </g>\n   <g id=\"PatchCollection_1\">\n    <path clip-path=\"url(#p5fc6616ae9)\" d=\"M 127.656334 17.083636 \nL 126.871113 143.868412 \nL 253.040883 144.62374 \nL 253.754804 17.835318 \nL 127.656334 17.083636 \n\" style=\"fill:#1f77b4;\"/>\n    <path clip-path=\"url(#p5fc6616ae9)\" d=\"M 61.638128 87.21626 \nL 60.852907 214.001035 \nL 187.022677 214.756364 \nL 187.736598 87.967942 \nL 61.638128 87.21626 \n\" style=\"fill:#1f77b4;\"/>\n    <path clip-path=\"url(#p5fc6616ae9)\" d=\"M 127.656334 17.083636 \nL 126.871113 143.868412 \nL 253.040883 144.62374 \nL 253.754804 17.835318 \nL 127.656334 17.083636 \n\" style=\"fill:#1f77b4;\"/>\n   </g>\n   <g id=\"matplotlib.axis_1\">\n    <g id=\"xtick_1\">\n     <g id=\"line2d_1\">\n      <defs>\n       <path d=\"M 0 0 \nL 0 3.5 \n\" id=\"m8e634bee97\" style=\"stroke:#000000;stroke-width:0.8;\"/>\n      </defs>\n      <g>\n       <use style=\"stroke:#000000;stroke-width:0.8;\" x=\"61.960693\" xlink:href=\"#m8e634bee97\" y=\"224.64\"/>\n      </g>\n     </g>\n     <g id=\"text_1\">\n      <!-- −39.950 -->\n      <g transform=\"translate(40.275537 239.238438)scale(0.1 -0.1)\">\n       <defs>\n        <path d=\"M 10.59375 35.5 \nL 73.1875 35.5 \nL 73.1875 27.203125 \nL 10.59375 27.203125 \nz\n\" id=\"DejaVuSans-8722\"/>\n        <path d=\"M 40.578125 39.3125 \nQ 47.65625 37.796875 51.625 33 \nQ 55.609375 28.21875 55.609375 21.1875 \nQ 55.609375 10.40625 48.1875 4.484375 \nQ 40.765625 -1.421875 27.09375 -1.421875 \nQ 22.515625 -1.421875 17.65625 -0.515625 \nQ 12.796875 0.390625 7.625 2.203125 \nL 7.625 11.71875 \nQ 11.71875 9.328125 16.59375 8.109375 \nQ 21.484375 6.890625 26.8125 6.890625 \nQ 36.078125 6.890625 40.9375 10.546875 \nQ 45.796875 14.203125 45.796875 21.1875 \nQ 45.796875 27.640625 41.28125 31.265625 \nQ 36.765625 34.90625 28.71875 34.90625 \nL 20.21875 34.90625 \nL 20.21875 43.015625 \nL 29.109375 43.015625 \nQ 36.375 43.015625 40.234375 45.921875 \nQ 44.09375 48.828125 44.09375 54.296875 \nQ 44.09375 59.90625 40.109375 62.90625 \nQ 36.140625 65.921875 28.71875 65.921875 \nQ 24.65625 65.921875 20.015625 65.03125 \nQ 15.375 64.15625 9.8125 62.3125 \nL 9.8125 71.09375 \nQ 15.4375 72.65625 20.34375 73.4375 \nQ 25.25 74.21875 29.59375 74.21875 \nQ 40.828125 74.21875 47.359375 69.109375 \nQ 53.90625 64.015625 53.90625 55.328125 \nQ 53.90625 49.265625 50.4375 45.09375 \nQ 46.96875 40.921875 40.578125 39.3125 \nz\n\" id=\"DejaVuSans-51\"/>\n        <path d=\"M 10.984375 1.515625 \nL 10.984375 10.5 \nQ 14.703125 8.734375 18.5 7.8125 \nQ 22.3125 6.890625 25.984375 6.890625 \nQ 35.75 6.890625 40.890625 13.453125 \nQ 46.046875 20.015625 46.78125 33.40625 \nQ 43.953125 29.203125 39.59375 26.953125 \nQ 35.25 24.703125 29.984375 24.703125 \nQ 19.046875 24.703125 12.671875 31.3125 \nQ 6.296875 37.9375 6.296875 49.421875 \nQ 6.296875 60.640625 12.9375 67.421875 \nQ 19.578125 74.21875 30.609375 74.21875 \nQ 43.265625 74.21875 49.921875 64.515625 \nQ 56.59375 54.828125 56.59375 36.375 \nQ 56.59375 19.140625 48.40625 8.859375 \nQ 40.234375 -1.421875 26.421875 -1.421875 \nQ 22.703125 -1.421875 18.890625 -0.6875 \nQ 15.09375 0.046875 10.984375 1.515625 \nz\nM 30.609375 32.421875 \nQ 37.25 32.421875 41.125 36.953125 \nQ 45.015625 41.5 45.015625 49.421875 \nQ 45.015625 57.28125 41.125 61.84375 \nQ 37.25 66.40625 30.609375 66.40625 \nQ 23.96875 66.40625 20.09375 61.84375 \nQ 16.21875 57.28125 16.21875 49.421875 \nQ 16.21875 41.5 20.09375 36.953125 \nQ 23.96875 32.421875 30.609375 32.421875 \nz\n\" id=\"DejaVuSans-57\"/>\n        <path d=\"M 10.6875 12.40625 \nL 21 12.40625 \nL 21 0 \nL 10.6875 0 \nz\n\" id=\"DejaVuSans-46\"/>\n        <path d=\"M 10.796875 72.90625 \nL 49.515625 72.90625 \nL 49.515625 64.59375 \nL 19.828125 64.59375 \nL 19.828125 46.734375 \nQ 21.96875 47.46875 24.109375 47.828125 \nQ 26.265625 48.1875 28.421875 48.1875 \nQ 40.625 48.1875 47.75 41.5 \nQ 54.890625 34.8125 54.890625 23.390625 \nQ 54.890625 11.625 47.5625 5.09375 \nQ 40.234375 -1.421875 26.90625 -1.421875 \nQ 22.3125 -1.421875 17.546875 -0.640625 \nQ 12.796875 0.140625 7.71875 1.703125 \nL 7.71875 11.625 \nQ 12.109375 9.234375 16.796875 8.0625 \nQ 21.484375 6.890625 26.703125 6.890625 \nQ 35.15625 6.890625 40.078125 11.328125 \nQ 45.015625 15.765625 45.015625 23.390625 \nQ 45.015625 31 40.078125 35.4375 \nQ 35.15625 39.890625 26.703125 39.890625 \nQ 22.75 39.890625 18.8125 39.015625 \nQ 14.890625 38.140625 10.796875 36.28125 \nz\n\" id=\"DejaVuSans-53\"/>\n        <path d=\"M 31.78125 66.40625 \nQ 24.171875 66.40625 20.328125 58.90625 \nQ 16.5 51.421875 16.5 36.375 \nQ 16.5 21.390625 20.328125 13.890625 \nQ 24.171875 6.390625 31.78125 6.390625 \nQ 39.453125 6.390625 43.28125 13.890625 \nQ 47.125 21.390625 47.125 36.375 \nQ 47.125 51.421875 43.28125 58.90625 \nQ 39.453125 66.40625 31.78125 66.40625 \nz\nM 31.78125 74.21875 \nQ 44.046875 74.21875 50.515625 64.515625 \nQ 56.984375 54.828125 56.984375 36.375 \nQ 56.984375 17.96875 50.515625 8.265625 \nQ 44.046875 -1.421875 31.78125 -1.421875 \nQ 19.53125 -1.421875 13.0625 8.265625 \nQ 6.59375 17.96875 6.59375 36.375 \nQ 6.59375 54.828125 13.0625 64.515625 \nQ 19.53125 74.21875 31.78125 74.21875 \nz\n\" id=\"DejaVuSans-48\"/>\n       </defs>\n       <use xlink:href=\"#DejaVuSans-8722\"/>\n       <use x=\"83.789062\" xlink:href=\"#DejaVuSans-51\"/>\n       <use x=\"147.412109\" xlink:href=\"#DejaVuSans-57\"/>\n       <use x=\"211.035156\" xlink:href=\"#DejaVuSans-46\"/>\n       <use x=\"242.822266\" xlink:href=\"#DejaVuSans-57\"/>\n       <use x=\"306.445312\" xlink:href=\"#DejaVuSans-53\"/>\n       <use x=\"370.068359\" xlink:href=\"#DejaVuSans-48\"/>\n      </g>\n     </g>\n    </g>\n    <g id=\"xtick_2\">\n     <g id=\"line2d_2\">\n      <g>\n       <use style=\"stroke:#000000;stroke-width:0.8;\" x=\"94.969796\" xlink:href=\"#m8e634bee97\" y=\"224.64\"/>\n      </g>\n     </g>\n     <g id=\"text_2\">\n      <!-- −39.925 -->\n      <g transform=\"translate(73.28464 239.238438)scale(0.1 -0.1)\">\n       <defs>\n        <path d=\"M 19.1875 8.296875 \nL 53.609375 8.296875 \nL 53.609375 0 \nL 7.328125 0 \nL 7.328125 8.296875 \nQ 12.9375 14.109375 22.625 23.890625 \nQ 32.328125 33.6875 34.8125 36.53125 \nQ 39.546875 41.84375 41.421875 45.53125 \nQ 43.3125 49.21875 43.3125 52.78125 \nQ 43.3125 58.59375 39.234375 62.25 \nQ 35.15625 65.921875 28.609375 65.921875 \nQ 23.96875 65.921875 18.8125 64.3125 \nQ 13.671875 62.703125 7.8125 59.421875 \nL 7.8125 69.390625 \nQ 13.765625 71.78125 18.9375 73 \nQ 24.125 74.21875 28.421875 74.21875 \nQ 39.75 74.21875 46.484375 68.546875 \nQ 53.21875 62.890625 53.21875 53.421875 \nQ 53.21875 48.921875 51.53125 44.890625 \nQ 49.859375 40.875 45.40625 35.40625 \nQ 44.1875 33.984375 37.640625 27.21875 \nQ 31.109375 20.453125 19.1875 8.296875 \nz\n\" id=\"DejaVuSans-50\"/>\n       </defs>\n       <use xlink:href=\"#DejaVuSans-8722\"/>\n       <use x=\"83.789062\" xlink:href=\"#DejaVuSans-51\"/>\n       <use x=\"147.412109\" xlink:href=\"#DejaVuSans-57\"/>\n       <use x=\"211.035156\" xlink:href=\"#DejaVuSans-46\"/>\n       <use x=\"242.822266\" xlink:href=\"#DejaVuSans-57\"/>\n       <use x=\"306.445312\" xlink:href=\"#DejaVuSans-50\"/>\n       <use x=\"370.068359\" xlink:href=\"#DejaVuSans-53\"/>\n      </g>\n     </g>\n    </g>\n    <g id=\"xtick_3\">\n     <g id=\"line2d_3\">\n      <g>\n       <use style=\"stroke:#000000;stroke-width:0.8;\" x=\"127.978899\" xlink:href=\"#m8e634bee97\" y=\"224.64\"/>\n      </g>\n     </g>\n     <g id=\"text_3\">\n      <!-- −39.900 -->\n      <g transform=\"translate(106.293743 239.238438)scale(0.1 -0.1)\">\n       <use xlink:href=\"#DejaVuSans-8722\"/>\n       <use x=\"83.789062\" xlink:href=\"#DejaVuSans-51\"/>\n       <use x=\"147.412109\" xlink:href=\"#DejaVuSans-57\"/>\n       <use x=\"211.035156\" xlink:href=\"#DejaVuSans-46\"/>\n       <use x=\"242.822266\" xlink:href=\"#DejaVuSans-57\"/>\n       <use x=\"306.445312\" xlink:href=\"#DejaVuSans-48\"/>\n       <use x=\"370.068359\" xlink:href=\"#DejaVuSans-48\"/>\n      </g>\n     </g>\n    </g>\n    <g id=\"xtick_4\">\n     <g id=\"line2d_4\">\n      <g>\n       <use style=\"stroke:#000000;stroke-width:0.8;\" x=\"160.988002\" xlink:href=\"#m8e634bee97\" y=\"224.64\"/>\n      </g>\n     </g>\n     <g id=\"text_4\">\n      <!-- −39.875 -->\n      <g transform=\"translate(139.302846 239.238438)scale(0.1 -0.1)\">\n       <defs>\n        <path d=\"M 31.78125 34.625 \nQ 24.75 34.625 20.71875 30.859375 \nQ 16.703125 27.09375 16.703125 20.515625 \nQ 16.703125 13.921875 20.71875 10.15625 \nQ 24.75 6.390625 31.78125 6.390625 \nQ 38.8125 6.390625 42.859375 10.171875 \nQ 46.921875 13.96875 46.921875 20.515625 \nQ 46.921875 27.09375 42.890625 30.859375 \nQ 38.875 34.625 31.78125 34.625 \nz\nM 21.921875 38.8125 \nQ 15.578125 40.375 12.03125 44.71875 \nQ 8.5 49.078125 8.5 55.328125 \nQ 8.5 64.0625 14.71875 69.140625 \nQ 20.953125 74.21875 31.78125 74.21875 \nQ 42.671875 74.21875 48.875 69.140625 \nQ 55.078125 64.0625 55.078125 55.328125 \nQ 55.078125 49.078125 51.53125 44.71875 \nQ 48 40.375 41.703125 38.8125 \nQ 48.828125 37.15625 52.796875 32.3125 \nQ 56.78125 27.484375 56.78125 20.515625 \nQ 56.78125 9.90625 50.3125 4.234375 \nQ 43.84375 -1.421875 31.78125 -1.421875 \nQ 19.734375 -1.421875 13.25 4.234375 \nQ 6.78125 9.90625 6.78125 20.515625 \nQ 6.78125 27.484375 10.78125 32.3125 \nQ 14.796875 37.15625 21.921875 38.8125 \nz\nM 18.3125 54.390625 \nQ 18.3125 48.734375 21.84375 45.5625 \nQ 25.390625 42.390625 31.78125 42.390625 \nQ 38.140625 42.390625 41.71875 45.5625 \nQ 45.3125 48.734375 45.3125 54.390625 \nQ 45.3125 60.0625 41.71875 63.234375 \nQ 38.140625 66.40625 31.78125 66.40625 \nQ 25.390625 66.40625 21.84375 63.234375 \nQ 18.3125 60.0625 18.3125 54.390625 \nz\n\" id=\"DejaVuSans-56\"/>\n        <path d=\"M 8.203125 72.90625 \nL 55.078125 72.90625 \nL 55.078125 68.703125 \nL 28.609375 0 \nL 18.3125 0 \nL 43.21875 64.59375 \nL 8.203125 64.59375 \nz\n\" id=\"DejaVuSans-55\"/>\n       </defs>\n       <use xlink:href=\"#DejaVuSans-8722\"/>\n       <use x=\"83.789062\" xlink:href=\"#DejaVuSans-51\"/>\n       <use x=\"147.412109\" xlink:href=\"#DejaVuSans-57\"/>\n       <use x=\"211.035156\" xlink:href=\"#DejaVuSans-46\"/>\n       <use x=\"242.822266\" xlink:href=\"#DejaVuSans-56\"/>\n       <use x=\"306.445312\" xlink:href=\"#DejaVuSans-55\"/>\n       <use x=\"370.068359\" xlink:href=\"#DejaVuSans-53\"/>\n      </g>\n     </g>\n    </g>\n    <g id=\"xtick_5\">\n     <g id=\"line2d_5\">\n      <g>\n       <use style=\"stroke:#000000;stroke-width:0.8;\" x=\"193.997105\" xlink:href=\"#m8e634bee97\" y=\"224.64\"/>\n      </g>\n     </g>\n     <g id=\"text_5\">\n      <!-- −39.850 -->\n      <g transform=\"translate(172.311948 239.238438)scale(0.1 -0.1)\">\n       <use xlink:href=\"#DejaVuSans-8722\"/>\n       <use x=\"83.789062\" xlink:href=\"#DejaVuSans-51\"/>\n       <use x=\"147.412109\" xlink:href=\"#DejaVuSans-57\"/>\n       <use x=\"211.035156\" xlink:href=\"#DejaVuSans-46\"/>\n       <use x=\"242.822266\" xlink:href=\"#DejaVuSans-56\"/>\n       <use x=\"306.445312\" xlink:href=\"#DejaVuSans-53\"/>\n       <use x=\"370.068359\" xlink:href=\"#DejaVuSans-48\"/>\n      </g>\n     </g>\n    </g>\n    <g id=\"xtick_6\">\n     <g id=\"line2d_6\">\n      <g>\n       <use style=\"stroke:#000000;stroke-width:0.8;\" x=\"227.006208\" xlink:href=\"#m8e634bee97\" y=\"224.64\"/>\n      </g>\n     </g>\n     <g id=\"text_6\">\n      <!-- −39.825 -->\n      <g transform=\"translate(205.321051 239.238438)scale(0.1 -0.1)\">\n       <use xlink:href=\"#DejaVuSans-8722\"/>\n       <use x=\"83.789062\" xlink:href=\"#DejaVuSans-51\"/>\n       <use x=\"147.412109\" xlink:href=\"#DejaVuSans-57\"/>\n       <use x=\"211.035156\" xlink:href=\"#DejaVuSans-46\"/>\n       <use x=\"242.822266\" xlink:href=\"#DejaVuSans-56\"/>\n       <use x=\"306.445312\" xlink:href=\"#DejaVuSans-50\"/>\n       <use x=\"370.068359\" xlink:href=\"#DejaVuSans-53\"/>\n      </g>\n     </g>\n    </g>\n    <g id=\"xtick_7\">\n     <g id=\"line2d_7\">\n      <g>\n       <use style=\"stroke:#000000;stroke-width:0.8;\" x=\"260.015311\" xlink:href=\"#m8e634bee97\" y=\"224.64\"/>\n      </g>\n     </g>\n     <g id=\"text_7\">\n      <!-- −39.800 -->\n      <g transform=\"translate(238.330154 239.238438)scale(0.1 -0.1)\">\n       <use xlink:href=\"#DejaVuSans-8722\"/>\n       <use x=\"83.789062\" xlink:href=\"#DejaVuSans-51\"/>\n       <use x=\"147.412109\" xlink:href=\"#DejaVuSans-57\"/>\n       <use x=\"211.035156\" xlink:href=\"#DejaVuSans-46\"/>\n       <use x=\"242.822266\" xlink:href=\"#DejaVuSans-56\"/>\n       <use x=\"306.445312\" xlink:href=\"#DejaVuSans-48\"/>\n       <use x=\"370.068359\" xlink:href=\"#DejaVuSans-48\"/>\n      </g>\n     </g>\n    </g>\n   </g>\n   <g id=\"matplotlib.axis_2\">\n    <g id=\"ytick_1\">\n     <g id=\"line2d_8\">\n      <defs>\n       <path d=\"M 0 0 \nL -3.5 0 \n\" id=\"m435f54d715\" style=\"stroke:#000000;stroke-width:0.8;\"/>\n      </defs>\n      <g>\n       <use style=\"stroke:#000000;stroke-width:0.8;\" x=\"51.207813\" xlink:href=\"#m435f54d715\" y=\"223.591812\"/>\n      </g>\n     </g>\n     <g id=\"text_8\">\n      <!-- −19.80 -->\n      <g transform=\"translate(7.2 227.391031)scale(0.1 -0.1)\">\n       <defs>\n        <path d=\"M 12.40625 8.296875 \nL 28.515625 8.296875 \nL 28.515625 63.921875 \nL 10.984375 60.40625 \nL 10.984375 69.390625 \nL 28.421875 72.90625 \nL 38.28125 72.90625 \nL 38.28125 8.296875 \nL 54.390625 8.296875 \nL 54.390625 0 \nL 12.40625 0 \nz\n\" id=\"DejaVuSans-49\"/>\n       </defs>\n       <use xlink:href=\"#DejaVuSans-8722\"/>\n       <use x=\"83.789062\" xlink:href=\"#DejaVuSans-49\"/>\n       <use x=\"147.412109\" xlink:href=\"#DejaVuSans-57\"/>\n       <use x=\"211.035156\" xlink:href=\"#DejaVuSans-46\"/>\n       <use x=\"242.822266\" xlink:href=\"#DejaVuSans-56\"/>\n       <use x=\"306.445312\" xlink:href=\"#DejaVuSans-48\"/>\n      </g>\n     </g>\n    </g>\n    <g id=\"ytick_2\">\n     <g id=\"line2d_9\">\n      <g>\n       <use style=\"stroke:#000000;stroke-width:0.8;\" x=\"51.207813\" xlink:href=\"#m435f54d715\" y=\"195.538762\"/>\n      </g>\n     </g>\n     <g id=\"text_9\">\n      <!-- −19.78 -->\n      <g transform=\"translate(7.2 199.337981)scale(0.1 -0.1)\">\n       <use xlink:href=\"#DejaVuSans-8722\"/>\n       <use x=\"83.789062\" xlink:href=\"#DejaVuSans-49\"/>\n       <use x=\"147.412109\" xlink:href=\"#DejaVuSans-57\"/>\n       <use x=\"211.035156\" xlink:href=\"#DejaVuSans-46\"/>\n       <use x=\"242.822266\" xlink:href=\"#DejaVuSans-55\"/>\n       <use x=\"306.445312\" xlink:href=\"#DejaVuSans-56\"/>\n      </g>\n     </g>\n    </g>\n    <g id=\"ytick_3\">\n     <g id=\"line2d_10\">\n      <g>\n       <use style=\"stroke:#000000;stroke-width:0.8;\" x=\"51.207813\" xlink:href=\"#m435f54d715\" y=\"167.485713\"/>\n      </g>\n     </g>\n     <g id=\"text_10\">\n      <!-- −19.76 -->\n      <g transform=\"translate(7.2 171.284932)scale(0.1 -0.1)\">\n       <defs>\n        <path d=\"M 33.015625 40.375 \nQ 26.375 40.375 22.484375 35.828125 \nQ 18.609375 31.296875 18.609375 23.390625 \nQ 18.609375 15.53125 22.484375 10.953125 \nQ 26.375 6.390625 33.015625 6.390625 \nQ 39.65625 6.390625 43.53125 10.953125 \nQ 47.40625 15.53125 47.40625 23.390625 \nQ 47.40625 31.296875 43.53125 35.828125 \nQ 39.65625 40.375 33.015625 40.375 \nz\nM 52.59375 71.296875 \nL 52.59375 62.3125 \nQ 48.875 64.0625 45.09375 64.984375 \nQ 41.3125 65.921875 37.59375 65.921875 \nQ 27.828125 65.921875 22.671875 59.328125 \nQ 17.53125 52.734375 16.796875 39.40625 \nQ 19.671875 43.65625 24.015625 45.921875 \nQ 28.375 48.1875 33.59375 48.1875 \nQ 44.578125 48.1875 50.953125 41.515625 \nQ 57.328125 34.859375 57.328125 23.390625 \nQ 57.328125 12.15625 50.6875 5.359375 \nQ 44.046875 -1.421875 33.015625 -1.421875 \nQ 20.359375 -1.421875 13.671875 8.265625 \nQ 6.984375 17.96875 6.984375 36.375 \nQ 6.984375 53.65625 15.1875 63.9375 \nQ 23.390625 74.21875 37.203125 74.21875 \nQ 40.921875 74.21875 44.703125 73.484375 \nQ 48.484375 72.75 52.59375 71.296875 \nz\n\" id=\"DejaVuSans-54\"/>\n       </defs>\n       <use xlink:href=\"#DejaVuSans-8722\"/>\n       <use x=\"83.789062\" xlink:href=\"#DejaVuSans-49\"/>\n       <use x=\"147.412109\" xlink:href=\"#DejaVuSans-57\"/>\n       <use x=\"211.035156\" xlink:href=\"#DejaVuSans-46\"/>\n       <use x=\"242.822266\" xlink:href=\"#DejaVuSans-55\"/>\n       <use x=\"306.445312\" xlink:href=\"#DejaVuSans-54\"/>\n      </g>\n     </g>\n    </g>\n    <g id=\"ytick_4\">\n     <g id=\"line2d_11\">\n      <g>\n       <use style=\"stroke:#000000;stroke-width:0.8;\" x=\"51.207813\" xlink:href=\"#m435f54d715\" y=\"139.432663\"/>\n      </g>\n     </g>\n     <g id=\"text_11\">\n      <!-- −19.74 -->\n      <g transform=\"translate(7.2 143.231882)scale(0.1 -0.1)\">\n       <defs>\n        <path d=\"M 37.796875 64.3125 \nL 12.890625 25.390625 \nL 37.796875 25.390625 \nz\nM 35.203125 72.90625 \nL 47.609375 72.90625 \nL 47.609375 25.390625 \nL 58.015625 25.390625 \nL 58.015625 17.1875 \nL 47.609375 17.1875 \nL 47.609375 0 \nL 37.796875 0 \nL 37.796875 17.1875 \nL 4.890625 17.1875 \nL 4.890625 26.703125 \nz\n\" id=\"DejaVuSans-52\"/>\n       </defs>\n       <use xlink:href=\"#DejaVuSans-8722\"/>\n       <use x=\"83.789062\" xlink:href=\"#DejaVuSans-49\"/>\n       <use x=\"147.412109\" xlink:href=\"#DejaVuSans-57\"/>\n       <use x=\"211.035156\" xlink:href=\"#DejaVuSans-46\"/>\n       <use x=\"242.822266\" xlink:href=\"#DejaVuSans-55\"/>\n       <use x=\"306.445312\" xlink:href=\"#DejaVuSans-52\"/>\n      </g>\n     </g>\n    </g>\n    <g id=\"ytick_5\">\n     <g id=\"line2d_12\">\n      <g>\n       <use style=\"stroke:#000000;stroke-width:0.8;\" x=\"51.207813\" xlink:href=\"#m435f54d715\" y=\"111.379614\"/>\n      </g>\n     </g>\n     <g id=\"text_12\">\n      <!-- −19.72 -->\n      <g transform=\"translate(7.2 115.178833)scale(0.1 -0.1)\">\n       <use xlink:href=\"#DejaVuSans-8722\"/>\n       <use x=\"83.789062\" xlink:href=\"#DejaVuSans-49\"/>\n       <use x=\"147.412109\" xlink:href=\"#DejaVuSans-57\"/>\n       <use x=\"211.035156\" xlink:href=\"#DejaVuSans-46\"/>\n       <use x=\"242.822266\" xlink:href=\"#DejaVuSans-55\"/>\n       <use x=\"306.445312\" xlink:href=\"#DejaVuSans-50\"/>\n      </g>\n     </g>\n    </g>\n    <g id=\"ytick_6\">\n     <g id=\"line2d_13\">\n      <g>\n       <use style=\"stroke:#000000;stroke-width:0.8;\" x=\"51.207813\" xlink:href=\"#m435f54d715\" y=\"83.326564\"/>\n      </g>\n     </g>\n     <g id=\"text_13\">\n      <!-- −19.70 -->\n      <g transform=\"translate(7.2 87.125783)scale(0.1 -0.1)\">\n       <use xlink:href=\"#DejaVuSans-8722\"/>\n       <use x=\"83.789062\" xlink:href=\"#DejaVuSans-49\"/>\n       <use x=\"147.412109\" xlink:href=\"#DejaVuSans-57\"/>\n       <use x=\"211.035156\" xlink:href=\"#DejaVuSans-46\"/>\n       <use x=\"242.822266\" xlink:href=\"#DejaVuSans-55\"/>\n       <use x=\"306.445312\" xlink:href=\"#DejaVuSans-48\"/>\n      </g>\n     </g>\n    </g>\n    <g id=\"ytick_7\">\n     <g id=\"line2d_14\">\n      <g>\n       <use style=\"stroke:#000000;stroke-width:0.8;\" x=\"51.207813\" xlink:href=\"#m435f54d715\" y=\"55.273515\"/>\n      </g>\n     </g>\n     <g id=\"text_14\">\n      <!-- −19.68 -->\n      <g transform=\"translate(7.2 59.072734)scale(0.1 -0.1)\">\n       <use xlink:href=\"#DejaVuSans-8722\"/>\n       <use x=\"83.789062\" xlink:href=\"#DejaVuSans-49\"/>\n       <use x=\"147.412109\" xlink:href=\"#DejaVuSans-57\"/>\n       <use x=\"211.035156\" xlink:href=\"#DejaVuSans-46\"/>\n       <use x=\"242.822266\" xlink:href=\"#DejaVuSans-54\"/>\n       <use x=\"306.445312\" xlink:href=\"#DejaVuSans-56\"/>\n      </g>\n     </g>\n    </g>\n    <g id=\"ytick_8\">\n     <g id=\"line2d_15\">\n      <g>\n       <use style=\"stroke:#000000;stroke-width:0.8;\" x=\"51.207813\" xlink:href=\"#m435f54d715\" y=\"27.220466\"/>\n      </g>\n     </g>\n     <g id=\"text_15\">\n      <!-- −19.66 -->\n      <g transform=\"translate(7.2 31.019684)scale(0.1 -0.1)\">\n       <use xlink:href=\"#DejaVuSans-8722\"/>\n       <use x=\"83.789062\" xlink:href=\"#DejaVuSans-49\"/>\n       <use x=\"147.412109\" xlink:href=\"#DejaVuSans-57\"/>\n       <use x=\"211.035156\" xlink:href=\"#DejaVuSans-46\"/>\n       <use x=\"242.822266\" xlink:href=\"#DejaVuSans-54\"/>\n       <use x=\"306.445312\" xlink:href=\"#DejaVuSans-54\"/>\n      </g>\n     </g>\n    </g>\n   </g>\n   <g id=\"patch_3\">\n    <path d=\"M 51.207813 224.64 \nL 51.207813 7.2 \n\" style=\"fill:none;stroke:#000000;stroke-linecap:square;stroke-linejoin:miter;stroke-width:0.8;\"/>\n   </g>\n   <g id=\"patch_4\">\n    <path d=\"M 263.399899 224.64 \nL 263.399899 7.2 \n\" style=\"fill:none;stroke:#000000;stroke-linecap:square;stroke-linejoin:miter;stroke-width:0.8;\"/>\n   </g>\n   <g id=\"patch_5\">\n    <path d=\"M 51.207812 224.64 \nL 263.399899 224.64 \n\" style=\"fill:none;stroke:#000000;stroke-linecap:square;stroke-linejoin:miter;stroke-width:0.8;\"/>\n   </g>\n   <g id=\"patch_6\">\n    <path d=\"M 51.207812 7.2 \nL 263.399899 7.2 \n\" style=\"fill:none;stroke:#000000;stroke-linecap:square;stroke-linejoin:miter;stroke-width:0.8;\"/>\n   </g>\n  </g>\n </g>\n <defs>\n  <clipPath id=\"p5fc6616ae9\">\n   <rect height=\"217.44\" width=\"212.192087\" x=\"51.207813\" y=\"7.2\"/>\n  </clipPath>\n </defs>\n</svg>\n",
      "image/png": "[encoded data removed]"
     },
     "metadata": {
      "needs_background": "light"
     }
    }
   ],
   "source": [
    "from geopandas import GeoDataFrame\n",
    "\n",
    "# HERE FOR GEODATAFRAME\n",
    "\n",
    "data = {'url':[textstring[0],textstring[1],textstring[2],],'geometry':[sample_pol3,sample_pol2,sample_pol3]}\n",
    "\n",
    "sample_gdf = GeoDataFrame(data,crs=\"EPSG:4326\")\n",
    "\n",
    "print(sample_gdf)\n",
    "\n",
    "sample_gdf.plot()"
   ]
  },
  {
   "cell_type": "code",
   "execution_count": 43,
   "metadata": {},
   "outputs": [
    {
     "output_type": "stream",
     "name": "stdout",
     "text": [
      "0.66571784089852\n-0.21032390306684645\n0.775309278247815\n-0.4359647530517776\n-0.4329757662441709\n"
     ]
    }
   ],
   "source": [
    "import random\n",
    "\n",
    "for i in range(5):\n",
    "    print(random.uniform(-1,1))"
   ]
  },
  {
   "cell_type": "code",
   "execution_count": 82,
   "metadata": {},
   "outputs": [
    {
     "output_type": "execute_result",
     "data": {
      "text/plain": [
       "<AxesSubplot:>"
      ]
     },
     "metadata": {},
     "execution_count": 82
    },
    {
     "output_type": "display_data",
     "data": {
      "text/plain": "<Figure size 432x288 with 1 Axes>",
      "image/svg+xml": "<?xml version=\"1.0\" encoding=\"utf-8\" standalone=\"no\"?>\n<!DOCTYPE svg PUBLIC \"-//W3C//DTD SVG 1.1//EN\"\n  \"http://www.w3.org/Graphics/SVG/1.1/DTD/svg11.dtd\">\n<!-- Created with matplotlib (https://matplotlib.org/) -->\n<svg height=\"248.518125pt\" version=\"1.1\" viewBox=\"0 0 266.661552 248.518125\" width=\"266.661552pt\" xmlns=\"http://www.w3.org/2000/svg\" xmlns:xlink=\"http://www.w3.org/1999/xlink\">\n <metadata>\n  <rdf:RDF xmlns:cc=\"http://creativecommons.org/ns#\" xmlns:dc=\"http://purl.org/dc/elements/1.1/\" xmlns:rdf=\"http://www.w3.org/1999/02/22-rdf-syntax-ns#\">\n   <cc:Work>\n    <dc:type rdf:resource=\"http://purl.org/dc/dcmitype/StillImage\"/>\n    <dc:date>2021-05-22T17:38:57.863702</dc:date>\n    <dc:format>image/svg+xml</dc:format>\n    <dc:creator>\n     <cc:Agent>\n      <dc:title>Matplotlib v3.3.4, https://matplotlib.org/</dc:title>\n     </cc:Agent>\n    </dc:creator>\n   </cc:Work>\n  </rdf:RDF>\n </metadata>\n <defs>\n  <style type=\"text/css\">*{stroke-linecap:butt;stroke-linejoin:round;}</style>\n </defs>\n <g id=\"figure_1\">\n  <g id=\"patch_1\">\n   <path d=\"M 0 248.518125 \nL 266.661552 248.518125 \nL 266.661552 0 \nL 0 0 \nz\n\" style=\"fill:none;\"/>\n  </g>\n  <g id=\"axes_1\">\n   <g id=\"patch_2\">\n    <path d=\"M 51.207812 224.64 \nL 259.461552 224.64 \nL 259.461552 7.2 \nL 51.207812 7.2 \nz\n\" style=\"fill:#ffffff;\"/>\n   </g>\n   <g id=\"PatchCollection_1\">\n    <path clip-path=\"url(#peec22cd2d4)\" d=\"M 77.451846 133.960184 \nL 77.06198 196.958176 \nL 139.706027 197.333491 \nL 140.060493 134.333686 \nL 77.451846 133.960184 \n\" style=\"fill:#1f77b4;\"/>\n    <path clip-path=\"url(#peec22cd2d4)\" d=\"M 141.341045 66.036862 \nL 140.951179 129.034854 \nL 203.595226 129.410169 \nL 203.949692 66.410364 \nL 141.341045 66.036862 \n\" style=\"fill:#1f77b4;\"/>\n    <path clip-path=\"url(#peec22cd2d4)\" d=\"M 131.5271 76.470484 \nL 131.137233 139.468477 \nL 193.781281 139.843791 \nL 194.135747 76.843987 \nL 131.5271 76.470484 \n\" style=\"fill:#1f77b4;\"/>\n    <path clip-path=\"url(#peec22cd2d4)\" d=\"M 169.593714 36.00025 \nL 169.203847 98.998242 \nL 231.847895 99.373557 \nL 232.202361 36.373752 \nL 169.593714 36.00025 \n\" style=\"fill:#1f77b4;\"/>\n    <path clip-path=\"url(#peec22cd2d4)\" d=\"M 109.565449 99.818849 \nL 109.175582 162.816841 \nL 171.81963 163.192156 \nL 172.174096 100.192351 \nL 109.565449 99.818849 \n\" style=\"fill:#1f77b4;\"/>\n    <path clip-path=\"url(#peec22cd2d4)\" d=\"M 79.783093 131.481736 \nL 79.393227 194.479729 \nL 142.037274 194.855043 \nL 142.39174 131.855239 \nL 79.783093 131.481736 \n\" style=\"fill:#1f77b4;\"/>\n    <path clip-path=\"url(#peec22cd2d4)\" d=\"M 127.81004 80.422249 \nL 127.420173 143.420241 \nL 190.064221 143.795556 \nL 190.418687 80.795751 \nL 127.81004 80.422249 \n\" style=\"fill:#1f77b4;\"/>\n    <path clip-path=\"url(#peec22cd2d4)\" d=\"M 173.528117 31.817419 \nL 173.13825 94.815411 \nL 235.782298 95.190726 \nL 236.136764 32.190921 \nL 173.528117 31.817419 \n\" style=\"fill:#1f77b4;\"/>\n    <path clip-path=\"url(#peec22cd2d4)\" d=\"M 64.137525 148.115205 \nL 63.747658 211.113197 \nL 126.391706 211.488512 \nL 126.746172 148.488707 \nL 64.137525 148.115205 \n\" style=\"fill:#1f77b4;\"/>\n    <path clip-path=\"url(#peec22cd2d4)\" d=\"M 111.741938 97.504931 \nL 111.352071 160.502923 \nL 173.996119 160.878238 \nL 174.350585 97.878433 \nL 111.741938 97.504931 \n\" style=\"fill:#1f77b4;\"/>\n    <path clip-path=\"url(#peec22cd2d4)\" d=\"M 75.304194 136.243445 \nL 74.914327 199.241437 \nL 137.558375 199.616752 \nL 137.912841 136.616947 \nL 75.304194 136.243445 \n\" style=\"fill:#1f77b4;\"/>\n    <path clip-path=\"url(#peec22cd2d4)\" d=\"M 143.33097 63.921289 \nL 142.941103 126.919281 \nL 205.585151 127.294595 \nL 205.939617 64.294791 \nL 143.33097 63.921289 \n\" style=\"fill:#1f77b4;\"/>\n    <path clip-path=\"url(#peec22cd2d4)\" d=\"M 144.795021 62.364794 \nL 144.405154 125.362786 \nL 207.049202 125.738101 \nL 207.403668 62.738297 \nL 144.795021 62.364794 \n\" style=\"fill:#1f77b4;\"/>\n    <path clip-path=\"url(#peec22cd2d4)\" d=\"M 166.956426 38.804063 \nL 166.566559 101.802055 \nL 229.210607 102.17737 \nL 229.565073 39.177565 \nL 166.956426 38.804063 \n\" style=\"fill:#1f77b4;\"/>\n    <path clip-path=\"url(#peec22cd2d4)\" d=\"M 139.403846 68.096381 \nL 139.013979 131.094373 \nL 201.658027 131.469688 \nL 202.012493 68.469884 \nL 139.403846 68.096381 \n\" style=\"fill:#1f77b4;\"/>\n    <path clip-path=\"url(#peec22cd2d4)\" d=\"M 166.704182 39.072234 \nL 166.314315 102.070226 \nL 228.958363 102.445541 \nL 229.312829 39.445736 \nL 166.704182 39.072234 \n\" style=\"fill:#1f77b4;\"/>\n    <path clip-path=\"url(#peec22cd2d4)\" d=\"M 186.885937 17.616153 \nL 186.49607 80.614146 \nL 249.140117 80.98946 \nL 249.494583 17.989656 \nL 186.885937 17.616153 \n\" style=\"fill:#1f77b4;\"/>\n    <path clip-path=\"url(#peec22cd2d4)\" d=\"M 134.556037 73.250293 \nL 134.16617 136.248285 \nL 196.810217 136.6236 \nL 197.164683 73.623796 \nL 134.556037 73.250293 \n\" style=\"fill:#1f77b4;\"/>\n    <path clip-path=\"url(#peec22cd2d4)\" d=\"M 99.535609 110.481997 \nL 99.145743 173.47999 \nL 161.78979 173.855304 \nL 162.144256 110.8555 \nL 99.535609 110.481997 \n\" style=\"fill:#1f77b4;\"/>\n    <path clip-path=\"url(#peec22cd2d4)\" d=\"M 156.250318 50.186181 \nL 155.860452 113.184173 \nL 218.504499 113.559488 \nL 218.858965 50.559683 \nL 156.250318 50.186181 \n\" style=\"fill:#1f77b4;\"/>\n    <path clip-path=\"url(#peec22cd2d4)\" d=\"M 152.906252 53.7414 \nL 152.516385 116.739392 \nL 215.160433 117.114706 \nL 215.514899 54.114902 \nL 152.906252 53.7414 \n\" style=\"fill:#1f77b4;\"/>\n    <path clip-path=\"url(#peec22cd2d4)\" d=\"M 139.007176 68.518098 \nL 138.617309 131.51609 \nL 201.261357 131.891405 \nL 201.615823 68.8916 \nL 139.007176 68.518098 \n\" style=\"fill:#1f77b4;\"/>\n    <path clip-path=\"url(#peec22cd2d4)\" d=\"M 130.523178 77.537797 \nL 130.133311 140.535789 \nL 192.777358 140.911104 \nL 193.131824 77.911299 \nL 130.523178 77.537797 \n\" style=\"fill:#1f77b4;\"/>\n    <path clip-path=\"url(#peec22cd2d4)\" d=\"M 179.850461 25.095866 \nL 179.460595 88.093858 \nL 242.104642 88.469173 \nL 242.459108 25.469368 \nL 179.850461 25.095866 \n\" style=\"fill:#1f77b4;\"/>\n    <path clip-path=\"url(#peec22cd2d4)\" d=\"M 157.256169 49.116818 \nL 156.866303 112.11481 \nL 219.51035 112.490125 \nL 219.864816 49.49032 \nL 157.256169 49.116818 \n\" style=\"fill:#1f77b4;\"/>\n    <path clip-path=\"url(#peec22cd2d4)\" d=\"M 147.376895 59.619894 \nL 146.987029 122.617886 \nL 209.631076 122.993201 \nL 209.985542 59.993396 \nL 147.376895 59.619894 \n\" style=\"fill:#1f77b4;\"/>\n    <path clip-path=\"url(#peec22cd2d4)\" d=\"M 159.439378 46.795755 \nL 159.049512 109.793748 \nL 221.693559 110.169062 \nL 222.048025 47.169258 \nL 159.439378 46.795755 \n\" style=\"fill:#1f77b4;\"/>\n    <path clip-path=\"url(#peec22cd2d4)\" d=\"M 170.380253 35.164047 \nL 169.990386 98.162039 \nL 232.634434 98.537354 \nL 232.9889 35.537549 \nL 170.380253 35.164047 \n\" style=\"fill:#1f77b4;\"/>\n    <path clip-path=\"url(#peec22cd2d4)\" d=\"M 61.063758 151.383057 \nL 60.673892 214.381049 \nL 123.317939 214.756364 \nL 123.672405 151.756559 \nL 61.063758 151.383057 \n\" style=\"fill:#1f77b4;\"/>\n    <path clip-path=\"url(#peec22cd2d4)\" d=\"M 147.253063 59.751545 \nL 146.863196 122.749538 \nL 209.507243 123.124852 \nL 209.861709 60.125048 \nL 147.253063 59.751545 \n\" style=\"fill:#1f77b4;\"/>\n    <path clip-path=\"url(#peec22cd2d4)\" d=\"M 160.252422 45.931374 \nL 159.862555 108.929367 \nL 222.506603 109.304681 \nL 222.861069 46.304877 \nL 160.252422 45.931374 \n\" style=\"fill:#1f77b4;\"/>\n    <path clip-path=\"url(#peec22cd2d4)\" d=\"M 103.412553 106.360254 \nL 103.022686 169.358247 \nL 165.666733 169.733561 \nL 166.021199 106.733757 \nL 103.412553 106.360254 \n\" style=\"fill:#1f77b4;\"/>\n    <path clip-path=\"url(#peec22cd2d4)\" d=\"M 177.501134 27.593536 \nL 177.111267 90.591528 \nL 239.755315 90.966843 \nL 240.109781 27.967038 \nL 177.501134 27.593536 \n\" style=\"fill:#1f77b4;\"/>\n    <path clip-path=\"url(#peec22cd2d4)\" d=\"M 126.277201 82.051875 \nL 125.887335 145.049867 \nL 188.531382 145.425182 \nL 188.885848 82.425377 \nL 126.277201 82.051875 \n\" style=\"fill:#1f77b4;\"/>\n    <path clip-path=\"url(#peec22cd2d4)\" d=\"M 142.976767 64.297857 \nL 142.586901 127.295849 \nL 205.230948 127.671163 \nL 205.585414 64.671359 \nL 142.976767 64.297857 \n\" style=\"fill:#1f77b4;\"/>\n    <path clip-path=\"url(#peec22cd2d4)\" d=\"M 171.970744 33.473128 \nL 171.580878 96.47112 \nL 234.224925 96.846435 \nL 234.579391 33.84663 \nL 171.970744 33.473128 \n\" style=\"fill:#1f77b4;\"/>\n    <path clip-path=\"url(#peec22cd2d4)\" d=\"M 183.769709 20.929147 \nL 183.379842 83.927139 \nL 246.02389 84.302454 \nL 246.378356 21.30265 \nL 183.769709 20.929147 \n\" style=\"fill:#1f77b4;\"/>\n    <path clip-path=\"url(#peec22cd2d4)\" d=\"M 163.321646 42.668351 \nL 162.93178 105.666344 \nL 225.575827 106.041658 \nL 225.930293 43.041854 \nL 163.321646 42.668351 \n\" style=\"fill:#1f77b4;\"/>\n    <path clip-path=\"url(#peec22cd2d4)\" d=\"M 66.977291 145.096129 \nL 66.587424 208.094121 \nL 129.231472 208.469436 \nL 129.585938 145.469631 \nL 66.977291 145.096129 \n\" style=\"fill:#1f77b4;\"/>\n    <path clip-path=\"url(#peec22cd2d4)\" d=\"M 137.116465 70.528193 \nL 136.726598 133.526186 \nL 199.370645 133.9015 \nL 199.725111 70.901696 \nL 137.116465 70.528193 \n\" style=\"fill:#1f77b4;\"/>\n    <path clip-path=\"url(#peec22cd2d4)\" d=\"M 171.791736 33.663439 \nL 171.40187 96.661431 \nL 234.045917 97.036746 \nL 234.400383 34.036941 \nL 171.791736 33.663439 \n\" style=\"fill:#1f77b4;\"/>\n    <path clip-path=\"url(#peec22cd2d4)\" d=\"M 97.665515 112.470174 \nL 97.275649 175.468166 \nL 159.919696 175.843481 \nL 160.274162 112.843676 \nL 97.665515 112.470174 \n\" style=\"fill:#1f77b4;\"/>\n    <path clip-path=\"url(#peec22cd2d4)\" d=\"M 127.365682 80.894665 \nL 126.975815 143.892657 \nL 189.619863 144.267972 \nL 189.974329 81.268167 \nL 127.365682 80.894665 \n\" style=\"fill:#1f77b4;\"/>\n    <path clip-path=\"url(#peec22cd2d4)\" d=\"M 187.386826 17.083636 \nL 186.996959 80.081629 \nL 249.641007 80.456943 \nL 249.995473 17.457139 \nL 187.386826 17.083636 \n\" style=\"fill:#1f77b4;\"/>\n    <path clip-path=\"url(#peec22cd2d4)\" d=\"M 72.675621 139.037992 \nL 72.285754 202.035984 \nL 134.929802 202.411299 \nL 135.284268 139.411494 \nL 72.675621 139.037992 \n\" style=\"fill:#1f77b4;\"/>\n    <path clip-path=\"url(#peec22cd2d4)\" d=\"M 106.941387 102.6086 \nL 106.55152 165.606593 \nL 169.195568 165.981907 \nL 169.550034 102.982103 \nL 106.941387 102.6086 \n\" style=\"fill:#1f77b4;\"/>\n    <path clip-path=\"url(#peec22cd2d4)\" d=\"M 62.02273 150.363534 \nL 61.632863 213.361526 \nL 124.27691 213.73684 \nL 124.631376 150.737036 \nL 62.02273 150.363534 \n\" style=\"fill:#1f77b4;\"/>\n    <path clip-path=\"url(#peec22cd2d4)\" d=\"M 174.765207 30.502216 \nL 174.37534 93.500208 \nL 237.019388 93.875523 \nL 237.373854 30.875718 \nL 174.765207 30.502216 \n\" style=\"fill:#1f77b4;\"/>\n    <path clip-path=\"url(#peec22cd2d4)\" d=\"M 167.766669 37.942659 \nL 167.376802 100.940651 \nL 230.02085 101.315966 \nL 230.375316 38.316161 \nL 167.766669 37.942659 \n\" style=\"fill:#1f77b4;\"/>\n    <path clip-path=\"url(#peec22cd2d4)\" d=\"M 67.099486 144.966218 \nL 66.709619 207.964211 \nL 129.353667 208.339525 \nL 129.708133 145.339721 \nL 67.099486 144.966218 \n\" style=\"fill:#1f77b4;\"/>\n   </g>\n   <g id=\"matplotlib.axis_1\">\n    <g id=\"xtick_1\">\n     <g id=\"line2d_1\">\n      <defs>\n       <path d=\"M 0 0 \nL 0 3.5 \n\" id=\"me27ad65a0e\" style=\"stroke:#000000;stroke-width:0.8;\"/>\n      </defs>\n      <g>\n       <use style=\"stroke:#000000;stroke-width:0.8;\" x=\"90.230986\" xlink:href=\"#me27ad65a0e\" y=\"224.64\"/>\n      </g>\n     </g>\n     <g id=\"text_1\">\n      <!-- −40.1 -->\n      <g transform=\"translate(74.90833 239.238437)scale(0.1 -0.1)\">\n       <defs>\n        <path d=\"M 10.59375 35.5 \nL 73.1875 35.5 \nL 73.1875 27.203125 \nL 10.59375 27.203125 \nz\n\" id=\"DejaVuSans-8722\"/>\n        <path d=\"M 37.796875 64.3125 \nL 12.890625 25.390625 \nL 37.796875 25.390625 \nz\nM 35.203125 72.90625 \nL 47.609375 72.90625 \nL 47.609375 25.390625 \nL 58.015625 25.390625 \nL 58.015625 17.1875 \nL 47.609375 17.1875 \nL 47.609375 0 \nL 37.796875 0 \nL 37.796875 17.1875 \nL 4.890625 17.1875 \nL 4.890625 26.703125 \nz\n\" id=\"DejaVuSans-52\"/>\n        <path d=\"M 31.78125 66.40625 \nQ 24.171875 66.40625 20.328125 58.90625 \nQ 16.5 51.421875 16.5 36.375 \nQ 16.5 21.390625 20.328125 13.890625 \nQ 24.171875 6.390625 31.78125 6.390625 \nQ 39.453125 6.390625 43.28125 13.890625 \nQ 47.125 21.390625 47.125 36.375 \nQ 47.125 51.421875 43.28125 58.90625 \nQ 39.453125 66.40625 31.78125 66.40625 \nz\nM 31.78125 74.21875 \nQ 44.046875 74.21875 50.515625 64.515625 \nQ 56.984375 54.828125 56.984375 36.375 \nQ 56.984375 17.96875 50.515625 8.265625 \nQ 44.046875 -1.421875 31.78125 -1.421875 \nQ 19.53125 -1.421875 13.0625 8.265625 \nQ 6.59375 17.96875 6.59375 36.375 \nQ 6.59375 54.828125 13.0625 64.515625 \nQ 19.53125 74.21875 31.78125 74.21875 \nz\n\" id=\"DejaVuSans-48\"/>\n        <path d=\"M 10.6875 12.40625 \nL 21 12.40625 \nL 21 0 \nL 10.6875 0 \nz\n\" id=\"DejaVuSans-46\"/>\n        <path d=\"M 12.40625 8.296875 \nL 28.515625 8.296875 \nL 28.515625 63.921875 \nL 10.984375 60.40625 \nL 10.984375 69.390625 \nL 28.421875 72.90625 \nL 38.28125 72.90625 \nL 38.28125 8.296875 \nL 54.390625 8.296875 \nL 54.390625 0 \nL 12.40625 0 \nz\n\" id=\"DejaVuSans-49\"/>\n       </defs>\n       <use xlink:href=\"#DejaVuSans-8722\"/>\n       <use x=\"83.789062\" xlink:href=\"#DejaVuSans-52\"/>\n       <use x=\"147.412109\" xlink:href=\"#DejaVuSans-48\"/>\n       <use x=\"211.035156\" xlink:href=\"#DejaVuSans-46\"/>\n       <use x=\"242.822266\" xlink:href=\"#DejaVuSans-49\"/>\n      </g>\n     </g>\n    </g>\n    <g id=\"xtick_2\">\n     <g id=\"line2d_2\">\n      <g>\n       <use style=\"stroke:#000000;stroke-width:0.8;\" x=\"155.787856\" xlink:href=\"#me27ad65a0e\" y=\"224.64\"/>\n      </g>\n     </g>\n     <g id=\"text_2\">\n      <!-- −40.0 -->\n      <g transform=\"translate(140.4652 239.238437)scale(0.1 -0.1)\">\n       <use xlink:href=\"#DejaVuSans-8722\"/>\n       <use x=\"83.789062\" xlink:href=\"#DejaVuSans-52\"/>\n       <use x=\"147.412109\" xlink:href=\"#DejaVuSans-48\"/>\n       <use x=\"211.035156\" xlink:href=\"#DejaVuSans-46\"/>\n       <use x=\"242.822266\" xlink:href=\"#DejaVuSans-48\"/>\n      </g>\n     </g>\n    </g>\n    <g id=\"xtick_3\">\n     <g id=\"line2d_3\">\n      <g>\n       <use style=\"stroke:#000000;stroke-width:0.8;\" x=\"221.344727\" xlink:href=\"#me27ad65a0e\" y=\"224.64\"/>\n      </g>\n     </g>\n     <g id=\"text_3\">\n      <!-- −39.9 -->\n      <g transform=\"translate(206.022071 239.238437)scale(0.1 -0.1)\">\n       <defs>\n        <path d=\"M 40.578125 39.3125 \nQ 47.65625 37.796875 51.625 33 \nQ 55.609375 28.21875 55.609375 21.1875 \nQ 55.609375 10.40625 48.1875 4.484375 \nQ 40.765625 -1.421875 27.09375 -1.421875 \nQ 22.515625 -1.421875 17.65625 -0.515625 \nQ 12.796875 0.390625 7.625 2.203125 \nL 7.625 11.71875 \nQ 11.71875 9.328125 16.59375 8.109375 \nQ 21.484375 6.890625 26.8125 6.890625 \nQ 36.078125 6.890625 40.9375 10.546875 \nQ 45.796875 14.203125 45.796875 21.1875 \nQ 45.796875 27.640625 41.28125 31.265625 \nQ 36.765625 34.90625 28.71875 34.90625 \nL 20.21875 34.90625 \nL 20.21875 43.015625 \nL 29.109375 43.015625 \nQ 36.375 43.015625 40.234375 45.921875 \nQ 44.09375 48.828125 44.09375 54.296875 \nQ 44.09375 59.90625 40.109375 62.90625 \nQ 36.140625 65.921875 28.71875 65.921875 \nQ 24.65625 65.921875 20.015625 65.03125 \nQ 15.375 64.15625 9.8125 62.3125 \nL 9.8125 71.09375 \nQ 15.4375 72.65625 20.34375 73.4375 \nQ 25.25 74.21875 29.59375 74.21875 \nQ 40.828125 74.21875 47.359375 69.109375 \nQ 53.90625 64.015625 53.90625 55.328125 \nQ 53.90625 49.265625 50.4375 45.09375 \nQ 46.96875 40.921875 40.578125 39.3125 \nz\n\" id=\"DejaVuSans-51\"/>\n        <path d=\"M 10.984375 1.515625 \nL 10.984375 10.5 \nQ 14.703125 8.734375 18.5 7.8125 \nQ 22.3125 6.890625 25.984375 6.890625 \nQ 35.75 6.890625 40.890625 13.453125 \nQ 46.046875 20.015625 46.78125 33.40625 \nQ 43.953125 29.203125 39.59375 26.953125 \nQ 35.25 24.703125 29.984375 24.703125 \nQ 19.046875 24.703125 12.671875 31.3125 \nQ 6.296875 37.9375 6.296875 49.421875 \nQ 6.296875 60.640625 12.9375 67.421875 \nQ 19.578125 74.21875 30.609375 74.21875 \nQ 43.265625 74.21875 49.921875 64.515625 \nQ 56.59375 54.828125 56.59375 36.375 \nQ 56.59375 19.140625 48.40625 8.859375 \nQ 40.234375 -1.421875 26.421875 -1.421875 \nQ 22.703125 -1.421875 18.890625 -0.6875 \nQ 15.09375 0.046875 10.984375 1.515625 \nz\nM 30.609375 32.421875 \nQ 37.25 32.421875 41.125 36.953125 \nQ 45.015625 41.5 45.015625 49.421875 \nQ 45.015625 57.28125 41.125 61.84375 \nQ 37.25 66.40625 30.609375 66.40625 \nQ 23.96875 66.40625 20.09375 61.84375 \nQ 16.21875 57.28125 16.21875 49.421875 \nQ 16.21875 41.5 20.09375 36.953125 \nQ 23.96875 32.421875 30.609375 32.421875 \nz\n\" id=\"DejaVuSans-57\"/>\n       </defs>\n       <use xlink:href=\"#DejaVuSans-8722\"/>\n       <use x=\"83.789062\" xlink:href=\"#DejaVuSans-51\"/>\n       <use x=\"147.412109\" xlink:href=\"#DejaVuSans-57\"/>\n       <use x=\"211.035156\" xlink:href=\"#DejaVuSans-46\"/>\n       <use x=\"242.822266\" xlink:href=\"#DejaVuSans-57\"/>\n      </g>\n     </g>\n    </g>\n   </g>\n   <g id=\"matplotlib.axis_2\">\n    <g id=\"ytick_1\">\n     <g id=\"line2d_4\">\n      <defs>\n       <path d=\"M 0 0 \nL -3.5 0 \n\" id=\"mfbc3462d6f\" style=\"stroke:#000000;stroke-width:0.8;\"/>\n      </defs>\n      <g>\n       <use style=\"stroke:#000000;stroke-width:0.8;\" x=\"51.207812\" xlink:href=\"#mfbc3462d6f\" y=\"223.156099\"/>\n      </g>\n     </g>\n     <g id=\"text_4\">\n      <!-- −20.00 -->\n      <g transform=\"translate(7.2 226.955318)scale(0.1 -0.1)\">\n       <defs>\n        <path d=\"M 19.1875 8.296875 \nL 53.609375 8.296875 \nL 53.609375 0 \nL 7.328125 0 \nL 7.328125 8.296875 \nQ 12.9375 14.109375 22.625 23.890625 \nQ 32.328125 33.6875 34.8125 36.53125 \nQ 39.546875 41.84375 41.421875 45.53125 \nQ 43.3125 49.21875 43.3125 52.78125 \nQ 43.3125 58.59375 39.234375 62.25 \nQ 35.15625 65.921875 28.609375 65.921875 \nQ 23.96875 65.921875 18.8125 64.3125 \nQ 13.671875 62.703125 7.8125 59.421875 \nL 7.8125 69.390625 \nQ 13.765625 71.78125 18.9375 73 \nQ 24.125 74.21875 28.421875 74.21875 \nQ 39.75 74.21875 46.484375 68.546875 \nQ 53.21875 62.890625 53.21875 53.421875 \nQ 53.21875 48.921875 51.53125 44.890625 \nQ 49.859375 40.875 45.40625 35.40625 \nQ 44.1875 33.984375 37.640625 27.21875 \nQ 31.109375 20.453125 19.1875 8.296875 \nz\n\" id=\"DejaVuSans-50\"/>\n       </defs>\n       <use xlink:href=\"#DejaVuSans-8722\"/>\n       <use x=\"83.789062\" xlink:href=\"#DejaVuSans-50\"/>\n       <use x=\"147.412109\" xlink:href=\"#DejaVuSans-48\"/>\n       <use x=\"211.035156\" xlink:href=\"#DejaVuSans-46\"/>\n       <use x=\"242.822266\" xlink:href=\"#DejaVuSans-48\"/>\n       <use x=\"306.445312\" xlink:href=\"#DejaVuSans-48\"/>\n      </g>\n     </g>\n    </g>\n    <g id=\"ytick_2\">\n     <g id=\"line2d_5\">\n      <g>\n       <use style=\"stroke:#000000;stroke-width:0.8;\" x=\"51.207812\" xlink:href=\"#mfbc3462d6f\" y=\"188.307952\"/>\n      </g>\n     </g>\n     <g id=\"text_5\">\n      <!-- −19.95 -->\n      <g transform=\"translate(7.2 192.107171)scale(0.1 -0.1)\">\n       <defs>\n        <path d=\"M 10.796875 72.90625 \nL 49.515625 72.90625 \nL 49.515625 64.59375 \nL 19.828125 64.59375 \nL 19.828125 46.734375 \nQ 21.96875 47.46875 24.109375 47.828125 \nQ 26.265625 48.1875 28.421875 48.1875 \nQ 40.625 48.1875 47.75 41.5 \nQ 54.890625 34.8125 54.890625 23.390625 \nQ 54.890625 11.625 47.5625 5.09375 \nQ 40.234375 -1.421875 26.90625 -1.421875 \nQ 22.3125 -1.421875 17.546875 -0.640625 \nQ 12.796875 0.140625 7.71875 1.703125 \nL 7.71875 11.625 \nQ 12.109375 9.234375 16.796875 8.0625 \nQ 21.484375 6.890625 26.703125 6.890625 \nQ 35.15625 6.890625 40.078125 11.328125 \nQ 45.015625 15.765625 45.015625 23.390625 \nQ 45.015625 31 40.078125 35.4375 \nQ 35.15625 39.890625 26.703125 39.890625 \nQ 22.75 39.890625 18.8125 39.015625 \nQ 14.890625 38.140625 10.796875 36.28125 \nz\n\" id=\"DejaVuSans-53\"/>\n       </defs>\n       <use xlink:href=\"#DejaVuSans-8722\"/>\n       <use x=\"83.789062\" xlink:href=\"#DejaVuSans-49\"/>\n       <use x=\"147.412109\" xlink:href=\"#DejaVuSans-57\"/>\n       <use x=\"211.035156\" xlink:href=\"#DejaVuSans-46\"/>\n       <use x=\"242.822266\" xlink:href=\"#DejaVuSans-57\"/>\n       <use x=\"306.445312\" xlink:href=\"#DejaVuSans-53\"/>\n      </g>\n     </g>\n    </g>\n    <g id=\"ytick_3\">\n     <g id=\"line2d_6\">\n      <g>\n       <use style=\"stroke:#000000;stroke-width:0.8;\" x=\"51.207812\" xlink:href=\"#mfbc3462d6f\" y=\"153.459805\"/>\n      </g>\n     </g>\n     <g id=\"text_6\">\n      <!-- −19.90 -->\n      <g transform=\"translate(7.2 157.259023)scale(0.1 -0.1)\">\n       <use xlink:href=\"#DejaVuSans-8722\"/>\n       <use x=\"83.789062\" xlink:href=\"#DejaVuSans-49\"/>\n       <use x=\"147.412109\" xlink:href=\"#DejaVuSans-57\"/>\n       <use x=\"211.035156\" xlink:href=\"#DejaVuSans-46\"/>\n       <use x=\"242.822266\" xlink:href=\"#DejaVuSans-57\"/>\n       <use x=\"306.445312\" xlink:href=\"#DejaVuSans-48\"/>\n      </g>\n     </g>\n    </g>\n    <g id=\"ytick_4\">\n     <g id=\"line2d_7\">\n      <g>\n       <use style=\"stroke:#000000;stroke-width:0.8;\" x=\"51.207812\" xlink:href=\"#mfbc3462d6f\" y=\"118.611658\"/>\n      </g>\n     </g>\n     <g id=\"text_7\">\n      <!-- −19.85 -->\n      <g transform=\"translate(7.2 122.410876)scale(0.1 -0.1)\">\n       <defs>\n        <path d=\"M 31.78125 34.625 \nQ 24.75 34.625 20.71875 30.859375 \nQ 16.703125 27.09375 16.703125 20.515625 \nQ 16.703125 13.921875 20.71875 10.15625 \nQ 24.75 6.390625 31.78125 6.390625 \nQ 38.8125 6.390625 42.859375 10.171875 \nQ 46.921875 13.96875 46.921875 20.515625 \nQ 46.921875 27.09375 42.890625 30.859375 \nQ 38.875 34.625 31.78125 34.625 \nz\nM 21.921875 38.8125 \nQ 15.578125 40.375 12.03125 44.71875 \nQ 8.5 49.078125 8.5 55.328125 \nQ 8.5 64.0625 14.71875 69.140625 \nQ 20.953125 74.21875 31.78125 74.21875 \nQ 42.671875 74.21875 48.875 69.140625 \nQ 55.078125 64.0625 55.078125 55.328125 \nQ 55.078125 49.078125 51.53125 44.71875 \nQ 48 40.375 41.703125 38.8125 \nQ 48.828125 37.15625 52.796875 32.3125 \nQ 56.78125 27.484375 56.78125 20.515625 \nQ 56.78125 9.90625 50.3125 4.234375 \nQ 43.84375 -1.421875 31.78125 -1.421875 \nQ 19.734375 -1.421875 13.25 4.234375 \nQ 6.78125 9.90625 6.78125 20.515625 \nQ 6.78125 27.484375 10.78125 32.3125 \nQ 14.796875 37.15625 21.921875 38.8125 \nz\nM 18.3125 54.390625 \nQ 18.3125 48.734375 21.84375 45.5625 \nQ 25.390625 42.390625 31.78125 42.390625 \nQ 38.140625 42.390625 41.71875 45.5625 \nQ 45.3125 48.734375 45.3125 54.390625 \nQ 45.3125 60.0625 41.71875 63.234375 \nQ 38.140625 66.40625 31.78125 66.40625 \nQ 25.390625 66.40625 21.84375 63.234375 \nQ 18.3125 60.0625 18.3125 54.390625 \nz\n\" id=\"DejaVuSans-56\"/>\n       </defs>\n       <use xlink:href=\"#DejaVuSans-8722\"/>\n       <use x=\"83.789062\" xlink:href=\"#DejaVuSans-49\"/>\n       <use x=\"147.412109\" xlink:href=\"#DejaVuSans-57\"/>\n       <use x=\"211.035156\" xlink:href=\"#DejaVuSans-46\"/>\n       <use x=\"242.822266\" xlink:href=\"#DejaVuSans-56\"/>\n       <use x=\"306.445312\" xlink:href=\"#DejaVuSans-53\"/>\n      </g>\n     </g>\n    </g>\n    <g id=\"ytick_5\">\n     <g id=\"line2d_8\">\n      <g>\n       <use style=\"stroke:#000000;stroke-width:0.8;\" x=\"51.207812\" xlink:href=\"#mfbc3462d6f\" y=\"83.763511\"/>\n      </g>\n     </g>\n     <g id=\"text_8\">\n      <!-- −19.80 -->\n      <g transform=\"translate(7.2 87.562729)scale(0.1 -0.1)\">\n       <use xlink:href=\"#DejaVuSans-8722\"/>\n       <use x=\"83.789062\" xlink:href=\"#DejaVuSans-49\"/>\n       <use x=\"147.412109\" xlink:href=\"#DejaVuSans-57\"/>\n       <use x=\"211.035156\" xlink:href=\"#DejaVuSans-46\"/>\n       <use x=\"242.822266\" xlink:href=\"#DejaVuSans-56\"/>\n       <use x=\"306.445312\" xlink:href=\"#DejaVuSans-48\"/>\n      </g>\n     </g>\n    </g>\n    <g id=\"ytick_6\">\n     <g id=\"line2d_9\">\n      <g>\n       <use style=\"stroke:#000000;stroke-width:0.8;\" x=\"51.207812\" xlink:href=\"#mfbc3462d6f\" y=\"48.915364\"/>\n      </g>\n     </g>\n     <g id=\"text_9\">\n      <!-- −19.75 -->\n      <g transform=\"translate(7.2 52.714582)scale(0.1 -0.1)\">\n       <defs>\n        <path d=\"M 8.203125 72.90625 \nL 55.078125 72.90625 \nL 55.078125 68.703125 \nL 28.609375 0 \nL 18.3125 0 \nL 43.21875 64.59375 \nL 8.203125 64.59375 \nz\n\" id=\"DejaVuSans-55\"/>\n       </defs>\n       <use xlink:href=\"#DejaVuSans-8722\"/>\n       <use x=\"83.789062\" xlink:href=\"#DejaVuSans-49\"/>\n       <use x=\"147.412109\" xlink:href=\"#DejaVuSans-57\"/>\n       <use x=\"211.035156\" xlink:href=\"#DejaVuSans-46\"/>\n       <use x=\"242.822266\" xlink:href=\"#DejaVuSans-55\"/>\n       <use x=\"306.445312\" xlink:href=\"#DejaVuSans-53\"/>\n      </g>\n     </g>\n    </g>\n    <g id=\"ytick_7\">\n     <g id=\"line2d_10\">\n      <g>\n       <use style=\"stroke:#000000;stroke-width:0.8;\" x=\"51.207812\" xlink:href=\"#mfbc3462d6f\" y=\"14.067217\"/>\n      </g>\n     </g>\n     <g id=\"text_10\">\n      <!-- −19.70 -->\n      <g transform=\"translate(7.2 17.866435)scale(0.1 -0.1)\">\n       <use xlink:href=\"#DejaVuSans-8722\"/>\n       <use x=\"83.789062\" xlink:href=\"#DejaVuSans-49\"/>\n       <use x=\"147.412109\" xlink:href=\"#DejaVuSans-57\"/>\n       <use x=\"211.035156\" xlink:href=\"#DejaVuSans-46\"/>\n       <use x=\"242.822266\" xlink:href=\"#DejaVuSans-55\"/>\n       <use x=\"306.445312\" xlink:href=\"#DejaVuSans-48\"/>\n      </g>\n     </g>\n    </g>\n   </g>\n   <g id=\"patch_3\">\n    <path d=\"M 51.207812 224.64 \nL 51.207812 7.2 \n\" style=\"fill:none;stroke:#000000;stroke-linecap:square;stroke-linejoin:miter;stroke-width:0.8;\"/>\n   </g>\n   <g id=\"patch_4\">\n    <path d=\"M 259.461552 224.64 \nL 259.461552 7.2 \n\" style=\"fill:none;stroke:#000000;stroke-linecap:square;stroke-linejoin:miter;stroke-width:0.8;\"/>\n   </g>\n   <g id=\"patch_5\">\n    <path d=\"M 51.207812 224.64 \nL 259.461552 224.64 \n\" style=\"fill:none;stroke:#000000;stroke-linecap:square;stroke-linejoin:miter;stroke-width:0.8;\"/>\n   </g>\n   <g id=\"patch_6\">\n    <path d=\"M 51.207812 7.2 \nL 259.461552 7.2 \n\" style=\"fill:none;stroke:#000000;stroke-linecap:square;stroke-linejoin:miter;stroke-width:0.8;\"/>\n   </g>\n  </g>\n </g>\n <defs>\n  <clipPath id=\"peec22cd2d4\">\n   <rect height=\"217.44\" width=\"208.253739\" x=\"51.207812\" y=\"7.2\"/>\n  </clipPath>\n </defs>\n</svg>\n",
      "image/png": "[encoded data removed]"
     },
     "metadata": {
      "needs_background": "light"
     }
    }
   ],
   "source": [
    "\n",
    "\n",
    "data = {'url':[],'geometry':[]}\n",
    "pol_as_np = np.array(pol_as_list)\n",
    "\n",
    "\n",
    "for i in range(50):\n",
    "    data['url'].append(str(i))\n",
    "    data['geometry'].append(Polygon(pol_as_np+random.uniform(-.1,.1)))\n",
    "\n",
    "\n",
    "sample_gdf = GeoDataFrame(data,crs=\"EPSG:4326\")\n",
    "\n",
    "# print(sample_gdf)\n",
    "\n",
    "sample_gdf.plot()"
   ]
  },
  {
   "cell_type": "code",
   "execution_count": 83,
   "metadata": {},
   "outputs": [
    {
     "output_type": "stream",
     "name": "stdout",
     "text": [
      "0     False\n1     False\n2     False\n3      True\n4     False\n5     False\n6     False\n7      True\n8     False\n9     False\n10    False\n11    False\n12    False\n13     True\n14    False\n15     True\n16     True\n17    False\n18    False\n19    False\n20    False\n21    False\n22    False\n23     True\n24    False\n25    False\n26    False\n27     True\n28    False\n29    False\n30    False\n31    False\n32     True\n33    False\n34    False\n35     True\n36     True\n37     True\n38    False\n39    False\n40     True\n41    False\n42    False\n43     True\n44    False\n45    False\n46    False\n47     True\n48     True\n49    False\ndtype: bool\n"
     ]
    }
   ],
   "source": [
    "intersect = sample_gdf.intersects(sample_pol3)\n",
    "\n",
    "print(intersect)"
   ]
  },
  {
   "cell_type": "code",
   "execution_count": 84,
   "metadata": {},
   "outputs": [
    {
     "output_type": "execute_result",
     "data": {
      "text/plain": [
       "   url                                           geometry\n",
       "3    3  POLYGON ((-39.97894 -19.73147, -39.97954 -19.8...\n",
       "7    7  POLYGON ((-39.97294 -19.72547, -39.97353 -19.8...\n",
       "13  13  POLYGON ((-39.98296 -19.73549, -39.98356 -19.8...\n",
       "15  15  POLYGON ((-39.98335 -19.73588, -39.98394 -19.8...\n",
       "16  16  POLYGON ((-39.95256 -19.70509, -39.95316 -19.7...\n",
       "23  23  POLYGON ((-39.96330 -19.71582, -39.96389 -19.8...\n",
       "27  27  POLYGON ((-39.97774 -19.73027, -39.97834 -19.8...\n",
       "32  32  POLYGON ((-39.96688 -19.71941, -39.96747 -19.8...\n",
       "35  35  POLYGON ((-39.97531 -19.72784, -39.97591 -19.8...\n",
       "36  36  POLYGON ((-39.95732 -19.70985, -39.95791 -19.8...\n",
       "37  37  POLYGON ((-39.98851 -19.74104, -39.98910 -19.8...\n",
       "40  40  POLYGON ((-39.97559 -19.72812, -39.97618 -19.8...\n",
       "43  43  POLYGON ((-39.95180 -19.70433, -39.95239 -19.7...\n",
       "47  47  POLYGON ((-39.97105 -19.72358, -39.97165 -19.8...\n",
       "48  48  POLYGON ((-39.98173 -19.73426, -39.98232 -19.8..."
      ],
      "text/html": "<div>\n<style scoped>\n    .dataframe tbody tr th:only-of-type {\n        vertical-align: middle;\n    }\n\n    .dataframe tbody tr th {\n        vertical-align: top;\n    }\n\n    .dataframe thead th {\n        text-align: right;\n    }\n</style>\n<table border=\"1\" class=\"dataframe\">\n  <thead>\n    <tr style=\"text-align: right;\">\n      <th></th>\n      <th>url</th>\n      <th>geometry</th>\n    </tr>\n  </thead>\n  <tbody>\n    <tr>\n      <th>3</th>\n      <td>3</td>\n      <td>POLYGON ((-39.97894 -19.73147, -39.97954 -19.8...</td>\n    </tr>\n    <tr>\n      <th>7</th>\n      <td>7</td>\n      <td>POLYGON ((-39.97294 -19.72547, -39.97353 -19.8...</td>\n    </tr>\n    <tr>\n      <th>13</th>\n      <td>13</td>\n      <td>POLYGON ((-39.98296 -19.73549, -39.98356 -19.8...</td>\n    </tr>\n    <tr>\n      <th>15</th>\n      <td>15</td>\n      <td>POLYGON ((-39.98335 -19.73588, -39.98394 -19.8...</td>\n    </tr>\n    <tr>\n      <th>16</th>\n      <td>16</td>\n      <td>POLYGON ((-39.95256 -19.70509, -39.95316 -19.7...</td>\n    </tr>\n    <tr>\n      <th>23</th>\n      <td>23</td>\n      <td>POLYGON ((-39.96330 -19.71582, -39.96389 -19.8...</td>\n    </tr>\n    <tr>\n      <th>27</th>\n      <td>27</td>\n      <td>POLYGON ((-39.97774 -19.73027, -39.97834 -19.8...</td>\n    </tr>\n    <tr>\n      <th>32</th>\n      <td>32</td>\n      <td>POLYGON ((-39.96688 -19.71941, -39.96747 -19.8...</td>\n    </tr>\n    <tr>\n      <th>35</th>\n      <td>35</td>\n      <td>POLYGON ((-39.97531 -19.72784, -39.97591 -19.8...</td>\n    </tr>\n    <tr>\n      <th>36</th>\n      <td>36</td>\n      <td>POLYGON ((-39.95732 -19.70985, -39.95791 -19.8...</td>\n    </tr>\n    <tr>\n      <th>37</th>\n      <td>37</td>\n      <td>POLYGON ((-39.98851 -19.74104, -39.98910 -19.8...</td>\n    </tr>\n    <tr>\n      <th>40</th>\n      <td>40</td>\n      <td>POLYGON ((-39.97559 -19.72812, -39.97618 -19.8...</td>\n    </tr>\n    <tr>\n      <th>43</th>\n      <td>43</td>\n      <td>POLYGON ((-39.95180 -19.70433, -39.95239 -19.7...</td>\n    </tr>\n    <tr>\n      <th>47</th>\n      <td>47</td>\n      <td>POLYGON ((-39.97105 -19.72358, -39.97165 -19.8...</td>\n    </tr>\n    <tr>\n      <th>48</th>\n      <td>48</td>\n      <td>POLYGON ((-39.98173 -19.73426, -39.98232 -19.8...</td>\n    </tr>\n  </tbody>\n</table>\n</div>"
     },
     "metadata": {},
     "execution_count": 84
    }
   ],
   "source": [
    "sample_gdf[intersect]"
   ]
  },
  {
   "cell_type": "code",
   "execution_count": null,
   "metadata": {},
   "outputs": [],
   "source": []
  }
 ]
}