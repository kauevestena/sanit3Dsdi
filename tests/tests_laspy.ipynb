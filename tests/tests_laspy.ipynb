{
 "metadata": {
  "language_info": {
   "codemirror_mode": {
    "name": "ipython",
    "version": 3
   },
   "file_extension": ".py",
   "mimetype": "text/x-python",
   "name": "python",
   "nbconvert_exporter": "python",
   "pygments_lexer": "ipython3",
   "version": "3.6.9"
  },
  "orig_nbformat": 4,
  "kernelspec": {
   "name": "python3",
   "display_name": "Python 3.6.9 64-bit"
  },
  "interpreter": {
   "hash": "31f2aee4e71d21fbe5cf8b01ff0e069b9275f58929596ceb00d14d90e3e16cd6"
  }
 },
 "nbformat": 4,
 "nbformat_minor": 2,
 "cells": [
  {
   "cell_type": "code",
   "execution_count": 1,
   "metadata": {},
   "outputs": [],
   "source": [
    "import laspy"
   ]
  },
  {
   "cell_type": "code",
   "execution_count": 2,
   "metadata": {},
   "outputs": [],
   "source": [
    "new_las = laspy.create(file_version=\"1.2\", point_format=3)"
   ]
  },
  {
   "cell_type": "code",
   "execution_count": 3,
   "metadata": {},
   "outputs": [
    {
     "output_type": "stream",
     "name": "stdout",
     "text": [
      "<LasData(1.2, point fmt: <PointFormat(3, 0 bytes of extra dims)>, 0 points, 0 vlrs)>\n"
     ]
    }
   ],
   "source": [
    "print(new_las)"
   ]
  },
  {
   "cell_type": "code",
   "execution_count": 4,
   "metadata": {},
   "outputs": [
    {
     "output_type": "stream",
     "name": "stdout",
     "text": [
      "<class 'numpy.ndarray'>\n"
     ]
    }
   ],
   "source": [
    "print(type(new_las.X))"
   ]
  },
  {
   "cell_type": "code",
   "execution_count": 5,
   "metadata": {},
   "outputs": [],
   "source": [
    "import json\n",
    "\n",
    "# ALREADY WITTEN FUNCS HERE\n",
    "\n",
    "def list_dump(input_list,outpath,mode='w+'):\n",
    "    with open(outpath,mode) as list_writer:\n",
    "        for item in input_list:\n",
    "            list_writer.write(str(item)+'\\n')\n"
   ]
  },
  {
   "cell_type": "code",
   "execution_count": 6,
   "metadata": {},
   "outputs": [],
   "source": [
    "import subprocess\n",
    "\n",
    "# NEW FUNCS HERE\n",
    "\n",
    "def parse_json(jsonpath):\n",
    "    with open(jsonpath) as reader:\n",
    "        return json.load(reader)\n",
    "\n",
    "def gdal_vrt_from_filelist(filelistpath,outputpath,print_runstring=True):\n",
    "\n",
    "    runstring = f'gdalbuildvrt -input_file_list {filelistpath} {outputpath}'\n",
    "\n",
    "    if(print_runstring):\n",
    "        print(runstring)\n",
    "\n",
    "    subprocess.run(runstring,shell=True)\n",
    "\n",
    "def gdal_translate_to_xyz(imagepath,bbox_minxy_maxxy=None,boundaries_epsg='4326'):\n",
    "    '''\n",
    "        bbox must be given as a list in guessed order\n",
    "    '''\n",
    "\n",
    "    runstring = f'gdal_translate -input_file_list {filelistpath} {outputpath}'\n",
    "\n",
    "    if(print_runstring):\n",
    "        print(runstring)\n",
    "\n",
    "    subprocess.run(runstring,shell=True)\n",
    "\n",
    "\n"
   ]
  },
  {
   "cell_type": "code",
   "execution_count": 7,
   "metadata": {},
   "outputs": [],
   "source": [
    "jsonpath = '/home/kaue/data/sanit3d_out/temporary/dtm_raster_data_dump.json'\n",
    "\n",
    "dtm_dict = parse_json(jsonpath)\n",
    "\n",
    "dtm_filename_list = list(dtm_dict['downloaded_image_path'].values())"
   ]
  },
  {
   "cell_type": "code",
   "execution_count": 8,
   "metadata": {},
   "outputs": [],
   "source": [
    "jsonpath = '/home/kaue/data/sanit3d_out/temporary/dsm_raster_data_dump.json'\n",
    "\n",
    "dsm_dict = parse_json(jsonpath)\n",
    "\n",
    "dsm_filename_list = list(dsm_dict['downloaded_image_path'].values())"
   ]
  },
  {
   "cell_type": "code",
   "execution_count": 9,
   "metadata": {},
   "outputs": [
    {
     "output_type": "execute_result",
     "data": {
      "text/plain": [
       "['/home/kaue/data/sanit3d_out/temporary/DTM_35_776.img',\n",
       " '/home/kaue/data/sanit3d_out/temporary/DTM_35_777.img',\n",
       " '/home/kaue/data/sanit3d_out/temporary/DTM_36_776.img',\n",
       " '/home/kaue/data/sanit3d_out/temporary/DTM_36_777.img',\n",
       " '/home/kaue/data/sanit3d_out/temporary/DTM_37_776.img',\n",
       " '/home/kaue/data/sanit3d_out/temporary/DTM_37_777.img']"
      ]
     },
     "metadata": {},
     "execution_count": 9
    }
   ],
   "source": [
    "dtm_filename_list"
   ]
  },
  {
   "cell_type": "code",
   "execution_count": 10,
   "metadata": {},
   "outputs": [
    {
     "output_type": "execute_result",
     "data": {
      "text/plain": [
       "['/home/kaue/data/sanit3d_out/temporary/DSM_35_776.img',\n",
       " '/home/kaue/data/sanit3d_out/temporary/DSM_35_777.img',\n",
       " '/home/kaue/data/sanit3d_out/temporary/DSM_36_776.img',\n",
       " '/home/kaue/data/sanit3d_out/temporary/DSM_36_777.img',\n",
       " '/home/kaue/data/sanit3d_out/temporary/DSM_37_776.img',\n",
       " '/home/kaue/data/sanit3d_out/temporary/DSM_37_777.img']"
      ]
     },
     "metadata": {},
     "execution_count": 10
    }
   ],
   "source": [
    "dsm_filename_list"
   ]
  },
  {
   "cell_type": "code",
   "execution_count": 11,
   "metadata": {},
   "outputs": [],
   "source": [
    "dtm_filelist_name = 'test_dtm_list.txt'\n",
    "dtm_vrt_path = 'test_vrt_dtm.vrt'\n",
    "list_dump(dtm_filename_list,dtm_filelist_name)\n",
    "\n",
    "dsm_filelist_name = 'test_dsm_list.txt'\n",
    "dsm_vrt_path = 'test_vrt_dsm.vrt'\n",
    "list_dump(dsm_filename_list,dsm_filelist_name)"
   ]
  },
  {
   "cell_type": "code",
   "execution_count": 12,
   "metadata": {},
   "outputs": [
    {
     "output_type": "stream",
     "name": "stdout",
     "text": [
      "gdalbuildvrt -input_file_list test_dtm_list.txt test_vrt_dtm.vrt\n",
      "gdalbuildvrt -input_file_list test_dsm_list.txt test_vrt_dsm.vrt\n"
     ]
    }
   ],
   "source": [
    "gdal_vrt_from_filelist(dtm_filelist_name,dtm_vrt_path)\n",
    "gdal_vrt_from_filelist(dsm_filelist_name,dsm_vrt_path)\n"
   ]
  },
  {
   "cell_type": "code",
   "execution_count": 13,
   "metadata": {},
   "outputs": [],
   "source": [
    "# tests 232 * 211 = 48952 spected points\n"
   ]
  }
 ]
}