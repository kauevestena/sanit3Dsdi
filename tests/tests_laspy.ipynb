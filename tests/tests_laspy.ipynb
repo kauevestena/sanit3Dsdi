{
 "metadata": {
  "language_info": {
   "codemirror_mode": {
    "name": "ipython",
    "version": 3
   },
   "file_extension": ".py",
   "mimetype": "text/x-python",
   "name": "python",
   "nbconvert_exporter": "python",
   "pygments_lexer": "ipython3",
   "version": "3.6.9"
  },
  "orig_nbformat": 4,
  "kernelspec": {
   "name": "python3",
   "display_name": "Python 3.6.9 64-bit"
  },
  "interpreter": {
   "hash": "31f2aee4e71d21fbe5cf8b01ff0e069b9275f58929596ceb00d14d90e3e16cd6"
  }
 },
 "nbformat": 4,
 "nbformat_minor": 2,
 "cells": [
  {
   "cell_type": "code",
   "execution_count": 15,
   "metadata": {},
   "outputs": [],
   "source": [
    "import laspy"
   ]
  },
  {
   "cell_type": "code",
   "execution_count": 17,
   "metadata": {},
   "outputs": [],
   "source": [
    "new_las = laspy.create(file_version=\"1.2\", point_format=3)"
   ]
  },
  {
   "cell_type": "code",
   "execution_count": null,
   "metadata": {},
   "outputs": [],
   "source": [
    "print(new_las)"
   ]
  },
  {
   "cell_type": "code",
   "execution_count": 4,
   "metadata": {},
   "outputs": [
    {
     "output_type": "stream",
     "name": "stdout",
     "text": [
      "<class 'numpy.ndarray'>\n"
     ]
    }
   ],
   "source": [
    "print(type(new_las.X))"
   ]
  },
  {
   "cell_type": "code",
   "execution_count": 34,
   "metadata": {},
   "outputs": [],
   "source": [
    "import json\n",
    "\n",
    "# ALREADY WITTEN FUNCS HERE\n",
    "\n",
    "def list_dump(input_list,outpath,mode='w+'):\n",
    "    with open(outpath,mode) as list_writer:\n",
    "        for item in input_list:\n",
    "            list_writer.write(str(item)+'\\n')\n",
    "\n",
    "def print_rem_time_info(total_it,curent_it,ref_time,chunk_size=1):\n",
    "    # \"it\" stands for 'iteration'\n",
    "    it_time  = time.time()-ref_time\n",
    "    rem_its  = total_it-curent_it\n",
    "    rem_time = it_time * rem_its\n",
    "    print(\"{} iter took {:.4f} seconds, estimated remaining time: {:.4f} minutes or {:.4f} hours, iteration {} of {}\".format(chunk_size,it_time*chunk_size,rem_time/60.0,rem_time/3600.0,curent_it,total_it))\n"
   ]
  },
  {
   "cell_type": "code",
   "execution_count": 29,
   "metadata": {},
   "outputs": [],
   "source": [
    "import subprocess\n",
    "\n",
    "# NEW FUNCS HERE\n",
    "\n",
    "def parse_json(jsonpath):\n",
    "    with open(jsonpath) as reader:\n",
    "        return json.load(reader)\n",
    "\n",
    "def gdal_vrt_from_filelist(filelistpath,outputpath,print_runstring=True):\n",
    "\n",
    "    runstring = f'gdalbuildvrt -input_file_list {filelistpath} {outputpath}'\n",
    "\n",
    "    if(print_runstring):\n",
    "        print(runstring)\n",
    "\n",
    "    subprocess.run(runstring,shell=True)\n",
    "\n",
    "def gdal_translate_dem(imagepath,outpath,bbox_minxy_maxxy=None,outformat='XYZ',boundaries_epsg='4326',custom_cellsize=None,enlargement_percent=None,print_runstring=True):\n",
    "    '''\n",
    "        bbox must be given as a list in guessed order\n",
    "    '''\n",
    "\n",
    "    bbox_part = ''\n",
    "\n",
    "    if bbox_minxy_maxxy:\n",
    "\n",
    "        ulx = bbox_minxy_maxxy[0]\n",
    "        uly = bbox_minxy_maxxy[3]\n",
    "        lrx = bbox_minxy_maxxy[1]\n",
    "        lry = bbox_minxy_maxxy[2]\n",
    "\n",
    "        bbox_part = f'-projwin {ulx} {uly} {lrx} {lry} -projwin_srs \"EPSG:{boundaries_epsg}\"'\n",
    "\n",
    "    cellsize_part = ''\n",
    "\n",
    "    if custom_cellsize and (not enlargement_percent):\n",
    "        cellsize_part = f'-r bilinear -tr {custom_cellsize} {custom_cellsize}'\n",
    "\n",
    "    enlargement_part = ''\n",
    "\n",
    "    if not custom_cellsize and enlargement_percent:\n",
    "        cellsize_part = f'-r bilinear -outsize {enlargement_percent}% {enlargement_percent}%'\n",
    "\n",
    "    runstring = f'gdal_translate {bbox_part} {cellsize_part} {enlargement_part} -of {outformat} {imagepath} {outpath}'\n",
    "\n",
    "    if(print_runstring):\n",
    "        print(runstring)\n",
    "\n",
    "    subprocess.run(runstring,shell=True)\n",
    "\n",
    "\n",
    "\n",
    "def get_raster_val_at_geoXY(x,y,rasterpath):\n",
    "    runstring = f'gdallocationinfo -valonly -geoloc {rasterpath} {x} {y}'\n",
    "\n",
    "    ret = subprocess.run(runstring,shell=True, stdout=subprocess.PIPE).stdout.decode('utf-8')\n",
    "\n",
    "    return float(ret.strip('\\n'))\n",
    "\n",
    "\n",
    "def string_to_floatlist(inputstring):\n",
    "    return list(map(float,line.strip('\\n').split(' ')))"
   ]
  },
  {
   "cell_type": "code",
   "execution_count": 7,
   "metadata": {},
   "outputs": [],
   "source": [
    "jsonpath = '/home/kaue/data/sanit3d_out/temporary/dtm_raster_data_dump.json'\n",
    "\n",
    "dtm_dict = parse_json(jsonpath)\n",
    "\n",
    "dtm_filename_list = list(dtm_dict['downloaded_image_path'].values())"
   ]
  },
  {
   "cell_type": "code",
   "execution_count": 8,
   "metadata": {},
   "outputs": [],
   "source": [
    "jsonpath = '/home/kaue/data/sanit3d_out/temporary/dsm_raster_data_dump.json'\n",
    "\n",
    "dsm_dict = parse_json(jsonpath)\n",
    "\n",
    "dsm_filename_list = list(dsm_dict['downloaded_image_path'].values())"
   ]
  },
  {
   "cell_type": "code",
   "execution_count": 9,
   "metadata": {},
   "outputs": [
    {
     "output_type": "execute_result",
     "data": {
      "text/plain": [
       "['/home/kaue/data/sanit3d_out/temporary/DTM_35_776.img',\n",
       " '/home/kaue/data/sanit3d_out/temporary/DTM_35_777.img',\n",
       " '/home/kaue/data/sanit3d_out/temporary/DTM_36_776.img',\n",
       " '/home/kaue/data/sanit3d_out/temporary/DTM_36_777.img',\n",
       " '/home/kaue/data/sanit3d_out/temporary/DTM_37_776.img',\n",
       " '/home/kaue/data/sanit3d_out/temporary/DTM_37_777.img']"
      ]
     },
     "metadata": {},
     "execution_count": 9
    }
   ],
   "source": [
    "dtm_filename_list"
   ]
  },
  {
   "cell_type": "code",
   "execution_count": 10,
   "metadata": {},
   "outputs": [
    {
     "output_type": "execute_result",
     "data": {
      "text/plain": [
       "['/home/kaue/data/sanit3d_out/temporary/DSM_35_776.img',\n",
       " '/home/kaue/data/sanit3d_out/temporary/DSM_35_777.img',\n",
       " '/home/kaue/data/sanit3d_out/temporary/DSM_36_776.img',\n",
       " '/home/kaue/data/sanit3d_out/temporary/DSM_36_777.img',\n",
       " '/home/kaue/data/sanit3d_out/temporary/DSM_37_776.img',\n",
       " '/home/kaue/data/sanit3d_out/temporary/DSM_37_777.img']"
      ]
     },
     "metadata": {},
     "execution_count": 10
    }
   ],
   "source": [
    "dsm_filename_list"
   ]
  },
  {
   "cell_type": "code",
   "execution_count": 11,
   "metadata": {},
   "outputs": [],
   "source": [
    "dtm_filelist_name = 'test_dtm_list.txt'\n",
    "dtm_vrt_path = 'test_vrt_dtm.vrt'\n",
    "list_dump(dtm_filename_list,dtm_filelist_name)\n",
    "\n",
    "dsm_filelist_name = 'test_dsm_list.txt'\n",
    "dsm_vrt_path = 'test_vrt_dsm.vrt'\n",
    "list_dump(dsm_filename_list,dsm_filelist_name)"
   ]
  },
  {
   "cell_type": "code",
   "execution_count": 12,
   "metadata": {},
   "outputs": [
    {
     "output_type": "stream",
     "name": "stdout",
     "text": [
      "gdalbuildvrt -input_file_list test_dtm_list.txt test_vrt_dtm.vrt\n",
      "gdalbuildvrt -input_file_list test_dsm_list.txt test_vrt_dsm.vrt\n"
     ]
    }
   ],
   "source": [
    "gdal_vrt_from_filelist(dtm_filelist_name,dtm_vrt_path)\n",
    "gdal_vrt_from_filelist(dsm_filelist_name,dsm_vrt_path)\n"
   ]
  },
  {
   "cell_type": "code",
   "execution_count": 13,
   "metadata": {},
   "outputs": [],
   "source": [
    "lgt_min = -40.3397827083\n",
    "lgt_max = -40.3353356058\n",
    "lat_min = -20.3214263926\n",
    "lat_max = -20.3176282943\n",
    "\n",
    "bbox_test = [lgt_min,lgt_max,lat_min,lat_max]"
   ]
  },
  {
   "cell_type": "code",
   "execution_count": 26,
   "metadata": {},
   "outputs": [
    {
     "output_type": "stream",
     "name": "stdout",
     "text": [
      "gdal_translate -projwin -40.3397827083 -20.3176282943 -40.3353356058 -20.3214263926 -projwin_srs \"EPSG:4326\"   -of XYZ test_vrt_dtm.vrt dtm_test.xyz\n"
     ]
    }
   ],
   "source": [
    "# tests 232 * 211 = 48952 spected points\n",
    "\n",
    "dtm_xyz_path = 'dtm_test.xyz' \n",
    "\n",
    "gdal_translate_dem(dtm_vrt_path,dtm_xyz_path,bbox_test)\n"
   ]
  },
  {
   "cell_type": "code",
   "execution_count": 16,
   "metadata": {},
   "outputs": [
    {
     "output_type": "stream",
     "name": "stdout",
     "text": [
      "gdal_translate -projwin -40.3397827083 -20.3176282943 -40.3353356058 -20.3214263926 -projwin_srs \"EPSG:4326\" -r bilinear -tr 0.5 0.5  -of XYZ test_vrt_dsm.vrt dsm_test.xyz\n"
     ]
    }
   ],
   "source": [
    "dsm_xyz_path = 'dsm_test.xyz' \n",
    "\n",
    "gdal_translate_dem(dsm_vrt_path,dsm_xyz_path,bbox_test,custom_cellsize=0.5)"
   ]
  },
  {
   "cell_type": "code",
   "execution_count": 35,
   "metadata": {
    "tags": [
     "outputPrepend"
    ]
   },
   "outputs": [
    {
     "output_type": "stream",
     "name": "stdout",
     "text": [
      "00 iter took 8.9354 seconds, estimated remaining time: 26.1689 minutes or 0.4361 hours, iteration 31100 of 48672\n",
      "100 iter took 8.7842 seconds, estimated remaining time: 25.5797 minutes or 0.4263 hours, iteration 31200 of 48672\n",
      "100 iter took 9.0459 seconds, estimated remaining time: 26.1909 minutes or 0.4365 hours, iteration 31300 of 48672\n",
      "100 iter took 9.3301 seconds, estimated remaining time: 26.8581 minutes or 0.4476 hours, iteration 31400 of 48672\n",
      "100 iter took 9.1873 seconds, estimated remaining time: 26.2942 minutes or 0.4382 hours, iteration 31500 of 48672\n",
      "100 iter took 9.2242 seconds, estimated remaining time: 26.2459 minutes or 0.4374 hours, iteration 31600 of 48672\n",
      "100 iter took 9.3919 seconds, estimated remaining time: 26.5666 minutes or 0.4428 hours, iteration 31700 of 48672\n",
      "100 iter took 8.8628 seconds, estimated remaining time: 24.9221 minutes or 0.4154 hours, iteration 31800 of 48672\n",
      "100 iter took 8.8751 seconds, estimated remaining time: 24.8090 minutes or 0.4135 hours, iteration 31900 of 48672\n",
      "100 iter took 9.5721 seconds, estimated remaining time: 26.5977 minutes or 0.4433 hours, iteration 32000 of 48672\n",
      "100 iter took 9.2494 seconds, estimated remaining time: 25.5469 minutes or 0.4258 hours, iteration 32100 of 48672\n",
      "100 iter took 8.9164 seconds, estimated remaining time: 24.4784 minutes or 0.4080 hours, iteration 32200 of 48672\n",
      "100 iter took 8.8811 seconds, estimated remaining time: 24.2336 minutes or 0.4039 hours, iteration 32300 of 48672\n",
      "100 iter took 8.8070 seconds, estimated remaining time: 23.8845 minutes or 0.3981 hours, iteration 32400 of 48672\n",
      "100 iter took 9.2670 seconds, estimated remaining time: 24.9776 minutes or 0.4163 hours, iteration 32500 of 48672\n",
      "100 iter took 9.2477 seconds, estimated remaining time: 24.7716 minutes or 0.4129 hours, iteration 32600 of 48672\n",
      "100 iter took 9.1950 seconds, estimated remaining time: 24.4771 minutes or 0.4080 hours, iteration 32700 of 48672\n",
      "100 iter took 8.8525 seconds, estimated remaining time: 23.4178 minutes or 0.3903 hours, iteration 32800 of 48672\n",
      "100 iter took 9.5228 seconds, estimated remaining time: 25.0324 minutes or 0.4172 hours, iteration 32900 of 48672\n",
      "100 iter took 9.6826 seconds, estimated remaining time: 25.2909 minutes or 0.4215 hours, iteration 33000 of 48672\n",
      "100 iter took 8.8793 seconds, estimated remaining time: 23.0446 minutes or 0.3841 hours, iteration 33100 of 48672\n",
      "100 iter took 9.0687 seconds, estimated remaining time: 23.3852 minutes or 0.3898 hours, iteration 33200 of 48672\n",
      "100 iter took 8.8579 seconds, estimated remaining time: 22.6940 minutes or 0.3782 hours, iteration 33300 of 48672\n",
      "100 iter took 8.7735 seconds, estimated remaining time: 22.3314 minutes or 0.3722 hours, iteration 33400 of 48672\n",
      "100 iter took 9.4085 seconds, estimated remaining time: 23.7910 minutes or 0.3965 hours, iteration 33500 of 48672\n",
      "100 iter took 9.2242 seconds, estimated remaining time: 23.1711 minutes or 0.3862 hours, iteration 33600 of 48672\n",
      "100 iter took 9.2484 seconds, estimated remaining time: 23.0778 minutes or 0.3846 hours, iteration 33700 of 48672\n",
      "100 iter took 9.2253 seconds, estimated remaining time: 22.8664 minutes or 0.3811 hours, iteration 33800 of 48672\n",
      "100 iter took 8.9314 seconds, estimated remaining time: 21.9892 minutes or 0.3665 hours, iteration 33900 of 48672\n",
      "100 iter took 9.3089 seconds, estimated remaining time: 22.7633 minutes or 0.3794 hours, iteration 34000 of 48672\n",
      "100 iter took 9.1725 seconds, estimated remaining time: 22.2770 minutes or 0.3713 hours, iteration 34100 of 48672\n",
      "100 iter took 9.3886 seconds, estimated remaining time: 22.6453 minutes or 0.3774 hours, iteration 34200 of 48672\n",
      "100 iter took 9.0223 seconds, estimated remaining time: 21.6114 minutes or 0.3602 hours, iteration 34300 of 48672\n",
      "100 iter took 9.4297 seconds, estimated remaining time: 22.4302 minutes or 0.3738 hours, iteration 34400 of 48672\n",
      "100 iter took 8.9982 seconds, estimated remaining time: 21.2538 minutes or 0.3542 hours, iteration 34500 of 48672\n",
      "100 iter took 9.5278 seconds, estimated remaining time: 22.3459 minutes or 0.3724 hours, iteration 34600 of 48672\n",
      "100 iter took 10.0605 seconds, estimated remaining time: 23.4275 minutes or 0.3905 hours, iteration 34700 of 48672\n",
      "100 iter took 9.4958 seconds, estimated remaining time: 21.9544 minutes or 0.3659 hours, iteration 34800 of 48672\n",
      "100 iter took 8.9739 seconds, estimated remaining time: 20.5981 minutes or 0.3433 hours, iteration 34900 of 48672\n",
      "100 iter took 9.2269 seconds, estimated remaining time: 21.0251 minutes or 0.3504 hours, iteration 35000 of 48672\n",
      "100 iter took 9.3069 seconds, estimated remaining time: 21.0521 minutes or 0.3509 hours, iteration 35100 of 48672\n",
      "100 iter took 9.0637 seconds, estimated remaining time: 20.3511 minutes or 0.3392 hours, iteration 35200 of 48672\n",
      "100 iter took 8.9335 seconds, estimated remaining time: 19.9098 minutes or 0.3318 hours, iteration 35300 of 48672\n",
      "100 iter took 8.7131 seconds, estimated remaining time: 19.2733 minutes or 0.3212 hours, iteration 35400 of 48672\n",
      "100 iter took 8.7346 seconds, estimated remaining time: 19.1753 minutes or 0.3196 hours, iteration 35500 of 48672\n",
      "100 iter took 9.3227 seconds, estimated remaining time: 20.3110 minutes or 0.3385 hours, iteration 35600 of 48672\n",
      "100 iter took 8.9633 seconds, estimated remaining time: 19.3785 minutes or 0.3230 hours, iteration 35700 of 48672\n",
      "100 iter took 9.0602 seconds, estimated remaining time: 19.4371 minutes or 0.3240 hours, iteration 35800 of 48672\n",
      "100 iter took 9.2047 seconds, estimated remaining time: 19.5937 minutes or 0.3266 hours, iteration 35900 of 48672\n",
      "100 iter took 9.2119 seconds, estimated remaining time: 19.4555 minutes or 0.3243 hours, iteration 36000 of 48672\n",
      "100 iter took 9.2684 seconds, estimated remaining time: 19.4204 minutes or 0.3237 hours, iteration 36100 of 48672\n",
      "100 iter took 8.7959 seconds, estimated remaining time: 18.2838 minutes or 0.3047 hours, iteration 36200 of 48672\n",
      "100 iter took 9.5323 seconds, estimated remaining time: 19.6555 minutes or 0.3276 hours, iteration 36300 of 48672\n",
      "100 iter took 9.4209 seconds, estimated remaining time: 19.2690 minutes or 0.3211 hours, iteration 36400 of 48672\n",
      "100 iter took 8.7081 seconds, estimated remaining time: 17.6658 minutes or 0.2944 hours, iteration 36500 of 48672\n",
      "100 iter took 9.3697 seconds, estimated remaining time: 18.8519 minutes or 0.3142 hours, iteration 36600 of 48672\n",
      "100 iter took 9.4695 seconds, estimated remaining time: 18.8947 minutes or 0.3149 hours, iteration 36700 of 48672\n",
      "100 iter took 8.6699 seconds, estimated remaining time: 17.1547 minutes or 0.2859 hours, iteration 36800 of 48672\n",
      "100 iter took 9.5787 seconds, estimated remaining time: 18.7934 minutes or 0.3132 hours, iteration 36900 of 48672\n",
      "100 iter took 8.8370 seconds, estimated remaining time: 17.1909 minutes or 0.2865 hours, iteration 37000 of 48672\n",
      "100 iter took 8.7365 seconds, estimated remaining time: 16.8498 minutes or 0.2808 hours, iteration 37100 of 48672\n",
      "100 iter took 9.0318 seconds, estimated remaining time: 17.2687 minutes or 0.2878 hours, iteration 37200 of 48672\n",
      "100 iter took 9.0561 seconds, estimated remaining time: 17.1643 minutes or 0.2861 hours, iteration 37300 of 48672\n",
      "100 iter took 8.6771 seconds, estimated remaining time: 16.3015 minutes or 0.2717 hours, iteration 37400 of 48672\n",
      "100 iter took 9.3690 seconds, estimated remaining time: 17.4452 minutes or 0.2908 hours, iteration 37500 of 48672\n",
      "100 iter took 8.7110 seconds, estimated remaining time: 16.0747 minutes or 0.2679 hours, iteration 37600 of 48672\n",
      "100 iter took 9.3242 seconds, estimated remaining time: 17.0509 minutes or 0.2842 hours, iteration 37700 of 48672\n",
      "100 iter took 8.9366 seconds, estimated remaining time: 16.1931 minutes or 0.2699 hours, iteration 37800 of 48672\n",
      "100 iter took 9.2593 seconds, estimated remaining time: 16.6235 minutes or 0.2771 hours, iteration 37900 of 48672\n",
      "100 iter took 8.9250 seconds, estimated remaining time: 15.8747 minutes or 0.2646 hours, iteration 38000 of 48672\n",
      "100 iter took 8.8458 seconds, estimated remaining time: 15.5862 minutes or 0.2598 hours, iteration 38100 of 48672\n",
      "100 iter took 9.8700 seconds, estimated remaining time: 17.2264 minutes or 0.2871 hours, iteration 38200 of 48672\n",
      "100 iter took 9.0673 seconds, estimated remaining time: 15.6744 minutes or 0.2612 hours, iteration 38300 of 48672\n",
      "100 iter took 9.0931 seconds, estimated remaining time: 15.5674 minutes or 0.2595 hours, iteration 38400 of 48672\n",
      "100 iter took 9.3365 seconds, estimated remaining time: 15.8285 minutes or 0.2638 hours, iteration 38500 of 48672\n",
      "100 iter took 9.5284 seconds, estimated remaining time: 15.9949 minutes or 0.2666 hours, iteration 38600 of 48672\n",
      "100 iter took 9.4957 seconds, estimated remaining time: 15.7818 minutes or 0.2630 hours, iteration 38700 of 48672\n",
      "100 iter took 8.9471 seconds, estimated remaining time: 14.7209 minutes or 0.2453 hours, iteration 38800 of 48672\n",
      "100 iter took 9.3007 seconds, estimated remaining time: 15.1478 minutes or 0.2525 hours, iteration 38900 of 48672\n",
      "100 iter took 9.2166 seconds, estimated remaining time: 14.8571 minutes or 0.2476 hours, iteration 39000 of 48672\n",
      "100 iter took 8.7133 seconds, estimated remaining time: 13.9006 minutes or 0.2317 hours, iteration 39100 of 48672\n",
      "100 iter took 9.2000 seconds, estimated remaining time: 14.5237 minutes or 0.2421 hours, iteration 39200 of 48672\n",
      "100 iter took 9.2866 seconds, estimated remaining time: 14.5056 minutes or 0.2418 hours, iteration 39300 of 48672\n",
      "100 iter took 9.1898 seconds, estimated remaining time: 14.2013 minutes or 0.2367 hours, iteration 39400 of 48672\n",
      "100 iter took 9.3655 seconds, estimated remaining time: 14.3168 minutes or 0.2386 hours, iteration 39500 of 48672\n",
      "100 iter took 9.1701 seconds, estimated remaining time: 13.8652 minutes or 0.2311 hours, iteration 39600 of 48672\n",
      "100 iter took 8.6617 seconds, estimated remaining time: 12.9521 minutes or 0.2159 hours, iteration 39700 of 48672\n",
      "100 iter took 8.8220 seconds, estimated remaining time: 13.0448 minutes or 0.2174 hours, iteration 39800 of 48672\n",
      "100 iter took 9.3650 seconds, estimated remaining time: 13.6916 minutes or 0.2282 hours, iteration 39900 of 48672\n",
      "100 iter took 9.0075 seconds, estimated remaining time: 13.0189 minutes or 0.2170 hours, iteration 40000 of 48672\n",
      "100 iter took 9.2575 seconds, estimated remaining time: 13.2259 minutes or 0.2204 hours, iteration 40100 of 48672\n",
      "100 iter took 8.9535 seconds, estimated remaining time: 12.6423 minutes or 0.2107 hours, iteration 40200 of 48672\n",
      "100 iter took 9.0386 seconds, estimated remaining time: 12.6118 minutes or 0.2102 hours, iteration 40300 of 48672\n",
      "100 iter took 8.7489 seconds, estimated remaining time: 12.0619 minutes or 0.2010 hours, iteration 40400 of 48672\n",
      "100 iter took 9.2740 seconds, estimated remaining time: 12.6312 minutes or 0.2105 hours, iteration 40500 of 48672\n",
      "100 iter took 9.0564 seconds, estimated remaining time: 12.1839 minutes or 0.2031 hours, iteration 40600 of 48672\n",
      "100 iter took 9.0750 seconds, estimated remaining time: 12.0576 minutes or 0.2010 hours, iteration 40700 of 48672\n",
      "100 iter took 8.8057 seconds, estimated remaining time: 11.5531 minutes or 0.1926 hours, iteration 40800 of 48672\n",
      "100 iter took 9.1809 seconds, estimated remaining time: 11.8924 minutes or 0.1982 hours, iteration 40900 of 48672\n",
      "100 iter took 9.6285 seconds, estimated remaining time: 12.3116 minutes or 0.2052 hours, iteration 41000 of 48672\n",
      "100 iter took 8.7285 seconds, estimated remaining time: 11.0154 minutes or 0.1836 hours, iteration 41100 of 48672\n",
      "100 iter took 9.0979 seconds, estimated remaining time: 11.3299 minutes or 0.1888 hours, iteration 41200 of 48672\n",
      "100 iter took 8.6840 seconds, estimated remaining time: 10.6697 minutes or 0.1778 hours, iteration 41300 of 48672\n",
      "100 iter took 9.5011 seconds, estimated remaining time: 11.5154 minutes or 0.1919 hours, iteration 41400 of 48672\n",
      "100 iter took 8.8270 seconds, estimated remaining time: 10.5512 minutes or 0.1759 hours, iteration 41500 of 48672\n",
      "100 iter took 9.6017 seconds, estimated remaining time: 11.3172 minutes or 0.1886 hours, iteration 41600 of 48672\n",
      "100 iter took 8.7541 seconds, estimated remaining time: 10.1723 minutes or 0.1695 hours, iteration 41700 of 48672\n",
      "100 iter took 9.4802 seconds, estimated remaining time: 10.8580 minutes or 0.1810 hours, iteration 41800 of 48672\n",
      "100 iter took 8.9023 seconds, estimated remaining time: 10.0477 minutes or 0.1675 hours, iteration 41900 of 48672\n",
      "100 iter took 8.9344 seconds, estimated remaining time: 9.9351 minutes or 0.1656 hours, iteration 42000 of 48672\n",
      "100 iter took 9.1490 seconds, estimated remaining time: 10.0212 minutes or 0.1670 hours, iteration 42100 of 48672\n",
      "100 iter took 8.7478 seconds, estimated remaining time: 9.4360 minutes or 0.1573 hours, iteration 42200 of 48672\n",
      "100 iter took 9.5735 seconds, estimated remaining time: 10.1671 minutes or 0.1695 hours, iteration 42300 of 48672\n",
      "100 iter took 9.3635 seconds, estimated remaining time: 9.7880 minutes or 0.1631 hours, iteration 42400 of 48672\n",
      "100 iter took 9.2833 seconds, estimated remaining time: 9.5495 minutes or 0.1592 hours, iteration 42500 of 48672\n",
      "100 iter took 9.0975 seconds, estimated remaining time: 9.2067 minutes or 0.1534 hours, iteration 42600 of 48672\n",
      "100 iter took 8.8331 seconds, estimated remaining time: 8.7918 minutes or 0.1465 hours, iteration 42700 of 48672\n",
      "100 iter took 8.6397 seconds, estimated remaining time: 8.4554 minutes or 0.1409 hours, iteration 42800 of 48672\n",
      "100 iter took 9.1749 seconds, estimated remaining time: 8.8262 minutes or 0.1471 hours, iteration 42900 of 48672\n",
      "100 iter took 8.8411 seconds, estimated remaining time: 8.3578 minutes or 0.1393 hours, iteration 43000 of 48672\n",
      "100 iter took 9.3217 seconds, estimated remaining time: 8.6567 minutes or 0.1443 hours, iteration 43100 of 48672\n",
      "100 iter took 9.1247 seconds, estimated remaining time: 8.3217 minutes or 0.1387 hours, iteration 43200 of 48672\n",
      "100 iter took 9.2277 seconds, estimated remaining time: 8.2619 minutes or 0.1377 hours, iteration 43300 of 48672\n",
      "100 iter took 8.9332 seconds, estimated remaining time: 7.8493 minutes or 0.1308 hours, iteration 43400 of 48672\n",
      "100 iter took 8.8916 seconds, estimated remaining time: 7.6645 minutes or 0.1277 hours, iteration 43500 of 48672\n",
      "100 iter took 8.8648 seconds, estimated remaining time: 7.4937 minutes or 0.1249 hours, iteration 43600 of 48672\n",
      "100 iter took 9.1397 seconds, estimated remaining time: 7.5738 minutes or 0.1262 hours, iteration 43700 of 48672\n",
      "100 iter took 9.2179 seconds, estimated remaining time: 7.4850 minutes or 0.1247 hours, iteration 43800 of 48672\n",
      "100 iter took 9.0713 seconds, estimated remaining time: 7.2147 minutes or 0.1202 hours, iteration 43900 of 48672\n",
      "100 iter took 9.5381 seconds, estimated remaining time: 7.4270 minutes or 0.1238 hours, iteration 44000 of 48672\n",
      "100 iter took 9.1130 seconds, estimated remaining time: 6.9441 minutes or 0.1157 hours, iteration 44100 of 48672\n",
      "100 iter took 9.1429 seconds, estimated remaining time: 6.8145 minutes or 0.1136 hours, iteration 44200 of 48672\n",
      "100 iter took 9.1272 seconds, estimated remaining time: 6.6507 minutes or 0.1108 hours, iteration 44300 of 48672\n",
      "100 iter took 8.9581 seconds, estimated remaining time: 6.3782 minutes or 0.1063 hours, iteration 44400 of 48672\n",
      "100 iter took 9.1989 seconds, estimated remaining time: 6.3963 minutes or 0.1066 hours, iteration 44500 of 48672\n",
      "100 iter took 9.4515 seconds, estimated remaining time: 6.4144 minutes or 0.1069 hours, iteration 44600 of 48672\n",
      "100 iter took 9.0094 seconds, estimated remaining time: 5.9642 minutes or 0.0994 hours, iteration 44700 of 48672\n",
      "100 iter took 9.3447 seconds, estimated remaining time: 6.0304 minutes or 0.1005 hours, iteration 44800 of 48672\n",
      "100 iter took 9.2119 seconds, estimated remaining time: 5.7912 minutes or 0.0965 hours, iteration 44900 of 48672\n",
      "100 iter took 9.3901 seconds, estimated remaining time: 5.7467 minutes or 0.0958 hours, iteration 45000 of 48672\n",
      "100 iter took 9.1793 seconds, estimated remaining time: 5.4647 minutes or 0.0911 hours, iteration 45100 of 48672\n",
      "100 iter took 9.0774 seconds, estimated remaining time: 5.2528 minutes or 0.0875 hours, iteration 45200 of 48672\n",
      "100 iter took 9.0355 seconds, estimated remaining time: 5.0779 minutes or 0.0846 hours, iteration 45300 of 48672\n",
      "100 iter took 9.1541 seconds, estimated remaining time: 4.9921 minutes or 0.0832 hours, iteration 45400 of 48672\n",
      "100 iter took 9.3185 seconds, estimated remaining time: 4.9264 minutes or 0.0821 hours, iteration 45500 of 48672\n",
      "100 iter took 9.4703 seconds, estimated remaining time: 4.8488 minutes or 0.0808 hours, iteration 45600 of 48672\n",
      "100 iter took 9.3236 seconds, estimated remaining time: 4.6183 minutes or 0.0770 hours, iteration 45700 of 48672\n",
      "100 iter took 8.7730 seconds, estimated remaining time: 4.1993 minutes or 0.0700 hours, iteration 45800 of 48672\n",
      "100 iter took 9.1567 seconds, estimated remaining time: 4.2304 minutes or 0.0705 hours, iteration 45900 of 48672\n",
      "100 iter took 8.5824 seconds, estimated remaining time: 3.8220 minutes or 0.0637 hours, iteration 46000 of 48672\n",
      "100 iter took 8.8902 seconds, estimated remaining time: 3.8109 minutes or 0.0635 hours, iteration 46100 of 48672\n",
      "100 iter took 9.1305 seconds, estimated remaining time: 3.7618 minutes or 0.0627 hours, iteration 46200 of 48672\n",
      "100 iter took 9.1020 seconds, estimated remaining time: 3.5983 minutes or 0.0600 hours, iteration 46300 of 48672\n",
      "100 iter took 9.4345 seconds, estimated remaining time: 3.5725 minutes or 0.0595 hours, iteration 46400 of 48672\n",
      "100 iter took 9.5217 seconds, estimated remaining time: 3.4469 minutes or 0.0574 hours, iteration 46500 of 48672\n",
      "100 iter took 9.0193 seconds, estimated remaining time: 3.1146 minutes or 0.0519 hours, iteration 46600 of 48672\n",
      "100 iter took 9.2192 seconds, estimated remaining time: 3.0301 minutes or 0.0505 hours, iteration 46700 of 48672\n",
      "100 iter took 8.8935 seconds, estimated remaining time: 2.7748 minutes or 0.0462 hours, iteration 46800 of 48672\n",
      "100 iter took 8.6891 seconds, estimated remaining time: 2.5662 minutes or 0.0428 hours, iteration 46900 of 48672\n",
      "100 iter took 9.6523 seconds, estimated remaining time: 2.6898 minutes or 0.0448 hours, iteration 47000 of 48672\n",
      "100 iter took 9.3093 seconds, estimated remaining time: 2.4390 minutes or 0.0407 hours, iteration 47100 of 48672\n",
      "100 iter took 8.9745 seconds, estimated remaining time: 2.2017 minutes or 0.0367 hours, iteration 47200 of 48672\n",
      "100 iter took 9.1701 seconds, estimated remaining time: 2.0969 minutes or 0.0349 hours, iteration 47300 of 48672\n",
      "100 iter took 8.9041 seconds, estimated remaining time: 1.8877 minutes or 0.0315 hours, iteration 47400 of 48672\n",
      "100 iter took 8.8616 seconds, estimated remaining time: 1.7310 minutes or 0.0288 hours, iteration 47500 of 48672\n",
      "100 iter took 9.3487 seconds, estimated remaining time: 1.6703 minutes or 0.0278 hours, iteration 47600 of 48672\n",
      "100 iter took 8.9441 seconds, estimated remaining time: 1.4489 minutes or 0.0241 hours, iteration 47700 of 48672\n",
      "100 iter took 10.0473 seconds, estimated remaining time: 1.4602 minutes or 0.0243 hours, iteration 47800 of 48672\n",
      "100 iter took 9.2029 seconds, estimated remaining time: 1.1841 minutes or 0.0197 hours, iteration 47900 of 48672\n",
      "100 iter took 9.0545 seconds, estimated remaining time: 1.0141 minutes or 0.0169 hours, iteration 48000 of 48672\n",
      "100 iter took 9.0752 seconds, estimated remaining time: 0.8652 minutes or 0.0144 hours, iteration 48100 of 48672\n",
      "100 iter took 9.2192 seconds, estimated remaining time: 0.7252 minutes or 0.0121 hours, iteration 48200 of 48672\n",
      "100 iter took 8.9735 seconds, estimated remaining time: 0.5564 minutes or 0.0093 hours, iteration 48300 of 48672\n",
      "100 iter took 9.0332 seconds, estimated remaining time: 0.4095 minutes or 0.0068 hours, iteration 48400 of 48672\n",
      "100 iter took 9.0296 seconds, estimated remaining time: 0.2588 minutes or 0.0043 hours, iteration 48500 of 48672\n",
      "100 iter took 9.2881 seconds, estimated remaining time: 0.1115 minutes or 0.0019 hours, iteration 48600 of 48672\n"
     ]
    }
   ],
   "source": [
    "import time\n",
    "\n",
    "Xlist = []\n",
    "Ylist = []\n",
    "Zlist = []\n",
    "Clist = []\n",
    "\n",
    "with open(dtm_xyz_path) as reader:\n",
    "    for i,line in enumerate(reader):\n",
    "        if i % 100 == 0:\n",
    "            t1 = time.time()\n",
    "\n",
    "        X,Y,Z = string_to_floatlist(line)\n",
    "\n",
    "        Xlist.append(X)\n",
    "        Ylist.append(Y)\n",
    "        Zlist.append(Z)\n",
    "        Clist.append(2)\n",
    "\n",
    "        dsm_z = get_raster_val_at_geoXY(X,Y,dsm_vrt_path)\n",
    "\n",
    "        if(dsm_z - Z) > 2:\n",
    "            Xlist.append(X)\n",
    "            Ylist.append(Y)\n",
    "            Zlist.append(dsm_z)\n",
    "            Clist.append(0)\n",
    "\n",
    "        if i % 100 == 0:\n",
    "            print_rem_time_info(48672,i,t1,100)\n",
    "        "
   ]
  },
  {
   "cell_type": "code",
   "execution_count": 21,
   "metadata": {},
   "outputs": [
    {
     "output_type": "execute_result",
     "data": {
      "text/plain": [
       "1"
      ]
     },
     "metadata": {},
     "execution_count": 21
    }
   ],
   "source": []
  },
  {
   "cell_type": "code",
   "execution_count": 40,
   "metadata": {},
   "outputs": [],
   "source": [
    "import laspy\n",
    "import numpy as np\n",
    "\n",
    "# my_data_xx, my_data_yy = np.meshgrid(np.linspace(-20, 20, 15), np.linspace(-20, 20, 15))\n",
    "# my_data_zz = my_data_xx ** 2 + 0.25 * my_data_yy ** 2\n",
    "\n",
    "# my_data = np.hstack((my_data_xx.reshape((-1, 1)), my_data_yy.reshape((-1, 1)), my_data_zz.reshape((-1, 1))))\n",
    "\n",
    "\n",
    "las = laspy.create(file_version=\"1.2\", point_format=3)\n",
    "\n",
    "# las.header.offsets = np.min(my_data, axis=0)\n",
    "# las.header.scales = [0.1, 0.1, 0.1]\n",
    "\n",
    "las.x = np.array(Xlist)\n",
    "las.y = np.array(Ylist)\n",
    "las.z = np.array(Zlist)\n",
    "las.classification = np.array(Clist,dtype=np.intc)\n",
    "\n",
    "las.write(\"sample_las.las\")"
   ]
  },
  {
   "cell_type": "code",
   "execution_count": 39,
   "metadata": {},
   "outputs": [
    {
     "output_type": "execute_result",
     "data": {
      "text/plain": [
       "array([2, 2, 2, ..., 0, 2, 0], dtype=int32)"
      ]
     },
     "metadata": {},
     "execution_count": 39
    }
   ],
   "source": [
    "np.array(Clist,dtype=np.intc)"
   ]
  },
  {
   "cell_type": "code",
   "execution_count": 42,
   "metadata": {},
   "outputs": [],
   "source": [
    "# generate terrain polygon\n",
    "import geopandas as gpd\n",
    "\n",
    "\n",
    "polygons_geojson_path = '/home/kaue/data/sanit3d_out/temporary/buildings_osm.geojson'\n",
    "\n",
    "as_gdf = gpd.read_file(polygons_geojson_path)"
   ]
  },
  {
   "cell_type": "code",
   "execution_count": 67,
   "metadata": {},
   "outputs": [],
   "source": [
    "from shapely import wkt\n",
    "\n",
    "small_bbox_wkt = 'POLYGON((-40.3397827083 -20.3176282943, -40.3353356058 -20.3176282943, -40.3353356058 -20.3214263926, -40.3397827083 -20.3214263926, -40.3397827083 -20.3176282943))'\n",
    "\n",
    "bbox_polygon = wkt.loads(small_bbox_wkt)\n"
   ]
  },
  {
   "cell_type": "code",
   "execution_count": 68,
   "metadata": {},
   "outputs": [
    {
     "output_type": "execute_result",
     "data": {
      "text/plain": [
       "<shapely.geometry.polygon.Polygon at 0x7f4c41675da0>"
      ],
      "image/svg+xml": "<svg xmlns=\"http://www.w3.org/2000/svg\" xmlns:xlink=\"http://www.w3.org/1999/xlink\" width=\"100.0\" height=\"100.0\" viewBox=\"-40.3399605924 -20.3216042767 0.004802870699997186 0.004153866500001158\" preserveAspectRatio=\"xMinYMin meet\"><g transform=\"matrix(1,0,0,-1,0,-40.639054686899996)\"><path fill-rule=\"evenodd\" fill=\"#66cc99\" stroke=\"#555555\" stroke-width=\"9.605741399994372e-05\" opacity=\"0.6\" d=\"M -40.3397827083,-20.3176282943 L -40.3353356058,-20.3176282943 L -40.3353356058,-20.3214263926 L -40.3397827083,-20.3214263926 L -40.3397827083,-20.3176282943 z\" /></g></svg>"
     },
     "metadata": {},
     "execution_count": 68
    }
   ],
   "source": [
    "bbox_polygon"
   ]
  },
  {
   "cell_type": "code",
   "execution_count": 69,
   "metadata": {},
   "outputs": [],
   "source": [
    "data2 = {'name':['bbox'],'geometry':[bbox_polygon]}\n",
    "\n",
    "bbox_gdf = gpd.GeoDataFrame(data2,crs=\"EPSG:4326\")"
   ]
  },
  {
   "cell_type": "code",
   "execution_count": 70,
   "metadata": {},
   "outputs": [],
   "source": [
    "clipped = as_gdf.intersection(bbox_polygon)\n"
   ]
  },
  {
   "cell_type": "code",
   "execution_count": 71,
   "metadata": {},
   "outputs": [],
   "source": [
    "clipped = clipped[~clipped.is_empty]"
   ]
  },
  {
   "cell_type": "code",
   "execution_count": 72,
   "metadata": {},
   "outputs": [],
   "source": [
    "# clipping\n",
    "crs_proj = 'EPSG:31984'\n",
    "\n",
    "clipped.to_file('clipped_wgs84.geojson',driver='GeoJSON')\n",
    "\n",
    "clipped.to_crs(crs_proj).to_file('clipped_31984.geojson',driver='GeoJSON')\n"
   ]
  },
  {
   "cell_type": "code",
   "execution_count": 73,
   "metadata": {},
   "outputs": [],
   "source": [
    "# symettrical_difference\n",
    "ground_pol = bbox_gdf.symmetric_difference(clipped.unary_union)\n",
    "\n",
    "ground_pol.to_file('ground_pol_wgs84.geojson',driver='GeoJSON')"
   ]
  },
  {
   "cell_type": "code",
   "execution_count": 74,
   "metadata": {},
   "outputs": [],
   "source": [
    "ground_pol.to_crs(crs_proj).to_file('ground_pol_31984.geojson',driver='GeoJSON')"
   ]
  },
  {
   "cell_type": "code",
   "execution_count": null,
   "metadata": {},
   "outputs": [],
   "source": []
  }
 ]
}