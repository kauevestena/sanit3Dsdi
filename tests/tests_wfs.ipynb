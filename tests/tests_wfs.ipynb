{
 "metadata": {
  "language_info": {
   "codemirror_mode": {
    "name": "ipython",
    "version": 3
   },
   "file_extension": ".py",
   "mimetype": "text/x-python",
   "name": "python",
   "nbconvert_exporter": "python",
   "pygments_lexer": "ipython3",
   "version": "3.6.9"
  },
  "orig_nbformat": 2,
  "kernelspec": {
   "name": "python369jvsc74a57bd031f2aee4e71d21fbe5cf8b01ff0e069b9275f58929596ceb00d14d90e3e16cd6",
   "display_name": "Python 3.6.9 64-bit"
  },
  "metadata": {
   "interpreter": {
    "hash": "31f2aee4e71d21fbe5cf8b01ff0e069b9275f58929596ceb00d14d90e3e16cd6"
   }
  }
 },
 "nbformat": 4,
 "nbformat_minor": 2,
 "cells": [
  {
   "cell_type": "code",
   "execution_count": 2,
   "metadata": {
    "tags": [
     "outputPrepend"
    ]
   },
   "outputs": [
    {
     "output_type": "stream",
     "name": "stdout",
     "text": [
      "ct at 0x7fd3ea5fe0f0>, 'geonode:loc_aglomerado_rural_isolado_p_31984': <owslib.feature.wfs100.ContentMetadata object at 0x7fd3ea5f60f0>, 'geonode:tra_arruamento_l_31984': <owslib.feature.wfs100.ContentMetadata object at 0x7fd3ea5f6208>, 'geonode:hid_banco_areia_a_31984': <owslib.feature.wfs100.ContentMetadata object at 0x7fd3ea5f6320>, 'geonode:hid_barragem_l_31984': <owslib.feature.wfs100.ContentMetadata object at 0x7fd3ea5f6438>, 'geonode:loc_capital_p_31984': <owslib.feature.wfs100.ContentMetadata object at 0x7fd3ea5f6550>, 'geonode:asb_cemiterio_p_31984': <owslib.feature.wfs100.ContentMetadata object at 0x7fd3ea5f6668>, 'geonode:loc_cidade_p_31984': <owslib.feature.wfs100.ContentMetadata object at 0x7fd3ea5f6780>, 'geonode:hid_corredeira_p_31984_1': <owslib.feature.wfs100.ContentMetadata object at 0x7fd3ea5f6898>, 'geonode:hid_corredeira_a_31984': <owslib.feature.wfs100.ContentMetadata object at 0x7fd3ea5f69b0>, 'geonode:hid_corredeira_l_31984': <owslib.feature.wfs100.ContentMetadata object at 0x7fd3ea5f6ac8>, 'geonode:eco_edif_agropec_ext_vegetal_pesca_p_31984': <owslib.feature.wfs100.ContentMetadata object at 0x7fd3ea5f6be0>, 'geonode:tra_edif_const_portuaria_p_31984': <owslib.feature.wfs100.ContentMetadata object at 0x7fd3ea5f6cf8>, 'geonode:rel_elemento_fisiografico_natural_l_31984': <owslib.feature.wfs100.ContentMetadata object at 0x7fd3ea5f6e10>, 'geonode:enc_est_gerad_energia_eletrica_p_31984': <owslib.feature.wfs100.ContentMetadata object at 0x7fd3ea5f6f28>, 'geonode:enc_hidreletrica_p_31984': <owslib.feature.wfs100.ContentMetadata object at 0x7fd3ea5ee080>, 'geonode:hid_ilha_a_31984': <owslib.feature.wfs100.ContentMetadata object at 0x7fd3ea5ee198>, 'geonode:tra_passag_elevada_viaduto_p_31984': <owslib.feature.wfs100.ContentMetadata object at 0x7fd3ea5ee2b0>, 'geonode:tra_passagem_nivel_p_31984': <owslib.feature.wfs100.ContentMetadata object at 0x7fd3ea5ee3c8>, 'geonode:tra_pista_ponto_pouso_l_31984': <owslib.feature.wfs100.ContentMetadata object at 0x7fd3ea5ee4e0>, 'geonode:tra_pista_ponto_pouso_p_31984': <owslib.feature.wfs100.ContentMetadata object at 0x7fd3ea5ee5f8>, 'geonode:tra_ponte_l_31984': <owslib.feature.wfs100.ContentMetadata object at 0x7fd3ea5ee710>, 'geonode:tra_ponte_p_31984': <owslib.feature.wfs100.ContentMetadata object at 0x7fd3ea5ee828>, 'geonode:hid_quebramar_molhe_l_31984': <owslib.feature.wfs100.ContentMetadata object at 0x7fd3ea5ee940>, 'geonode:hid_queda_dagua_l_31984': <owslib.feature.wfs100.ContentMetadata object at 0x7fd3ea5eea58>, 'geonode:hid_queda_dagua_p_31984': <owslib.feature.wfs100.ContentMetadata object at 0x7fd3ea5eeb70>, 'geonode:tra_sinalizacao_p_31984': <owslib.feature.wfs100.ContentMetadata object at 0x7fd3ea5eec88>, 'geonode:enc_termeletrica_p_31984': <owslib.feature.wfs100.ContentMetadata object at 0x7fd3ea5eeda0>, 'geonode:hid_trecho_drenagem_l_31984': <owslib.feature.wfs100.ContentMetadata object at 0x7fd3ea5eeeb8>, 'geonode:enc_trecho_energia_l_31984_1': <owslib.feature.wfs100.ContentMetadata object at 0x7fd3ea5eefd0>, 'geonode:hid_trecho_massa_dagua_a_31984': <owslib.feature.wfs100.ContentMetadata object at 0x7fd3ea5e3f98>, 'geonode:tra_trecho_ferroviario_l_31984': <owslib.feature.wfs100.ContentMetadata object at 0x7fd3ea5e3f28>, 'geonode:tra_trecho_rodoviario_l_31984': <owslib.feature.wfs100.ContentMetadata object at 0x7fd3ea5e3e10>, 'geonode:tra_tunel_l_31984': <owslib.feature.wfs100.ContentMetadata object at 0x7fd3ea5e3cf8>, 'geonode:loc_vila_p_31984': <owslib.feature.wfs100.ContentMetadata object at 0x7fd3ea5e3be0>, 'geonode:loc_area_edificada_a_31984': <owslib.feature.wfs100.ContentMetadata object at 0x7fd3ea5e3b00>, 'geonode:loc_area_urbana_isolada_p_31984': <owslib.feature.wfs100.ContentMetadata object at 0x7fd3ea5e39b0>, 'geonode:a__32_ES_faces_de_logradouros_2019_319840': <owslib.feature.wfs100.ContentMetadata object at 0x7fd3ea5e3898>, 'geonode:ibge_hidrogeologia_es': <owslib.feature.wfs100.ContentMetadata object at 0x7fd3ea5e3780>, 'geonode:ibge_limite_zee_maritimos_es': <owslib.feature.wfs100.ContentMetadata object at 0x7fd3ea5e3668>, 'geonode:ibge_mapa_indice_es_cartas_topo_100000': <owslib.feature.wfs100.ContentMetadata object at 0x7fd3ea5e3550>, 'geonode:ibge_mapa_indice_es_cartas_topo_50000': <owslib.feature.wfs100.ContentMetadata object at 0x7fd3ea5e3438>, 'geonode:ibge_rede_geodesica': <owslib.feature.wfs100.ContentMetadata object at 0x7fd3ea5e3160>, 'geonode:ibge_sedes_municipais_2015_31984_p': <owslib.feature.wfs100.ContentMetadata object at 0x7fd3ea5e3128>, 'geonode:trecho_drenagem': <owslib.feature.wfs100.ContentMetadata object at 0x7fd3ea5d70b8>, 'geonode:_2020_01_icmbio_cecav_cavernas_es': <owslib.feature.wfs100.ContentMetadata object at 0x7fd3ea5d71d0>, 'geonode:idaf_atp_smr_gedsiv': <owslib.feature.wfs100.ContentMetadata object at 0x7fd3ea5d72e8>, 'geonode:idaf_gedsiv_unid_consolidacao': <owslib.feature.wfs100.ContentMetadata object at 0x7fd3ea5d7400>, 'geonode:idaf_gedsiv_unid_producao': <owslib.feature.wfs100.ContentMetadata object at 0x7fd3ea5d7518>, 'geonode:limite_distrital_2018_alt_novembro': <owslib.feature.wfs100.ContentMetadata object at 0x7fd3ea5d7630>, 'geonode:idaf_limite_municipal_2018_11': <owslib.feature.wfs100.ContentMetadata object at 0x7fd3ea5d7748>, 'geonode:assentamentos_incra_seag_es': <owslib.feature.wfs100.ContentMetadata object at 0x7fd3ea5d7860>, 'geonode:corredores_ecologicos': <owslib.feature.wfs100.ContentMetadata object at 0x7fd3ea5d7978>, 'geonode:es_articulacao10x10km': <owslib.feature.wfs100.ContentMetadata object at 0x7fd3ea5d7a90>, 'geonode:_2019_10_25_iema_rppns': <owslib.feature.wfs100.ContentMetadata object at 0x7fd3ea5d7ba8>, 'geonode:_2019_10_25_iema_ucs_estaduais': <owslib.feature.wfs100.ContentMetadata object at 0x7fd3ea5d7cc0>, 'geonode:areas_prioritarias': <owslib.feature.wfs100.ContentMetadata object at 0x7fd3ea5d7dd8>, 'geonode:linha_de_costa_1970_sul': <owslib.feature.wfs100.ContentMetadata object at 0x7fd3ea5d7ef0>, 'geonode:linha_de_costa_2005': <owslib.feature.wfs100.ContentMetadata object at 0x7fd3ea5d7fd0>, 'geonode:linha_de_costa_2008': <owslib.feature.wfs100.ContentMetadata object at 0x7fd3ea5caf98>, 'geonode:ijsn_bairros': <owslib.feature.wfs100.ContentMetadata object at 0x7fd3ea5cae80>, 'geonode:asb_ijsn_cemiterio': <owslib.feature.wfs100.ContentMetadata object at 0x7fd3ea5cad68>, 'geonode:ciclorrotas': <owslib.feature.wfs100.ContentMetadata object at 0x7fd3ea5cac50>, 'geonode:tra_ijsn_ciclovias': <owslib.feature.wfs100.ContentMetadata object at 0x7fd3ea5cab38>, 'geonode:tra_ijsn_estradas_vicinais': <owslib.feature.wfs100.ContentMetadata object at 0x7fd3ea5caa20>, 'geonode:ijsn_ibge_localidades': <owslib.feature.wfs100.ContentMetadata object at 0x7fd3ea5ca908>, 'geonode:lim_microrregiao_es_lei_11174_2020_09_25': <owslib.feature.wfs100.ContentMetadata object at 0x7fd3ea5ca7f0>, 'geonode:area_urbanizada': <owslib.feature.wfs100.ContentMetadata object at 0x7fd3ea5ca6d8>, 'geonode:edifi_ensino_2019': <owslib.feature.wfs100.ContentMetadata object at 0x7fd3ea5ca5c0>, 'geonode:incra_assentamentos_es_31984': <owslib.feature.wfs100.ContentMetadata object at 0x7fd3ea5ca4a8>, 'geonode:incra_quilombolas_es_31984': <owslib.feature.wfs100.ContentMetadata object at 0x7fd3ea5ca390>, 'geonode:incra_sigef_privado_es_31984': <owslib.feature.wfs100.ContentMetadata object at 0x7fd3ea5ca278>, 'geonode:incra_sigef_publico_es_31984': <owslib.feature.wfs100.ContentMetadata object at 0x7fd3ea5ca128>, 'geonode:incra_snci_privado_es_31984': <owslib.feature.wfs100.ContentMetadata object at 0x7fd3ea5950f0>, 'geonode:incra_snci_publico_es_31984': <owslib.feature.wfs100.ContentMetadata object at 0x7fd3ea595208>, 'geonode:meses_secos': <owslib.feature.wfs100.ContentMetadata object at 0x7fd3ea595320>, 'geonode:_2019_10_24_uc_federais_es_31984': <owslib.feature.wfs100.ContentMetadata object at 0x7fd3ea595438>, 'geonode:_2019_04_es_epsg_31984': <owslib.feature.wfs100.ContentMetadata object at 0x7fd3ea595550>, 'geonode:_2020_04_ms_es_epsg_31984': <owslib.feature.wfs100.ContentMetadata object at 0x7fd3ea595668>, 'geonode:_2019_08_es_epsg_31984': <owslib.feature.wfs100.ContentMetadata object at 0x7fd3ea595780>, 'geonode:_2019_12_es_epsg_31984': <owslib.feature.wfs100.ContentMetadata object at 0x7fd3ea595898>, 'geonode:_2020_12_ms_es_epsg_31984': <owslib.feature.wfs100.ContentMetadata object at 0x7fd3ea5959b0>, 'geonode:_2019_02_es_epsg_31984': <owslib.feature.wfs100.ContentMetadata object at 0x7fd3ea595ac8>, 'geonode:_2020_02_ms_es_epsg_31984': <owslib.feature.wfs100.ContentMetadata object at 0x7fd3ea595be0>, 'geonode:_2020_01_es_epsg_31984': <owslib.feature.wfs100.ContentMetadata object at 0x7fd3ea595cf8>, 'geonode:_2019_07_es_epsg_31984': <owslib.feature.wfs100.ContentMetadata object at 0x7fd3ea595e10>, 'geonode:_2020_07_ms_es_epsg_31984': <owslib.feature.wfs100.ContentMetadata object at 0x7fd3ea595f28>, 'geonode:_2019_06_es_epsg_31984': <owslib.feature.wfs100.ContentMetadata object at 0x7fd3ea5b3080>, 'geonode:_2020_06_ms_es_epsg_31984': <owslib.feature.wfs100.ContentMetadata object at 0x7fd3ea5b3198>, 'geonode:_2019_05_es_epsg_31984': <owslib.feature.wfs100.ContentMetadata object at 0x7fd3ea5b32b0>, 'geonode:_2020_05_ms_es_epsg_31984': <owslib.feature.wfs100.ContentMetadata object at 0x7fd3ea5b33c8>, 'geonode:_2019_03_es_epsg_31984': <owslib.feature.wfs100.ContentMetadata object at 0x7fd3ea5b34e0>, 'geonode:_2020_03_ms_es_epsg_31984': <owslib.feature.wfs100.ContentMetadata object at 0x7fd3ea5b35f8>, 'geonode:_2020_03_ms_es_epsg_31984_1': <owslib.feature.wfs100.ContentMetadata object at 0x7fd3ea5b3710>, 'geonode:_2019_11_es_epsg_31984': <owslib.feature.wfs100.ContentMetadata object at 0x7fd3ea5b3828>, 'geonode:_2020_11_ms_es_epsg_31984': <owslib.feature.wfs100.ContentMetadata object at 0x7fd3ea5b3940>, 'geonode:_2019_10_es_epsg_31984': <owslib.feature.wfs100.ContentMetadata object at 0x7fd3ea5b3a58>, 'geonode:_2020_10_ms_es_epsg_31984': <owslib.feature.wfs100.ContentMetadata object at 0x7fd3ea5b3b70>, 'geonode:_2019_09_es_epsg_31984': <owslib.feature.wfs100.ContentMetadata object at 0x7fd3ea5b3c88>, 'geonode:_2020_09_ms_es_epsg_31984': <owslib.feature.wfs100.ContentMetadata object at 0x7fd3ea5b3da0>, 'geonode:_2020_08_ms_es_epsg_31984': <owslib.feature.wfs100.ContentMetadata object at 0x7fd3ea5b3eb8>, 'geonode:ottobacias_n_4': <owslib.feature.wfs100.ContentMetadata object at 0x7fd3ea5b3fd0>, 'geonode:ottobacias_n_5': <owslib.feature.wfs100.ContentMetadata object at 0x7fd3ea5a7128>, 'geonode:ottobacias_n_6': <owslib.feature.wfs100.ContentMetadata object at 0x7fd3ea5a7240>, 'geonode:ottobacias_n_7': <owslib.feature.wfs100.ContentMetadata object at 0x7fd3ea5a7358>, 'geonode:pdui_aeroportos': <owslib.feature.wfs100.ContentMetadata object at 0x7fd3ea5a7470>, 'geonode:pdui_balneabilidade': <owslib.feature.wfs100.ContentMetadata object at 0x7fd3ea5a7588>, 'geonode:pdui_centralidades': <owslib.feature.wfs100.ContentMetadata object at 0x7fd3ea5a76a0>, 'geonode:pdui_comites_bacia_rmgv': <owslib.feature.wfs100.ContentMetadata object at 0x7fd3ea5a77b8>, 'geonode:pdui_conj_habitacionais': <owslib.feature.wfs100.ContentMetadata object at 0x7fd3ea5a78d0>, 'geonode:pdui_corredores_eco': <owslib.feature.wfs100.ContentMetadata object at 0x7fd3ea5a79e8>, 'geonode:pdui_correspondencia_zoneamento': <owslib.feature.wfs100.ContentMetadata object at 0x7fd3ea5a7b00>, 'geonode:pdui_equip_industriais': <owslib.feature.wfs100.ContentMetadata object at 0x7fd3ea5a7c18>, 'geonode:pdui_serra_hierarquia_viaria': <owslib.feature.wfs100.ContentMetadata object at 0x7fd3ea5a7d30>, 'geonode:pdui_linhas_transcol': <owslib.feature.wfs100.ContentMetadata object at 0x7fd3ea5a7e48>, 'geonode:pdui_cariacica_macrozon': <owslib.feature.wfs100.ContentMetadata object at 0x7fd3ea5a7f60>, 'geonode:pdui_fundao_macrozon': <owslib.feature.wfs100.ContentMetadata object at 0x7fd3ea59f0b8>, 'geonode:pdui_guarapari_macrozon': <owslib.feature.wfs100.ContentMetadata object at 0x7fd3ea59f1d0>, 'geonode:pdui_serra_macrozon': <owslib.feature.wfs100.ContentMetadata object at 0x7fd3ea59f2e8>, 'geonode:pdui_viana_macrozon': <owslib.feature.wfs100.ContentMetadata object at 0x7fd3ea59f400>, 'geonode:pdui_vila_velha_macrozon': <owslib.feature.wfs100.ContentMetadata object at 0x7fd3ea59f518>, 'geonode:pdui_vitoria_macrozon': <owslib.feature.wfs100.ContentMetadata object at 0x7fd3ea59f630>, 'geonode:pdui_monit_qlde_agua': <owslib.feature.wfs100.ContentMetadata object at 0x7fd3ea59f748>, 'geonode:pdui_cariacica_mov_pendular_entrada': <owslib.feature.wfs100.ContentMetadata object at 0x7fd3ea59f860>, 'geonode:pdui_cariacica_mov_pendular_saida': <owslib.feature.wfs100.ContentMetadata object at 0x7fd3ea59f978>, 'geonode:pdui_fundao_mov_pendular_entrada': <owslib.feature.wfs100.ContentMetadata object at 0x7fd3ea59fa90>, 'geonode:pdui_fundao_mov_pendular_saida': <owslib.feature.wfs100.ContentMetadata object at 0x7fd3ea59fba8>, 'geonode:pdui_guarapari_mov_pendular_entrada': <owslib.feature.wfs100.ContentMetadata object at 0x7fd3ea59fcc0>, 'geonode:pdui_guarapari_mov_pendular_saida': <owslib.feature.wfs100.ContentMetadata object at 0x7fd3ea59fdd8>, 'geonode:pdui_serra_mov_pendular_entrada': <owslib.feature.wfs100.ContentMetadata object at 0x7fd3ea59fef0>, 'geonode:pdui_serra_mov_pendular_saida': <owslib.feature.wfs100.ContentMetadata object at 0x7fd3ea59ffd0>, 'geonode:pdui_viana_mov_pendular_entrada': <owslib.feature.wfs100.ContentMetadata object at 0x7fd3ea59a160>, 'geonode:pdui_viana_mov_pendular_saida': <owslib.feature.wfs100.ContentMetadata object at 0x7fd3ea59a278>, 'geonode:pdui_vila_velha_mov_pendular_entrada': <owslib.feature.wfs100.ContentMetadata object at 0x7fd3ea59a390>, 'geonode:pdui_vila_velha_mov_pendular_saida': <owslib.feature.wfs100.ContentMetadata object at 0x7fd3ea59a4a8>, 'geonode:pdui_vitoria_mov_pendular_entrada': <owslib.feature.wfs100.ContentMetadata object at 0x7fd3ea59a5c0>, 'geonode:pdui_vitoria_mov_pendular_saida': <owslib.feature.wfs100.ContentMetadata object at 0x7fd3ea59a6d8>, 'geonode:pdui_mov_pendular_entrada_ponto': <owslib.feature.wfs100.ContentMetadata object at 0x7fd3ea59a7f0>, 'geonode:pdui_mov_pendular_saida_ponto': <owslib.feature.wfs100.ContentMetadata object at 0x7fd3ea59a908>, 'geonode:pdui_parques_urbanos': <owslib.feature.wfs100.ContentMetadata object at 0x7fd3ea59aa20>, 'geonode:pdui_dom_abastecimento_agua': <owslib.feature.wfs100.ContentMetadata object at 0x7fd3ea59ab38>, 'geonode:pdui_dom_coleta_lixo': <owslib.feature.wfs100.ContentMetadata object at 0x7fd3ea59ac50>, 'geonode:pdui_dom_energia_eletrica': <owslib.feature.wfs100.ContentMetadata object at 0x7fd3ea59ad68>, 'geonode:pdui_dom_iluminacao_publica': <owslib.feature.wfs100.ContentMetadata object at 0x7fd3ea59ae80>, 'geonode:pdui_dom_rede_esgoto': <owslib.feature.wfs100.ContentMetadata object at 0x7fd3ea59af98>, 'geonode:pdui_serra_plano_viario': <owslib.feature.wfs100.ContentMetadata object at 0x7fd3ea5860f0>, 'geonode:pdui_portos': <owslib.feature.wfs100.ContentMetadata object at 0x7fd3ea586208>, 'geonode:pdui_rodovias_rmgv': <owslib.feature.wfs100.ContentMetadata object at 0x7fd3ea586320>, 'geonode:pdui_media_renda_mensal': <owslib.feature.wfs100.ContentMetadata object at 0x7fd3ea586438>, 'geonode:pdui_serra_setores_escorregamento': <owslib.feature.wfs100.ContentMetadata object at 0x7fd3ea586550>, 'geonode:pdui_serra_setores_inundacao': <owslib.feature.wfs100.ContentMetadata object at 0x7fd3ea586668>, 'geonode:pdui_shopping_center': <owslib.feature.wfs100.ContentMetadata object at 0x7fd3ea586780>, 'geonode:pdui_terminais_rodoviarios': <owslib.feature.wfs100.ContentMetadata object at 0x7fd3ea586898>, 'geonode:pdui_uc_uso_integral': <owslib.feature.wfs100.ContentMetadata object at 0x7fd3ea5869b0>, 'geonode:pdui_uc_uso_sustentavel': <owslib.feature.wfs100.ContentMetadata object at 0x7fd3ea586ac8>, 'geonode:pdui_uc_serra': <owslib.feature.wfs100.ContentMetadata object at 0x7fd3ea586be0>, 'geonode:pdui_unidades_geomorfologicas': <owslib.feature.wfs100.ContentMetadata object at 0x7fd3ea586cf8>, 'geonode:pdui_vulnerab_inundacao': <owslib.feature.wfs100.ContentMetadata object at 0x7fd3ea586e10>, 'geonode:pdui_zims_dinam_urbana': <owslib.feature.wfs100.ContentMetadata object at 0x7fd3ea586f28>, 'geonode:pdui_zims_mob_urbana': <owslib.feature.wfs100.ContentMetadata object at 0x7fd3ea55af98>, 'geonode:pdui_zims_quali_ambiental_urbana': <owslib.feature.wfs100.ContentMetadata object at 0x7fd3ea55ad68>, 'geonode:pdui_zona_costeira': <owslib.feature.wfs100.ContentMetadata object at 0x7fd3ea55ac50>, 'geonode:pdui_viana_zonas_inundacao': <owslib.feature.wfs100.ContentMetadata object at 0x7fd3ea55ab38>, 'geonode:pdui_pdm_cariacica': <owslib.feature.wfs100.ContentMetadata object at 0x7fd3ea55aa20>, 'geonode:pdui_pdm_fundao': <owslib.feature.wfs100.ContentMetadata object at 0x7fd3ea55a908>, 'geonode:pdui_pdm_guarapari': <owslib.feature.wfs100.ContentMetadata object at 0x7fd3ea55a7f0>, 'geonode:pdui_pdm_serra': <owslib.feature.wfs100.ContentMetadata object at 0x7fd3ea55a6d8>, 'geonode:pdui_pdm_viana': <owslib.feature.wfs100.ContentMetadata object at 0x7fd3ea55a5c0>, 'geonode:pdui_pdm_vila_velha': <owslib.feature.wfs100.ContentMetadata object at 0x7fd3ea55a4a8>, 'geonode:pdui_pdm_vitoria': <owslib.feature.wfs100.ContentMetadata object at 0x7fd3ea55a390>, 'geonode:pdui_zee_vitoria': <owslib.feature.wfs100.ContentMetadata object at 0x7fd3ea55a278>, 'geonode:pdui_viana_risco_geo': <owslib.feature.wfs100.ContentMetadata object at 0x7fd3ea55a160>, 'geonode:pdui_areas_priorit_conservacao': <owslib.feature.wfs100.ContentMetadata object at 0x7fd3ea55a048>, 'geonode:pdui_areas_publicas_cariacica': <owslib.feature.wfs100.ContentMetadata object at 0x7fd3ea55a0b8>, 'geonode:pdui_idh_2010': <owslib.feature.wfs100.ContentMetadata object at 0x7fd3ea55d128>, 'geonode:rede_obs_hidrometeorologicas': <owslib.feature.wfs100.ContentMetadata object at 0x7fd3ea55d240>, 'geonode:tbestabelecimento_es_32_publicos': <owslib.feature.wfs100.ContentMetadata object at 0x7fd3ea55d358>, 'geonode:_2019_11_cnes_estabelecimentos_saude_publicos_es': <owslib.feature.wfs100.ContentMetadata object at 0x7fd3ea55d470>, 'geonode:sesp_ijsn_un_seguranca': <owslib.feature.wfs100.ContentMetadata object at 0x7fd3ea55d588>, 'geonode:snirh_inundacoes_2003_2015_es_epsg_31984': <owslib.feature.wfs100.ContentMetadata object at 0x7fd3ea55d6a0>, 'geonode:snirh_secas_2003_2015_es_epsg_31984': <owslib.feature.wfs100.ContentMetadata object at 0x7fd3ea55d7b8>, 'geonode:solos_es_2016': <owslib.feature.wfs100.ContentMetadata object at 0x7fd3ea55d8d0>, 'geonode:transpetro_dutos': <owslib.feature.wfs100.ContentMetadata object at 0x7fd3ea55d9e8>, 'geonode:transpetro_estacao': <owslib.feature.wfs100.ContentMetadata object at 0x7fd3ea55db00>, 'geonode:transpetro_marco_km': <owslib.feature.wfs100.ContentMetadata object at 0x7fd3ea55dc18>, 'geonode:transpetro_terminal_1': <owslib.feature.wfs100.ContentMetadata object at 0x7fd3ea55dd30>, 'geonode:transpetro_un_tratamento_gas_1': <owslib.feature.wfs100.ContentMetadata object at 0x7fd3ea55de48>, 'geonode:zonas_naturais_1': <owslib.feature.wfs100.ContentMetadata object at 0x7fd3ea55df60>, 'geonode:zn_amortecimento_ucs_estaduais': <owslib.feature.wfs100.ContentMetadata object at 0x7fd3ea5430b8>, 'geonode:areas_aracruz': <owslib.feature.wfs100.ContentMetadata object at 0x7fd3ea5431d0>, 'geonode:bacias_hidrograficas_75': <owslib.feature.wfs100.ContentMetadata object at 0x7fd3ea543390>, 'geonode:data_das_imagens_voo_aerofotogrametrico_es_2012_2015': <owslib.feature.wfs100.ContentMetadata object at 0x7fd3ea543400>, 'geonode:idaf_legitimacao_es': <owslib.feature.wfs100.ContentMetadata object at 0x7fd3ea543518>, 'geonode:trecho_drenagem_1': <owslib.feature.wfs100.ContentMetadata object at 0x7fd3ea543630>, 'geonode:areas_tombadas_cec': <owslib.feature.wfs100.ContentMetadata object at 0x7fd3ea543748>, 'geonode:areas_tombadas_cec_p': <owslib.feature.wfs100.ContentMetadata object at 0x7fd3ea543860>}\n--- 249.1409990787506 seconds ---\n"
     ]
    }
   ],
   "source": [
    "\n",
    "\n",
    "# warning supŕession \n",
    "from warnings import simplefilter\n",
    "simplefilter(action='ignore', category=FutureWarning)\n",
    "\n",
    "# the process are time consuming \n",
    "import time\n",
    "start_time = time.time()\n",
    "\n",
    "# from bib import constants\n",
    "from owslib.wfs import WebFeatureService\n",
    "\n",
    "#geobases wfs url\n",
    "gb_wfs = \"https://ide.geobases.es.gov.br/geoserver/geonode/wfs\"\n",
    "\n",
    "geobases = WebFeatureService(gb_wfs)\n",
    "\n",
    "# name\n",
    "print(geobases.identification.title)\n",
    "# operations\n",
    "print([operation.name for operation in geobases.operations])\n",
    "#contents\n",
    "print(geobases.contents)\n",
    "\n",
    "print(\"--- %s seconds ---\" % (time.time() - start_time))"
   ]
  },
  {
   "cell_type": "code",
   "execution_count": 3,
   "metadata": {},
   "outputs": [
    {
     "output_type": "stream",
     "name": "stdout",
     "text": [
      "My GeoServer WFS\n['GetCapabilities', 'DescribeFeatureType', 'GetFeature', 'Transaction', 'LockFeature', 'GetFeatureWithLock']\n"
     ]
    }
   ],
   "source": [
    "# name\n",
    "print(geobases.identification.title)\n",
    "# operations\n",
    "print([operation.name for operation in geobases.operations])"
   ]
  },
  {
   "cell_type": "code",
   "execution_count": 4,
   "metadata": {},
   "outputs": [
    {
     "output_type": "stream",
     "name": "stdout",
     "text": [
      "['geonode:ana_snirh_diagnostico_abast_urb', 'geonode:_2016_07_26_comunidades_urbanas_e_rurais_es', 'geonode:ana_snirh_adutora_es_epsg_31984', 'geonode:ana_captacao_atend_mun_es_epsg_31984', 'geonode:ana_trechos_inundaveis_es_epsg_31984', 'geonode:anac_aerodromos_civis_publicos_es', 'geonode:anm_proc_minerarios_es_31984', 'geonode:APPS_1', 'geonode:HIDROGRAFIA_1', 'geonode:PONTOS_1', 'geonode:RESERVA_LEGAL_1', 'geonode:USO_RESTRITO_1', 'geonode:VEGETACAO_NATIVA_1', 'geonode:AREA_CONSOLIDADA_1', 'geonode:AREA_IMOVEL_1', 'geonode:cemaden_est_fluvi_16_04_06', 'geonode:cemaden_est_pluvi_16_04_08', 'geonode:asb_solicitacao_de_biossolido', 'geonode:asb_cesan_est_trat_esgoto_1712', 'geonode:asb_cesan_est_elev_agua_1712', 'geonode:asb_cesan_est_elev_esgoto_1712', 'geonode:asb_cesan_est_trat_agua_1712_1', 'geonode:asb_cesan_rotas_biossolido', 'geonode:asb_cesan_rede_coleto_esg_1712', 'geonode:asb_cesan_rede_agua_bruta_1712', 'geonode:asb_cesan_rede_agua_tratada_1712', 'geonode:asb_cesan_rede_emiss_agua_1712', 'geonode:asb_cesan_red_recalq_esgo_1712_1', 'geonode:comun_urbanas_rurais', 'geonode:cprm_afloramento_rochoso_es_srg2000_24s', 'geonode:cprm_batimetria_srtm_30_es_l_epsg_4674', 'geonode:cprm_batimetria_srtm_30_a_es_epsg_4674', 'geonode:cprm_estrutura_es_srg2000_24s', 'geonode:cprm_litologia_es_srg2000_24s', 'geonode:cprm_ocorrencias_minerais_es_srg2000_24s', 'geonode:cprm_siagas_pocos_es', 'geonode:dc_sedurb_risco_inund_atu', 'geonode:dc_sdrb_risco_geologic_151019', 'geonode:dc_abrigos_temp_160226', 'geonode:dc_entrega_donativos_160226', 'geonode:dc_heliponto_160226', 'geonode:dc_movimento_massa_160226', 'geonode:dc_rhm_equipamento_dc_16_04_08', 'geonode:dc_posto_comando_160226', 'geonode:dc_area_espera_160226', 'geonode:dc_areas_risco_160218', 'geonode:dc_compdec_16_03_18', 'geonode:rede_rodoviaria_2019', 'geonode:rede_rodoviaria_der_es_2020', 'geonode:tra_dnit_ferrovias_2017', 'geonode:dnit_rodovias_es_31984', 'geonode:edificacoes_assistencia_social', 'geonode:edificacoes_religiosas', 'geonode:_2020_11_esgas_es_ramais', 'geonode:_2020_11_esgas_es_rede_distribuicao', 'geonode:est_telemetricas_outras_ent_2010_utm24_sirgas2000', 'geonode:precip_stations_sudeste', 'geonode:edu_edif_ensino_p_31984', 'geonode:rel_elemento_fisiografico_natural_p_31984', 'geonode:eco_ext_mineral_a_31984', 'geonode:enc_grupo_transformadores_p_31984', 'geonode:hid_massa_dagua_a_31984', 'geonode:loc_aglomerado_rural_isolado_p_31984', 'geonode:tra_arruamento_l_31984', 'geonode:hid_banco_areia_a_31984', 'geonode:hid_barragem_l_31984', 'geonode:loc_capital_p_31984', 'geonode:asb_cemiterio_p_31984', 'geonode:loc_cidade_p_31984', 'geonode:hid_corredeira_p_31984_1', 'geonode:hid_corredeira_a_31984', 'geonode:hid_corredeira_l_31984', 'geonode:eco_edif_agropec_ext_vegetal_pesca_p_31984', 'geonode:tra_edif_const_portuaria_p_31984', 'geonode:rel_elemento_fisiografico_natural_l_31984', 'geonode:enc_est_gerad_energia_eletrica_p_31984', 'geonode:enc_hidreletrica_p_31984', 'geonode:hid_ilha_a_31984', 'geonode:tra_passag_elevada_viaduto_p_31984', 'geonode:tra_passagem_nivel_p_31984', 'geonode:tra_pista_ponto_pouso_l_31984', 'geonode:tra_pista_ponto_pouso_p_31984', 'geonode:tra_ponte_l_31984', 'geonode:tra_ponte_p_31984', 'geonode:hid_quebramar_molhe_l_31984', 'geonode:hid_queda_dagua_l_31984', 'geonode:hid_queda_dagua_p_31984', 'geonode:tra_sinalizacao_p_31984', 'geonode:enc_termeletrica_p_31984', 'geonode:hid_trecho_drenagem_l_31984', 'geonode:enc_trecho_energia_l_31984_1', 'geonode:hid_trecho_massa_dagua_a_31984', 'geonode:tra_trecho_ferroviario_l_31984', 'geonode:tra_trecho_rodoviario_l_31984', 'geonode:tra_tunel_l_31984', 'geonode:loc_vila_p_31984', 'geonode:loc_area_edificada_a_31984', 'geonode:loc_area_urbana_isolada_p_31984', 'geonode:a__32_ES_faces_de_logradouros_2019_319840', 'geonode:ibge_hidrogeologia_es', 'geonode:ibge_limite_zee_maritimos_es', 'geonode:ibge_mapa_indice_es_cartas_topo_100000', 'geonode:ibge_mapa_indice_es_cartas_topo_50000', 'geonode:ibge_rede_geodesica', 'geonode:ibge_sedes_municipais_2015_31984_p', 'geonode:trecho_drenagem', 'geonode:_2020_01_icmbio_cecav_cavernas_es', 'geonode:idaf_atp_smr_gedsiv', 'geonode:idaf_gedsiv_unid_consolidacao', 'geonode:idaf_gedsiv_unid_producao', 'geonode:limite_distrital_2018_alt_novembro', 'geonode:idaf_limite_municipal_2018_11', 'geonode:assentamentos_incra_seag_es', 'geonode:corredores_ecologicos', 'geonode:es_articulacao10x10km', 'geonode:_2019_10_25_iema_rppns', 'geonode:_2019_10_25_iema_ucs_estaduais', 'geonode:areas_prioritarias', 'geonode:linha_de_costa_1970_sul', 'geonode:linha_de_costa_2005', 'geonode:linha_de_costa_2008', 'geonode:ijsn_bairros', 'geonode:asb_ijsn_cemiterio', 'geonode:ciclorrotas', 'geonode:tra_ijsn_ciclovias', 'geonode:tra_ijsn_estradas_vicinais', 'geonode:ijsn_ibge_localidades', 'geonode:lim_microrregiao_es_lei_11174_2020_09_25', 'geonode:area_urbanizada', 'geonode:edifi_ensino_2019', 'geonode:incra_assentamentos_es_31984', 'geonode:incra_quilombolas_es_31984', 'geonode:incra_sigef_privado_es_31984', 'geonode:incra_sigef_publico_es_31984', 'geonode:incra_snci_privado_es_31984', 'geonode:incra_snci_publico_es_31984', 'geonode:meses_secos', 'geonode:_2019_10_24_uc_federais_es_31984', 'geonode:_2019_04_es_epsg_31984', 'geonode:_2020_04_ms_es_epsg_31984', 'geonode:_2019_08_es_epsg_31984', 'geonode:_2019_12_es_epsg_31984', 'geonode:_2020_12_ms_es_epsg_31984', 'geonode:_2019_02_es_epsg_31984', 'geonode:_2020_02_ms_es_epsg_31984', 'geonode:_2020_01_es_epsg_31984', 'geonode:_2019_07_es_epsg_31984', 'geonode:_2020_07_ms_es_epsg_31984', 'geonode:_2019_06_es_epsg_31984', 'geonode:_2020_06_ms_es_epsg_31984', 'geonode:_2019_05_es_epsg_31984', 'geonode:_2020_05_ms_es_epsg_31984', 'geonode:_2019_03_es_epsg_31984', 'geonode:_2020_03_ms_es_epsg_31984', 'geonode:_2020_03_ms_es_epsg_31984_1', 'geonode:_2019_11_es_epsg_31984', 'geonode:_2020_11_ms_es_epsg_31984', 'geonode:_2019_10_es_epsg_31984', 'geonode:_2020_10_ms_es_epsg_31984', 'geonode:_2019_09_es_epsg_31984', 'geonode:_2020_09_ms_es_epsg_31984', 'geonode:_2020_08_ms_es_epsg_31984', 'geonode:ottobacias_n_4', 'geonode:ottobacias_n_5', 'geonode:ottobacias_n_6', 'geonode:ottobacias_n_7', 'geonode:pdui_aeroportos', 'geonode:pdui_balneabilidade', 'geonode:pdui_centralidades', 'geonode:pdui_comites_bacia_rmgv', 'geonode:pdui_conj_habitacionais', 'geonode:pdui_corredores_eco', 'geonode:pdui_correspondencia_zoneamento', 'geonode:pdui_equip_industriais', 'geonode:pdui_serra_hierarquia_viaria', 'geonode:pdui_linhas_transcol', 'geonode:pdui_cariacica_macrozon', 'geonode:pdui_fundao_macrozon', 'geonode:pdui_guarapari_macrozon', 'geonode:pdui_serra_macrozon', 'geonode:pdui_viana_macrozon', 'geonode:pdui_vila_velha_macrozon', 'geonode:pdui_vitoria_macrozon', 'geonode:pdui_monit_qlde_agua', 'geonode:pdui_cariacica_mov_pendular_entrada', 'geonode:pdui_cariacica_mov_pendular_saida', 'geonode:pdui_fundao_mov_pendular_entrada', 'geonode:pdui_fundao_mov_pendular_saida', 'geonode:pdui_guarapari_mov_pendular_entrada', 'geonode:pdui_guarapari_mov_pendular_saida', 'geonode:pdui_serra_mov_pendular_entrada', 'geonode:pdui_serra_mov_pendular_saida', 'geonode:pdui_viana_mov_pendular_entrada', 'geonode:pdui_viana_mov_pendular_saida', 'geonode:pdui_vila_velha_mov_pendular_entrada', 'geonode:pdui_vila_velha_mov_pendular_saida', 'geonode:pdui_vitoria_mov_pendular_entrada', 'geonode:pdui_vitoria_mov_pendular_saida', 'geonode:pdui_mov_pendular_entrada_ponto', 'geonode:pdui_mov_pendular_saida_ponto', 'geonode:pdui_parques_urbanos', 'geonode:pdui_dom_abastecimento_agua', 'geonode:pdui_dom_coleta_lixo', 'geonode:pdui_dom_energia_eletrica', 'geonode:pdui_dom_iluminacao_publica', 'geonode:pdui_dom_rede_esgoto', 'geonode:pdui_serra_plano_viario', 'geonode:pdui_portos', 'geonode:pdui_rodovias_rmgv', 'geonode:pdui_media_renda_mensal', 'geonode:pdui_serra_setores_escorregamento', 'geonode:pdui_serra_setores_inundacao', 'geonode:pdui_shopping_center', 'geonode:pdui_terminais_rodoviarios', 'geonode:pdui_uc_uso_integral', 'geonode:pdui_uc_uso_sustentavel', 'geonode:pdui_uc_serra', 'geonode:pdui_unidades_geomorfologicas', 'geonode:pdui_vulnerab_inundacao', 'geonode:pdui_zims_dinam_urbana', 'geonode:pdui_zims_mob_urbana', 'geonode:pdui_zims_quali_ambiental_urbana', 'geonode:pdui_zona_costeira', 'geonode:pdui_viana_zonas_inundacao', 'geonode:pdui_pdm_cariacica', 'geonode:pdui_pdm_fundao', 'geonode:pdui_pdm_guarapari', 'geonode:pdui_pdm_serra', 'geonode:pdui_pdm_viana', 'geonode:pdui_pdm_vila_velha', 'geonode:pdui_pdm_vitoria', 'geonode:pdui_zee_vitoria', 'geonode:pdui_viana_risco_geo', 'geonode:pdui_areas_priorit_conservacao', 'geonode:pdui_areas_publicas_cariacica', 'geonode:pdui_idh_2010', 'geonode:rede_obs_hidrometeorologicas', 'geonode:tbestabelecimento_es_32_publicos', 'geonode:_2019_11_cnes_estabelecimentos_saude_publicos_es', 'geonode:sesp_ijsn_un_seguranca', 'geonode:snirh_inundacoes_2003_2015_es_epsg_31984', 'geonode:snirh_secas_2003_2015_es_epsg_31984', 'geonode:solos_es_2016', 'geonode:transpetro_dutos', 'geonode:transpetro_estacao', 'geonode:transpetro_marco_km', 'geonode:transpetro_terminal_1', 'geonode:transpetro_un_tratamento_gas_1', 'geonode:zonas_naturais_1', 'geonode:zn_amortecimento_ucs_estaduais', 'geonode:areas_aracruz', 'geonode:bacias_hidrograficas_75', 'geonode:data_das_imagens_voo_aerofotogrametrico_es_2012_2015', 'geonode:idaf_legitimacao_es', 'geonode:trecho_drenagem_1', 'geonode:areas_tombadas_cec', 'geonode:areas_tombadas_cec_p']\n"
     ]
    }
   ],
   "source": [
    "print(list(geobases.contents))"
   ]
  },
  {
   "cell_type": "code",
   "execution_count": 5,
   "metadata": {},
   "outputs": [],
   "source": [
    "with open('layerlist.txt','w+') as layerlist_writer:\n",
    "    for item in list(geobases.contents):\n",
    "        layerlist_writer.write(item+'\\n')"
   ]
  },
  {
   "cell_type": "code",
   "execution_count": 7,
   "metadata": {
    "tags": [
     "outputPrepend"
    ]
   },
   "outputs": [
    {
     "output_type": "stream",
     "name": "stdout",
     "text": [
      "o Novo   \n",
      "72  idaf_limite_municipal_2018_11.74    175               Ecoporanga   \n",
      "73  idaf_limite_municipal_2018_11.75    176       Água Doce do Norte   \n",
      "74  idaf_limite_municipal_2018_11.76    177            Boa Esperança   \n",
      "75  idaf_limite_municipal_2018_11.77    159                   Pancas   \n",
      "76  idaf_limite_municipal_2018_11.78    160             Baixo Guandú   \n",
      "77  idaf_limite_municipal_2018_11.18    110        Jerônimo Monteiro   \n",
      "\n",
      "    cod_ibge        microestad     macroestad       fonte              data  \\\n",
      "0    3201506      Centro-Oeste        Central  IDAF/DTCAR   Outubro de 2017   \n",
      "1    3203353      Centro-Oeste        Central  IDAF/DTCAR   Outubro de 2017   \n",
      "2    3205176      Centro-Oeste        Central  IDAF/DTCAR  Dezembro de 2016   \n",
      "3    3204401       Litoral Sul            Sul  IDAF/DTCAR  Dezembro de 2016   \n",
      "4    3204203       Litoral Sul            Sul  IDAF/DTCAR  Dezembro de 2016   \n",
      "5    3202603       Litoral Sul            Sul  IDAF/DTCAR  Dezembro de 2016   \n",
      "6    3205200     Metropolitana  Metropolitana  IDAF/DTCAR  Dezembro de 2016   \n",
      "7    3205069  Sudoeste Serrana  Metropolitana  IDAF/DTCAR  Dezembro de 2016   \n",
      "8    3201407       Central Sul            Sul  IDAF/DTCAR  Dezembro de 2016   \n",
      "9    3202207     Metropolitana  Metropolitana  IDAF/DTCAR  Dezembro de 2016   \n",
      "10   3202801       Litoral Sul            Sul  IDAF/DTCAR     Abril de 2017   \n",
      "11   3200706       Central Sul            Sul  IDAF/DTCAR     Abril de 2017   \n",
      "12   3201209       Central Sul            Sul  IDAF/DTCAR     Abril de 2017   \n",
      "13   3205010          Rio Doce        Central  IDAF/DTCAR  Dezembro de 2016   \n",
      "14   3200607          Rio Doce        Central  IDAF/DTCAR  Dezembro de 2016   \n",
      "15   3204559   Central Serrana  Metropolitana  IDAF/DTCAR  Dezembro de 2016   \n",
      "16   3204302       Litoral Sul            Sul  IDAF/DTCAR     Abril de 2017   \n",
      "17   3203700           Caparaó            Sul  IDAF/DTCAR  Dezembro de 2016   \n",
      "18   3201704  Sudoeste Serrana  Metropolitana  IDAF/DTCAR  Dezembro de 2016   \n",
      "19   3201308     Metropolitana  Metropolitana  IDAF/DTCAR  Dezembro de 2016   \n",
      "20   3203601          Nordeste          Norte  IDAF/DTCAR  Dezembro de 2016   \n",
      "21   3205150          Noroeste          Norte  IDAF/DTCAR  Dezembro de 2016   \n",
      "22   3203908          Noroeste          Norte  IDAF/DTCAR  Dezembro de 2016   \n",
      "23   3204252          Nordeste          Norte  IDAF/DTCAR  Dezembro de 2016   \n",
      "24   3204104          Nordeste          Norte  IDAF/DTCAR  Dezembro de 2016   \n",
      "25   3203502          Nordeste          Norte  IDAF/DTCAR  Dezembro de 2016   \n",
      "26   3204054          Nordeste          Norte  IDAF/DTCAR  Dezembro de 2016   \n",
      "27   3201605          Nordeste          Norte  IDAF/DTCAR  Dezembro de 2016   \n",
      "28   3202256      Centro-Oeste        Central  IDAF/DTCAR  Dezembro de 2016   \n",
      "29   3202504          Rio Doce        Central  IDAF/DTCAR  Dezembro de 2016   \n",
      "..       ...               ...            ...         ...               ...   \n",
      "48   3202405     Metropolitana  Metropolitana  IDAF/DTCAR  Dezembro de 2016   \n",
      "49   3200409       Litoral Sul            Sul  IDAF/DTCAR  Dezembro de 2016   \n",
      "50   3203809       Central Sul            Sul  IDAF/DTCAR  Dezembro de 2016   \n",
      "51   3201803           Caparaó            Sul  IDAF/DTCAR  Dezembro de 2016   \n",
      "52   3205002     Metropolitana  Metropolitana  IDAF/DTCAR  Dezembro de 2016   \n",
      "53   3202900   Central Serrana  Metropolitana  IDAF/DTCAR  Dezembro de 2016   \n",
      "54   3204609   Central Serrana  Metropolitana  IDAF/DTCAR  Dezembro de 2016   \n",
      "55   3204500   Central Serrana  Metropolitana  IDAF/DTCAR  Dezembro de 2016   \n",
      "56   3205036       Central Sul            Sul  IDAF/DTCAR  Dezembro de 2016   \n",
      "57   3200904          Noroeste          Norte  IDAF/DTCAR  Dezembro de 2016   \n",
      "58   3203304          Noroeste          Norte  IDAF/DTCAR  Dezembro de 2016   \n",
      "59   3203163  Sudoeste Serrana  Metropolitana  IDAF/DTCAR  Dezembro de 2016   \n",
      "60   3200102  Sudoeste Serrana  Metropolitana  IDAF/DTCAR  Dezembro de 2016   \n",
      "61   3201159  Sudoeste Serrana  Metropolitana  IDAF/DTCAR  Dezembro de 2016   \n",
      "62   3202454           Caparaó            Sul  IDAF/DTCAR  Dezembro de 2016   \n",
      "63   3203007           Caparaó            Sul  IDAF/DTCAR  Dezembro de 2016   \n",
      "64   3202553           Caparaó            Sul  IDAF/DTCAR  Dezembro de 2016   \n",
      "65   3202009           Caparaó            Sul  IDAF/DTCAR  Dezembro de 2016   \n",
      "66   3202306           Caparaó            Sul  IDAF/DTCAR  Dezembro de 2016   \n",
      "67   3204807           Caparaó            Sul  IDAF/DTCAR  Dezembro de 2016   \n",
      "68   3201100           Caparaó            Sul  IDAF/DTCAR  Dezembro de 2016   \n",
      "69   3200508       Central Sul            Sul  IDAF/DTCAR  Dezembro de 2016   \n",
      "70   3203403       Central Sul            Sul  IDAF/DTCAR  Dezembro de 2016   \n",
      "71   3200359      Centro-Oeste        Central  IDAF/DTCAR  Dezembro de 2016   \n",
      "72   3202108          Noroeste          Norte  IDAF/DTCAR  Dezembro de 2016   \n",
      "73   3200169          Noroeste          Norte  IDAF/DTCAR  Dezembro de 2016   \n",
      "74   3201001          Nordeste          Norte  IDAF/DTCAR  Dezembro de 2016   \n",
      "75   3204005      Centro-Oeste        Central  IDAF/DTCAR  Dezembro de 2016   \n",
      "76   3200805      Centro-Oeste        Central  IDAF/DTCAR  Dezembro de 2016   \n",
      "77   3203106           Caparaó            Sul  IDAF/DTCAR  Dezembro de 2016   \n",
      "\n",
      "       area_km2        perim_m  percen_are                             origem  \\\n",
      "0   1416.813167  277032.278409    3.074037  Lei Estadual 10.752 de 19/10/2017   \n",
      "1    308.964824  110991.626318    0.670356  Lei Estadual 10.752 de 19/10/2017   \n",
      "2    470.206977  123198.366069    1.020201  Lei Estadual 10.600 de 15/12/2016   \n",
      "3    204.502044  100914.799972    0.443705  Lei Estadual 10.600 de 15/12/2016   \n",
      "4     73.940721   42274.231412    0.160428  Lei Estadual 10.600 de 15/12/2016   \n",
      "5    203.557384   80875.619530    0.441655  Lei Estadual 10.600 de 15/12/2016   \n",
      "6    209.871261   90707.321699    0.455354  Lei Estadual 10.600 de 15/12/2016   \n",
      "7    185.989533   90266.015792    0.403539  Lei Estadual 10.600 de 15/12/2016   \n",
      "8    663.852027  180504.080382    1.440349  Lei Estadual 10.600 de 15/12/2016   \n",
      "9    286.767668  143602.987535    0.622195  Lei Estadual 10.600 de 15/12/2016   \n",
      "10   550.662528  138578.832977    1.194764  Lei Estadual 10.640 de 12/04/2017   \n",
      "11   232.978686   89169.179205    0.505490  Lei Estadual 10.640 de 12/04/2017   \n",
      "12   865.006856  206474.028444    1.876792  Lei Estadual 10.640 de 12/04/2017   \n",
      "13   586.803709  140914.151537    1.273179  Lei Estadual 10.600 de 15/12/2016   \n",
      "14  1419.670414  188169.356285    3.080236  Lei Estadual 10.600 de 15/12/2016   \n",
      "15   735.299183  198951.005258    1.595367  Lei Estadual 10.600 de 15/12/2016   \n",
      "16   594.049051  129631.534375    1.288899  Lei Estadual 10.640 de 12/04/2017   \n",
      "17   679.344784  188814.936749    1.473964  Lei Estadual 10.600 de 15/12/2016   \n",
      "18   369.993561  141383.186569    0.802769  Lei Estadual 10.600 de 15/12/2016   \n",
      "19   279.651249  111079.264819    0.606755  Lei Estadual 10.600 de 15/12/2016   \n",
      "20   541.735267  120052.314369    1.175394  Lei Estadual 10.600 de 15/12/2016   \n",
      "21   433.226995  139007.685671    0.939966  Lei Estadual 10.600 de 15/12/2016   \n",
      "22  1439.355987  293015.080692    3.122948  Lei Estadual 10.600 de 15/12/2016   \n",
      "23   359.901772  122315.560765    0.780873  Lei Estadual 10.600 de 15/12/2016   \n",
      "24   972.747017  212200.083035    2.110554  Lei Estadual 10.600 de 15/12/2016   \n",
      "25  1099.355025  170405.527464    2.385253  Lei Estadual 10.600 de 15/12/2016   \n",
      "26   433.471520  152714.469987    0.940496  Lei Estadual 10.600 de 15/12/2016   \n",
      "27  1186.392145  192456.855152    2.574096  Lei Estadual 10.600 de 15/12/2016   \n",
      "28   359.910467  120601.109256    0.780892  Lei Estadual 10.600 de 15/12/2016   \n",
      "29   201.197579   86981.258655    0.436535  Lei Estadual 10.600 de 15/12/2016   \n",
      "..          ...            ...         ...                                ...   \n",
      "48   589.144131  157389.038385    1.278257  Lei Estadual 10.600 de 15/12/2016   \n",
      "49   409.631750  142067.640341    0.888771  Lei Estadual 10.600 de 15/12/2016   \n",
      "50   327.485857  109546.102673    0.710541  Lei Estadual 10.600 de 15/12/2016   \n",
      "51   174.246926   72258.835803    0.378061  Lei Estadual 10.600 de 15/12/2016   \n",
      "52   547.438556  125980.003124    1.187769  Lei Estadual 10.600 de 15/12/2016   \n",
      "53   295.237692   96657.803978    0.640573  Lei Estadual 10.600 de 15/12/2016   \n",
      "54   683.170151  163528.388082    1.482263  Lei Estadual 10.600 de 15/12/2016   \n",
      "55   717.985527  180021.116081    1.557802  Lei Estadual 10.600 de 15/12/2016   \n",
      "56   417.875943  184196.534431    0.906659  Lei Estadual 10.600 de 15/12/2016   \n",
      "57   941.663648  263153.293838    2.043113  Lei Estadual 10.600 de 15/12/2016   \n",
      "58   320.086383  105896.833420    0.694486  Lei Estadual 10.600 de 15/12/2016   \n",
      "59   458.735132  131570.904009    0.995310  Lei Estadual 10.600 de 15/12/2016   \n",
      "60   941.118581  202343.134262    2.041930  Lei Estadual 10.600 de 15/12/2016   \n",
      "61   353.931077  157493.469463    0.767919  Lei Estadual 10.600 de 15/12/2016   \n",
      "62   238.128309  108820.685042    0.516663  Lei Estadual 10.600 de 15/12/2016   \n",
      "63   459.208451  253402.906962    0.996337  Lei Estadual 10.600 de 15/12/2016   \n",
      "64   330.762749  134260.697807    0.717651  Lei Estadual 10.600 de 15/12/2016   \n",
      "65   158.452274  124730.767239    0.343791  Lei Estadual 10.600 de 15/12/2016   \n",
      "66   468.685382  165814.365781    1.016899  Lei Estadual 10.600 de 15/12/2016   \n",
      "67   273.765955  105821.581495    0.593986  Lei Estadual 10.600 de 15/12/2016   \n",
      "68    89.293526   69188.762100    0.193739  Lei Estadual 10.600 de 15/12/2016   \n",
      "69   194.156753   94315.623718    0.421259  Lei Estadual 10.600 de 15/12/2016   \n",
      "70   871.241295  229299.073202    1.890318  Lei Estadual 10.600 de 15/12/2016   \n",
      "71   228.746347  101541.085581    0.496307  Lei Estadual 10.600 de 15/12/2016   \n",
      "72  2317.248517  381760.634461    5.027697  Lei Estadual 10.600 de 15/12/2016   \n",
      "73   474.572744  166172.694618    1.029673  Lei Estadual 10.600 de 15/12/2016   \n",
      "74   428.368571  145484.923425    0.929424  Lei Estadual 10.600 de 15/12/2016   \n",
      "75   829.925143  206929.485087    1.800675  Lei Estadual 10.600 de 15/12/2016   \n",
      "76   915.737135  276921.911568    1.986860  Lei Estadual 10.600 de 15/12/2016   \n",
      "77   162.321350   79017.901093    0.352186  Lei Estadual 10.600 de 15/12/2016   \n",
      "\n",
      "               regional                  estrutura                esc_local  \\\n",
      "0              Colatina  Escritorio Regional/Local                 Colatina   \n",
      "1              Colatina       Posto de Atendimento                 Colatina   \n",
      "2          Nova Venécia       Posto de Atendimento     Sao Gabriel da Palha   \n",
      "3   Cach. de Itapemirim           Escritorio Local          Rio Novo do Sul   \n",
      "4   Cach. de Itapemirim       Posto de Atendimento          Rio Novo do Sul   \n",
      "5   Cach. de Itapemirim       Posto de Atendimento          Rio Novo do Sul   \n",
      "6             Cariacica       Posto de Atendimento               Vila Velha   \n",
      "7   Cach. de Itapemirim       Posto de Atendimento                  Castelo   \n",
      "8   Cach. de Itapemirim           Escritorio Local                  Castelo   \n",
      "9              Colatina       Posto de Atendimento                  Ibiraçu   \n",
      "10  Cach. de Itapemirim           Escritorio Local               Itapemirim   \n",
      "11  Cach. de Itapemirim       Posto de Atendimento  Cachoeiro de Itapemirim   \n",
      "12  Cach. de Itapemirim           Escritorio Local  Cachoeiro de Itapemirim   \n",
      "13             Colatina       Posto de Atendimento                 Linhares   \n",
      "14             Colatina           Escritorio Local                  Aracruz   \n",
      "15            Cariacica           Escritorio Local    Santa Maria de Jetibá   \n",
      "16  Cach. de Itapemirim       Posto de Atendimento               Itapemirim   \n",
      "17  Cach. de Itapemirim       Posto de Atendimento                   Alegre   \n",
      "18  Cach. de Itapemirim       Posto de Atendimento                  Castelo   \n",
      "19            Cariacica        Escritorio Regional               Vila Velha   \n",
      "20         Nova Venécia       Posto de Atendimento                 Montanha   \n",
      "21         Nova Venécia       Posto de Atendimento             Nova Venécia   \n",
      "22         Nova Venécia  Escritorio Regional/Local             Nova Venécia   \n",
      "23         Nova Venécia       Posto de Atendimento                 Montanha   \n",
      "24         Nova Venécia           Escritorio Local                Pinheiros   \n",
      "25         Nova Venécia           Escritorio Local                 Montanha   \n",
      "26         Nova Venécia           Escritorio Local            Pedro Canário   \n",
      "27         Nova Venécia       Posto de Atendimento            Pedro Canário   \n",
      "28             Colatina       Posto de Atendimento                 Colatina   \n",
      "29             Colatina           Escritorio Local                  Ibiraçu   \n",
      "..                  ...                        ...                      ...   \n",
      "48            Cariacica           Escritorio Local                Guarapari   \n",
      "49            Cariacica       Posto de Atendimento                Guarapari   \n",
      "50  Cach. de Itapemirim       Posto de Atendimento            Mimoso do Sul   \n",
      "51  Cach. de Itapemirim       Posto de Atendimento                   Guaçuí   \n",
      "52            Cariacica           Escritorio Local                    Serra   \n",
      "53             Colatina           Escritorio Local                  Itarana   \n",
      "54            Cariacica           Escritorio Local             Santa Teresa   \n",
      "55            Cariacica       Posto de Atendimento    Santa Maria de Jetibá   \n",
      "56  Cach. de Itapemirim       Posto de Atendimento  Cachoeiro de Itapemirim   \n",
      "57         Nova Venécia           Escritorio Local   Barra de Sao Francisco   \n",
      "58             Colatina       Posto de Atendimento                   Pancas   \n",
      "59            Cariacica       Posto de Atendimento           Afonso Cláudio   \n",
      "60            Cariacica           Escritorio Local           Afonso Cláudio   \n",
      "61            Cariacica       Posto de Atendimento           Afonso Cláudio   \n",
      "62  Cach. de Itapemirim       Posto de Atendimento                     Iúna   \n",
      "63  Cach. de Itapemirim           Escritorio Local                     Iúna   \n",
      "64  Cach. de Itapemirim       Posto de Atendimento                   Guaçuí   \n",
      "65  Cach. de Itapemirim       Posto de Atendimento                   Guaçuí   \n",
      "66  Cach. de Itapemirim           Escritorio Local                   Guaçuí   \n",
      "67  Cach. de Itapemirim       Posto de Atendimento       Bom Jesus do Norte   \n",
      "68  Cach. de Itapemirim           Escritorio Local       Bom Jesus do Norte   \n",
      "69  Cach. de Itapemirim       Posto de Atendimento       Bom Jesus do Norte   \n",
      "70  Cach. de Itapemirim           Escritorio Local            Mimoso do Sul   \n",
      "71             Colatina       Posto de Atendimento                   Pancas   \n",
      "72         Nova Venécia           Escritorio Local               Ecoporanga   \n",
      "73         Nova Venécia       Posto de Atendimento   Barra de Sao Francisco   \n",
      "74         Nova Venécia       Posto de Atendimento                Pinheiros   \n",
      "75             Colatina           Escritorio Local                   Pancas   \n",
      "76             Colatina           Escritorio Local             Baixo Guandu   \n",
      "77  Cach. de Itapemirim       Posto de Atendimento                   Alegre   \n",
      "\n",
      "            lei_criaca                                           geometry  \n",
      "0   Lei 10.600 de 2016  MULTIPOLYGON (((337764.102 7864080.746, 337788...  \n",
      "1   Lei 10.600 de 2016  MULTIPOLYGON (((331315.181 7859409.038, 331436...  \n",
      "2   Lei 10.600 de 2016  MULTIPOLYGON (((366393.847 7916757.239, 366402...  \n",
      "3   Lei 10.600 de 2016  MULTIPOLYGON (((299753.996 7712351.774, 299728...  \n",
      "4   Lei 10.600 de 2016  MULTIPOLYGON (((317499.957 7700541.335, 317510...  \n",
      "5   Lei 10.600 de 2016  MULTIPOLYGON (((304354.753 7712887.125, 304400...  \n",
      "6   Lei 10.600 de 2016  MULTIPOLYGON (((366971.603 7752573.989, 366974...  \n",
      "7   Lei 10.600 de 2016  MULTIPOLYGON (((275124.216 7755872.846, 275233...  \n",
      "8   Lei 10.600 de 2016  MULTIPOLYGON (((281125.763 7741337.571, 281130...  \n",
      "9   Lei 10.600 de 2016  MULTIPOLYGON (((343769.084 7804296.972, 343769...  \n",
      "10  Lei 10.600 de 2016  MULTIPOLYGON (((317021.014 7691555.200, 317035...  \n",
      "11  Lei 10.600 de 2016  MULTIPOLYGON (((273710.106 7687850.295, 273735...  \n",
      "12  Lei 10.600 de 2016  MULTIPOLYGON (((281369.765 7719717.213, 281423...  \n",
      "13  Lei 10.600 de 2016  MULTIPOLYGON (((381321.024 7902708.650, 381331...  \n",
      "14  Lei 10.600 de 2016  MULTIPOLYGON (((382615.606 7837640.962, 382626...  \n",
      "15  Lei 10.600 de 2016  MULTIPOLYGON (((315027.955 7793543.364, 315053...  \n",
      "16  Lei 10.600 de 2016  MULTIPOLYGON (((290271.561 7676455.550, 290271...  \n",
      "17  Lei 10.600 de 2016  MULTIPOLYGON (((253980.461 7764750.189, 253984...  \n",
      "18  Lei 10.600 de 2016  MULTIPOLYGON (((266179.318 7756223.674, 266191...  \n",
      "19  Lei 10.600 de 2016  MULTIPOLYGON (((356465.160 7764147.465, 356499...  \n",
      "20  Lei 10.600 de 2016  MULTIPOLYGON (((338922.648 8021013.348, 339056...  \n",
      "21  Lei 10.600 de 2016  MULTIPOLYGON (((336246.806 7954476.201, 336245...  \n",
      "22  Lei 10.600 de 2016  MULTIPOLYGON (((336570.500 7969348.000, 336622...  \n",
      "23  Lei 10.600 de 2016  MULTIPOLYGON (((346746.122 7964203.135, 346200...  \n",
      "24  Lei 10.600 de 2016  MULTIPOLYGON (((345331.967 7981843.309, 345388...  \n",
      "25  Lei 10.600 de 2016  MULTIPOLYGON (((358252.010 8017460.113, 358382...  \n",
      "26  Lei 10.600 de 2016  MULTIPOLYGON (((373526.867 8009717.672, 375909...  \n",
      "27  Lei 10.600 de 2016  MULTIPOLYGON (((403595.402 7989774.362, 403608...  \n",
      "28  Lei 10.600 de 2016  MULTIPOLYGON (((355479.191 7889642.517, 355548...  \n",
      "29  Lei 10.600 de 2016  MULTIPOLYGON (((347787.146 7816011.631, 347780...  \n",
      "..                 ...                                                ...  \n",
      "48  Lei 10.600 de 2016  MULTIPOLYGON (((328236.577 7736261.379, 328314...  \n",
      "49  Lei 10.600 de 2016  MULTIPOLYGON (((328672.193 7727227.060, 328684...  \n",
      "50  Lei 10.600 de 2016  MULTIPOLYGON (((262051.416 7692155.641, 262103...  \n",
      "51  Lei 10.600 de 2016  MULTIPOLYGON (((216930.805 7728316.963, 216908...  \n",
      "52  Lei 10.600 de 2016  MULTIPOLYGON (((354488.159 7786263.595, 354486...  \n",
      "53  Lei 10.600 de 2016  MULTIPOLYGON (((310075.920 7799872.012, 310142...  \n",
      "54  Lei 10.600 de 2016  MULTIPOLYGON (((332445.311 7789056.560, 332493...  \n",
      "55  Lei 10.600 de 2016  MULTIPOLYGON (((346788.456 7793929.593, 346802...  \n",
      "56  Lei 10.600 de 2016  MULTIPOLYGON (((292087.306 7739657.415, 292170...  \n",
      "57  Lei 10.600 de 2016  MULTIPOLYGON (((299130.517 7961387.805, 299145...  \n",
      "58  Lei 10.600 de 2016  MULTIPOLYGON (((274599.280 7920397.471, 274669...  \n",
      "59  Lei 10.600 de 2016  MULTIPOLYGON (((274274.409 7813708.837, 274324...  \n",
      "60  Lei 10.600 de 2016  MULTIPOLYGON (((274832.246 7799235.202, 274921...  \n",
      "61  Lei 10.600 de 2016  MULTIPOLYGON (((259450.905 7793780.017, 259530...  \n",
      "62  Lei 10.600 de 2016  MULTIPOLYGON (((248192.157 7761204.564, 248164...  \n",
      "63  Lei 10.600 de 2016  MULTIPOLYGON (((221180.046 7762941.753, 221171...  \n",
      "64  Lei 10.600 de 2016  MULTIPOLYGON (((210549.147 7744790.446, 210643...  \n",
      "65  Lei 10.600 de 2016  MULTIPOLYGON (((208034.424 7733216.799, 208063...  \n",
      "66  Lei 10.600 de 2016  MULTIPOLYGON (((224402.191 7715490.608, 224514...  \n",
      "67  Lei 10.600 de 2016  MULTIPOLYGON (((225587.921 7692835.535, 225661...  \n",
      "68  Lei 10.600 de 2016  MULTIPOLYGON (((225246.258 7659683.679, 225237...  \n",
      "69  Lei 10.600 de 2016  MULTIPOLYGON (((232503.601 7680270.442, 232541...  \n",
      "70  Lei 10.600 de 2016  MULTIPOLYGON (((242637.328 7688616.013, 242667...  \n",
      "71  Lei 10.600 de 2016  MULTIPOLYGON (((298196.870 7904445.209, 298045...  \n",
      "72  Lei 10.600 de 2016  MULTIPOLYGON (((308686.228 8014142.345, 308743...  \n",
      "73  Lei 10.600 de 2016  MULTIPOLYGON (((283457.132 7969718.262, 283475...  \n",
      "74  Lei 10.600 de 2016  MULTIPOLYGON (((346200.000 7963616.500, 346746...  \n",
      "75  Lei 10.600 de 2016  MULTIPOLYGON (((304364.785 7904740.945, 304364...  \n",
      "76  Lei 10.600 de 2016  MULTIPOLYGON (((297527.909 7872902.758, 297529...  \n",
      "77  Lei 10.600 de 2016  MULTIPOLYGON (((251962.847 7710542.135, 252016...  \n",
      "\n",
      "[78 rows x 17 columns]\n"
     ]
    }
   ],
   "source": [
    "import geopandas as gpd\n",
    "from requests import Request\n",
    "\n",
    "layer = 'geonode:idaf_limite_municipal_2018_11' \n",
    "\n",
    "params = dict(service='WFS', version=\"1.0.0\", request='GetFeature',\n",
    "      typeName=layer, outputFormat='json')\n",
    "\n",
    "print(params)\n",
    "\n",
    "# Parse the URL with parameters\n",
    "q = Request('GET', gb_wfs, params=params).prepare().url\n",
    "\n",
    "print(q)\n",
    "\n",
    "# Read data from URL\n",
    "data = gpd.read_file(q)\n",
    "\n",
    "print(data)"
   ]
  },
  {
   "cell_type": "code",
   "execution_count": 8,
   "metadata": {},
   "outputs": [
    {
     "output_type": "stream",
     "name": "stdout",
     "text": [
      "This is a description of your Web Feature Server.\n\nThe GeoServer is a full transactional Web Feature Server, you may wish to limit\nGeoServer to a Basic service level to prevent modificaiton of your geographic\ndata.\nNONE\nNONE\n['WFS, WMS, GEOSERVER']\nMy GeoServer WFS\nMy GeoServer WFS\n1.0.0\n"
     ]
    }
   ],
   "source": [
    "print(geobases.identification.abstract)\n",
    "print(geobases.identification.accessconstraints)\n",
    "# print(geobases.identification.end)\n",
    "print(geobases.identification.fees)\n",
    "# print(geobases.identification.file)\n",
    "# print(geobases.identification.flush)\n",
    "print(geobases.identification.keywords)\n",
    "# print(geobases.identification.sep)\n",
    "print(geobases.identification.title)\n",
    "print(geobases.identification.type)\n",
    "print(geobases.identification.version)"
   ]
  },
  {
   "cell_type": "code",
   "execution_count": 9,
   "metadata": {
    "tags": []
   },
   "outputs": [
    {
     "output_type": "stream",
     "name": "stdout",
     "text": [
      "<owslib.util.ResponseWrapper object at 0x7fd40c680208>\n"
     ]
    }
   ],
   "source": [
    "import inspect, owslib\n",
    "print(geobases.getcapabilities())\n",
    "\n",
    "# print(inspect.getmembers(owslib.feature.wfs100.ContentMetadata.predicate))\n"
   ]
  },
  {
   "cell_type": "code",
   "execution_count": 10,
   "metadata": {
    "tags": [
     "outputPrepend"
    ]
   },
   "outputs": [
    {
     "output_type": "stream",
     "name": "stdout",
     "text": [
      "\n",
      "('verbOptions', ['{http://www.opengis.net/wfs}Query', '{http://www.opengis.net/wfs}Insert', '{http://www.opengis.net/wfs}Update', '{http://www.opengis.net/wfs}Delete', '{http://www.opengis.net/wfs}Lock'])\n",
      "('__class__', <class 'owslib.feature.wfs100.ContentMetadata'>)\n",
      "('__delattr__', <method-wrapper '__delattr__' of ContentMetadata object at 0x7fd3ea543400>)\n",
      "('__dict__', {'auth': <Authentication shared=False username=None password=None cert=None verify=True>, 'id': 'geonode:data_das_imagens_voo_aerofotogrametrico_es_2012_2015', 'title': 'data_das_imagens_voo_aerofotogrametrico_es_2012_2015', 'abstract': 'No abstract provided.', 'keywords': ['data_das_imagens_voo_aerofotogrametrico_es_2012_2015, features'], 'boundingBox': (-41.9008910678802, -21.32632804592718, -39.652049394134075, -17.867952656844498, urn:ogc:def:crs:EPSG::31984), 'boundingBoxWGS84': (-129.23538332925594, -85.52574069883015, -129.23498853072974, -85.52576090768292), 'crsOptions': [urn:ogc:def:crs:EPSG::31984], 'verbOptions': ['{http://www.opengis.net/wfs}Query', '{http://www.opengis.net/wfs}Insert', '{http://www.opengis.net/wfs}Update', '{http://www.opengis.net/wfs}Delete', '{http://www.opengis.net/wfs}Lock'], 'styles': None, 'timepositions': None, 'defaulttimeposition': None, 'metadataUrls': []})\n",
      "('__dir__', <built-in method __dir__ of ContentMetadata object at 0x7fd3ea543400>)\n",
      "('__doc__', 'Abstraction for WFS metadata.\\n\\n    Implements IMetadata.\\n    ')\n",
      "('__eq__', <method-wrapper '__eq__' of ContentMetadata object at 0x7fd3ea543400>)\n",
      "('__format__', <built-in method __format__ of ContentMetadata object at 0x7fd3ea543400>)\n",
      "('__ge__', <method-wrapper '__ge__' of ContentMetadata object at 0x7fd3ea543400>)\n",
      "('__getattribute__', <method-wrapper '__getattribute__' of ContentMetadata object at 0x7fd3ea543400>)\n",
      "('__gt__', <method-wrapper '__gt__' of ContentMetadata object at 0x7fd3ea543400>)\n",
      "('__hash__', <method-wrapper '__hash__' of ContentMetadata object at 0x7fd3ea543400>)\n",
      "('__init__', <bound method ContentMetadata.__init__ of <owslib.feature.wfs100.ContentMetadata object at 0x7fd3ea543400>>)\n",
      "('__init_subclass__', <built-in method __init_subclass__ of type object at 0x1949e48>)\n",
      "('__le__', <method-wrapper '__le__' of ContentMetadata object at 0x7fd3ea543400>)\n",
      "('__lt__', <method-wrapper '__lt__' of ContentMetadata object at 0x7fd3ea543400>)\n",
      "('__module__', 'owslib.feature.wfs100')\n",
      "('__ne__', <method-wrapper '__ne__' of ContentMetadata object at 0x7fd3ea543400>)\n",
      "('__new__', <built-in method __new__ of type object at 0x9d17a0>)\n",
      "('__reduce__', <built-in method __reduce__ of ContentMetadata object at 0x7fd3ea543400>)\n",
      "('__reduce_ex__', <built-in method __reduce_ex__ of ContentMetadata object at 0x7fd3ea543400>)\n",
      "('__repr__', <method-wrapper '__repr__' of ContentMetadata object at 0x7fd3ea543400>)\n",
      "('__setattr__', <method-wrapper '__setattr__' of ContentMetadata object at 0x7fd3ea543400>)\n",
      "('__sizeof__', <built-in method __sizeof__ of ContentMetadata object at 0x7fd3ea543400>)\n",
      "('__str__', <method-wrapper '__str__' of ContentMetadata object at 0x7fd3ea543400>)\n",
      "('__subclasshook__', <built-in method __subclasshook__ of type object at 0x1949e48>)\n",
      "('__weakref__', None)\n",
      "('abstract', 'No abstract provided.')\n",
      "('auth', <Authentication shared=False username=None password=None cert=None verify=True>)\n",
      "('boundingBox', (-41.9008910678802, -21.32632804592718, -39.652049394134075, -17.867952656844498, urn:ogc:def:crs:EPSG::31984))\n",
      "('boundingBoxWGS84', (-129.23538332925594, -85.52574069883015, -129.23498853072974, -85.52576090768292))\n",
      "('crsOptions', [urn:ogc:def:crs:EPSG::31984])\n",
      "('defaulttimeposition', None)\n",
      "('get_metadata', <bound method AbstractContentMetadata.get_metadata of <owslib.feature.wfs100.ContentMetadata object at 0x7fd3ea543400>>)\n",
      "('id', 'geonode:data_das_imagens_voo_aerofotogrametrico_es_2012_2015')\n",
      "('keywords', ['data_das_imagens_voo_aerofotogrametrico_es_2012_2015, features'])\n",
      "('metadataUrls', [])\n",
      "('parse_remote_metadata', <bound method ContentMetadata.parse_remote_metadata of <owslib.feature.wfs100.ContentMetadata object at 0x7fd3ea543400>>)\n",
      "('styles', None)\n",
      "('timepositions', None)\n",
      "('title', 'data_das_imagens_voo_aerofotogrametrico_es_2012_2015')\n",
      "('verbOptions', ['{http://www.opengis.net/wfs}Query', '{http://www.opengis.net/wfs}Insert', '{http://www.opengis.net/wfs}Update', '{http://www.opengis.net/wfs}Delete', '{http://www.opengis.net/wfs}Lock'])\n",
      "('__class__', <class 'owslib.feature.wfs100.ContentMetadata'>)\n",
      "('__delattr__', <method-wrapper '__delattr__' of ContentMetadata object at 0x7fd3ea543518>)\n",
      "('__dict__', {'auth': <Authentication shared=False username=None password=None cert=None verify=True>, 'id': 'geonode:idaf_legitimacao_es', 'title': 'idaf_legitimacao_es', 'abstract': 'No abstract provided.', 'keywords': ['idaf_legitimacao_es, features'], 'boundingBox': (-1.0, -1.0, 0.0, 0.0, urn:ogc:def:crs:EPSG::404000), 'boundingBoxWGS84': None, 'crsOptions': [urn:ogc:def:crs:EPSG::404000], 'verbOptions': ['{http://www.opengis.net/wfs}Query', '{http://www.opengis.net/wfs}Insert', '{http://www.opengis.net/wfs}Update', '{http://www.opengis.net/wfs}Delete', '{http://www.opengis.net/wfs}Lock'], 'styles': None, 'timepositions': None, 'defaulttimeposition': None, 'metadataUrls': []})\n",
      "('__dir__', <built-in method __dir__ of ContentMetadata object at 0x7fd3ea543518>)\n",
      "('__doc__', 'Abstraction for WFS metadata.\\n\\n    Implements IMetadata.\\n    ')\n",
      "('__eq__', <method-wrapper '__eq__' of ContentMetadata object at 0x7fd3ea543518>)\n",
      "('__format__', <built-in method __format__ of ContentMetadata object at 0x7fd3ea543518>)\n",
      "('__ge__', <method-wrapper '__ge__' of ContentMetadata object at 0x7fd3ea543518>)\n",
      "('__getattribute__', <method-wrapper '__getattribute__' of ContentMetadata object at 0x7fd3ea543518>)\n",
      "('__gt__', <method-wrapper '__gt__' of ContentMetadata object at 0x7fd3ea543518>)\n",
      "('__hash__', <method-wrapper '__hash__' of ContentMetadata object at 0x7fd3ea543518>)\n",
      "('__init__', <bound method ContentMetadata.__init__ of <owslib.feature.wfs100.ContentMetadata object at 0x7fd3ea543518>>)\n",
      "('__init_subclass__', <built-in method __init_subclass__ of type object at 0x1949e48>)\n",
      "('__le__', <method-wrapper '__le__' of ContentMetadata object at 0x7fd3ea543518>)\n",
      "('__lt__', <method-wrapper '__lt__' of ContentMetadata object at 0x7fd3ea543518>)\n",
      "('__module__', 'owslib.feature.wfs100')\n",
      "('__ne__', <method-wrapper '__ne__' of ContentMetadata object at 0x7fd3ea543518>)\n",
      "('__new__', <built-in method __new__ of type object at 0x9d17a0>)\n",
      "('__reduce__', <built-in method __reduce__ of ContentMetadata object at 0x7fd3ea543518>)\n",
      "('__reduce_ex__', <built-in method __reduce_ex__ of ContentMetadata object at 0x7fd3ea543518>)\n",
      "('__repr__', <method-wrapper '__repr__' of ContentMetadata object at 0x7fd3ea543518>)\n",
      "('__setattr__', <method-wrapper '__setattr__' of ContentMetadata object at 0x7fd3ea543518>)\n",
      "('__sizeof__', <built-in method __sizeof__ of ContentMetadata object at 0x7fd3ea543518>)\n",
      "('__str__', <method-wrapper '__str__' of ContentMetadata object at 0x7fd3ea543518>)\n",
      "('__subclasshook__', <built-in method __subclasshook__ of type object at 0x1949e48>)\n",
      "('__weakref__', None)\n",
      "('abstract', 'No abstract provided.')\n",
      "('auth', <Authentication shared=False username=None password=None cert=None verify=True>)\n",
      "('boundingBox', (-1.0, -1.0, 0.0, 0.0, urn:ogc:def:crs:EPSG::404000))\n",
      "('boundingBoxWGS84', None)\n",
      "('crsOptions', [urn:ogc:def:crs:EPSG::404000])\n",
      "('defaulttimeposition', None)\n",
      "('get_metadata', <bound method AbstractContentMetadata.get_metadata of <owslib.feature.wfs100.ContentMetadata object at 0x7fd3ea543518>>)\n",
      "('id', 'geonode:idaf_legitimacao_es')\n",
      "('keywords', ['idaf_legitimacao_es, features'])\n",
      "('metadataUrls', [])\n",
      "('parse_remote_metadata', <bound method ContentMetadata.parse_remote_metadata of <owslib.feature.wfs100.ContentMetadata object at 0x7fd3ea543518>>)\n",
      "('styles', None)\n",
      "('timepositions', None)\n",
      "('title', 'idaf_legitimacao_es')\n",
      "('verbOptions', ['{http://www.opengis.net/wfs}Query', '{http://www.opengis.net/wfs}Insert', '{http://www.opengis.net/wfs}Update', '{http://www.opengis.net/wfs}Delete', '{http://www.opengis.net/wfs}Lock'])\n",
      "('__class__', <class 'owslib.feature.wfs100.ContentMetadata'>)\n",
      "('__delattr__', <method-wrapper '__delattr__' of ContentMetadata object at 0x7fd3ea543630>)\n",
      "('__dict__', {'auth': <Authentication shared=False username=None password=None cert=None verify=True>, 'id': 'geonode:trecho_drenagem_1', 'title': 'trecho_drenagem_1', 'abstract': None, 'keywords': ['features, trecho_drenagem_1'], 'boundingBox': (-41.89030002731453, -21.311771426049937, -39.66302367110307, -17.883055477135166, urn:ogc:def:crs:EPSG::31984), 'boundingBoxWGS84': (-129.23538166805088, -85.52574079394164, -129.2349902542901, -85.52576080913005), 'crsOptions': [urn:ogc:def:crs:EPSG::31984], 'verbOptions': ['{http://www.opengis.net/wfs}Query', '{http://www.opengis.net/wfs}Insert', '{http://www.opengis.net/wfs}Update', '{http://www.opengis.net/wfs}Delete', '{http://www.opengis.net/wfs}Lock'], 'styles': None, 'timepositions': None, 'defaulttimeposition': None, 'metadataUrls': []})\n",
      "('__dir__', <built-in method __dir__ of ContentMetadata object at 0x7fd3ea543630>)\n",
      "('__doc__', 'Abstraction for WFS metadata.\\n\\n    Implements IMetadata.\\n    ')\n",
      "('__eq__', <method-wrapper '__eq__' of ContentMetadata object at 0x7fd3ea543630>)\n",
      "('__format__', <built-in method __format__ of ContentMetadata object at 0x7fd3ea543630>)\n",
      "('__ge__', <method-wrapper '__ge__' of ContentMetadata object at 0x7fd3ea543630>)\n",
      "('__getattribute__', <method-wrapper '__getattribute__' of ContentMetadata object at 0x7fd3ea543630>)\n",
      "('__gt__', <method-wrapper '__gt__' of ContentMetadata object at 0x7fd3ea543630>)\n",
      "('__hash__', <method-wrapper '__hash__' of ContentMetadata object at 0x7fd3ea543630>)\n",
      "('__init__', <bound method ContentMetadata.__init__ of <owslib.feature.wfs100.ContentMetadata object at 0x7fd3ea543630>>)\n",
      "('__init_subclass__', <built-in method __init_subclass__ of type object at 0x1949e48>)\n",
      "('__le__', <method-wrapper '__le__' of ContentMetadata object at 0x7fd3ea543630>)\n",
      "('__lt__', <method-wrapper '__lt__' of ContentMetadata object at 0x7fd3ea543630>)\n",
      "('__module__', 'owslib.feature.wfs100')\n",
      "('__ne__', <method-wrapper '__ne__' of ContentMetadata object at 0x7fd3ea543630>)\n",
      "('__new__', <built-in method __new__ of type object at 0x9d17a0>)\n",
      "('__reduce__', <built-in method __reduce__ of ContentMetadata object at 0x7fd3ea543630>)\n",
      "('__reduce_ex__', <built-in method __reduce_ex__ of ContentMetadata object at 0x7fd3ea543630>)\n",
      "('__repr__', <method-wrapper '__repr__' of ContentMetadata object at 0x7fd3ea543630>)\n",
      "('__setattr__', <method-wrapper '__setattr__' of ContentMetadata object at 0x7fd3ea543630>)\n",
      "('__sizeof__', <built-in method __sizeof__ of ContentMetadata object at 0x7fd3ea543630>)\n",
      "('__str__', <method-wrapper '__str__' of ContentMetadata object at 0x7fd3ea543630>)\n",
      "('__subclasshook__', <built-in method __subclasshook__ of type object at 0x1949e48>)\n",
      "('__weakref__', None)\n",
      "('abstract', None)\n",
      "('auth', <Authentication shared=False username=None password=None cert=None verify=True>)\n",
      "('boundingBox', (-41.89030002731453, -21.311771426049937, -39.66302367110307, -17.883055477135166, urn:ogc:def:crs:EPSG::31984))\n",
      "('boundingBoxWGS84', (-129.23538166805088, -85.52574079394164, -129.2349902542901, -85.52576080913005))\n",
      "('crsOptions', [urn:ogc:def:crs:EPSG::31984])\n",
      "('defaulttimeposition', None)\n",
      "('get_metadata', <bound method AbstractContentMetadata.get_metadata of <owslib.feature.wfs100.ContentMetadata object at 0x7fd3ea543630>>)\n",
      "('id', 'geonode:trecho_drenagem_1')\n",
      "('keywords', ['features, trecho_drenagem_1'])\n",
      "('metadataUrls', [])\n",
      "('parse_remote_metadata', <bound method ContentMetadata.parse_remote_metadata of <owslib.feature.wfs100.ContentMetadata object at 0x7fd3ea543630>>)\n",
      "('styles', None)\n",
      "('timepositions', None)\n",
      "('title', 'trecho_drenagem_1')\n",
      "('verbOptions', ['{http://www.opengis.net/wfs}Query', '{http://www.opengis.net/wfs}Insert', '{http://www.opengis.net/wfs}Update', '{http://www.opengis.net/wfs}Delete', '{http://www.opengis.net/wfs}Lock'])\n",
      "('__class__', <class 'owslib.feature.wfs100.ContentMetadata'>)\n",
      "('__delattr__', <method-wrapper '__delattr__' of ContentMetadata object at 0x7fd3ea543748>)\n",
      "('__dict__', {'auth': <Authentication shared=False username=None password=None cert=None verify=True>, 'id': 'geonode:areas_tombadas_cec', 'title': 'ÁREAS TOMBADAS CEC', 'abstract': 'No abstract provided.', 'keywords': ['areas_tombadas_cec, features'], 'boundingBox': (-41.35659975102273, -20.978011371432757, -39.69289824507308, -18.383593754580286, urn:ogc:def:crs:EPSG::31984), 'boundingBoxWGS84': (-129.23534371642674, -85.52574557205702, -129.23504753380138, -85.52576052396597), 'crsOptions': [urn:ogc:def:crs:EPSG::31984], 'verbOptions': ['{http://www.opengis.net/wfs}Query', '{http://www.opengis.net/wfs}Insert', '{http://www.opengis.net/wfs}Update', '{http://www.opengis.net/wfs}Delete', '{http://www.opengis.net/wfs}Lock'], 'styles': None, 'timepositions': None, 'defaulttimeposition': None, 'metadataUrls': []})\n",
      "('__dir__', <built-in method __dir__ of ContentMetadata object at 0x7fd3ea543748>)\n",
      "('__doc__', 'Abstraction for WFS metadata.\\n\\n    Implements IMetadata.\\n    ')\n",
      "('__eq__', <method-wrapper '__eq__' of ContentMetadata object at 0x7fd3ea543748>)\n",
      "('__format__', <built-in method __format__ of ContentMetadata object at 0x7fd3ea543748>)\n",
      "('__ge__', <method-wrapper '__ge__' of ContentMetadata object at 0x7fd3ea543748>)\n",
      "('__getattribute__', <method-wrapper '__getattribute__' of ContentMetadata object at 0x7fd3ea543748>)\n",
      "('__gt__', <method-wrapper '__gt__' of ContentMetadata object at 0x7fd3ea543748>)\n",
      "('__hash__', <method-wrapper '__hash__' of ContentMetadata object at 0x7fd3ea543748>)\n",
      "('__init__', <bound method ContentMetadata.__init__ of <owslib.feature.wfs100.ContentMetadata object at 0x7fd3ea543748>>)\n",
      "('__init_subclass__', <built-in method __init_subclass__ of type object at 0x1949e48>)\n",
      "('__le__', <method-wrapper '__le__' of ContentMetadata object at 0x7fd3ea543748>)\n",
      "('__lt__', <method-wrapper '__lt__' of ContentMetadata object at 0x7fd3ea543748>)\n",
      "('__module__', 'owslib.feature.wfs100')\n",
      "('__ne__', <method-wrapper '__ne__' of ContentMetadata object at 0x7fd3ea543748>)\n",
      "('__new__', <built-in method __new__ of type object at 0x9d17a0>)\n",
      "('__reduce__', <built-in method __reduce__ of ContentMetadata object at 0x7fd3ea543748>)\n",
      "('__reduce_ex__', <built-in method __reduce_ex__ of ContentMetadata object at 0x7fd3ea543748>)\n",
      "('__repr__', <method-wrapper '__repr__' of ContentMetadata object at 0x7fd3ea543748>)\n",
      "('__setattr__', <method-wrapper '__setattr__' of ContentMetadata object at 0x7fd3ea543748>)\n",
      "('__sizeof__', <built-in method __sizeof__ of ContentMetadata object at 0x7fd3ea543748>)\n",
      "('__str__', <method-wrapper '__str__' of ContentMetadata object at 0x7fd3ea543748>)\n",
      "('__subclasshook__', <built-in method __subclasshook__ of type object at 0x1949e48>)\n",
      "('__weakref__', None)\n",
      "('abstract', 'No abstract provided.')\n",
      "('auth', <Authentication shared=False username=None password=None cert=None verify=True>)\n",
      "('boundingBox', (-41.35659975102273, -20.978011371432757, -39.69289824507308, -18.383593754580286, urn:ogc:def:crs:EPSG::31984))\n",
      "('boundingBoxWGS84', (-129.23534371642674, -85.52574557205702, -129.23504753380138, -85.52576052396597))\n",
      "('crsOptions', [urn:ogc:def:crs:EPSG::31984])\n",
      "('defaulttimeposition', None)\n",
      "('get_metadata', <bound method AbstractContentMetadata.get_metadata of <owslib.feature.wfs100.ContentMetadata object at 0x7fd3ea543748>>)\n",
      "('id', 'geonode:areas_tombadas_cec')\n",
      "('keywords', ['areas_tombadas_cec, features'])\n",
      "('metadataUrls', [])\n",
      "('parse_remote_metadata', <bound method ContentMetadata.parse_remote_metadata of <owslib.feature.wfs100.ContentMetadata object at 0x7fd3ea543748>>)\n",
      "('styles', None)\n",
      "('timepositions', None)\n",
      "('title', 'ÁREAS TOMBADAS CEC')\n",
      "('verbOptions', ['{http://www.opengis.net/wfs}Query', '{http://www.opengis.net/wfs}Insert', '{http://www.opengis.net/wfs}Update', '{http://www.opengis.net/wfs}Delete', '{http://www.opengis.net/wfs}Lock'])\n",
      "('__class__', <class 'owslib.feature.wfs100.ContentMetadata'>)\n",
      "('__delattr__', <method-wrapper '__delattr__' of ContentMetadata object at 0x7fd3ea543860>)\n",
      "('__dict__', {'auth': <Authentication shared=False username=None password=None cert=None verify=True>, 'id': 'geonode:areas_tombadas_cec_p', 'title': 'ÁREAS TOMBADAS CEC - LOCALIZAÇÃO', 'abstract': 'No abstract provided.', 'keywords': ['features, areas_tombadas_cec_p'], 'boundingBox': (-41.34225769871253, -20.96796416933387, -39.70411258490845, -18.397773327199275, urn:ogc:def:crs:EPSG::31984), 'boundingBoxWGS84': (-129.23534257315185, -85.52574570049828, -129.23504915156906, -85.52576042330314), 'crsOptions': [urn:ogc:def:crs:EPSG::31984], 'verbOptions': ['{http://www.opengis.net/wfs}Query', '{http://www.opengis.net/wfs}Insert', '{http://www.opengis.net/wfs}Update', '{http://www.opengis.net/wfs}Delete', '{http://www.opengis.net/wfs}Lock'], 'styles': None, 'timepositions': None, 'defaulttimeposition': None, 'metadataUrls': []})\n",
      "('__dir__', <built-in method __dir__ of ContentMetadata object at 0x7fd3ea543860>)\n",
      "('__doc__', 'Abstraction for WFS metadata.\\n\\n    Implements IMetadata.\\n    ')\n",
      "('__eq__', <method-wrapper '__eq__' of ContentMetadata object at 0x7fd3ea543860>)\n",
      "('__format__', <built-in method __format__ of ContentMetadata object at 0x7fd3ea543860>)\n",
      "('__ge__', <method-wrapper '__ge__' of ContentMetadata object at 0x7fd3ea543860>)\n",
      "('__getattribute__', <method-wrapper '__getattribute__' of ContentMetadata object at 0x7fd3ea543860>)\n",
      "('__gt__', <method-wrapper '__gt__' of ContentMetadata object at 0x7fd3ea543860>)\n",
      "('__hash__', <method-wrapper '__hash__' of ContentMetadata object at 0x7fd3ea543860>)\n",
      "('__init__', <bound method ContentMetadata.__init__ of <owslib.feature.wfs100.ContentMetadata object at 0x7fd3ea543860>>)\n",
      "('__init_subclass__', <built-in method __init_subclass__ of type object at 0x1949e48>)\n",
      "('__le__', <method-wrapper '__le__' of ContentMetadata object at 0x7fd3ea543860>)\n",
      "('__lt__', <method-wrapper '__lt__' of ContentMetadata object at 0x7fd3ea543860>)\n",
      "('__module__', 'owslib.feature.wfs100')\n",
      "('__ne__', <method-wrapper '__ne__' of ContentMetadata object at 0x7fd3ea543860>)\n",
      "('__new__', <built-in method __new__ of type object at 0x9d17a0>)\n",
      "('__reduce__', <built-in method __reduce__ of ContentMetadata object at 0x7fd3ea543860>)\n",
      "('__reduce_ex__', <built-in method __reduce_ex__ of ContentMetadata object at 0x7fd3ea543860>)\n",
      "('__repr__', <method-wrapper '__repr__' of ContentMetadata object at 0x7fd3ea543860>)\n",
      "('__setattr__', <method-wrapper '__setattr__' of ContentMetadata object at 0x7fd3ea543860>)\n",
      "('__sizeof__', <built-in method __sizeof__ of ContentMetadata object at 0x7fd3ea543860>)\n",
      "('__str__', <method-wrapper '__str__' of ContentMetadata object at 0x7fd3ea543860>)\n",
      "('__subclasshook__', <built-in method __subclasshook__ of type object at 0x1949e48>)\n",
      "('__weakref__', None)\n",
      "('abstract', 'No abstract provided.')\n",
      "('auth', <Authentication shared=False username=None password=None cert=None verify=True>)\n",
      "('boundingBox', (-41.34225769871253, -20.96796416933387, -39.70411258490845, -18.397773327199275, urn:ogc:def:crs:EPSG::31984))\n",
      "('boundingBoxWGS84', (-129.23534257315185, -85.52574570049828, -129.23504915156906, -85.52576042330314))\n",
      "('crsOptions', [urn:ogc:def:crs:EPSG::31984])\n",
      "('defaulttimeposition', None)\n",
      "('get_metadata', <bound method AbstractContentMetadata.get_metadata of <owslib.feature.wfs100.ContentMetadata object at 0x7fd3ea543860>>)\n",
      "('id', 'geonode:areas_tombadas_cec_p')\n",
      "('keywords', ['features, areas_tombadas_cec_p'])\n",
      "('metadataUrls', [])\n",
      "('parse_remote_metadata', <bound method ContentMetadata.parse_remote_metadata of <owslib.feature.wfs100.ContentMetadata object at 0x7fd3ea543860>>)\n",
      "('styles', None)\n",
      "('timepositions', None)\n",
      "('title', 'ÁREAS TOMBADAS CEC - LOCALIZAÇÃO')\n",
      "('verbOptions', ['{http://www.opengis.net/wfs}Query', '{http://www.opengis.net/wfs}Insert', '{http://www.opengis.net/wfs}Update', '{http://www.opengis.net/wfs}Delete', '{http://www.opengis.net/wfs}Lock'])\n"
     ]
    }
   ],
   "source": [
    "cont = geobases.contents\n",
    "\n",
    "for content in cont:\n",
    "    for member in inspect.getmembers(cont[content]):\n",
    "        print(member)"
   ]
  },
  {
   "cell_type": "code",
   "execution_count": 11,
   "metadata": {},
   "outputs": [
    {
     "output_type": "stream",
     "name": "stdout",
     "text": [
      "0     14912205186589544885\n1      2732368776899168758\n2     14869153771722258825\n3      4679284045112987116\n4      1930642114020975524\n5     15786864514937279456\n6     10282240585754920377\n7     10122961051045825607\n8     12913212101925839553\n9      9986028696742497487\n10     6419047356540337210\n11     3612827491343491652\n12    17102333821702053903\n13     8357619073229014839\n14     7438823972786731366\n15     6034715399349763270\n16     2311324712293151191\n17     7162187965660703514\n18    10548413680354974623\n19    17320001040710417066\n20     2235717927701832920\n21      935856593325886758\n22     9716514712075741398\n23    13498958796370070019\n24    13687966176176786474\n25    12917311404586588356\n26     8671452669382094304\n27    12814595630087765784\n28     7332570547135377955\n29    16444157134255103805\n              ...         \n48     8281164367795444737\n49     3137387302008460378\n50    16248989423128041799\n51      184711843363467918\n52    17267058325077219477\n53       74854369006017868\n54     9069186436337525610\n55      228542354201387573\n56    10041821209332016507\n57    17001318480132657836\n58     9397907505969214752\n59     1635808000326943821\n60    11017731789290824935\n61     1662159839063710635\n62    13080311610991292487\n63    12685635505057735628\n64     2990400981678930784\n65     6622277297495562537\n66     5673808434532170596\n67      674675681408377026\n68     2817376638094827820\n69    10391430572892401610\n70     8967464729570977563\n71     6701149815241130691\n72     6089234060175769530\n73     3252322745085437185\n74    10821771875498007636\n75    16577517650591121868\n76    15950763992393373641\n77     2149286273837676650\nLength: 78, dtype: uint64\n"
     ]
    }
   ],
   "source": [
    "from pandas.util import hash_pandas_object\n",
    "\n",
    "\n",
    "print(hash_pandas_object(data))"
   ]
  },
  {
   "cell_type": "code",
   "execution_count": 12,
   "metadata": {},
   "outputs": [
    {
     "output_type": "stream",
     "name": "stdout",
     "text": [
      "https://ide.geobases.es.gov.br/geoserver/geonode/wfs?service=WFS&version=1.0.0&request=GetFeature&typeName=geonode%3Aidaf_limite_municipal_2018_11&outputFormat=json\n"
     ]
    }
   ],
   "source": [
    "print(q)"
   ]
  },
  {
   "cell_type": "code",
   "execution_count": 13,
   "metadata": {},
   "outputs": [
    {
     "output_type": "stream",
     "name": "stdout",
     "text": [
      "                                id  FID_1             nome  cod_ibge  \\\n0  idaf_limite_municipal_2018_11.1    178         Colatina   3201506   \n1  idaf_limite_municipal_2018_11.2    179       Marilândia   3203353   \n2  idaf_limite_municipal_2018_11.3    107     Vila Valério   3205176   \n3  idaf_limite_municipal_2018_11.4     99  Rio Novo do Sul   3204401   \n4  idaf_limite_municipal_2018_11.5    101            Piúma   3204203   \n\n     microestad macroestad       fonte              data     area_km2  \\\n0  Centro-Oeste    Central  IDAF/DTCAR   Outubro de 2017  1416.813167   \n1  Centro-Oeste    Central  IDAF/DTCAR   Outubro de 2017   308.964824   \n2  Centro-Oeste    Central  IDAF/DTCAR  Dezembro de 2016   470.206977   \n3   Litoral Sul        Sul  IDAF/DTCAR  Dezembro de 2016   204.502044   \n4   Litoral Sul        Sul  IDAF/DTCAR  Dezembro de 2016    73.940721   \n\n         perim_m  percen_are                             origem  \\\n0  277032.278409    3.074037  Lei Estadual 10.752 de 19/10/2017   \n1  110991.626318    0.670356  Lei Estadual 10.752 de 19/10/2017   \n2  123198.366069    1.020201  Lei Estadual 10.600 de 15/12/2016   \n3  100914.799972    0.443705  Lei Estadual 10.600 de 15/12/2016   \n4   42274.231412    0.160428  Lei Estadual 10.600 de 15/12/2016   \n\n              regional                  estrutura             esc_local  \\\n0             Colatina  Escritorio Regional/Local              Colatina   \n1             Colatina       Posto de Atendimento              Colatina   \n2         Nova Venécia       Posto de Atendimento  Sao Gabriel da Palha   \n3  Cach. de Itapemirim           Escritorio Local       Rio Novo do Sul   \n4  Cach. de Itapemirim       Posto de Atendimento       Rio Novo do Sul   \n\n           lei_criaca                                           geometry  \n0  Lei 10.600 de 2016  MULTIPOLYGON (((337764.102 7864080.746, 337788...  \n1  Lei 10.600 de 2016  MULTIPOLYGON (((331315.181 7859409.038, 331436...  \n2  Lei 10.600 de 2016  MULTIPOLYGON (((366393.847 7916757.239, 366402...  \n3  Lei 10.600 de 2016  MULTIPOLYGON (((299753.996 7712351.774, 299728...  \n4  Lei 10.600 de 2016  MULTIPOLYGON (((317499.957 7700541.335, 317510...  \n"
     ]
    }
   ],
   "source": [
    "print(data.head())"
   ]
  },
  {
   "cell_type": "code",
   "execution_count": 14,
   "metadata": {},
   "outputs": [
    {
     "output_type": "stream",
     "name": "stdout",
     "text": [
      "                                  id  FID_1     nome  cod_ibge     microestad  \\\n47  idaf_limite_municipal_2018_11.49    147  Vitória   3205309  Metropolitana   \n\n       macroestad       fonte              data   area_km2       perim_m  \\\n47  Metropolitana  IDAF/DTCAR  Dezembro de 2016  86.328195  85924.981674   \n\n    percen_are                             origem regional  \\\n47    0.187305  Lei Estadual 10.600 de 15/12/2016  Vitória   \n\n             estrutura esc_local          lei_criaca  \\\n47  Escritorio Central            Lei 10.600 de 2016   \n\n                                             geometry  \n47  MULTIPOLYGON (((363834.815 7762611.303, 363859...  \n"
     ]
    }
   ],
   "source": [
    "# IBGE code for 'Vitória'\n",
    "vitoria_code = 3205309\n",
    "\n",
    "selection = data.loc[data['cod_ibge'] == vitoria_code]\n",
    "print (selection)"
   ]
  },
  {
   "cell_type": "code",
   "execution_count": 15,
   "metadata": {},
   "outputs": [
    {
     "output_type": "stream",
     "name": "stdout",
     "text": [
      "                                  id  FID_1       nome  cod_ibge  \\\n48  idaf_limite_municipal_2018_11.50    148  Guarapari   3202405   \n\n       microestad     macroestad       fonte              data    area_km2  \\\n48  Metropolitana  Metropolitana  IDAF/DTCAR  Dezembro de 2016  589.144131   \n\n          perim_m  percen_are                             origem   regional  \\\n48  157389.038385    1.278257  Lei Estadual 10.600 de 15/12/2016  Cariacica   \n\n           estrutura  esc_local          lei_criaca  \\\n48  Escritorio Local  Guarapari  Lei 10.600 de 2016   \n\n                                             geometry  \n48  MULTIPOLYGON (((328236.577 7736261.379, 328314...  \n"
     ]
    }
   ],
   "source": [
    "municipalities = ['3202405']\n",
    "\n",
    "selection = data.loc[data['cod_ibge'].isin(municipalities)]\n",
    "print (selection)\n"
   ]
  },
  {
   "cell_type": "code",
   "execution_count": 29,
   "metadata": {},
   "outputs": [
    {
     "output_type": "stream",
     "name": "stdout",
     "text": [
      "https://ide.geobases.es.gov.br/geoserver/geonode/wfs?service=WFS&version=1.0.0&request=GetFeature&typeName=geonode%3Aidaf_limite_municipal_2018_11&outputFormat=json\n"
     ]
    }
   ],
   "source": [
    "# hasing tests\n",
    "\n",
    "url = q \n",
    "print(url)\n",
    "\n",
    "import hashlib\n",
    "\n",
    "import urllib\n",
    "\n",
    "my_file = urllib.request.urlopen(url).read()\n",
    "\n"
   ]
  },
  {
   "cell_type": "code",
   "execution_count": 30,
   "metadata": {
    "tags": []
   },
   "outputs": [
    {
     "output_type": "stream",
     "name": "stdout",
     "text": [
      "1\n"
     ]
    }
   ],
   "source": [
    "print(len(my_file))"
   ]
  },
  {
   "cell_type": "code",
   "execution_count": 22,
   "metadata": {},
   "outputs": [
    {
     "output_type": "error",
     "ename": "TypeError",
     "evalue": "expected str, bytes or os.PathLike object, not HTTPResponse",
     "traceback": [
      "\u001b[0;31m---------------------------------------------------------------------------\u001b[0m",
      "\u001b[0;31mTypeError\u001b[0m                                 Traceback (most recent call last)",
      "\u001b[0;32m<ipython-input-22-e01404fa5bbe>\u001b[0m in \u001b[0;36m<module>\u001b[0;34m\u001b[0m\n\u001b[0;32m----> 1\u001b[0;31m \u001b[0;32mwith\u001b[0m \u001b[0mopen\u001b[0m\u001b[0;34m(\u001b[0m\u001b[0mmy_file\u001b[0m\u001b[0;34m,\u001b[0m\u001b[0;34m'rb'\u001b[0m\u001b[0;34m)\u001b[0m \u001b[0;32mas\u001b[0m \u001b[0mfile_fromurl_reader\u001b[0m\u001b[0;34m:\u001b[0m\u001b[0;34m\u001b[0m\u001b[0;34m\u001b[0m\u001b[0m\n\u001b[0m\u001b[1;32m      2\u001b[0m     \u001b[0;32mfor\u001b[0m \u001b[0mline\u001b[0m \u001b[0;32min\u001b[0m \u001b[0mfile_fromurl_reader\u001b[0m\u001b[0;34m:\u001b[0m\u001b[0;34m\u001b[0m\u001b[0;34m\u001b[0m\u001b[0m\n\u001b[1;32m      3\u001b[0m         \u001b[0mprint\u001b[0m\u001b[0;34m(\u001b[0m\u001b[0mline\u001b[0m\u001b[0;34m)\u001b[0m\u001b[0;34m\u001b[0m\u001b[0;34m\u001b[0m\u001b[0m\n",
      "\u001b[0;31mTypeError\u001b[0m: expected str, bytes or os.PathLike object, not HTTPResponse"
     ]
    }
   ],
   "source": [
    "with open(my_file,'rb') as file_fromurl_reader:\n",
    "    for line in file_fromurl_reader:\n",
    "        print(line)\n"
   ]
  },
  {
   "cell_type": "code",
   "execution_count": 31,
   "metadata": {},
   "outputs": [],
   "source": [
    "import requests\n",
    "\n",
    "response = requests.get(url)"
   ]
  },
  {
   "cell_type": "code",
   "execution_count": 37,
   "metadata": {
    "tags": [
     "outputPrepend"
    ]
   },
   "outputs": [
    {
     "output_type": "stream",
     "name": "stdout",
     "text": [
      "91.6283],[247836.9787,7699998.548],[247896.952,7700026.2283],[247946.1606,7700049.2953],[248006.9031,7700062.3661],[248044.5787,7700083.8953],[248089.174,7700103.8858],[248156.0677,7700112.3441],[248203.7386,7700138.4858],[248251.2402,7700161.1717],[248262.137,7700183.0307],[249149.8764,7702461.7079],[250168.1945,7705437.0323],[250168.20441012,7705437.02682951],[250168.20214306,7705437.03851294],[250193.27115753,7705457.41677238],[250214.89080333,7705487.17397512],[250238.05470955,7705486.40106077],[250275.8890897,7705482.1500318],[250309.86281881,7705480.21774591],[250344.88443892,7705481.33571132],[250360.10643444,7705483.76487073],[250372.23990912,7705485.75236479],[250387.9031219,7705489.94818558],[250397.16868438,7705495.02733707],[250405.55181235,7705506.51063609],[250403.34572604,7705523.73558462],[250397.16868438,7705552.89671166],[250388.34433916,7705567.47166811],[250375.76964721,7705579.39663248],[250366.06286747,7705591.98409486],[250359.66521718,7705600.59656912],[250353.92939278,7705614.95069289],[250352.10937158,7705622.98348139],[250347.9178076,7705630.71262496],[250341.74076594,7705629.16679624],[250335.56372428,7705625.4126408],[250322.98903233,7705626.95846951],[250308.42886271,7705633.58344971],[250300.48695201,7705641.31259328],[250296.73660529,7705650.14590022],[250291.88321542,7705663.17502795],[250286.80921691,7705668.03334676],[250277.54365443,7705668.03334676],[250261.21861576,7705668.47501211],[250241.74990411,7705680.23435197],[250228.7339949,7705694.36764307],[250223.43938777,7705705.40927674],[250218.14478063,7705725.06338467],[250215.27686843,7705735.00085497],[250217.48295474,7705744.7174926],[250223.88060503,7705761.05911043],[250234.24921067,7705767.68409064],[250250.77417591,7705769.84411022],[250263.12825922,7705769.84411022],[250276.80599432,7705772.93576765],[250288.71886037,7705779.78158053],[250307.47059397,7705789.93988351],[250320.92772044,7705799.43568846],[250336.81154185,7705808.2689954],[250342.10614898,7705814.67314293],[250337.47336774,7705832.3397568],[250328.64902251,7705850.00637067],[250320.92772044,7705851.99386473],[250312.10337522,7705847.79804394],[250304.38207315,7705840.28973304],[250295.99894518,7705834.7689162],[250289.16007763,7705834.32725086],[250277.24721158,7705838.74390433],[250268.64347498,7705851.11053404],[250261.5839988,7705865.02299246],[250259.34430415,7705884.42003736],[250255.81456606,7705902.08665124],[250252.72604523,7705913.79078293],[250258.02065237,7705925.27408195],[250267.72743212,7705932.11989482],[250278.97847228,7705940.29070374],[250288.4646434,7705944.48652453],[250302.36298712,7705942.71986314],[250314.71707044,7705943.16152849],[250324.20324156,7705945.5906879],[250325.74750197,7705956.19065622],[250313.5977771,7705975.66040831],[250308.30316996,7705987.26989742],[250305.02555602,7705997.72593017],[250307.89346822,7706012.08005394],[250297.96607984,7706018.26336879],[250284.729562,7706022.01752424],[250277.44947719,7706029.30500246],[250270.61060964,7706043.43829356],[250260.02139537,7706048.51744505],[250251.85887604,7706049.40077574],[250248.43599526,7706056.72275907],[250251.52451609,7706068.86855611],[250256.37790596,7706084.7685086],[250261.23129583,7706100.00596306],[250266.52590297,7706116.12674822],[250266.96712023,7706128.27254526],[250250.57314136,7706147.76102869],[250241.30757888,7706152.39851483],[250227.40923515,7706159.2443277],[250223.4382798,7706166.53180593],[250227.40923515,7706177.79427227],[250230.93897324,7706190.38173465],[250232.26262502,7706208.49001387],[250232.16610875,7706219.9422583],[250225.10663257,7706232.30888801],[250215.17924419,7706242.46719099],[250208.34037664,7706241.58386029],[250206.5755076,7706230.10056128],[250201.94272635,7706210.88811869],[250195.32446743,7706206.91313057],[250183.85281864,7706208.45895928],[250177.67577698,7706215.08393948],[250175.91090794,7706221.04642167],[250181.86734096,7706226.12557315],[250182.0879496,7706233.63388405],[250172.82238711,7706234.73804742],[250164.88047641,7706237.16720682],[250158.70343475,7706246.00051376],[250154.51187077,7706259.47130684],[250154.07065351,7706275.15042665],[250156.71795707,7706283.76290091],[250164.88047641,7706293.47953854],[250163.55682462,7706302.0920128],[250156.27673981,7706309.15865835],[250147.23178596,7706310.48365439],[250143.76261675,7706319.45054538],[250146.66204447,7706324.49814934],[250149.68753426,7706329.7981335],[250153.59545858,7706332.57431569],[250158.89006571,7706332.70050579],[250169.47927998,7706326.89576123],[250174.39570089,7706319.57673548],[250184.22854271,7706318.18864439],[250191.41408097,7706317.3053137],[250194.69169491,7706322.85767806],[250194.06138454,7706329.7981335],[250188.89283948,7706329.16718301],[250182.46367367,7706327.27433152],[250175.40419749,7706330.6814642],[250169.47927998,7706336.73858896],[250165.94954189,7706343.80523451],[250165.44529359,7706351.25045035],[250167.84047301,7706359.20042659],[250167.79713917,7706365.14713501],[250168.6795737,7706376.12567363],[250173.46993253,7706383.31850928],[250181.28578116,7706387.60897265],[250189.10162979,7706385.84231126],[250194.39623692,7706382.30898849],[250198.17809916,7706385.84231126],[250196.66535427,7706393.66609741],[250188.84950564,7706398.83989147],[250183.61005066,7706401.24144679],[250183.61005066,7706410.2955864],[250184.27187655,7706420.23305671],[250183.1688334,7706427.96220028],[250190.00770095,7706428.84553097],[250199.93508933,7706425.97470621],[250201.69995837,7706431.0538577],[250197.28778576,7706436.13300919],[250185.15431108,7706447.61630821],[250180.96274709,7706446.95381019],[250176.55057448,7706449.16213692],[250175.88874859,7706454.02045574],[250180.08031257,7706459.76210524],[250187.26347701,7706464.24335874],[250190.83498331,7706479.49212441],[250194.58533004,7706493.18375016],[250201.42419758,7706501.35455908],[250203.82676345,7706506.75460805],[250200.29702536,7706518.67957241],[250203.16493756,7706527.071214],[250211.54806552,7706541.64617045],[250221.03423664,7706549.81697936],[250225.66701788,7706548.49198332],[250228.09371282,7706538.99617836],[250230.0791905,7706533.6961942],[250226.77006104,7706527.95454469],[250224.56397473,7706520.4462338],[250235.153189,7706517.1337437],[250245.30118601,7706523.53789123],[250258.53770385,7706534.35869222],[250271.77422168,7706540.10034173],[250284.34891363,7706544.07532985],[250307.07160259,7706547.16698728],[250321.19055495,7706550.03781203],[250330.45611743,7706555.55862887],[250334.42707278,7706567.04192789],[250342.07598765,7706580.20907604],[250348.25302931,7706582.41740277],[250361.71015577,7706576.45492059],[250370.75510963,7706578.22158198],[250381.78554116,7706592.1340404],[250380.24128075,7706609.13815626],[250379.13823759,7706620.17978993],[250393.91901585,7706634.97557904],[250408.6997941,7706651.53802955],[250416.6417048,7706662.80049589],[250432.08430894,7706670.30880679],[250451.9390857,7706667.21714936],[250475.32360054,7706665.00882263],[250502.23785348,7706666.55465134],[250524.54690125,7706668.21089639],[250543.73985212,7706669.09422709],[250555.43210954,7706676.82337065],[250556.31454406,7706695.81498057],[250556.95869436,7706707.20069746],[250557.33141197,7706713.78868988],[250561.96419321,7706732.33863445],[250573.21523338,7706734.32612851],[250567.92062624,7706742.93860277],[250570.78853844,7706751.7719097],[250580.27470956,7706758.83855525],[250584.02505628,7706763.91770674],[250583.5581565,7706765.14456335],[250580.49531819,7706773.19267903],[250584.02505628,7706776.7260018],[250596.37913959,7706777.83016517],[250613.36600415,7706773.4135117],[250617.3369595,7706781.80515329],[250602.99739851,7706786.88430478],[250594.61427055,7706790.41762755],[250591.74635835,7706799.03010181],[250607.63017975,7706803.44675528],[250618.66061128,7706805.65508202],[250615.35148182,7706812.05922954],[250607.98866878,7706815.17849106],[250606.0031911,7706824.67429601],[250610.63597235,7706827.3242881],[250623.43127292,7706828.87011681],[250619.46031757,7706838.14508909],[250610.85658098,7706841.23674652],[250596.95823725,7706838.80758711],[250582.39806763,7706835.05343166],[250573.5737224,7706824.67429601],[250563.42572539,7706814.29516036],[250552.17468523,7706814.07432769],[250551.07164208,7706820.92014057],[250559.8959873,7706827.10345542],[250559.8959873,7706831.74094156],[250552.39529386,7706843.22424058],[250547.32129536,7706850.07005345],[250541.80607959,7706859.78669108],[250542.1648601,7706865.71571111],[250546.54916515,7706876.79080694],[250550.07890324,7706888.93660397],[250555.15290174,7706898.87407428],[250565.74211601,7706905.49905448],[250571.91915767,7706909.69487527],[250574.34585261,7706921.39900696],[250581.40532879,7706923.16566835],[250597.73036745,7706915.43652478],[250603.24558322,7706918.52818221],[250606.55471268,7706924.71149706],[250604.35207338,7706931.89545997],[250598.94716193,7706944.26208969],[250605.12420359,7706956.24226222],[250615.93402649,7706971.70054936],[250630.99056553,7706981.748436],[250646.43316968,7706992.18277981],[250656.85692747,7707004.16295235],[250668.43888058,7707016.91603923],[250674.61592224,7707020.00769666],[250679.63476858,7707013.82438181],[250675.00198734,7707003.39003799],[250677.70444307,7706992.95569417],[250685.03968003,7706990.6369511],[250694.69130762,7706999.13900902],[250705.88719563,7706997.97963749],[250715.22686883,7706999.12003122],[250715.88869472,7707005.0825134],[250712.57956526,7707010.16166489],[250716.32991198,7707017.00747777],[250714.56504293,7707024.95745401],[250718.53599829,7707034.45325896],[250726.47790899,7707043.2865659],[250734.41981969,7707052.34070551],[250739.71442682,7707061.61567779],[250737.36356611,7707069.47594076],[250743.54060776,7707073.23009621],[250751.0413012,7707079.41341106],[250753.68860477,7707085.15506057],[250758.54199465,7707095.31336355],[250764.05721041,7707097.96335563],[250766.70451398,7707087.58421998],[250773.10216427,7707083.16756651],[250779.27920592,7707085.59672592],[250788.10355115,7707096.85919226],[250797.36911364,7707102.82167444],[250801.56067762,7707110.32998534],[250804.20798119,7707116.5133002],[250811.70867463,7707118.05912891],[250818.10632491,7707118.05912891],[250829.13675645,7707115.6299695],[250837.07866715,7707116.95496554],[250843.05985252,7707119.06585818],[250850.3565491,7707122.72421913],[250855.20993898,7707129.79086468],[250852.56263541,7707135.75334686],[250845.94437649,7707136.63667756],[250830.94298961,7707134.6491835],[250822.33925301,7707136.63667756],[250820.13316671,7707142.81999241],[250818.80951492,7707151.65329935],[250809.54395244,7707157.8366142],[250799.83717269,7707158.27827955],[250786.60065485,7707151.65329935],[250775.12900606,7707149.44497262],[250769.39318166,7707151.65329935],[250762.55431412,7707161.36993698],[250757.60195235,7707170.01101249],[250751.02999351,7707186.57399289],[250746.10035999,7707199.45891899],[250748.83904528,7707212.34384508],[250758.97218085,7707236.19466572],[250760.61539202,7707251.27277073],[250763.08020878,7707266.89917046],[250762.80634025,7707285.81533855],[250766.91436818,7707316.24569593],[250773.48721288,7707350.51411639],[250774.58268699,7707375.46152649],[250777.32137228,7707397.66746295],[250778.4168464,7707419.05095732],[250774.24035133,7707428.50904136],[250773.41874574,7707437.00760964],[250780.53932749,7707442.49055691],[250793.95888541,7707450.71497782],[250798.88851893,7707456.1979251],[250796.42370217,7707461.68087237],[250789.57698895,7707462.50331446],[250781.63480161,7707466.34137755],[250776.15743103,7707464.69649337],[250772.32327163,7707456.47207246],[250767.94137517,7707448.79594628],[250761.642399,7707447.69935682],[250757.26050254,7707449.61838837],[250757.26050254,7707457.56866192],[250761.36853048,7707468.53455647],[250766.57203252,7707479.50045102],[250775.8835625,7707484.43510356],[250787.38604072,7707482.79021938],[250793.68501688,7707483.06436674],[250799.71012451,7707490.46634556],[250804.91362656,7707502.2546822],[250809.84326008,7707512.67228202],[250815.86836771,7707521.44499766],[250827.91858298,7707531.31430276],[250839.96879825,7707536.52310267],[250844.07682619,7707543.37678676],[250842.98135207,7707550.50461822],[250837.77785002,7707554.61682867],[250822.16734388,7707551.87535503],[250807.10457479,7707546.1182604],[250802.4488098,7707547.76314458],[250804.09202097,7707553.52023922],[250815.32063066,7707556.81000759],[250817.51157889,7707564.48613377],[250817.51157889,7707577.0969125],[250808.20004891,7707584.22474396],[250799.71012451,7707591.35257541],[250793.13727982,7707602.0443226],[250781.90867014,7707609.72044878],[250775.60969397,7707618.21901706],[250761.36853048,7707617.67072233],[250745.75802433,7707617.1224276],[250735.62488876,7707610.54289087],[250728.77817554,7707611.36533296],[250723.84854202,7707619.04145915],[250723.84854202,7707625.34684851],[250728.23043848,7707638.50592197],[250735.89875729,7707647.00449025],[250743.29320757,7707655.22891116],[250747.4012355,7707662.63088998],[250749.04444668,7707672.77434244],[250756.43889695,7707678.25728971],[250769.85845487,7707672.77434244],[250785.46896101,7707667.0172478],[250793.41114835,7707665.09821625],[250797.24530775,7707671.95190034],[250792.31567424,7707684.01438435],[250784.64735543,7707690.04562635],[250774.78808839,7707696.35101571],[250765.47655841,7707699.91493144],[250762.46400459,7707707.0427629],[250758.35597666,7707715.81547854],[250751.50926344,7707724.31404681],[250739.7329167,7707731.990173],[250725.49175319,7707735.82823609],[250712.61993234,7707736.92482554],[250704.13000795,7707732.81261509],[250697.55716325,7707734.73164663],[250697.0094262,7707741.58533073],[250698.65263737,7707750.35804637],[250693.72300385,7707754.74440418],[250683.31599975,7707755.84099364],[250672.08739007,7707760.77564619],[250661.68038597,7707765.43615137],[250658.94170068,7707760.50149882],[250668.25323067,7707751.72878318],[250666.06228244,7707744.87509909],[250655.65527834,7707740.21459391],[250647.98695953,7707730.34528881],[250639.22316661,7707723.21745736],[250626.35134575,7707723.49160472],[250609.37149696,7707724.86234154],[250597.59515022,7707732.26432036],[250589.37909436,7707742.95606755],[250594.85646493,7707754.19610946],[250606.08507462,7707765.43615137],[250606.9066802,7707776.12789855],[250601.42930963,7707789.01282465],[250599.23836139,7707803.81678229],[250589.65296289,7707814.23438211],[250589.10522583,7707821.36221356],[250591.57004259,7707833.9729923],[250591.84391112,7707842.74570793],[250591.57004259,7707854.80819194],[250588.55748877,7707866.32238121],[250578.69822173,7707869.88629694],[250576.23340497,7707861.38772867],[250580.34143291,7707849.87353939],[250576.78114203,7707842.74570793],[250568.56508617,7707843.0198553],[250561.17063589,7707847.13206575],[250552.13297444,7707855.35648666],[250554.59779119,7707860.01699185],[250560.3490303,7707862.75846549],[250562.53997853,7707870.70873903],[250555.69326531,7707877.83657049],[250541.17823328,7707885.23854931],[250523.3767789,7707889.62490713],[250511.32656363,7707889.35075976],[250500.09795395,7707881.94878094],[250489.69094986,7707869.88629694],[250480.6532884,7707861.38772867],[250467.23373049,7707855.0823393],[250457.37446345,7707857.82381294],[250452.44482993,7707867.9672654],[250444.77651112,7707872.07947585],[250430.80921616,7707869.61214958],[250423.96250293,7707866.59652858],[250415.47257854,7707870.70873903],[250416.84192118,7707881.94878094],[250418.75900088,7707891.81808604],[250415.47257854,7707898.1234754],[250405.6133115,7707913.20158041],[250408.89973385,7707923.0708855],[250419.58060647,7707929.1021275],[250424.78410852,7707935.9558116],[250422.86702882,7707945.0026746],[250417.66352677,7707951.58221133],[250405.33944297,7707951.58221133],[250396.02791299,7707948.56659033],[250389.72893683,7707955.42027442],[250394.65857035,7707964.19299006],[250397.94499269,7707979.81938979],[250401.50528357,7707991.88187379],[250408.62586532,7708008.33071561],[250403.14849474,7708030.53665207],[250392.74149065,7708047.80793599],[250379.32193273,7708065.0792199],[250373.2968251,7708082.07635645],[250375.2139048,7708094.41298782],[250379.0480642,7708109.49109282],[250377.40485303,7708125.93993465],[250380.14353832,7708144.30780802],[250385.62090889,7708168.15862866],[250391.64601653,7708195.29921767],[250391.372148,7708210.9256174],[250397.67112416,7708227.64860659],[250401.50528357,7708245.74233259],[250404.51783738,7708265.20679542],[250409.4474709,7708279.73660569],[250410.52719863,7708292.05803384],[250410.81681355,7708295.36300542],[250415.19871001,7708310.71525779],[250416.70513975,7708320.96702294],[250419.05258428,7708328.32983785],[250421.08703621,7708339.76569931],[250416.70513975,7708350.57493822],[250410.60178396,7708355.74457422],[250404.81142078,7708361.38417713],[250396.98660567,7708367.65040259],[250389.94427207,7708372.82003859],[250389.31828686,7708376.26646259],[250391.66573139,7708379.55623096],[250396.67361307,7708384.56921132],[250400.56523596,7708389.4298196],[250400.09574705,7708394.12948869],[250399.15676924,7708396.00935633],[250409.1334085,7708416.46270785],[250434.53471455,7708443.3291495],[250476.23119807,7708474.51341212],[250524.15819062,7708497.54179067],[250579.27423205,7708522.96895866],[250652.45463094,7708569.91214342],[250706.97158497,7708607.69307698],[250738.03257936,7708620.58513837],[250741.35920212,7708621.9658741],[250799.23104562,7708663.94468917],[250819.36038249,7708691.65070712],[250815.16677065,7708715.15884356],[250824.39271671,7708747.90231931],[250867.16755756,7708776.44791356],[250930.07173528,7708818.42672862],[250994.65335774,7708848.65147547],[251074.33198285,7708884.75325643],[251155.6880527,7708916.65715588],[251211.0437291,7708935.12783451],[251236.20540018,7708957.79639465],[251267.23812786,7709021.60419356],[251303.30318975,7709072.81834794],[251338.52952927,7709129.90953643],[251354.4652543,7709164.33216479],[251355.30397667,7709214.70674287],[251339.36825164,7709310.41844123],[251324.27124899,7709379.26369794],[251337.6908069,7709432.15700493],[251320.07763714,7709464.06090438],[251289.88363184,7709498.48353274],[251295.13316448,7709517.13694041],[251344.40058586,7709554.73514493],[251359.49758851,7709581.60158657],[251376.27203591,7709631.97616465],[251377.18108446,7709636.14405535],[251392.94160985,7709708.40438416],[251386.33670434,7709815.84337465],[251375.43331354,7709886.36778397],[251382.98181486,7709940.10066726],[251408.98220832,7709991.31482164],[251481.96116742,7710039.27474777],[251568.34957149,7710093.00763106],[251633.52172296,7710178.01901512],[251668.68214711,7710218.22855285],[251677.38347954,7710228.17941558],[251713.44854143,7710277.71441736],[251740.28765726,7710366.7095053],[251705.05120479,7710521.92704411],[251708.40609427,7710584.89526671],[251729.37415351,7710646.18433671],[251739.43882194,7710705.79425411],[251740.77870514,7710756.70081035],[251740.79897394,7710757.4708887],[251752.01965749,7710857.75756466],[251749.50349038,7710948.4318052],[251748.7969,7710994.3724],[251770.3929,7710944.8299],[251776.7449,7710892.7465],[251789.448,7710867.3394],[251808.5024,7710854.6362],[251822.4764,7710850.8252],[251865.6677,7710840.663],[251887.263,7710835.5819],[251905.0472,7710824.1488],[251921.5622,7710794.9307],[251927.9134,7710768.2543],[251930.4543,7710739.0362],[251929.8189,7710725.6984],[251919.0213,7710708.5488],[251902.5071,7710678.6961],[251885.9929,7710651.3843],[251884.0874,7710623.4362],[251891.7094,7710602.4764],[251901.237,7710582.7858],[251923.4677,7710563.7315],[251962.8472,7710542.1354]]]]},\"geometry_name\":\"the_geom\",\"properties\":{\"FID_1\":110,\"nome\":\"Jer\\xc3\\xb4nimo Monteiro\",\"cod_ibge\":3203106,\"microestad\":\"Capara\\xc3\\xb3\",\"macroestad\":\"Sul\",\"fonte\":\"IDAF/DTCAR\",\"data\":\"Dezembro de 2016\",\"area_km2\":162.32134988538,\"perim_m\":79017.9010927179,\"percen_are\":0.35218604322,\"origem\":\"Lei Estadual 10.600 de 15/12/2016\",\"regional\":\"Cach. de Itapemirim\",\"estrutura\":\"Posto de Atendimento\",\"esc_local\":\"Alegre\",\"lei_criaca\":\"Lei 10.600 de 2016\"}}],\"crs\":{\"type\":\"name\",\"properties\":{\"name\":\"urn:ogc:def:crs:EPSG::31984\"}}}'\n"
     ]
    }
   ],
   "source": [
    "print(response.content)"
   ]
  },
  {
   "cell_type": "code",
   "execution_count": 34,
   "metadata": {},
   "outputs": [
    {
     "output_type": "stream",
     "name": "stdout",
     "text": [
      "{'shake_128', 'shake256', 'ripemd160', 'sha3_256', 'sm3', 'sha3-512', 'blake2b', 'sha512-256', 'blake2s', 'sha1', 'md5-sha1', 'sha512-224', 'sha512', 'shake128', 'sha256', 'sha3_384', 'sha3_512', 'blake2b512', 'shake_256', 'whirlpool', 'md5', 'blake2s256', 'sha384', 'sha3-384', 'sha3_224', 'sha3-224', 'md4', 'sha224', 'sha3-256'}\n{'sha1', 'sha3_256', 'shake_256', 'sha512', 'blake2b', 'sha256', 'shake_128', 'md5', 'sha3_384', 'sha384', 'sha3_224', 'sha3_512', 'sha224', 'blake2s'}\n"
     ]
    }
   ],
   "source": [
    "print(hashlib.algorithms_available)\n",
    "print(hashlib.algorithms_guaranteed)"
   ]
  },
  {
   "cell_type": "code",
   "execution_count": 42,
   "metadata": {},
   "outputs": [
    {
     "output_type": "stream",
     "name": "stdout",
     "text": [
      "<class 'str'>\n"
     ]
    }
   ],
   "source": [
    "hasher = hashlib.sha256()\n",
    "hasher.update(response.text.encode())\n",
    "print(type(hasher.hexdigest()))\n"
   ]
  },
  {
   "cell_type": "code",
   "execution_count": 43,
   "metadata": {},
   "outputs": [
    {
     "output_type": "stream",
     "name": "stdout",
     "text": [
      "<class 'geopandas.geodataframe.GeoDataFrame'>\n"
     ]
    }
   ],
   "source": [
    "print(type(selection))"
   ]
  },
  {
   "cell_type": "code",
   "execution_count": 47,
   "metadata": {},
   "outputs": [
    {
     "output_type": "stream",
     "name": "stdout",
     "text": [
      "[ 322516.7443 7703048.1666  356651.037  7736856.7794]\n"
     ]
    }
   ],
   "source": [
    "mun_gdf = selection\n",
    "\n",
    "bounding_box = mun_gdf.total_bounds\n",
    "print(bounding_box)"
   ]
  },
  {
   "cell_type": "code",
   "execution_count": 51,
   "metadata": {},
   "outputs": [
    {
     "output_type": "error",
     "ename": "ImportError",
     "evalue": "Spatial indexes require either `rtree` or `pygeos`. See installation instructions at https://geopandas.org/install.html",
     "traceback": [
      "\u001b[0;31m---------------------------------------------------------------------------\u001b[0m",
      "\u001b[0;31mImportError\u001b[0m                               Traceback (most recent call last)",
      "\u001b[0;32m<ipython-input-51-2746f60dd384>\u001b[0m in \u001b[0;36m<module>\u001b[0;34m\u001b[0m\n\u001b[0;32m----> 1\u001b[0;31m \u001b[0mprint\u001b[0m\u001b[0;34m(\u001b[0m\u001b[0mmun_gdf\u001b[0m\u001b[0;34m.\u001b[0m\u001b[0msindex\u001b[0m\u001b[0;34m(\u001b[0m\u001b[0;34m)\u001b[0m\u001b[0;34m)\u001b[0m\u001b[0;34m\u001b[0m\u001b[0;34m\u001b[0m\u001b[0m\n\u001b[0m",
      "\u001b[0;32m~/.local/lib/python3.6/site-packages/geopandas/base.py\u001b[0m in \u001b[0;36msindex\u001b[0;34m(self)\u001b[0m\n\u001b[1;32m   2628\u001b[0m                [2]])\n\u001b[1;32m   2629\u001b[0m         \"\"\"\n\u001b[0;32m-> 2630\u001b[0;31m         \u001b[0;32mreturn\u001b[0m \u001b[0mself\u001b[0m\u001b[0;34m.\u001b[0m\u001b[0mgeometry\u001b[0m\u001b[0;34m.\u001b[0m\u001b[0mvalues\u001b[0m\u001b[0;34m.\u001b[0m\u001b[0msindex\u001b[0m\u001b[0;34m\u001b[0m\u001b[0;34m\u001b[0m\u001b[0m\n\u001b[0m\u001b[1;32m   2631\u001b[0m \u001b[0;34m\u001b[0m\u001b[0m\n\u001b[1;32m   2632\u001b[0m     \u001b[0;34m@\u001b[0m\u001b[0mproperty\u001b[0m\u001b[0;34m\u001b[0m\u001b[0;34m\u001b[0m\u001b[0m\n",
      "\u001b[0;32m~/.local/lib/python3.6/site-packages/geopandas/array.py\u001b[0m in \u001b[0;36msindex\u001b[0;34m(self)\u001b[0m\n\u001b[1;32m    307\u001b[0m     \u001b[0;32mdef\u001b[0m \u001b[0msindex\u001b[0m\u001b[0;34m(\u001b[0m\u001b[0mself\u001b[0m\u001b[0;34m)\u001b[0m\u001b[0;34m:\u001b[0m\u001b[0;34m\u001b[0m\u001b[0;34m\u001b[0m\u001b[0m\n\u001b[1;32m    308\u001b[0m         \u001b[0;32mif\u001b[0m \u001b[0mself\u001b[0m\u001b[0;34m.\u001b[0m\u001b[0m_sindex\u001b[0m \u001b[0;32mis\u001b[0m \u001b[0;32mNone\u001b[0m\u001b[0;34m:\u001b[0m\u001b[0;34m\u001b[0m\u001b[0;34m\u001b[0m\u001b[0m\n\u001b[0;32m--> 309\u001b[0;31m             \u001b[0mself\u001b[0m\u001b[0;34m.\u001b[0m\u001b[0m_sindex\u001b[0m \u001b[0;34m=\u001b[0m \u001b[0m_get_sindex_class\u001b[0m\u001b[0;34m(\u001b[0m\u001b[0;34m)\u001b[0m\u001b[0;34m(\u001b[0m\u001b[0mself\u001b[0m\u001b[0;34m.\u001b[0m\u001b[0mdata\u001b[0m\u001b[0;34m)\u001b[0m\u001b[0;34m\u001b[0m\u001b[0;34m\u001b[0m\u001b[0m\n\u001b[0m\u001b[1;32m    310\u001b[0m         \u001b[0;32mreturn\u001b[0m \u001b[0mself\u001b[0m\u001b[0;34m.\u001b[0m\u001b[0m_sindex\u001b[0m\u001b[0;34m\u001b[0m\u001b[0;34m\u001b[0m\u001b[0m\n\u001b[1;32m    311\u001b[0m \u001b[0;34m\u001b[0m\u001b[0m\n",
      "\u001b[0;32m~/.local/lib/python3.6/site-packages/geopandas/sindex.py\u001b[0m in \u001b[0;36m_get_sindex_class\u001b[0;34m()\u001b[0m\n\u001b[1;32m     20\u001b[0m         \u001b[0;32mreturn\u001b[0m \u001b[0mRTreeIndex\u001b[0m\u001b[0;34m\u001b[0m\u001b[0;34m\u001b[0m\u001b[0m\n\u001b[1;32m     21\u001b[0m     raise ImportError(\n\u001b[0;32m---> 22\u001b[0;31m         \u001b[0;34m\"Spatial indexes require either `rtree` or `pygeos`. \"\u001b[0m\u001b[0;34m\u001b[0m\u001b[0;34m\u001b[0m\u001b[0m\n\u001b[0m\u001b[1;32m     23\u001b[0m         \u001b[0;34m\"See installation instructions at https://geopandas.org/install.html\"\u001b[0m\u001b[0;34m\u001b[0m\u001b[0;34m\u001b[0m\u001b[0m\n\u001b[1;32m     24\u001b[0m     )\n",
      "\u001b[0;31mImportError\u001b[0m: Spatial indexes require either `rtree` or `pygeos`. See installation instructions at https://geopandas.org/install.html"
     ]
    }
   ],
   "source": [
    "print(mun_gdf.sindex())"
   ]
  },
  {
   "cell_type": "code",
   "execution_count": 52,
   "metadata": {},
   "outputs": [
    {
     "output_type": "stream",
     "name": "stdout",
     "text": [
      "['geonode:asb_cesan_est_trat_esgoto_1712', 'geonode:asb_cesan_est_elev_agua_1712', 'geonode:asb_cesan_est_elev_esgoto_1712', 'geonode:asb_cesan_est_trat_agua_1712_1', 'geonode:asb_cesan_rotas_biossolido', 'geonode:asb_cesan_rede_coleto_esg_1712', 'geonode:asb_cesan_rede_agua_bruta_1712', 'geonode:asb_cesan_rede_agua_tratada_1712', 'geonode:asb_cesan_rede_emiss_agua_1712', 'geonode:asb_cesan_red_recalq_esgo_1712_1']\n"
     ]
    }
   ],
   "source": [
    "layerlist = list(geobases.contents)\n",
    "\n",
    "cesan_layers = [layername for layername in layerlist if 'cesan' in layername]\n",
    "\n",
    "print(cesan_layers)"
   ]
  },
  {
   "cell_type": "code",
   "execution_count": 78,
   "metadata": {
    "tags": []
   },
   "outputs": [
    {
     "output_type": "stream",
     "name": "stdout",
     "text": [
      "geonode:asb_cesan_est_trat_esgoto_1712\n",
      "geonodeasb_cesan_est_trat_esgoto_1712.csv\n",
      "(53, 6)\n",
      "Index(['id', 'fid', 'OBJECTID', 'NOME', 'STATUS_OP', 'geometry'], dtype='object')\n",
      "MULTIPOLYGON (((366721.9895 7759175.5971, 366892.7231 7759228.2928, 367024.1366 7758812.2831, 367217.0762 7758871.3842, 367229.9966 7758821.9931, 367039.1345 7758764.6517, 367072.4666 7758658.7931, 36\n",
      "geonode:asb_cesan_est_elev_agua_1712\n",
      "geonodeasb_cesan_est_elev_agua_1712.csv\n",
      "(152, 6)\n",
      "Index(['id', 'fid', 'OBJECTID', 'NOME', 'STATUS_OP', 'geometry'], dtype='object')\n",
      "MULTIPOLYGON (((364143.9697 7758010.7024, 364145.4867 7758010.0639, 364145.0881 7758009.3126, 364143.6619 7758009.971, 364143.9697 7758010.7024)))\n",
      "geonode:asb_cesan_est_elev_esgoto_1712\n",
      "geonodeasb_cesan_est_elev_esgoto_1712.csv\n",
      "(287, 6)\n",
      "Index(['id', 'fid', 'OBJECTID', 'NOME', 'STATUS_OP', 'geometry'], dtype='object')\n",
      "MULTIPOLYGON (((365612.9292 7772574.1212, 365615.1636 7772576.512, 365617.9361 7772577.2954, 365620.2898 7772576.9044, 365622.8582 7772576.1711, 365622.8457 7772558.8224, 365613.0828 7772559.1243, 365\n",
      "geonode:asb_cesan_est_trat_agua_1712_1\n",
      "geonodeasb_cesan_est_trat_agua_1712_1.csv\n",
      "(15, 6)\n",
      "Index(['id', 'fid', 'OBJECTID', 'NOME', 'STATUS_OP', 'geometry'], dtype='object')\n",
      "MULTIPOLYGON (((357772.7289 7730807.2502, 357777.6465 7730806.1512, 357776.0915 7730799.1928, 357771.1739 7730800.2918, 357772.7289 7730807.2502)))\n",
      "geonode:asb_cesan_rotas_biossolido\n",
      "geonodeasb_cesan_rotas_biossolido.csv\n",
      "(51, 6)\n",
      "Index(['id', 'OBJECTID', 'ID', 'NOME', 'DIST', 'geometry'], dtype='object')\n",
      "MULTILINESTRING ((308086.9984252 7797688.96141732, 308071.25826772 7797715.66141732, 308055.76535433 7797719.70708661, 308045.41574803 7797709.05669291, 308049.08425197 7797680.65275591, 308072.740157\n",
      "geonode:asb_cesan_rede_coleto_esg_1712\n",
      "geonodeasb_cesan_rede_coleto_esg_1712.csv\n",
      "(47528, 8)\n",
      "Index(['id', 'fid', 'OBJECTID', 'DIAMETRO', 'SITUACAO', 'MATERIAL',\n",
      "       'SHAPE_LEN', 'geometry'],\n",
      "      dtype='object')\n",
      "MULTILINESTRING ((350613.78267717 7758338.79212598, 350664.19606299 7758305.23937008))\n",
      "geonode:asb_cesan_rede_agua_bruta_1712\n",
      "geonodeasb_cesan_rede_agua_bruta_1712.csv\n",
      "(1, 7)\n",
      "Index(['id', 'fid', 'OBJECTID', 'DIAMETRO', 'SITUACAO', 'MATERIAL',\n",
      "       'geometry'],\n",
      "      dtype='object')\n",
      "MULTILINESTRING ((343897.5279 7745035.373, 343911.7294 7745047.4985, 343914.2429 7745048.0276, 343943.0826 7745078.1241, 343954.7761 7745092.4567, 343975.9607 7745113.9623, 343984.0441 7745122.9293, 3\n",
      "geonode:asb_cesan_rede_agua_tratada_1712\n",
      "geonodeasb_cesan_rede_agua_tratada_1712.csv\n",
      "(70053, 5)\n",
      "Index(['id', 'DIAMETRO', 'MATERIAL', 'SITUACAO', 'geometry'], dtype='object')\n",
      "MULTILINESTRING ((354961.4215 7756609.6417, 354996.0016 7756589.3116))\n",
      "geonode:asb_cesan_rede_emiss_agua_1712\n",
      "geonodeasb_cesan_rede_emiss_agua_1712.csv\n",
      "(55, 9)\n",
      "Index(['id', 'fid', 'MATERIAL', 'SIMLNFLAG', 'DIAMETRO', 'SITUACAO',\n",
      "       'INLINE_FID', 'OBJECTID', 'geometry'],\n",
      "      dtype='object')\n",
      "MULTILINESTRING ((353695.2032 7755903.2865, 353702.6114 7755895.5152, 353703.30360288 7755894.36220173, 353706.4811 7755889.0695, 353726.7673 7755880.3379))\n",
      "geonode:asb_cesan_red_recalq_esgo_1712_1\n",
      "geonodeasb_cesan_red_recalq_esgo_1712_1.csv\n",
      "(306, 7)\n",
      "Index(['id', 'fid', 'OBJECTID', 'DIAMETRO', 'SITUACAO', 'MATERIAL',\n",
      "       'geometry'],\n",
      "      dtype='object')\n",
      "MULTILINESTRING ((368225.2411 7771943.1883, 368317.9104 7772085.0775, 368407.512 7772028.9667, 368438.8516 7772078.1675, 368458.5913 7772080.8869))\n"
     ]
    }
   ],
   "source": [
    "for i,layer in enumerate(cesan_layers):\n",
    "    params = dict(service='WFS', version=\"1.0.0\", request='GetFeature',typeName=layer, outputFormat='json')\n",
    "\n",
    "\n",
    "    q = Request('GET', gb_wfs, params=params).prepare().url\n",
    "\n",
    "    print(layer)\n",
    "\n",
    "    # Read data from URL\n",
    "    data = gpd.read_file(q)\n",
    "\n",
    "    outname = layer.replace(':','') + '.csv'\n",
    "    outname.replace(\"_\",'')\n",
    "\n",
    "    print(outname)\n",
    "\n",
    "    print(data.shape)\n",
    "    print(data.columns)\n",
    "    print(str(data.geometry.iloc[0])[0:200])\n",
    "    # data.head().to_csv(str(i)+'.csv')\n"
   ]
  },
  {
   "cell_type": "code",
   "execution_count": 79,
   "metadata": {},
   "outputs": [
    {
     "output_type": "stream",
     "name": "stdout",
     "text": [
      "{'sanitation': {}}\n"
     ]
    }
   ],
   "source": [
    "print({'sanitation':{}})"
   ]
  },
  {
   "cell_type": "code",
   "execution_count": null,
   "metadata": {},
   "outputs": [],
   "source": []
  }
 ]
}